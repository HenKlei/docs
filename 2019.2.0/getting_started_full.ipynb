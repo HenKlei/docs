{
 "cells": [
  {
   "cell_type": "markdown",
   "metadata": {},
   "source": [
    "## Getting started\n",
    "\n",
    "### Trying it out\n",
    "\n",
    "While we consider pyMOR mainly as a library for building MOR applications, we\n",
    "ship a few example scripts. These can be found in the `src/pymordemos`\n",
    "directory of the source repository (some are available as Jupyter notebooks in\n",
    "the `notebooks` directory). Try launching one of them using the `pymor-demo`\n",
    "script:\n",
    "\n",
    "```\n",
    "pymor-demo thermalblock --plot-err --plot-solutions 3 2 3 32\n",
    "```\n",
    "\n",
    "The demo scripts can also be launched directly from the source tree:\n",
    "\n",
    "```\n",
    "./thermalblock.py --plot-err --plot-solutions 3 2 3 32\n",
    "```\n",
    "\n",
    "This will reduce the so called thermal block problem using the reduced basis\n",
    "method with a greedy basis generation algorithm. The thermal block problem\n",
    "consists in solving the stationary heat equation\n",
    "\n",
    "```\n",
    "- ∇ ⋅ [ d(x, μ) ∇ u(x, μ) ] = 1     for x in Ω\n",
    "                  u(x, μ)   = 0     for x in ∂Ω\n",
    "```\n",
    "\n",
    "on the domain Ω = [0,1]^2 for the unknown u. The domain is partitioned into\n",
    "`XBLOCKS x YBLOCKS` blocks (`XBLOCKS` and `YBLOCKS` are the first\n",
    "two arguments to `thermalblock.py`). The thermal conductivity d(x, μ)\n",
    "is constant on each block (i,j) with value μ_ij:\n",
    "\n",
    "```\n",
    "(0,1)------------------(1,1)\n",
    "|        |        |        |\n",
    "|  μ_11  |  μ_12  |  μ_13  |\n",
    "|        |        |        |\n",
    "|---------------------------\n",
    "|        |        |        |\n",
    "|  μ_21  |  μ_22  |  μ_23  |\n",
    "|        |        |        |\n",
    "(0,0)------------------(1,0)\n",
    "```\n",
    "\n",
    "The real numbers μ_ij form the `XBLOCKS x YBLOCKS` - dimensional parameter\n",
    "on which the solution depends.\n",
    "\n",
    "Running `thermalblock.py` will first produce plots of two detailed\n",
    "solutions of the problem for different randomly chosen parameters\n",
    "using linear finite elements. (The size of the grid can be controlled\n",
    "via the `--grid` parameter. The randomly chosen parameters will\n",
    "actually be the same for each run, since a the random generator\n",
    "is initialized with a fixed default seed in\n",
    "`default_random_state`.)\n",
    "\n",
    "After closing the window, the reduced basis for model order reduction\n",
    "is generated using a greedy search algorithm with error estimator.\n",
    "The third parameter `SNAPSHOTS` of `thermalblock.py` determines how many\n",
    "different values per parameter component μ_ij should be considered.\n",
    "I.e. the parameter training set for basis generation will have the\n",
    "size `SNAPSHOTS^(XBLOCKS x YBLOCKS)`. After the basis of size 32 (the\n",
    "last parameter) has been computed, the quality of the obtained reduced model\n",
    "(on the 32-dimensional reduced basis space) is evaluated by comparing the\n",
    "solutions of the reduced and detailed models for new, randomly chosen\n",
    "parameters. Finally, plots of the detailed and reduced solutions, as well\n",
    "as the difference between the two, are displayed for the random parameter\n",
    "which maximises reduction error.\n",
    "\n",
    "### The thermalblock demo explained\n",
    "\n",
    "In the following we will walk through the thermal block demo step by\n",
    "step in an interactive Python shell. We assume that you are familiar\n",
    "with the reduced basis method and that you know the basics of\n",
    "[Python](http://www.python.org) programming as well as working\n",
    "with [NumPy](https://numpy.org/doc/stable/reference/index.html#module-numpy). (Note that our code will differ a bit from\n",
    "`thermalblock.py` as we will hardcode the various options the script\n",
    "offers and leave out some features.)\n",
    "\n",
    "First, start a Python shell. We recommend using\n",
    "[IPython](http://ipython.org)\n",
    "\n",
    "```\n",
    "ipython\n",
    "```\n",
    "\n",
    "You can paste the following input lines starting with `>>>` by copying\n",
    "them to the system clipboard and then executing\n",
    "\n",
    "```\n",
    "%paste\n",
    "```\n",
    "\n",
    "inside the IPython shell.\n",
    "\n",
    "First, we will import the most commonly used methods and classes of pyMOR\n",
    "by executing:"
   ]
  },
  {
   "cell_type": "code",
   "execution_count": 1,
   "metadata": {},
   "outputs": [],
   "source": [
    "from pymor.basic import *\n",
    "from pymor.core.logger import set_log_levels\n",
    "set_log_levels({'pymor.algorithms.greedy': 'ERROR', 'pymor.algorithms.gram_schmidt.gram_schmidt': 'ERROR', 'pymor.algorithms.image.estimate_image_hierarchical': 'ERROR'})"
   ]
  },
  {
   "cell_type": "markdown",
   "metadata": {},
   "source": [
    "Next we will instantiate a class describing the analytical problem\n",
    "we want so solve. In this case, a\n",
    "`thermal_block_problem`:"
   ]
  },
  {
   "cell_type": "code",
   "execution_count": 2,
   "metadata": {},
   "outputs": [],
   "source": [
    "p = thermal_block_problem(num_blocks=(3, 2))"
   ]
  },
  {
   "cell_type": "markdown",
   "metadata": {},
   "source": [
    "We want to discretize this problem using the finite element method.\n",
    "We could do this by hand, creating a `Grid`, instatiating\n",
    "`DiffusionOperatorP1` finite element diffusion\n",
    "operators for each subblock of the domain, forming a `LincombOperator`\n",
    "to represent the affine decomposition, instantiating a\n",
    "`L2ProductFunctionalP1` as right hand side, and\n",
    "putting it all together into a `StationaryModel`. However, since\n",
    "`thermal_block_problem` returns\n",
    "a `StationaryProblem`, we can use\n",
    "a predifined *discretizer* to do the work for us. In this case, we use\n",
    "`discretize_stationary_cg`:"
   ]
  },
  {
   "cell_type": "code",
   "execution_count": 3,
   "metadata": {},
   "outputs": [
    {
     "name": "stderr",
     "output_type": "stream",
     "text": [
      "00:00 DiffusionOperatorP1: Calulate gradients of shape functions transformed by reference map ...\n"
     ]
    },
    {
     "name": "stderr",
     "output_type": "stream",
     "text": [
      "00:00 DiffusionOperatorP1: Calculate all local scalar products beween gradients ...\n"
     ]
    },
    {
     "name": "stderr",
     "output_type": "stream",
     "text": [
      "00:00 DiffusionOperatorP1: Determine global dofs ...\n"
     ]
    },
    {
     "name": "stderr",
     "output_type": "stream",
     "text": [
      "00:00 DiffusionOperatorP1: Boundary treatment ...\n"
     ]
    },
    {
     "name": "stderr",
     "output_type": "stream",
     "text": [
      "00:00 DiffusionOperatorP1: Assemble system matrix ...\n"
     ]
    },
    {
     "name": "stderr",
     "output_type": "stream",
     "text": [
      "00:00 DiffusionOperatorP1: Calulate gradients of shape functions transformed by reference map ...\n"
     ]
    },
    {
     "name": "stderr",
     "output_type": "stream",
     "text": [
      "00:00 DiffusionOperatorP1: Calculate all local scalar products beween gradients ...\n"
     ]
    },
    {
     "name": "stderr",
     "output_type": "stream",
     "text": [
      "00:00 DiffusionOperatorP1: Determine global dofs ...\n"
     ]
    },
    {
     "name": "stderr",
     "output_type": "stream",
     "text": [
      "00:00 DiffusionOperatorP1: Boundary treatment ...\n"
     ]
    },
    {
     "name": "stderr",
     "output_type": "stream",
     "text": [
      "00:00 DiffusionOperatorP1: Assemble system matrix ...\n"
     ]
    },
    {
     "name": "stderr",
     "output_type": "stream",
     "text": [
      "00:00 DiffusionOperatorP1: Calulate gradients of shape functions transformed by reference map ...\n"
     ]
    },
    {
     "name": "stderr",
     "output_type": "stream",
     "text": [
      "00:00 DiffusionOperatorP1: Calculate all local scalar products beween gradients ...\n"
     ]
    },
    {
     "name": "stderr",
     "output_type": "stream",
     "text": [
      "00:00 DiffusionOperatorP1: Determine global dofs ...\n"
     ]
    },
    {
     "name": "stderr",
     "output_type": "stream",
     "text": [
      "00:00 DiffusionOperatorP1: Boundary treatment ...\n"
     ]
    },
    {
     "name": "stderr",
     "output_type": "stream",
     "text": [
      "00:00 DiffusionOperatorP1: Assemble system matrix ...\n"
     ]
    },
    {
     "name": "stderr",
     "output_type": "stream",
     "text": [
      "00:00 DiffusionOperatorP1: Calulate gradients of shape functions transformed by reference map ...\n"
     ]
    },
    {
     "name": "stderr",
     "output_type": "stream",
     "text": [
      "00:00 DiffusionOperatorP1: Calculate all local scalar products beween gradients ...\n"
     ]
    },
    {
     "name": "stderr",
     "output_type": "stream",
     "text": [
      "00:00 DiffusionOperatorP1: Determine global dofs ...\n"
     ]
    },
    {
     "name": "stderr",
     "output_type": "stream",
     "text": [
      "00:00 DiffusionOperatorP1: Boundary treatment ...\n"
     ]
    },
    {
     "name": "stderr",
     "output_type": "stream",
     "text": [
      "00:00 DiffusionOperatorP1: Assemble system matrix ...\n"
     ]
    },
    {
     "name": "stderr",
     "output_type": "stream",
     "text": [
      "00:00 DiffusionOperatorP1: Calulate gradients of shape functions transformed by reference map ...\n"
     ]
    },
    {
     "name": "stderr",
     "output_type": "stream",
     "text": [
      "00:00 DiffusionOperatorP1: Calculate all local scalar products beween gradients ...\n"
     ]
    },
    {
     "name": "stderr",
     "output_type": "stream",
     "text": [
      "00:00 DiffusionOperatorP1: Determine global dofs ...\n"
     ]
    },
    {
     "name": "stderr",
     "output_type": "stream",
     "text": [
      "00:00 DiffusionOperatorP1: Boundary treatment ...\n"
     ]
    },
    {
     "name": "stderr",
     "output_type": "stream",
     "text": [
      "00:00 DiffusionOperatorP1: Assemble system matrix ...\n"
     ]
    },
    {
     "name": "stderr",
     "output_type": "stream",
     "text": [
      "00:00 DiffusionOperatorP1: Calulate gradients of shape functions transformed by reference map ...\n"
     ]
    },
    {
     "name": "stderr",
     "output_type": "stream",
     "text": [
      "00:00 DiffusionOperatorP1: Calculate all local scalar products beween gradients ...\n"
     ]
    },
    {
     "name": "stderr",
     "output_type": "stream",
     "text": [
      "00:00 DiffusionOperatorP1: Determine global dofs ...\n"
     ]
    },
    {
     "name": "stderr",
     "output_type": "stream",
     "text": [
      "00:00 DiffusionOperatorP1: Boundary treatment ...\n"
     ]
    },
    {
     "name": "stderr",
     "output_type": "stream",
     "text": [
      "00:00 DiffusionOperatorP1: Assemble system matrix ...\n"
     ]
    },
    {
     "name": "stderr",
     "output_type": "stream",
     "text": [
      "00:00 DiffusionOperatorP1: Calulate gradients of shape functions transformed by reference map ...\n"
     ]
    },
    {
     "name": "stderr",
     "output_type": "stream",
     "text": [
      "00:00 DiffusionOperatorP1: Calculate all local scalar products beween gradients ...\n"
     ]
    },
    {
     "name": "stderr",
     "output_type": "stream",
     "text": [
      "00:00 DiffusionOperatorP1: Determine global dofs ...\n"
     ]
    },
    {
     "name": "stderr",
     "output_type": "stream",
     "text": [
      "00:00 DiffusionOperatorP1: Boundary treatment ...\n"
     ]
    },
    {
     "name": "stderr",
     "output_type": "stream",
     "text": [
      "00:00 DiffusionOperatorP1: Assemble system matrix ...\n"
     ]
    },
    {
     "name": "stderr",
     "output_type": "stream",
     "text": [
      "00:00 L2ProductP1: Integrate the products of the shape functions on each element\n"
     ]
    },
    {
     "name": "stderr",
     "output_type": "stream",
     "text": [
      "00:00 L2ProductP1: Determine global dofs ...\n"
     ]
    },
    {
     "name": "stderr",
     "output_type": "stream",
     "text": [
      "00:00 L2ProductP1: Boundary treatment ...\n"
     ]
    },
    {
     "name": "stderr",
     "output_type": "stream",
     "text": [
      "00:00 L2ProductP1: Assemble system matrix ...\n"
     ]
    },
    {
     "name": "stderr",
     "output_type": "stream",
     "text": [
      "00:00 DiffusionOperatorP1: Calulate gradients of shape functions transformed by reference map ...\n"
     ]
    },
    {
     "name": "stderr",
     "output_type": "stream",
     "text": [
      "00:00 DiffusionOperatorP1: Calculate all local scalar products beween gradients ...\n"
     ]
    },
    {
     "name": "stderr",
     "output_type": "stream",
     "text": [
      "00:00 DiffusionOperatorP1: Determine global dofs ...\n"
     ]
    },
    {
     "name": "stderr",
     "output_type": "stream",
     "text": [
      "00:00 DiffusionOperatorP1: Boundary treatment ...\n"
     ]
    },
    {
     "name": "stderr",
     "output_type": "stream",
     "text": [
      "00:00 DiffusionOperatorP1: Assemble system matrix ...\n"
     ]
    },
    {
     "name": "stderr",
     "output_type": "stream",
     "text": [
      "00:00 L2ProductP1: Integrate the products of the shape functions on each element\n"
     ]
    },
    {
     "name": "stderr",
     "output_type": "stream",
     "text": [
      "00:00 L2ProductP1: Determine global dofs ...\n"
     ]
    },
    {
     "name": "stderr",
     "output_type": "stream",
     "text": [
      "00:00 L2ProductP1: Boundary treatment ...\n"
     ]
    },
    {
     "name": "stderr",
     "output_type": "stream",
     "text": [
      "00:00 L2ProductP1: Assemble system matrix ...\n"
     ]
    },
    {
     "name": "stderr",
     "output_type": "stream",
     "text": [
      "00:00 DiffusionOperatorP1: Calulate gradients of shape functions transformed by reference map ...\n"
     ]
    },
    {
     "name": "stderr",
     "output_type": "stream",
     "text": [
      "00:00 DiffusionOperatorP1: Calculate all local scalar products beween gradients ...\n"
     ]
    },
    {
     "name": "stderr",
     "output_type": "stream",
     "text": [
      "00:00 DiffusionOperatorP1: Determine global dofs ...\n"
     ]
    },
    {
     "name": "stderr",
     "output_type": "stream",
     "text": [
      "00:00 DiffusionOperatorP1: Boundary treatment ...\n"
     ]
    },
    {
     "name": "stderr",
     "output_type": "stream",
     "text": [
      "00:00 DiffusionOperatorP1: Assemble system matrix ...\n"
     ]
    }
   ],
   "source": [
    "fom, fom_data = discretize_stationary_cg(p, diameter=1./50.)"
   ]
  },
  {
   "cell_type": "markdown",
   "metadata": {},
   "source": [
    "`fom` is the `StationaryModel` which has been created for us,\n",
    "whereas `fom_data` contains some additional data, in particular the `Grid`\n",
    "and the `BoundaryInfo` which have been created during discretization. We\n",
    "can have a look at the grid,"
   ]
  },
  {
   "cell_type": "code",
   "execution_count": 4,
   "metadata": {},
   "outputs": [
    {
     "name": "stdout",
     "output_type": "stream",
     "text": [
      "Tria-Grid on domain [0,1] x [0,1]\n",
      "x0-intervals: 50, x1-intervals: 50\n",
      "elements: 10000, edges: 15100, vertices: 5101\n"
     ]
    }
   ],
   "source": [
    "print(fom_data['grid'])"
   ]
  },
  {
   "cell_type": "markdown",
   "metadata": {},
   "source": [
    "and, as always, we can display its class documentation using\n",
    "`help(fom_data['grid'])`.\n",
    "\n",
    "Let’s solve the thermal block problem and visualize the solution:"
   ]
  },
  {
   "cell_type": "code",
   "execution_count": 5,
   "metadata": {},
   "outputs": [
    {
     "name": "stderr",
     "output_type": "stream",
     "text": [
      "00:01 StationaryModel: Solving ThermalBlock((3, 2))_CG for {diffusion: [1.0, 0.1, 0.3, 0.1, 0.2, 1.0]} ...\n"
     ]
    },
    {
     "data": {
      "text/plain": [
       "<pymor.gui.jupyter.patch.visualize_patch.<locals>.Plot at 0x7fb8ebe5d438>"
      ]
     },
     "execution_count": 5,
     "metadata": {},
     "output_type": "execute_result"
    },
    {
     "data": {
      "image/png": "[encoded data removed]",
      "text/plain": [
       "<Figure size 432x288 with 2 Axes>"
      ]
     },
     "metadata": {
      "needs_background": "light"
     },
     "output_type": "display_data"
    }
   ],
   "source": [
    "U = fom.solve([1.0, 0.1, 0.3, 0.1, 0.2, 1.0])\n",
    "fom.visualize(U, title='Solution')"
   ]
  },
  {
   "cell_type": "markdown",
   "metadata": {},
   "source": [
    "Each class in pyMOR that describes a `Parameter` dependent mathematical\n",
    "object, like the `StationaryModel` in our case, derives from\n",
    "`Parametric` and determines the `Parameters` it expects during `__init__`\n",
    "by calling `build_parameter_type`.\n",
    "The resulting `ParameterType` is stored in the object’s\n",
    "`parameter_type` attribute. Let us\n",
    "have a look:"
   ]
  },
  {
   "cell_type": "code",
   "execution_count": 6,
   "metadata": {},
   "outputs": [
    {
     "name": "stdout",
     "output_type": "stream",
     "text": [
      "{'diffusion': (2, 3)}\n"
     ]
    }
   ],
   "source": [
    "print(fom.parameter_type)"
   ]
  },
  {
   "cell_type": "markdown",
   "metadata": {},
   "source": [
    "This tells us, that the `Parameter` which\n",
    "`solve` expects\n",
    "should be a dictionary with one key `'diffusion'` whose value is a\n",
    "[NumPy array](https://numpy.org/doc/stable/reference/generated/numpy.ndarray.html#numpy.ndarray) of shape `(2, 3)`, corresponding to the block structure of\n",
    "the problem. However, by using the\n",
    "`parse_parameter` method, pyMOR is\n",
    "smart enough to correctly parse the input `[1.0, 0.1, 0.3, 0.1, 0.2, 1.0]`.\n",
    "\n",
    "Next we want to use the `greedy` algorithm\n",
    "to reduce the problem. For this we need to choose a reductor which will keep\n",
    "track of the reduced basis and perform the actual RB-projection. We will use\n",
    "`CoerciveRBReductor`, which will\n",
    "also assemble an error estimator to estimate the reduction error. This\n",
    "will significantly speed up the basis generation, as we will only need to\n",
    "solve the high-dimensional problem for those parameters in the training set\n",
    "which are actually selected for basis extension. To control the condition of\n",
    "the reduced system matrix, we must ensure that the generated basis is\n",
    "orthonormal w.r.t. the H1_0-product on the solution space. For this we pass\n",
    "the `h1_0_semi_product` attribute of the model as inner product to\n",
    "the reductor, which will also use it for computing the Riesz representatives\n",
    "required for error estimation. Moreover, we have to provide\n",
    "the reductor with a `ParameterFunctional` which computes a lower bound for\n",
    "the coercivity of the problem for a given parameter."
   ]
  },
  {
   "cell_type": "code",
   "execution_count": 7,
   "metadata": {},
   "outputs": [],
   "source": [
    "reductor = CoerciveRBReductor(\n",
    "    fom,\n",
    "    product=fom.h1_0_semi_product,\n",
    "    coercivity_estimator=ExpressionParameterFunctional('min(diffusion)', fom.parameter_type)\n",
    ")"
   ]
  },
  {
   "cell_type": "markdown",
   "metadata": {},
   "source": [
    "Moreover, we need to select a `Parameter` training set. The model\n",
    "`fom` already comes with a `ParameterSpace` which it has inherited from the\n",
    "analytical problem. We can sample our parameters from this space, which is a\n",
    "`CubicParameterSpace`. E.g.:"
   ]
  },
  {
   "cell_type": "code",
   "execution_count": 8,
   "metadata": {},
   "outputs": [
    {
     "name": "stdout",
     "output_type": "stream",
     "text": [
      "{diffusion: [0.1, 0.1, 0.1, 0.1, 0.1, 0.1]}\n"
     ]
    }
   ],
   "source": [
    "training_set = fom.parameter_space.sample_uniformly(4)\n",
    "print(training_set[0])"
   ]
  },
  {
   "cell_type": "markdown",
   "metadata": {},
   "source": [
    "Now we start the basis generation:"
   ]
  },
  {
   "cell_type": "code",
   "execution_count": 9,
   "metadata": {},
   "outputs": [
    {
     "name": "stderr",
     "output_type": "stream",
     "text": [
      "00:03 CoerciveRBReductor: Operator projection ...\n"
     ]
    },
    {
     "name": "stderr",
     "output_type": "stream",
     "text": [
      "00:03 CoerciveRBReductor: Assembling error estimator ...\n"
     ]
    },
    {
     "name": "stderr",
     "output_type": "stream",
     "text": [
      "00:03 |   ResidualReductor: Estimating residual range ...\n"
     ]
    },
    {
     "name": "stderr",
     "output_type": "stream",
     "text": [
      "00:03 |   ResidualReductor: Projecting residual operator ...\n"
     ]
    },
    {
     "name": "stderr",
     "output_type": "stream",
     "text": [
      "00:03 CoerciveRBReductor: Building ROM ...\n"
     ]
    },
    {
     "name": "stderr",
     "output_type": "stream",
     "text": [
      "00:06 StationaryModel: Solving ThermalBlock((3, 2))_CG for {diffusion: [0.1, 0.1, 0.1, 0.1, 0.1, 0.1]} ...\n"
     ]
    },
    {
     "name": "stderr",
     "output_type": "stream",
     "text": [
      "00:07 CoerciveRBReductor: Operator projection ...\n"
     ]
    },
    {
     "name": "stderr",
     "output_type": "stream",
     "text": [
      "00:07 CoerciveRBReductor: Assembling error estimator ...\n"
     ]
    },
    {
     "name": "stderr",
     "output_type": "stream",
     "text": [
      "00:07 |   ResidualReductor: Estimating residual range ...\n"
     ]
    },
    {
     "name": "stderr",
     "output_type": "stream",
     "text": [
      "00:07 |   ResidualReductor: Projecting residual operator ...\n"
     ]
    },
    {
     "name": "stderr",
     "output_type": "stream",
     "text": [
      "00:07 CoerciveRBReductor: Building ROM ...\n"
     ]
    },
    {
     "name": "stderr",
     "output_type": "stream",
     "text": [
      "00:11 StationaryModel: Solving ThermalBlock((3, 2))_CG for {diffusion: [0.1, 0.1, 0.1, 1.0, 0.1, 0.1]} ...\n"
     ]
    },
    {
     "name": "stderr",
     "output_type": "stream",
     "text": [
      "00:11 CoerciveRBReductor: Operator projection ...\n"
     ]
    },
    {
     "name": "stderr",
     "output_type": "stream",
     "text": [
      "00:11 CoerciveRBReductor: Assembling error estimator ...\n"
     ]
    },
    {
     "name": "stderr",
     "output_type": "stream",
     "text": [
      "00:11 |   ResidualReductor: Estimating residual range ...\n"
     ]
    },
    {
     "name": "stderr",
     "output_type": "stream",
     "text": [
      "00:11 |   ResidualReductor: Projecting residual operator ...\n"
     ]
    },
    {
     "name": "stderr",
     "output_type": "stream",
     "text": [
      "00:11 CoerciveRBReductor: Building ROM ...\n"
     ]
    },
    {
     "name": "stderr",
     "output_type": "stream",
     "text": [
      "00:15 StationaryModel: Solving ThermalBlock((3, 2))_CG for {diffusion: [1.0, 0.1, 0.1, 0.1, 0.1, 0.1]} ...\n"
     ]
    },
    {
     "name": "stderr",
     "output_type": "stream",
     "text": [
      "00:15 CoerciveRBReductor: Operator projection ...\n"
     ]
    },
    {
     "name": "stderr",
     "output_type": "stream",
     "text": [
      "00:15 CoerciveRBReductor: Assembling error estimator ...\n"
     ]
    },
    {
     "name": "stderr",
     "output_type": "stream",
     "text": [
      "00:15 |   ResidualReductor: Estimating residual range ...\n"
     ]
    },
    {
     "name": "stderr",
     "output_type": "stream",
     "text": [
      "00:15 |   ResidualReductor: Projecting residual operator ...\n"
     ]
    },
    {
     "name": "stderr",
     "output_type": "stream",
     "text": [
      "00:15 CoerciveRBReductor: Building ROM ...\n"
     ]
    },
    {
     "name": "stderr",
     "output_type": "stream",
     "text": [
      "00:20 StationaryModel: Solving ThermalBlock((3, 2))_CG for {diffusion: [1.0, 0.1, 0.1, 1.0, 0.1, 0.1]} ...\n"
     ]
    },
    {
     "name": "stderr",
     "output_type": "stream",
     "text": [
      "00:20 CoerciveRBReductor: Operator projection ...\n"
     ]
    },
    {
     "name": "stderr",
     "output_type": "stream",
     "text": [
      "00:20 CoerciveRBReductor: Assembling error estimator ...\n"
     ]
    },
    {
     "name": "stderr",
     "output_type": "stream",
     "text": [
      "00:20 |   ResidualReductor: Estimating residual range ...\n"
     ]
    },
    {
     "name": "stderr",
     "output_type": "stream",
     "text": [
      "00:20 |   ResidualReductor: Projecting residual operator ...\n"
     ]
    },
    {
     "name": "stderr",
     "output_type": "stream",
     "text": [
      "00:20 CoerciveRBReductor: Building ROM ...\n"
     ]
    },
    {
     "name": "stderr",
     "output_type": "stream",
     "text": [
      "00:23 StationaryModel: Solving ThermalBlock((3, 2))_CG for {diffusion: [0.1, 0.1, 0.1, 0.1, 1.0, 0.1]} ...\n"
     ]
    },
    {
     "name": "stderr",
     "output_type": "stream",
     "text": [
      "00:23 CoerciveRBReductor: Operator projection ...\n"
     ]
    },
    {
     "name": "stderr",
     "output_type": "stream",
     "text": [
      "00:23 CoerciveRBReductor: Assembling error estimator ...\n"
     ]
    },
    {
     "name": "stderr",
     "output_type": "stream",
     "text": [
      "00:23 |   ResidualReductor: Estimating residual range ...\n"
     ]
    },
    {
     "name": "stderr",
     "output_type": "stream",
     "text": [
      "00:24 |   ResidualReductor: Projecting residual operator ...\n"
     ]
    },
    {
     "name": "stderr",
     "output_type": "stream",
     "text": [
      "00:24 CoerciveRBReductor: Building ROM ...\n"
     ]
    },
    {
     "name": "stderr",
     "output_type": "stream",
     "text": [
      "00:27 StationaryModel: Solving ThermalBlock((3, 2))_CG for {diffusion: [0.1, 0.1, 0.1, 1.0, 1.0, 0.1]} ...\n"
     ]
    },
    {
     "name": "stderr",
     "output_type": "stream",
     "text": [
      "00:27 CoerciveRBReductor: Operator projection ...\n"
     ]
    },
    {
     "name": "stderr",
     "output_type": "stream",
     "text": [
      "00:27 CoerciveRBReductor: Assembling error estimator ...\n"
     ]
    },
    {
     "name": "stderr",
     "output_type": "stream",
     "text": [
      "00:27 |   ResidualReductor: Estimating residual range ...\n"
     ]
    },
    {
     "name": "stderr",
     "output_type": "stream",
     "text": [
      "00:27 |   ResidualReductor: Projecting residual operator ...\n"
     ]
    },
    {
     "name": "stderr",
     "output_type": "stream",
     "text": [
      "00:27 CoerciveRBReductor: Building ROM ...\n"
     ]
    },
    {
     "name": "stderr",
     "output_type": "stream",
     "text": [
      "00:31 StationaryModel: Solving ThermalBlock((3, 2))_CG for {diffusion: [0.1, 1.0, 0.1, 0.1, 0.1, 0.1]} ...\n"
     ]
    },
    {
     "name": "stderr",
     "output_type": "stream",
     "text": [
      "00:31 CoerciveRBReductor: Operator projection ...\n"
     ]
    },
    {
     "name": "stderr",
     "output_type": "stream",
     "text": [
      "00:31 CoerciveRBReductor: Assembling error estimator ...\n"
     ]
    },
    {
     "name": "stderr",
     "output_type": "stream",
     "text": [
      "00:31 |   ResidualReductor: Estimating residual range ...\n"
     ]
    },
    {
     "name": "stderr",
     "output_type": "stream",
     "text": [
      "00:31 |   ResidualReductor: Projecting residual operator ...\n"
     ]
    },
    {
     "name": "stderr",
     "output_type": "stream",
     "text": [
      "00:31 CoerciveRBReductor: Building ROM ...\n"
     ]
    },
    {
     "name": "stderr",
     "output_type": "stream",
     "text": [
      "00:35 StationaryModel: Solving ThermalBlock((3, 2))_CG for {diffusion: [1.0, 1.0, 0.1, 0.1, 0.1, 0.1]} ...\n"
     ]
    },
    {
     "name": "stderr",
     "output_type": "stream",
     "text": [
      "00:35 CoerciveRBReductor: Operator projection ...\n"
     ]
    },
    {
     "name": "stderr",
     "output_type": "stream",
     "text": [
      "00:35 CoerciveRBReductor: Assembling error estimator ...\n"
     ]
    },
    {
     "name": "stderr",
     "output_type": "stream",
     "text": [
      "00:35 |   ResidualReductor: Estimating residual range ...\n"
     ]
    },
    {
     "name": "stderr",
     "output_type": "stream",
     "text": [
      "00:35 |   ResidualReductor: Projecting residual operator ...\n"
     ]
    },
    {
     "name": "stderr",
     "output_type": "stream",
     "text": [
      "00:35 CoerciveRBReductor: Building ROM ...\n"
     ]
    },
    {
     "name": "stderr",
     "output_type": "stream",
     "text": [
      "00:38 StationaryModel: Solving ThermalBlock((3, 2))_CG for {diffusion: [0.1, 1.0, 1.0, 0.1, 0.1, 0.1]} ...\n"
     ]
    },
    {
     "name": "stderr",
     "output_type": "stream",
     "text": [
      "00:38 CoerciveRBReductor: Operator projection ...\n"
     ]
    },
    {
     "name": "stderr",
     "output_type": "stream",
     "text": [
      "00:38 CoerciveRBReductor: Assembling error estimator ...\n"
     ]
    },
    {
     "name": "stderr",
     "output_type": "stream",
     "text": [
      "00:38 |   ResidualReductor: Estimating residual range ...\n"
     ]
    },
    {
     "name": "stderr",
     "output_type": "stream",
     "text": [
      "00:39 |   ResidualReductor: Projecting residual operator ...\n"
     ]
    },
    {
     "name": "stderr",
     "output_type": "stream",
     "text": [
      "00:39 CoerciveRBReductor: Building ROM ...\n"
     ]
    },
    {
     "name": "stderr",
     "output_type": "stream",
     "text": [
      "00:43 StationaryModel: Solving ThermalBlock((3, 2))_CG for {diffusion: [0.1, 0.1, 0.1, 0.1, 1.0, 1.0]} ...\n"
     ]
    },
    {
     "name": "stderr",
     "output_type": "stream",
     "text": [
      "00:43 CoerciveRBReductor: Operator projection ...\n"
     ]
    },
    {
     "name": "stderr",
     "output_type": "stream",
     "text": [
      "00:43 CoerciveRBReductor: Assembling error estimator ...\n"
     ]
    },
    {
     "name": "stderr",
     "output_type": "stream",
     "text": [
      "00:43 |   ResidualReductor: Estimating residual range ...\n"
     ]
    },
    {
     "name": "stderr",
     "output_type": "stream",
     "text": [
      "00:43 |   ResidualReductor: Projecting residual operator ...\n"
     ]
    },
    {
     "name": "stderr",
     "output_type": "stream",
     "text": [
      "00:43 CoerciveRBReductor: Building ROM ...\n"
     ]
    },
    {
     "name": "stderr",
     "output_type": "stream",
     "text": [
      "00:49 StationaryModel: Solving ThermalBlock((3, 2))_CG for {diffusion: [0.1, 0.1, 1.0, 0.1, 0.1, 1.0]} ...\n"
     ]
    },
    {
     "name": "stderr",
     "output_type": "stream",
     "text": [
      "00:49 CoerciveRBReductor: Operator projection ...\n"
     ]
    },
    {
     "name": "stderr",
     "output_type": "stream",
     "text": [
      "00:49 CoerciveRBReductor: Assembling error estimator ...\n"
     ]
    },
    {
     "name": "stderr",
     "output_type": "stream",
     "text": [
      "00:49 |   ResidualReductor: Estimating residual range ...\n"
     ]
    },
    {
     "name": "stderr",
     "output_type": "stream",
     "text": [
      "00:49 |   ResidualReductor: Projecting residual operator ...\n"
     ]
    },
    {
     "name": "stderr",
     "output_type": "stream",
     "text": [
      "00:49 CoerciveRBReductor: Building ROM ...\n"
     ]
    },
    {
     "name": "stderr",
     "output_type": "stream",
     "text": [
      "00:53 StationaryModel: Solving ThermalBlock((3, 2))_CG for {diffusion: [1.0, 0.1, 1.0, 0.1, 1.0, 0.1]} ...\n"
     ]
    },
    {
     "name": "stderr",
     "output_type": "stream",
     "text": [
      "00:53 CoerciveRBReductor: Operator projection ...\n"
     ]
    },
    {
     "name": "stderr",
     "output_type": "stream",
     "text": [
      "00:53 CoerciveRBReductor: Assembling error estimator ...\n"
     ]
    },
    {
     "name": "stderr",
     "output_type": "stream",
     "text": [
      "00:53 |   ResidualReductor: Estimating residual range ...\n"
     ]
    },
    {
     "name": "stderr",
     "output_type": "stream",
     "text": [
      "00:53 |   ResidualReductor: Projecting residual operator ...\n"
     ]
    },
    {
     "name": "stderr",
     "output_type": "stream",
     "text": [
      "00:53 CoerciveRBReductor: Building ROM ...\n"
     ]
    },
    {
     "name": "stderr",
     "output_type": "stream",
     "text": [
      "00:57 StationaryModel: Solving ThermalBlock((3, 2))_CG for {diffusion: [0.1, 1.0, 0.1, 1.0, 0.1, 1.0]} ...\n"
     ]
    },
    {
     "name": "stderr",
     "output_type": "stream",
     "text": [
      "00:57 CoerciveRBReductor: Operator projection ...\n"
     ]
    },
    {
     "name": "stderr",
     "output_type": "stream",
     "text": [
      "00:57 CoerciveRBReductor: Assembling error estimator ...\n"
     ]
    },
    {
     "name": "stderr",
     "output_type": "stream",
     "text": [
      "00:57 |   ResidualReductor: Estimating residual range ...\n"
     ]
    },
    {
     "name": "stderr",
     "output_type": "stream",
     "text": [
      "00:57 |   ResidualReductor: Projecting residual operator ...\n"
     ]
    },
    {
     "name": "stderr",
     "output_type": "stream",
     "text": [
      "00:57 CoerciveRBReductor: Building ROM ...\n"
     ]
    },
    {
     "name": "stderr",
     "output_type": "stream",
     "text": [
      "01:01 StationaryModel: Solving ThermalBlock((3, 2))_CG for {diffusion: [0.1, 1.0, 0.1, 1.0, 1.0, 0.1]} ...\n"
     ]
    },
    {
     "name": "stderr",
     "output_type": "stream",
     "text": [
      "01:01 CoerciveRBReductor: Operator projection ...\n"
     ]
    },
    {
     "name": "stderr",
     "output_type": "stream",
     "text": [
      "01:01 CoerciveRBReductor: Assembling error estimator ...\n"
     ]
    },
    {
     "name": "stderr",
     "output_type": "stream",
     "text": [
      "01:01 |   ResidualReductor: Estimating residual range ...\n"
     ]
    },
    {
     "name": "stderr",
     "output_type": "stream",
     "text": [
      "01:02 |   ResidualReductor: Projecting residual operator ...\n"
     ]
    },
    {
     "name": "stderr",
     "output_type": "stream",
     "text": [
      "01:02 CoerciveRBReductor: Building ROM ...\n"
     ]
    },
    {
     "name": "stderr",
     "output_type": "stream",
     "text": [
      "01:05 StationaryModel: Solving ThermalBlock((3, 2))_CG for {diffusion: [1.0, 0.1, 1.0, 0.1, 1.0, 1.0]} ...\n"
     ]
    },
    {
     "name": "stderr",
     "output_type": "stream",
     "text": [
      "01:05 CoerciveRBReductor: Operator projection ...\n"
     ]
    },
    {
     "name": "stderr",
     "output_type": "stream",
     "text": [
      "01:05 CoerciveRBReductor: Assembling error estimator ...\n"
     ]
    },
    {
     "name": "stderr",
     "output_type": "stream",
     "text": [
      "01:05 |   ResidualReductor: Estimating residual range ...\n"
     ]
    },
    {
     "name": "stderr",
     "output_type": "stream",
     "text": [
      "01:06 |   ResidualReductor: Projecting residual operator ...\n"
     ]
    },
    {
     "name": "stderr",
     "output_type": "stream",
     "text": [
      "01:06 CoerciveRBReductor: Building ROM ...\n"
     ]
    },
    {
     "name": "stderr",
     "output_type": "stream",
     "text": [
      "01:10 StationaryModel: Solving ThermalBlock((3, 2))_CG for {diffusion: [0.1, 1.0, 1.0, 0.1, 0.1, 1.0]} ...\n"
     ]
    },
    {
     "name": "stderr",
     "output_type": "stream",
     "text": [
      "01:10 CoerciveRBReductor: Operator projection ...\n"
     ]
    },
    {
     "name": "stderr",
     "output_type": "stream",
     "text": [
      "01:10 CoerciveRBReductor: Assembling error estimator ...\n"
     ]
    },
    {
     "name": "stderr",
     "output_type": "stream",
     "text": [
      "01:10 |   ResidualReductor: Estimating residual range ...\n"
     ]
    },
    {
     "name": "stderr",
     "output_type": "stream",
     "text": [
      "01:10 |   ResidualReductor: Projecting residual operator ...\n"
     ]
    },
    {
     "name": "stderr",
     "output_type": "stream",
     "text": [
      "01:10 CoerciveRBReductor: Building ROM ...\n"
     ]
    },
    {
     "name": "stderr",
     "output_type": "stream",
     "text": [
      "01:13 StationaryModel: Solving ThermalBlock((3, 2))_CG for {diffusion: [0.1, 0.1, 1.0, 1.0, 1.0, 0.1]} ...\n"
     ]
    },
    {
     "name": "stderr",
     "output_type": "stream",
     "text": [
      "01:13 CoerciveRBReductor: Operator projection ...\n"
     ]
    },
    {
     "name": "stderr",
     "output_type": "stream",
     "text": [
      "01:13 CoerciveRBReductor: Assembling error estimator ...\n"
     ]
    },
    {
     "name": "stderr",
     "output_type": "stream",
     "text": [
      "01:13 |   ResidualReductor: Estimating residual range ...\n"
     ]
    },
    {
     "name": "stderr",
     "output_type": "stream",
     "text": [
      "01:13 |   ResidualReductor: Projecting residual operator ...\n"
     ]
    },
    {
     "name": "stderr",
     "output_type": "stream",
     "text": [
      "01:13 CoerciveRBReductor: Building ROM ...\n"
     ]
    },
    {
     "name": "stderr",
     "output_type": "stream",
     "text": [
      "01:18 StationaryModel: Solving ThermalBlock((3, 2))_CG for {diffusion: [1.0, 1.0, 0.1, 0.1, 1.0, 1.0]} ...\n"
     ]
    },
    {
     "name": "stderr",
     "output_type": "stream",
     "text": [
      "01:18 CoerciveRBReductor: Operator projection ...\n"
     ]
    },
    {
     "name": "stderr",
     "output_type": "stream",
     "text": [
      "01:18 CoerciveRBReductor: Assembling error estimator ...\n"
     ]
    },
    {
     "name": "stderr",
     "output_type": "stream",
     "text": [
      "01:18 |   ResidualReductor: Estimating residual range ...\n"
     ]
    },
    {
     "name": "stderr",
     "output_type": "stream",
     "text": [
      "01:19 |   ResidualReductor: Projecting residual operator ...\n"
     ]
    },
    {
     "name": "stderr",
     "output_type": "stream",
     "text": [
      "01:19 CoerciveRBReductor: Building ROM ...\n"
     ]
    },
    {
     "name": "stderr",
     "output_type": "stream",
     "text": [
      "01:23 StationaryModel: Solving ThermalBlock((3, 2))_CG for {diffusion: [0.1, 1.0, 1.0, 1.0, 1.0, 1.0]} ...\n"
     ]
    },
    {
     "name": "stderr",
     "output_type": "stream",
     "text": [
      "01:23 CoerciveRBReductor: Operator projection ...\n"
     ]
    },
    {
     "name": "stderr",
     "output_type": "stream",
     "text": [
      "01:23 CoerciveRBReductor: Assembling error estimator ...\n"
     ]
    },
    {
     "name": "stderr",
     "output_type": "stream",
     "text": [
      "01:23 |   ResidualReductor: Estimating residual range ...\n"
     ]
    },
    {
     "name": "stderr",
     "output_type": "stream",
     "text": [
      "01:24 |   ResidualReductor: Projecting residual operator ...\n"
     ]
    },
    {
     "name": "stderr",
     "output_type": "stream",
     "text": [
      "01:24 CoerciveRBReductor: Building ROM ...\n"
     ]
    },
    {
     "name": "stderr",
     "output_type": "stream",
     "text": [
      "01:27 StationaryModel: Solving ThermalBlock((3, 2))_CG for {diffusion: [1.0, 0.1, 0.1, 1.0, 1.0, 1.0]} ...\n"
     ]
    },
    {
     "name": "stderr",
     "output_type": "stream",
     "text": [
      "01:27 CoerciveRBReductor: Operator projection ...\n"
     ]
    },
    {
     "name": "stderr",
     "output_type": "stream",
     "text": [
      "01:27 CoerciveRBReductor: Assembling error estimator ...\n"
     ]
    },
    {
     "name": "stderr",
     "output_type": "stream",
     "text": [
      "01:27 |   ResidualReductor: Estimating residual range ...\n"
     ]
    },
    {
     "name": "stderr",
     "output_type": "stream",
     "text": [
      "01:28 |   ResidualReductor: Projecting residual operator ...\n"
     ]
    },
    {
     "name": "stderr",
     "output_type": "stream",
     "text": [
      "01:28 CoerciveRBReductor: Building ROM ...\n"
     ]
    },
    {
     "name": "stderr",
     "output_type": "stream",
     "text": [
      "01:33 StationaryModel: Solving ThermalBlock((3, 2))_CG for {diffusion: [1.0, 1.0, 0.1, 1.0, 0.1, 0.1]} ...\n"
     ]
    },
    {
     "name": "stderr",
     "output_type": "stream",
     "text": [
      "01:33 CoerciveRBReductor: Operator projection ...\n"
     ]
    },
    {
     "name": "stderr",
     "output_type": "stream",
     "text": [
      "01:33 CoerciveRBReductor: Assembling error estimator ...\n"
     ]
    },
    {
     "name": "stderr",
     "output_type": "stream",
     "text": [
      "01:33 |   ResidualReductor: Estimating residual range ...\n"
     ]
    },
    {
     "name": "stderr",
     "output_type": "stream",
     "text": [
      "01:34 |   ResidualReductor: Projecting residual operator ...\n"
     ]
    },
    {
     "name": "stderr",
     "output_type": "stream",
     "text": [
      "01:34 CoerciveRBReductor: Building ROM ...\n"
     ]
    },
    {
     "name": "stderr",
     "output_type": "stream",
     "text": [
      "01:37 StationaryModel: Solving ThermalBlock((3, 2))_CG for {diffusion: [0.1, 1.0, 1.0, 0.1, 1.0, 0.1]} ...\n"
     ]
    },
    {
     "name": "stderr",
     "output_type": "stream",
     "text": [
      "01:37 CoerciveRBReductor: Operator projection ...\n"
     ]
    },
    {
     "name": "stderr",
     "output_type": "stream",
     "text": [
      "01:37 CoerciveRBReductor: Assembling error estimator ...\n"
     ]
    },
    {
     "name": "stderr",
     "output_type": "stream",
     "text": [
      "01:37 |   ResidualReductor: Estimating residual range ...\n"
     ]
    },
    {
     "name": "stderr",
     "output_type": "stream",
     "text": [
      "01:38 |   ResidualReductor: Projecting residual operator ...\n"
     ]
    },
    {
     "name": "stderr",
     "output_type": "stream",
     "text": [
      "01:38 CoerciveRBReductor: Building ROM ...\n"
     ]
    },
    {
     "name": "stderr",
     "output_type": "stream",
     "text": [
      "01:43 StationaryModel: Solving ThermalBlock((3, 2))_CG for {diffusion: [1.0, 0.1, 1.0, 1.0, 0.1, 1.0]} ...\n"
     ]
    },
    {
     "name": "stderr",
     "output_type": "stream",
     "text": [
      "01:43 CoerciveRBReductor: Operator projection ...\n"
     ]
    },
    {
     "name": "stderr",
     "output_type": "stream",
     "text": [
      "01:43 CoerciveRBReductor: Assembling error estimator ...\n"
     ]
    },
    {
     "name": "stderr",
     "output_type": "stream",
     "text": [
      "01:43 |   ResidualReductor: Estimating residual range ...\n"
     ]
    },
    {
     "name": "stderr",
     "output_type": "stream",
     "text": [
      "01:44 |   ResidualReductor: Projecting residual operator ...\n"
     ]
    },
    {
     "name": "stderr",
     "output_type": "stream",
     "text": [
      "01:44 CoerciveRBReductor: Building ROM ...\n"
     ]
    },
    {
     "name": "stderr",
     "output_type": "stream",
     "text": [
      "01:48 StationaryModel: Solving ThermalBlock((3, 2))_CG for {diffusion: [1.0, 1.0, 1.0, 0.1, 1.0, 0.1]} ...\n"
     ]
    },
    {
     "name": "stderr",
     "output_type": "stream",
     "text": [
      "01:48 CoerciveRBReductor: Operator projection ...\n"
     ]
    },
    {
     "name": "stderr",
     "output_type": "stream",
     "text": [
      "01:48 CoerciveRBReductor: Assembling error estimator ...\n"
     ]
    },
    {
     "name": "stderr",
     "output_type": "stream",
     "text": [
      "01:48 |   ResidualReductor: Estimating residual range ...\n"
     ]
    },
    {
     "name": "stderr",
     "output_type": "stream",
     "text": [
      "01:48 |   ResidualReductor: Projecting residual operator ...\n"
     ]
    },
    {
     "name": "stderr",
     "output_type": "stream",
     "text": [
      "01:48 CoerciveRBReductor: Building ROM ...\n"
     ]
    },
    {
     "name": "stderr",
     "output_type": "stream",
     "text": [
      "01:52 StationaryModel: Solving ThermalBlock((3, 2))_CG for {diffusion: [0.1, 0.4, 0.1, 0.1, 0.1, 1.0]} ...\n"
     ]
    },
    {
     "name": "stderr",
     "output_type": "stream",
     "text": [
      "01:52 CoerciveRBReductor: Operator projection ...\n"
     ]
    },
    {
     "name": "stderr",
     "output_type": "stream",
     "text": [
      "01:52 CoerciveRBReductor: Assembling error estimator ...\n"
     ]
    },
    {
     "name": "stderr",
     "output_type": "stream",
     "text": [
      "01:52 |   ResidualReductor: Estimating residual range ...\n"
     ]
    },
    {
     "name": "stderr",
     "output_type": "stream",
     "text": [
      "01:53 |   ResidualReductor: Projecting residual operator ...\n"
     ]
    },
    {
     "name": "stderr",
     "output_type": "stream",
     "text": [
      "01:53 CoerciveRBReductor: Building ROM ...\n"
     ]
    },
    {
     "name": "stderr",
     "output_type": "stream",
     "text": [
      "01:56 StationaryModel: Solving ThermalBlock((3, 2))_CG for {diffusion: [0.1, 0.1, 1.0, 0.1, 0.4, 0.1]} ...\n"
     ]
    },
    {
     "name": "stderr",
     "output_type": "stream",
     "text": [
      "01:56 CoerciveRBReductor: Operator projection ...\n"
     ]
    },
    {
     "name": "stderr",
     "output_type": "stream",
     "text": [
      "01:56 CoerciveRBReductor: Assembling error estimator ...\n"
     ]
    },
    {
     "name": "stderr",
     "output_type": "stream",
     "text": [
      "01:56 |   ResidualReductor: Estimating residual range ...\n"
     ]
    },
    {
     "name": "stderr",
     "output_type": "stream",
     "text": [
      "01:56 |   ResidualReductor: Projecting residual operator ...\n"
     ]
    },
    {
     "name": "stderr",
     "output_type": "stream",
     "text": [
      "01:56 CoerciveRBReductor: Building ROM ...\n"
     ]
    },
    {
     "name": "stderr",
     "output_type": "stream",
     "text": [
      "01:59 StationaryModel: Solving ThermalBlock((3, 2))_CG for {diffusion: [1.0, 0.4, 0.1, 1.0, 0.4, 0.1]} ...\n"
     ]
    },
    {
     "name": "stderr",
     "output_type": "stream",
     "text": [
      "01:59 CoerciveRBReductor: Operator projection ...\n"
     ]
    },
    {
     "name": "stderr",
     "output_type": "stream",
     "text": [
      "01:59 CoerciveRBReductor: Assembling error estimator ...\n"
     ]
    },
    {
     "name": "stderr",
     "output_type": "stream",
     "text": [
      "01:59 |   ResidualReductor: Estimating residual range ...\n"
     ]
    },
    {
     "name": "stderr",
     "output_type": "stream",
     "text": [
      "01:59 |   ResidualReductor: Projecting residual operator ...\n"
     ]
    },
    {
     "name": "stderr",
     "output_type": "stream",
     "text": [
      "01:59 CoerciveRBReductor: Building ROM ...\n"
     ]
    },
    {
     "name": "stderr",
     "output_type": "stream",
     "text": [
      "02:02 StationaryModel: Solving ThermalBlock((3, 2))_CG for {diffusion: [0.1, 0.4, 1.0, 1.0, 0.4, 0.1]} ...\n"
     ]
    },
    {
     "name": "stderr",
     "output_type": "stream",
     "text": [
      "02:02 CoerciveRBReductor: Operator projection ...\n"
     ]
    },
    {
     "name": "stderr",
     "output_type": "stream",
     "text": [
      "02:02 CoerciveRBReductor: Assembling error estimator ...\n"
     ]
    },
    {
     "name": "stderr",
     "output_type": "stream",
     "text": [
      "02:02 |   ResidualReductor: Estimating residual range ...\n"
     ]
    },
    {
     "name": "stderr",
     "output_type": "stream",
     "text": [
      "02:03 |   ResidualReductor: Projecting residual operator ...\n"
     ]
    },
    {
     "name": "stderr",
     "output_type": "stream",
     "text": [
      "02:03 CoerciveRBReductor: Building ROM ...\n"
     ]
    },
    {
     "name": "stderr",
     "output_type": "stream",
     "text": [
      "02:07 StationaryModel: Solving ThermalBlock((3, 2))_CG for {diffusion: [1.0, 0.1, 0.4, 1.0, 1.0, 0.1]} ...\n"
     ]
    },
    {
     "name": "stderr",
     "output_type": "stream",
     "text": [
      "02:07 CoerciveRBReductor: Operator projection ...\n"
     ]
    },
    {
     "name": "stderr",
     "output_type": "stream",
     "text": [
      "02:07 CoerciveRBReductor: Assembling error estimator ...\n"
     ]
    },
    {
     "name": "stderr",
     "output_type": "stream",
     "text": [
      "02:07 |   ResidualReductor: Estimating residual range ...\n"
     ]
    },
    {
     "name": "stderr",
     "output_type": "stream",
     "text": [
      "02:07 |   ResidualReductor: Projecting residual operator ...\n"
     ]
    },
    {
     "name": "stderr",
     "output_type": "stream",
     "text": [
      "02:07 CoerciveRBReductor: Building ROM ...\n"
     ]
    },
    {
     "name": "stderr",
     "output_type": "stream",
     "text": [
      "02:12 StationaryModel: Solving ThermalBlock((3, 2))_CG for {diffusion: [1.0, 1.0, 1.0, 0.1, 0.4, 0.1]} ...\n"
     ]
    },
    {
     "name": "stderr",
     "output_type": "stream",
     "text": [
      "02:12 CoerciveRBReductor: Operator projection ...\n"
     ]
    },
    {
     "name": "stderr",
     "output_type": "stream",
     "text": [
      "02:12 CoerciveRBReductor: Assembling error estimator ...\n"
     ]
    },
    {
     "name": "stderr",
     "output_type": "stream",
     "text": [
      "02:12 |   ResidualReductor: Estimating residual range ...\n"
     ]
    },
    {
     "name": "stderr",
     "output_type": "stream",
     "text": [
      "02:13 |   ResidualReductor: Projecting residual operator ...\n"
     ]
    },
    {
     "name": "stderr",
     "output_type": "stream",
     "text": [
      "02:13 CoerciveRBReductor: Building ROM ...\n"
     ]
    },
    {
     "name": "stderr",
     "output_type": "stream",
     "text": [
      "02:17 StationaryModel: Solving ThermalBlock((3, 2))_CG for {diffusion: [1.0, 0.4, 0.1, 0.1, 0.4, 1.0]} ...\n"
     ]
    },
    {
     "name": "stderr",
     "output_type": "stream",
     "text": [
      "02:18 CoerciveRBReductor: Operator projection ...\n"
     ]
    },
    {
     "name": "stderr",
     "output_type": "stream",
     "text": [
      "02:18 CoerciveRBReductor: Assembling error estimator ...\n"
     ]
    },
    {
     "name": "stderr",
     "output_type": "stream",
     "text": [
      "02:18 |   ResidualReductor: Estimating residual range ...\n"
     ]
    },
    {
     "name": "stderr",
     "output_type": "stream",
     "text": [
      "02:18 |   ResidualReductor: Projecting residual operator ...\n"
     ]
    },
    {
     "name": "stderr",
     "output_type": "stream",
     "text": [
      "02:18 CoerciveRBReductor: Building ROM ...\n"
     ]
    },
    {
     "name": "stderr",
     "output_type": "stream",
     "text": [
      "02:22 StationaryModel: Solving ThermalBlock((3, 2))_CG for {diffusion: [0.1, 0.1, 0.1, 1.0, 0.1, 1.0]} ...\n"
     ]
    },
    {
     "name": "stderr",
     "output_type": "stream",
     "text": [
      "02:22 CoerciveRBReductor: Operator projection ...\n"
     ]
    },
    {
     "name": "stderr",
     "output_type": "stream",
     "text": [
      "02:22 CoerciveRBReductor: Assembling error estimator ...\n"
     ]
    },
    {
     "name": "stderr",
     "output_type": "stream",
     "text": [
      "02:22 |   ResidualReductor: Estimating residual range ...\n"
     ]
    },
    {
     "name": "stderr",
     "output_type": "stream",
     "text": [
      "02:23 |   ResidualReductor: Projecting residual operator ...\n"
     ]
    },
    {
     "name": "stderr",
     "output_type": "stream",
     "text": [
      "02:23 CoerciveRBReductor: Building ROM ...\n"
     ]
    }
   ],
   "source": [
    "greedy_data = rb_greedy(fom, reductor, training_set, max_extensions=32)"
   ]
  },
  {
   "cell_type": "markdown",
   "metadata": {},
   "source": [
    "The `max_extensions` parameter defines how many basis vectors we want to\n",
    "obtain. `greedy_data` is a dictionary containing various data that has\n",
    "been generated during the run of the algorithm:"
   ]
  },
  {
   "cell_type": "code",
   "execution_count": 10,
   "metadata": {},
   "outputs": [
    {
     "name": "stdout",
     "output_type": "stream",
     "text": [
      "dict_keys(['max_errs', 'max_err_mus', 'extensions', 'time', 'rom'])\n"
     ]
    }
   ],
   "source": [
    "print(greedy_data.keys())"
   ]
  },
  {
   "cell_type": "markdown",
   "metadata": {},
   "source": [
    "The most important items is `'rom'` which holds the reduced `Model`\n",
    "obtained from applying our reductor with the final reduced basis."
   ]
  },
  {
   "cell_type": "code",
   "execution_count": 11,
   "metadata": {},
   "outputs": [],
   "source": [
    "rom = greedy_data['rom']"
   ]
  },
  {
   "cell_type": "markdown",
   "metadata": {},
   "source": [
    "All vectors in pyMOR are stored in so called `VectorArrays`. For example\n",
    "the solution `U` computed above is given as a `VectorArray` of length 1.\n",
    "For the reduced basis we have:"
   ]
  },
  {
   "cell_type": "code",
   "execution_count": 12,
   "metadata": {},
   "outputs": [
    {
     "name": "stdout",
     "output_type": "stream",
     "text": [
      "<class 'pymor.vectorarrays.numpy.NumpyVectorArray'>\n",
      "32\n",
      "5101\n"
     ]
    }
   ],
   "source": [
    "RB = reductor.bases['RB']\n",
    "print(type(RB))\n",
    "print(len(RB))\n",
    "print(RB.dim)"
   ]
  },
  {
   "cell_type": "markdown",
   "metadata": {},
   "source": [
    "Let us check if the reduced basis really is orthonormal with respect to\n",
    "the H1-product. For this we use the `apply2`\n",
    "method:"
   ]
  },
  {
   "cell_type": "code",
   "execution_count": 13,
   "metadata": {},
   "outputs": [
    {
     "name": "stdout",
     "output_type": "stream",
     "text": [
      "3.4022697853464123e-14\n"
     ]
    }
   ],
   "source": [
    "import numpy as np\n",
    "gram_matrix = RB.gramian(fom.h1_0_semi_product)\n",
    "print(np.max(np.abs(gram_matrix - np.eye(32))))"
   ]
  },
  {
   "cell_type": "markdown",
   "metadata": {},
   "source": [
    "Looks good! We can now solve the reduced model for the same parameter as above.\n",
    "The result is a vector of coefficients w.r.t. the reduced basis, which is\n",
    "currently stored in `rb`. To form the linear combination, we can use the\n",
    "`reconstruct` method of the reductor:"
   ]
  },
  {
   "cell_type": "code",
   "execution_count": 14,
   "metadata": {},
   "outputs": [
    {
     "name": "stdout",
     "output_type": "stream",
     "text": [
      "[[ 5.60087364e-01 -1.34964470e-01  2.37554576e-01 -1.26583829e-01\n",
      "   8.94444859e-02 -2.61717775e-02 -1.70970195e-01 -2.62808437e-02\n",
      "   5.89890312e-02  1.15894049e-01  1.90803995e-01  2.24234406e-02\n",
      "   1.39972965e-02 -1.30114735e-02  3.77898084e-02  3.12547323e-03\n",
      "  -3.01176537e-02 -1.79596612e-03 -4.98765087e-03  6.91649721e-03\n",
      "   3.99975873e-03 -5.44374960e-03  6.15523510e-03 -4.68258445e-03\n",
      "   3.22682687e-03 -6.54000608e-03 -1.49861652e-02 -1.64285837e-04\n",
      "   3.15124558e-03  5.16699747e-03  7.13655075e-04 -5.30204818e-05]]\n",
      "5101\n"
     ]
    }
   ],
   "source": [
    "u = rom.solve([1.0, 0.1, 0.3, 0.1, 0.2, 1.0])\n",
    "print(u)\n",
    "U_red = reductor.reconstruct(u)\n",
    "print(U_red.dim)"
   ]
  },
  {
   "cell_type": "markdown",
   "metadata": {},
   "source": [
    "Finally we compute the reduction error and display the reduced solution along with\n",
    "the detailed solution and the error:"
   ]
  },
  {
   "cell_type": "code",
   "execution_count": 15,
   "metadata": {},
   "outputs": [
    {
     "name": "stdout",
     "output_type": "stream",
     "text": [
      "[0.00439057]\n"
     ]
    },
    {
     "data": {
      "text/plain": [
       "<pymor.gui.jupyter.patch.visualize_patch.<locals>.Plot at 0x7fb8a2a7edd8>"
      ]
     },
     "execution_count": 15,
     "metadata": {},
     "output_type": "execute_result"
    },
    {
     "data": {
      "image/png": "[encoded data removed]",
      "text/plain": [
       "<Figure size 432x288 with 6 Axes>"
      ]
     },
     "metadata": {
      "needs_background": "light"
     },
     "output_type": "display_data"
    }
   ],
   "source": [
    "ERR = U - U_red\n",
    "print(ERR.norm(fom.h1_0_semi_product))\n",
    "fom.visualize((U, U_red, ERR),\n",
    "              legend=('Detailed', 'Reduced', 'Error'),\n",
    "              separate_colorbars=True)"
   ]
  },
  {
   "cell_type": "markdown",
   "metadata": {},
   "source": [
    "We can nicely observe that, as expected, the error is maximized along the\n",
    "jumps of the diffusion coefficient.\n",
    "\n",
    "# Learning more\n",
    "\n",
    "As a next step, you should read our Technical Overview which discusses the\n",
    "most important concepts and design decisions behind pyMOR. After that\n",
    "you should be ready to delve into the reference documentation.\n",
    "\n",
    "Should you have any problems regarding pyMOR, questions or\n",
    "[feature requests](https://github.com/pymor/pymor/issues), do not hesitate\n",
    "to contact us at our\n",
    "[mailing list](http://listserv.uni-muenster.de/mailman/listinfo/pymor-dev)!"
   ]
  }
 ],
 "metadata": {
  "language_info": {
   "codemirror_mode": {
    "name": "ipython",
    "version": 3
   },
   "file_extension": ".py",
   "mimetype": "text/x-python",
   "name": "python",
   "nbconvert_exporter": "python",
   "pygments_lexer": "ipython3",
   "version": "3.7.3"
  }
 },
 "nbformat": 4,
 "nbformat_minor": 4
}
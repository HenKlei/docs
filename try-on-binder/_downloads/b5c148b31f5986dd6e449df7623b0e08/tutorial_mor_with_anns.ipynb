{
 "cells": [
  {
   "cell_type": "code",
   "execution_count": 1,
   "metadata": {
    "execution": {
     "iopub.execute_input": "2020-11-24T14:01:06.537913Z",
     "iopub.status.busy": "2020-11-24T14:01:06.537397Z",
     "iopub.status.idle": "2020-11-24T14:01:06.558999Z",
     "shell.execute_reply": "2020-11-24T14:01:06.559420Z"
    }
   },
   "outputs": [
    {
     "name": "stdout",
     "output_type": "stream",
     "text": [
      "The pymor.discretizers.builtin.gui.jupyter extension is already loaded. To reload it, use:\n",
      "  %reload_ext pymor.discretizers.builtin.gui.jupyter\n"
     ]
    }
   ],
   "source": [
    "from IPython import get_ipython\n",
    "ip = get_ipython()\n",
    "if ip is not None:\n",
    "    ip.run_line_magic('load_ext', 'pymor.discretizers.builtin.gui.jupyter')\n",
    "%matplotlib inline\n",
    "\n",
    "import warnings\n",
    "warnings.filterwarnings(\"ignore\", category=UserWarning, module='torch')\n",
    "import pymor.tools.random\n",
    "pymor.tools.random._default_random_state = None"
   ]
  },
  {
   "cell_type": "code",
   "execution_count": 2,
   "metadata": {
    "execution": {
     "iopub.execute_input": "2020-11-24T14:01:06.561673Z",
     "iopub.status.busy": "2020-11-24T14:01:06.561142Z",
     "iopub.status.idle": "2020-11-24T14:01:06.836792Z",
     "shell.execute_reply": "2020-11-24T14:01:06.837214Z"
    }
   },
   "outputs": [
    {
     "data": {
      "application/vnd.jupyter.widget-view+json": {
       "model_id": "d87a615a95c2492dab63878f340ffc43",
       "version_major": 2,
       "version_minor": 0
      },
      "text/plain": [
       "Accordion(children=(HTML(value='', layout=Layout(height='16em', overflow_y='auto', width='100%')),), selected_…"
      ]
     },
     "metadata": {},
     "output_type": "display_data"
    }
   ],
   "source": [
    "from pymor.basic import *\n",
    "\n",
    "problem = StationaryProblem(\n",
    "      domain=RectDomain(),\n",
    "\n",
    "      rhs=LincombFunction(\n",
    "          [ExpressionFunction('ones(x.shape[:-1]) * 10', 2, ()), ConstantFunction(1., 2)],\n",
    "          [ProjectionParameterFunctional('mu'), 0.1]),\n",
    "\n",
    "      diffusion=LincombFunction(\n",
    "          [ExpressionFunction('1 - x[..., 0]', 2, ()), ExpressionFunction('x[..., 0]', 2, ())],\n",
    "          [ProjectionParameterFunctional('mu'), 1]),\n",
    "\n",
    "      dirichlet_data=LincombFunction(\n",
    "          [ExpressionFunction('2 * x[..., 0]', 2, ()), ConstantFunction(1., 2)],\n",
    "          [ProjectionParameterFunctional('mu'), 0.5]),\n",
    "\n",
    "      name='2DProblem'\n",
    "  )\n",
    "\n",
    "fom, _ = discretize_stationary_cg(problem, diameter=1/50)"
   ]
  },
  {
   "cell_type": "code",
   "execution_count": 3,
   "metadata": {
    "execution": {
     "iopub.execute_input": "2020-11-24T14:01:06.839442Z",
     "iopub.status.busy": "2020-11-24T14:01:06.838921Z",
     "iopub.status.idle": "2020-11-24T14:01:06.856368Z",
     "shell.execute_reply": "2020-11-24T14:01:06.856773Z"
    }
   },
   "outputs": [],
   "source": [
    "parameter_space = fom.parameters.space((0.1, 1))"
   ]
  },
  {
   "cell_type": "code",
   "execution_count": 4,
   "metadata": {
    "execution": {
     "iopub.execute_input": "2020-11-24T14:01:06.859451Z",
     "iopub.status.busy": "2020-11-24T14:01:06.858618Z",
     "iopub.status.idle": "2020-11-24T14:01:06.876053Z",
     "shell.execute_reply": "2020-11-24T14:01:06.876493Z"
    }
   },
   "outputs": [],
   "source": [
    "training_set = parameter_space.sample_uniformly(100)\n",
    "validation_set = parameter_space.sample_randomly(20)"
   ]
  },
  {
   "cell_type": "code",
   "execution_count": 5,
   "metadata": {
    "execution": {
     "iopub.execute_input": "2020-11-24T14:01:06.878632Z",
     "iopub.status.busy": "2020-11-24T14:01:06.878149Z",
     "iopub.status.idle": "2020-11-24T14:01:07.413539Z",
     "shell.execute_reply": "2020-11-24T14:01:07.413970Z"
    }
   },
   "outputs": [],
   "source": [
    "from pymor.reductors.neural_network import NeuralNetworkReductor\n",
    "\n",
    "reductor = NeuralNetworkReductor(fom,\n",
    "                                 training_set,\n",
    "                                 validation_set,\n",
    "                                 l2_err=1e-5,\n",
    "                                 ann_mse=1e-5)"
   ]
  },
  {
   "cell_type": "code",
   "execution_count": 6,
   "metadata": {
    "execution": {
     "iopub.execute_input": "2020-11-24T14:01:07.416671Z",
     "iopub.status.busy": "2020-11-24T14:01:07.416155Z",
     "iopub.status.idle": "2020-11-24T14:01:41.023735Z",
     "shell.execute_reply": "2020-11-24T14:01:41.024155Z"
    }
   },
   "outputs": [
    {
     "data": {
      "application/vnd.jupyter.widget-view+json": {
       "model_id": "4502cfb13f644188804ddbe944d0817b",
       "version_major": 2,
       "version_minor": 0
      },
      "text/plain": [
       "Accordion(children=(HTML(value='', layout=Layout(height='16em', overflow_y='auto', width='100%')),), selected_…"
      ]
     },
     "metadata": {},
     "output_type": "display_data"
    }
   ],
   "source": [
    "rom = reductor.reduce(restarts=100)"
   ]
  },
  {
   "cell_type": "code",
   "execution_count": 7,
   "metadata": {
    "execution": {
     "iopub.execute_input": "2020-11-24T14:01:41.026320Z",
     "iopub.status.busy": "2020-11-24T14:01:41.025831Z",
     "iopub.status.idle": "2020-11-24T14:01:41.895193Z",
     "shell.execute_reply": "2020-11-24T14:01:41.895610Z"
    }
   },
   "outputs": [
    {
     "data": {
      "application/vnd.jupyter.widget-view+json": {
       "model_id": "61701d0d653e40a3b4db78a41eb6c647",
       "version_major": 2,
       "version_minor": 0
      },
      "text/plain": [
       "Accordion(children=(HTML(value='', layout=Layout(height='16em', overflow_y='auto', width='100%')),), selected_…"
      ]
     },
     "metadata": {},
     "output_type": "display_data"
    },
    {
     "data": {
      "application/vnd.jupyter.widget-view+json": {
       "model_id": "1e1a7f34e11b4381be327dc180aeeaee",
       "version_major": 2,
       "version_minor": 0
      },
      "text/plain": [
       "Output()"
      ]
     },
     "metadata": {},
     "output_type": "display_data"
    }
   ],
   "source": [
    "mu = parameter_space.sample_randomly(1)[0]\n",
    "\n",
    "U = fom.solve(mu)\n",
    "U_red = rom.solve(mu)\n",
    "U_red_recon = reductor.reconstruct(U_red)\n",
    "\n",
    "fom.visualize((U, U_red_recon),\n",
    "              legend=(f'Full solution for parameter {mu}', f'Reduced solution for parameter {mu}'))"
   ]
  },
  {
   "cell_type": "code",
   "execution_count": 8,
   "metadata": {
    "execution": {
     "iopub.execute_input": "2020-11-24T14:01:41.901408Z",
     "iopub.status.busy": "2020-11-24T14:01:41.900928Z",
     "iopub.status.idle": "2020-11-24T14:01:41.917331Z",
     "shell.execute_reply": "2020-11-24T14:01:41.917827Z"
    }
   },
   "outputs": [],
   "source": [
    "test_set = parameter_space.sample_randomly(10)"
   ]
  },
  {
   "cell_type": "code",
   "execution_count": 9,
   "metadata": {
    "execution": {
     "iopub.execute_input": "2020-11-24T14:01:41.919951Z",
     "iopub.status.busy": "2020-11-24T14:01:41.919442Z",
     "iopub.status.idle": "2020-11-24T14:01:41.936828Z",
     "shell.execute_reply": "2020-11-24T14:01:41.937337Z"
    }
   },
   "outputs": [],
   "source": [
    "U = fom.solution_space.empty(reserve=len(test_set))\n",
    "U_red = fom.solution_space.empty(reserve=len(test_set))\n",
    "\n",
    "speedups = []"
   ]
  },
  {
   "cell_type": "code",
   "execution_count": 10,
   "metadata": {
    "execution": {
     "iopub.execute_input": "2020-11-24T14:01:41.939711Z",
     "iopub.status.busy": "2020-11-24T14:01:41.939211Z",
     "iopub.status.idle": "2020-11-24T14:01:42.148483Z",
     "shell.execute_reply": "2020-11-24T14:01:42.148903Z"
    }
   },
   "outputs": [
    {
     "data": {
      "application/vnd.jupyter.widget-view+json": {
       "model_id": "b010ee93a29e4e9daf5520a8f166b66d",
       "version_major": 2,
       "version_minor": 0
      },
      "text/plain": [
       "Accordion(children=(HTML(value='', layout=Layout(height='16em', overflow_y='auto', width='100%')),), selected_…"
      ]
     },
     "metadata": {},
     "output_type": "display_data"
    }
   ],
   "source": [
    "import time\n",
    "\n",
    "for mu in test_set:\n",
    "    tic = time.perf_counter()\n",
    "    U.append(fom.solve(mu))\n",
    "    time_fom = time.perf_counter() - tic\n",
    "\n",
    "    tic = time.perf_counter()\n",
    "    U_red.append(reductor.reconstruct(rom.solve(mu)))\n",
    "    time_red = time.perf_counter() - tic\n",
    "\n",
    "    speedups.append(time_fom / time_red)"
   ]
  },
  {
   "cell_type": "code",
   "execution_count": 11,
   "metadata": {
    "execution": {
     "iopub.execute_input": "2020-11-24T14:01:42.151085Z",
     "iopub.status.busy": "2020-11-24T14:01:42.150588Z",
     "iopub.status.idle": "2020-11-24T14:01:42.166962Z",
     "shell.execute_reply": "2020-11-24T14:01:42.167355Z"
    }
   },
   "outputs": [],
   "source": [
    "absolute_errors = (U - U_red).norm()\n",
    "relative_errors = (U - U_red).norm() / U.norm()"
   ]
  },
  {
   "cell_type": "code",
   "execution_count": 12,
   "metadata": {
    "execution": {
     "iopub.execute_input": "2020-11-24T14:01:42.169422Z",
     "iopub.status.busy": "2020-11-24T14:01:42.168957Z",
     "iopub.status.idle": "2020-11-24T14:01:42.186014Z",
     "shell.execute_reply": "2020-11-24T14:01:42.186407Z"
    }
   },
   "outputs": [
    {
     "data": {
      "text/plain": [
       "0.006289521325984161"
      ]
     },
     "execution_count": 12,
     "metadata": {},
     "output_type": "execute_result"
    }
   ],
   "source": [
    "import numpy as np\n",
    "\n",
    "np.average(absolute_errors)"
   ]
  },
  {
   "cell_type": "code",
   "execution_count": 13,
   "metadata": {
    "execution": {
     "iopub.execute_input": "2020-11-24T14:01:42.188425Z",
     "iopub.status.busy": "2020-11-24T14:01:42.187954Z",
     "iopub.status.idle": "2020-11-24T14:01:42.205105Z",
     "shell.execute_reply": "2020-11-24T14:01:42.205511Z"
    }
   },
   "outputs": [
    {
     "data": {
      "text/plain": [
       "8.106265612992289e-05"
      ]
     },
     "execution_count": 13,
     "metadata": {},
     "output_type": "execute_result"
    }
   ],
   "source": [
    "np.average(relative_errors)"
   ]
  },
  {
   "cell_type": "code",
   "execution_count": 14,
   "metadata": {
    "execution": {
     "iopub.execute_input": "2020-11-24T14:01:42.207889Z",
     "iopub.status.busy": "2020-11-24T14:01:42.207392Z",
     "iopub.status.idle": "2020-11-24T14:01:42.229200Z",
     "shell.execute_reply": "2020-11-24T14:01:42.229634Z"
    }
   },
   "outputs": [
    {
     "data": {
      "text/plain": [
       "10.813860315307483"
      ]
     },
     "execution_count": 14,
     "metadata": {},
     "output_type": "execute_result"
    }
   ],
   "source": [
    "np.median(speedups)"
   ]
  }
 ],
 "metadata": {
  "kernelspec": {
   "display_name": "Python 3",
   "language": "python",
   "name": "python3"
  },
  "language_info": {
   "codemirror_mode": {
    "name": "ipython",
    "version": 3
   },
   "file_extension": ".py",
   "mimetype": "text/x-python",
   "name": "python",
   "nbconvert_exporter": "python",
   "pygments_lexer": "ipython3",
   "version": "3.7.9"
  },
  "widgets": {
   "application/vnd.jupyter.widget-state+json": {
    "state": {
     "02413164fb124821a0d1b1f7963b4c46": {
      "model_module": "@jupyter-widgets/base",
      "model_module_version": "1.2.0",
      "model_name": "LayoutModel",
      "state": {
       "_model_module": "@jupyter-widgets/base",
       "_model_module_version": "1.2.0",
       "_model_name": "LayoutModel",
       "_view_count": null,
       "_view_module": "@jupyter-widgets/base",
       "_view_module_version": "1.2.0",
       "_view_name": "LayoutView",
       "align_content": null,
       "align_items": null,
       "align_self": null,
       "border": null,
       "bottom": null,
       "display": null,
       "flex": null,
       "flex_flow": null,
       "grid_area": null,
       "grid_auto_columns": null,
       "grid_auto_flow": null,
       "grid_auto_rows": null,
       "grid_column": null,
       "grid_gap": null,
       "grid_row": null,
       "grid_template_areas": null,
       "grid_template_columns": null,
       "grid_template_rows": null,
       "height": "16em",
       "justify_content": null,
       "justify_items": null,
       "left": null,
       "margin": null,
       "max_height": null,
       "max_width": null,
       "min_height": null,
       "min_width": null,
       "object_fit": null,
       "object_position": null,
       "order": null,
       "overflow": null,
       "overflow_x": null,
       "overflow_y": "auto",
       "padding": null,
       "right": null,
       "top": null,
       "visibility": null,
       "width": "100%"
      }
     },
     "085f32b07d924a5f958e74cd667058f9": {
      "model_module": "@jupyter-widgets/controls",
      "model_module_version": "1.5.0",
      "model_name": "HTMLModel",
      "state": {
       "_dom_classes": [],
       "_model_module": "@jupyter-widgets/controls",
       "_model_module_version": "1.5.0",
       "_model_name": "HTMLModel",
       "_view_count": null,
       "_view_module": "@jupyter-widgets/controls",
       "_view_module_version": "1.5.0",
       "_view_name": "HTMLView",
       "description": "",
       "description_tooltip": null,
       "layout": "IPY_MODEL_f7a4f8723b5545bd957c7802bd29ae79",
       "placeholder": "​",
       "style": "IPY_MODEL_f306e5d1d25842a6982ce34ce4a042c4",
       "value": ""
      }
     },
     "0a9a63648bba46c2bd1f644b54f018d4": {
      "model_module": "@jupyter-widgets/base",
      "model_module_version": "1.2.0",
      "model_name": "LayoutModel",
      "state": {
       "_model_module": "@jupyter-widgets/base",
       "_model_module_version": "1.2.0",
       "_model_name": "LayoutModel",
       "_view_count": null,
       "_view_module": "@jupyter-widgets/base",
       "_view_module_version": "1.2.0",
       "_view_name": "LayoutView",
       "align_content": null,
       "align_items": null,
       "align_self": null,
       "border": null,
       "bottom": null,
       "display": null,
       "flex": null,
       "flex_flow": null,
       "grid_area": null,
       "grid_auto_columns": null,
       "grid_auto_flow": null,
       "grid_auto_rows": null,
       "grid_column": null,
       "grid_gap": null,
       "grid_row": null,
       "grid_template_areas": null,
       "grid_template_columns": null,
       "grid_template_rows": null,
       "height": "16em",
       "justify_content": null,
       "justify_items": null,
       "left": null,
       "margin": null,
       "max_height": null,
       "max_width": null,
       "min_height": null,
       "min_width": null,
       "object_fit": null,
       "object_position": null,
       "order": null,
       "overflow": null,
       "overflow_x": null,
       "overflow_y": "auto",
       "padding": null,
       "right": null,
       "top": null,
       "visibility": null,
       "width": "100%"
      }
     },
     "0af502ca77624b75a1c303aa4ee2a077": {
      "model_module": "@jupyter-widgets/base",
      "model_module_version": "1.2.0",
      "model_name": "LayoutModel",
      "state": {
       "_model_module": "@jupyter-widgets/base",
       "_model_module_version": "1.2.0",
       "_model_name": "LayoutModel",
       "_view_count": null,
       "_view_module": "@jupyter-widgets/base",
       "_view_module_version": "1.2.0",
       "_view_name": "LayoutView",
       "align_content": null,
       "align_items": null,
       "align_self": null,
       "border": null,
       "bottom": null,
       "display": null,
       "flex": null,
       "flex_flow": null,
       "grid_area": null,
       "grid_auto_columns": null,
       "grid_auto_flow": null,
       "grid_auto_rows": null,
       "grid_column": null,
       "grid_gap": null,
       "grid_row": null,
       "grid_template_areas": null,
       "grid_template_columns": null,
       "grid_template_rows": null,
       "height": "16em",
       "justify_content": null,
       "justify_items": null,
       "left": null,
       "margin": null,
       "max_height": null,
       "max_width": null,
       "min_height": null,
       "min_width": null,
       "object_fit": null,
       "object_position": null,
       "order": null,
       "overflow": null,
       "overflow_x": null,
       "overflow_y": "auto",
       "padding": null,
       "right": null,
       "top": null,
       "visibility": null,
       "width": "100%"
      }
     },
     "0b39d268298d4a01a1d2e2c64237a9a4": {
      "model_module": "@jupyter-widgets/controls",
      "model_module_version": "1.5.0",
      "model_name": "HTMLModel",
      "state": {
       "_dom_classes": [],
       "_model_module": "@jupyter-widgets/controls",
       "_model_module_version": "1.5.0",
       "_model_name": "HTMLModel",
       "_view_count": null,
       "_view_module": "@jupyter-widgets/controls",
       "_view_module_version": "1.5.0",
       "_view_name": "HTMLView",
       "description": "",
       "description_tooltip": null,
       "layout": "IPY_MODEL_53e126f37fcd423b82d976a4edc54525",
       "placeholder": "​",
       "style": "IPY_MODEL_214284cec6e444ffb74a41cd1a6e0d58",
       "value": ""
      }
     },
     "0fc9b5c14a5b4f9484c9ce6bc1f20539": {
      "model_module": "@jupyter-widgets/base",
      "model_module_version": "1.2.0",
      "model_name": "LayoutModel",
      "state": {
       "_model_module": "@jupyter-widgets/base",
       "_model_module_version": "1.2.0",
       "_model_name": "LayoutModel",
       "_view_count": null,
       "_view_module": "@jupyter-widgets/base",
       "_view_module_version": "1.2.0",
       "_view_name": "LayoutView",
       "align_content": null,
       "align_items": null,
       "align_self": null,
       "border": null,
       "bottom": null,
       "display": null,
       "flex": null,
       "flex_flow": null,
       "grid_area": null,
       "grid_auto_columns": null,
       "grid_auto_flow": null,
       "grid_auto_rows": null,
       "grid_column": null,
       "grid_gap": null,
       "grid_row": null,
       "grid_template_areas": null,
       "grid_template_columns": null,
       "grid_template_rows": null,
       "height": "16em",
       "justify_content": null,
       "justify_items": null,
       "left": null,
       "margin": null,
       "max_height": null,
       "max_width": null,
       "min_height": null,
       "min_width": null,
       "object_fit": null,
       "object_position": null,
       "order": null,
       "overflow": null,
       "overflow_x": null,
       "overflow_y": "auto",
       "padding": null,
       "right": null,
       "top": null,
       "visibility": null,
       "width": "100%"
      }
     },
     "1187cdba72e64e04a78a86cecb642b4a": {
      "model_module": "@jupyter-widgets/controls",
      "model_module_version": "1.5.0",
      "model_name": "DescriptionStyleModel",
      "state": {
       "_model_module": "@jupyter-widgets/controls",
       "_model_module_version": "1.5.0",
       "_model_name": "DescriptionStyleModel",
       "_view_count": null,
       "_view_module": "@jupyter-widgets/base",
       "_view_module_version": "1.2.0",
       "_view_name": "StyleView",
       "description_width": ""
      }
     },
     "163990292af944c6a19f7d59c9f4f124": {
      "model_module": "@jupyter-widgets/base",
      "model_module_version": "1.2.0",
      "model_name": "LayoutModel",
      "state": {
       "_model_module": "@jupyter-widgets/base",
       "_model_module_version": "1.2.0",
       "_model_name": "LayoutModel",
       "_view_count": null,
       "_view_module": "@jupyter-widgets/base",
       "_view_module_version": "1.2.0",
       "_view_name": "LayoutView",
       "align_content": null,
       "align_items": null,
       "align_self": null,
       "border": null,
       "bottom": null,
       "display": null,
       "flex": null,
       "flex_flow": null,
       "grid_area": null,
       "grid_auto_columns": null,
       "grid_auto_flow": null,
       "grid_auto_rows": null,
       "grid_column": null,
       "grid_gap": null,
       "grid_row": null,
       "grid_template_areas": null,
       "grid_template_columns": null,
       "grid_template_rows": null,
       "height": "16em",
       "justify_content": null,
       "justify_items": null,
       "left": null,
       "margin": null,
       "max_height": null,
       "max_width": null,
       "min_height": null,
       "min_width": null,
       "object_fit": null,
       "object_position": null,
       "order": null,
       "overflow": null,
       "overflow_x": null,
       "overflow_y": "auto",
       "padding": null,
       "right": null,
       "top": null,
       "visibility": null,
       "width": "100%"
      }
     },
     "19a4d7c76f724341a58d67b17cfdb153": {
      "model_module": "@jupyter-widgets/controls",
      "model_module_version": "1.5.0",
      "model_name": "HTMLModel",
      "state": {
       "_dom_classes": [],
       "_model_module": "@jupyter-widgets/controls",
       "_model_module_version": "1.5.0",
       "_model_name": "HTMLModel",
       "_view_count": null,
       "_view_module": "@jupyter-widgets/controls",
       "_view_module_version": "1.5.0",
       "_view_name": "HTMLView",
       "description": "",
       "description_tooltip": null,
       "layout": "IPY_MODEL_9b8b63e4e8814b379c1ca3848e9a0238",
       "placeholder": "​",
       "style": "IPY_MODEL_aff345591b0741a090e681a176571a23",
       "value": ""
      }
     },
     "19add70c6a684534abc4e7cd422b48c4": {
      "model_module": "@jupyter-widgets/base",
      "model_module_version": "1.2.0",
      "model_name": "LayoutModel",
      "state": {
       "_model_module": "@jupyter-widgets/base",
       "_model_module_version": "1.2.0",
       "_model_name": "LayoutModel",
       "_view_count": null,
       "_view_module": "@jupyter-widgets/base",
       "_view_module_version": "1.2.0",
       "_view_name": "LayoutView",
       "align_content": null,
       "align_items": null,
       "align_self": null,
       "border": null,
       "bottom": null,
       "display": null,
       "flex": null,
       "flex_flow": null,
       "grid_area": null,
       "grid_auto_columns": null,
       "grid_auto_flow": null,
       "grid_auto_rows": null,
       "grid_column": null,
       "grid_gap": null,
       "grid_row": null,
       "grid_template_areas": null,
       "grid_template_columns": null,
       "grid_template_rows": null,
       "height": null,
       "justify_content": null,
       "justify_items": null,
       "left": null,
       "margin": null,
       "max_height": null,
       "max_width": null,
       "min_height": null,
       "min_width": null,
       "object_fit": null,
       "object_position": null,
       "order": null,
       "overflow": null,
       "overflow_x": null,
       "overflow_y": null,
       "padding": null,
       "right": null,
       "top": null,
       "visibility": null,
       "width": null
      }
     },
     "1b71529c8be34e609e6a36acab3af901": {
      "model_module": "@jupyter-widgets/controls",
      "model_module_version": "1.5.0",
      "model_name": "HTMLModel",
      "state": {
       "_dom_classes": [],
       "_model_module": "@jupyter-widgets/controls",
       "_model_module_version": "1.5.0",
       "_model_name": "HTMLModel",
       "_view_count": null,
       "_view_module": "@jupyter-widgets/controls",
       "_view_module_version": "1.5.0",
       "_view_name": "HTMLView",
       "description": "",
       "description_tooltip": null,
       "layout": "IPY_MODEL_1e969022909543c98452878a01b0f889",
       "placeholder": "​",
       "style": "IPY_MODEL_a37451f596844563ac7ded65ff689f54",
       "value": "<p style=\"line-height:120%\">00:35 <bold>StationaryModel</bold>: Solving 2DProblem_CG for {mu: [0.6506676052501416]} ...</p><p style=\"line-height:120%\">00:35 <bold>NeuralNetworkModel</bold>: Solving 2DProblem_CG_reduced for {mu: [0.6506676052501416]} ...</p>"
      }
     },
     "1e1a7f34e11b4381be327dc180aeeaee": {
      "model_module": "@jupyter-widgets/output",
      "model_module_version": "1.0.0",
      "model_name": "OutputModel",
      "state": {
       "_dom_classes": [],
       "_model_module": "@jupyter-widgets/output",
       "_model_module_version": "1.0.0",
       "_model_name": "OutputModel",
       "_view_count": null,
       "_view_module": "@jupyter-widgets/output",
       "_view_module_version": "1.0.0",
       "_view_name": "OutputView",
       "layout": "IPY_MODEL_85b625dea3fa4d81bf770e9aebf12586",
       "msg_id": "",
       "outputs": [
        {
         "data": {
          "image/png": "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\n",
          "text/plain": "<Figure size 432x288 with 1 Axes>"
         },
         "metadata": {
          "needs_background": "light"
         },
         "output_type": "display_data"
        },
        {
         "data": {
          "image/png": "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\n",
          "text/plain": "<Figure size 432x288 with 2 Axes>"
         },
         "metadata": {
          "needs_background": "light"
         },
         "output_type": "display_data"
        }
       ]
      }
     },
     "1e969022909543c98452878a01b0f889": {
      "model_module": "@jupyter-widgets/base",
      "model_module_version": "1.2.0",
      "model_name": "LayoutModel",
      "state": {
       "_model_module": "@jupyter-widgets/base",
       "_model_module_version": "1.2.0",
       "_model_name": "LayoutModel",
       "_view_count": null,
       "_view_module": "@jupyter-widgets/base",
       "_view_module_version": "1.2.0",
       "_view_name": "LayoutView",
       "align_content": null,
       "align_items": null,
       "align_self": null,
       "border": null,
       "bottom": null,
       "display": null,
       "flex": null,
       "flex_flow": null,
       "grid_area": null,
       "grid_auto_columns": null,
       "grid_auto_flow": null,
       "grid_auto_rows": null,
       "grid_column": null,
       "grid_gap": null,
       "grid_row": null,
       "grid_template_areas": null,
       "grid_template_columns": null,
       "grid_template_rows": null,
       "height": "16em",
       "justify_content": null,
       "justify_items": null,
       "left": null,
       "margin": null,
       "max_height": null,
       "max_width": null,
       "min_height": null,
       "min_width": null,
       "object_fit": null,
       "object_position": null,
       "order": null,
       "overflow": null,
       "overflow_x": null,
       "overflow_y": "auto",
       "padding": null,
       "right": null,
       "top": null,
       "visibility": null,
       "width": "100%"
      }
     },
     "214284cec6e444ffb74a41cd1a6e0d58": {
      "model_module": "@jupyter-widgets/controls",
      "model_module_version": "1.5.0",
      "model_name": "DescriptionStyleModel",
      "state": {
       "_model_module": "@jupyter-widgets/controls",
       "_model_module_version": "1.5.0",
       "_model_name": "DescriptionStyleModel",
       "_view_count": null,
       "_view_module": "@jupyter-widgets/base",
       "_view_module_version": "1.2.0",
       "_view_name": "StyleView",
       "description_width": ""
      }
     },
     "3004e383d34f4c059fc31fcb7cbedfd6": {
      "model_module": "@jupyter-widgets/controls",
      "model_module_version": "1.5.0",
      "model_name": "AccordionModel",
      "state": {
       "_dom_classes": [],
       "_model_module": "@jupyter-widgets/controls",
       "_model_module_version": "1.5.0",
       "_model_name": "AccordionModel",
       "_titles": {
        "0": "Log Output"
       },
       "_view_count": null,
       "_view_module": "@jupyter-widgets/controls",
       "_view_module_version": "1.5.0",
       "_view_name": "AccordionView",
       "box_style": "",
       "children": [
        "IPY_MODEL_38f70efe4b754b589da338a8bc01f062"
       ],
       "layout": "IPY_MODEL_9721aef037844c8fa8459709ed495e3c",
       "selected_index": null
      }
     },
     "305167ec851944d09acc62bc1ed9b971": {
      "model_module": "@jupyter-widgets/base",
      "model_module_version": "1.2.0",
      "model_name": "LayoutModel",
      "state": {
       "_model_module": "@jupyter-widgets/base",
       "_model_module_version": "1.2.0",
       "_model_name": "LayoutModel",
       "_view_count": null,
       "_view_module": "@jupyter-widgets/base",
       "_view_module_version": "1.2.0",
       "_view_name": "LayoutView",
       "align_content": null,
       "align_items": null,
       "align_self": null,
       "border": null,
       "bottom": null,
       "display": null,
       "flex": null,
       "flex_flow": null,
       "grid_area": null,
       "grid_auto_columns": null,
       "grid_auto_flow": null,
       "grid_auto_rows": null,
       "grid_column": null,
       "grid_gap": null,
       "grid_row": null,
       "grid_template_areas": null,
       "grid_template_columns": null,
       "grid_template_rows": null,
       "height": null,
       "justify_content": null,
       "justify_items": null,
       "left": null,
       "margin": null,
       "max_height": null,
       "max_width": null,
       "min_height": null,
       "min_width": null,
       "object_fit": null,
       "object_position": null,
       "order": null,
       "overflow": null,
       "overflow_x": null,
       "overflow_y": null,
       "padding": null,
       "right": null,
       "top": null,
       "visibility": null,
       "width": null
      }
     },
     "38f70efe4b754b589da338a8bc01f062": {
      "model_module": "@jupyter-widgets/controls",
      "model_module_version": "1.5.0",
      "model_name": "HTMLModel",
      "state": {
       "_dom_classes": [],
       "_model_module": "@jupyter-widgets/controls",
       "_model_module_version": "1.5.0",
       "_model_name": "HTMLModel",
       "_view_count": null,
       "_view_module": "@jupyter-widgets/controls",
       "_view_module_version": "1.5.0",
       "_view_name": "HTMLView",
       "description": "",
       "description_tooltip": null,
       "layout": "IPY_MODEL_0fc9b5c14a5b4f9484c9ce6bc1f20539",
       "placeholder": "​",
       "style": "IPY_MODEL_a4ec26e0e81540359385b9337322ec46",
       "value": ""
      }
     },
     "44e59d382642408681eb389d2914b339": {
      "model_module": "@jupyter-widgets/base",
      "model_module_version": "1.2.0",
      "model_name": "LayoutModel",
      "state": {
       "_model_module": "@jupyter-widgets/base",
       "_model_module_version": "1.2.0",
       "_model_name": "LayoutModel",
       "_view_count": null,
       "_view_module": "@jupyter-widgets/base",
       "_view_module_version": "1.2.0",
       "_view_name": "LayoutView",
       "align_content": null,
       "align_items": null,
       "align_self": null,
       "border": null,
       "bottom": null,
       "display": null,
       "flex": null,
       "flex_flow": null,
       "grid_area": null,
       "grid_auto_columns": null,
       "grid_auto_flow": null,
       "grid_auto_rows": null,
       "grid_column": null,
       "grid_gap": null,
       "grid_row": null,
       "grid_template_areas": null,
       "grid_template_columns": null,
       "grid_template_rows": null,
       "height": null,
       "justify_content": null,
       "justify_items": null,
       "left": null,
       "margin": null,
       "max_height": null,
       "max_width": null,
       "min_height": null,
       "min_width": null,
       "object_fit": null,
       "object_position": null,
       "order": null,
       "overflow": null,
       "overflow_x": null,
       "overflow_y": null,
       "padding": null,
       "right": null,
       "top": null,
       "visibility": null,
       "width": null
      }
     },
     "4502cfb13f644188804ddbe944d0817b": {
      "model_module": "@jupyter-widgets/controls",
      "model_module_version": "1.5.0",
      "model_name": "AccordionModel",
      "state": {
       "_dom_classes": [],
       "_model_module": "@jupyter-widgets/controls",
       "_model_module_version": "1.5.0",
       "_model_name": "AccordionModel",
       "_titles": {
        "0": "Log Output"
       },
       "_view_count": null,
       "_view_module": "@jupyter-widgets/controls",
       "_view_module_version": "1.5.0",
       "_view_name": "AccordionView",
       "box_style": "",
       "children": [
        "IPY_MODEL_ce05c440b0414769b9e4ebb341c19184"
       ],
       "layout": "IPY_MODEL_4c36ac05297c4d1c8c1abec60e49d1e6",
       "selected_index": null
      }
     },
     "476a8c16c69e4448a85167b0aa982279": {
      "model_module": "@jupyter-widgets/controls",
      "model_module_version": "1.5.0",
      "model_name": "DescriptionStyleModel",
      "state": {
       "_model_module": "@jupyter-widgets/controls",
       "_model_module_version": "1.5.0",
       "_model_name": "DescriptionStyleModel",
       "_view_count": null,
       "_view_module": "@jupyter-widgets/base",
       "_view_module_version": "1.2.0",
       "_view_name": "StyleView",
       "description_width": ""
      }
     },
     "4c36ac05297c4d1c8c1abec60e49d1e6": {
      "model_module": "@jupyter-widgets/base",
      "model_module_version": "1.2.0",
      "model_name": "LayoutModel",
      "state": {
       "_model_module": "@jupyter-widgets/base",
       "_model_module_version": "1.2.0",
       "_model_name": "LayoutModel",
       "_view_count": null,
       "_view_module": "@jupyter-widgets/base",
       "_view_module_version": "1.2.0",
       "_view_name": "LayoutView",
       "align_content": null,
       "align_items": null,
       "align_self": null,
       "border": null,
       "bottom": null,
       "display": null,
       "flex": null,
       "flex_flow": null,
       "grid_area": null,
       "grid_auto_columns": null,
       "grid_auto_flow": null,
       "grid_auto_rows": null,
       "grid_column": null,
       "grid_gap": null,
       "grid_row": null,
       "grid_template_areas": null,
       "grid_template_columns": null,
       "grid_template_rows": null,
       "height": null,
       "justify_content": null,
       "justify_items": null,
       "left": null,
       "margin": null,
       "max_height": null,
       "max_width": null,
       "min_height": null,
       "min_width": null,
       "object_fit": null,
       "object_position": null,
       "order": null,
       "overflow": null,
       "overflow_x": null,
       "overflow_y": null,
       "padding": null,
       "right": null,
       "top": null,
       "visibility": null,
       "width": null
      }
     },
     "50cba254e95e4bf1b21369df02dc9522": {
      "model_module": "@jupyter-widgets/controls",
      "model_module_version": "1.5.0",
      "model_name": "DescriptionStyleModel",
      "state": {
       "_model_module": "@jupyter-widgets/controls",
       "_model_module_version": "1.5.0",
       "_model_name": "DescriptionStyleModel",
       "_view_count": null,
       "_view_module": "@jupyter-widgets/base",
       "_view_module_version": "1.2.0",
       "_view_name": "StyleView",
       "description_width": ""
      }
     },
     "537e829f611646a3b62fc20884307c23": {
      "model_module": "@jupyter-widgets/base",
      "model_module_version": "1.2.0",
      "model_name": "LayoutModel",
      "state": {
       "_model_module": "@jupyter-widgets/base",
       "_model_module_version": "1.2.0",
       "_model_name": "LayoutModel",
       "_view_count": null,
       "_view_module": "@jupyter-widgets/base",
       "_view_module_version": "1.2.0",
       "_view_name": "LayoutView",
       "align_content": null,
       "align_items": null,
       "align_self": null,
       "border": null,
       "bottom": null,
       "display": null,
       "flex": null,
       "flex_flow": null,
       "grid_area": null,
       "grid_auto_columns": null,
       "grid_auto_flow": null,
       "grid_auto_rows": null,
       "grid_column": null,
       "grid_gap": null,
       "grid_row": null,
       "grid_template_areas": null,
       "grid_template_columns": null,
       "grid_template_rows": null,
       "height": "16em",
       "justify_content": null,
       "justify_items": null,
       "left": null,
       "margin": null,
       "max_height": null,
       "max_width": null,
       "min_height": null,
       "min_width": null,
       "object_fit": null,
       "object_position": null,
       "order": null,
       "overflow": null,
       "overflow_x": null,
       "overflow_y": "auto",
       "padding": null,
       "right": null,
       "top": null,
       "visibility": null,
       "width": "100%"
      }
     },
     "53e126f37fcd423b82d976a4edc54525": {
      "model_module": "@jupyter-widgets/base",
      "model_module_version": "1.2.0",
      "model_name": "LayoutModel",
      "state": {
       "_model_module": "@jupyter-widgets/base",
       "_model_module_version": "1.2.0",
       "_model_name": "LayoutModel",
       "_view_count": null,
       "_view_module": "@jupyter-widgets/base",
       "_view_module_version": "1.2.0",
       "_view_name": "LayoutView",
       "align_content": null,
       "align_items": null,
       "align_self": null,
       "border": null,
       "bottom": null,
       "display": null,
       "flex": null,
       "flex_flow": null,
       "grid_area": null,
       "grid_auto_columns": null,
       "grid_auto_flow": null,
       "grid_auto_rows": null,
       "grid_column": null,
       "grid_gap": null,
       "grid_row": null,
       "grid_template_areas": null,
       "grid_template_columns": null,
       "grid_template_rows": null,
       "height": "16em",
       "justify_content": null,
       "justify_items": null,
       "left": null,
       "margin": null,
       "max_height": null,
       "max_width": null,
       "min_height": null,
       "min_width": null,
       "object_fit": null,
       "object_position": null,
       "order": null,
       "overflow": null,
       "overflow_x": null,
       "overflow_y": "auto",
       "padding": null,
       "right": null,
       "top": null,
       "visibility": null,
       "width": "100%"
      }
     },
     "5801a09323cb48ada8cef7af924eb77d": {
      "model_module": "@jupyter-widgets/controls",
      "model_module_version": "1.5.0",
      "model_name": "HTMLModel",
      "state": {
       "_dom_classes": [],
       "_model_module": "@jupyter-widgets/controls",
       "_model_module_version": "1.5.0",
       "_model_name": "HTMLModel",
       "_view_count": null,
       "_view_module": "@jupyter-widgets/controls",
       "_view_module_version": "1.5.0",
       "_view_name": "HTMLView",
       "description": "",
       "description_tooltip": null,
       "layout": "IPY_MODEL_0af502ca77624b75a1c303aa4ee2a077",
       "placeholder": "​",
       "style": "IPY_MODEL_830c3cd3c2864212b359a8f58ff50f07",
       "value": "<p style=\"line-height:120%\">00:00 <bold>DiffusionOperatorP1</bold>: Calculate gradients of shape functions transformed by reference map ...</p><p style=\"line-height:120%\">00:00 <bold>DiffusionOperatorP1</bold>: Calculate all local scalar products between gradients ...</p><p style=\"line-height:120%\">00:00 <bold>DiffusionOperatorP1</bold>: Determine global dofs ...</p><p style=\"line-height:120%\">00:00 <bold>DiffusionOperatorP1</bold>: Boundary treatment ...</p><p style=\"line-height:120%\">00:00 <bold>DiffusionOperatorP1</bold>: Assemble system matrix ...</p><p style=\"line-height:120%\">00:00 <bold>DiffusionOperatorP1</bold>: Calculate gradients of shape functions transformed by reference map ...</p><p style=\"line-height:120%\">00:00 <bold>DiffusionOperatorP1</bold>: Calculate all local scalar products between gradients ...</p><p style=\"line-height:120%\">00:00 <bold>DiffusionOperatorP1</bold>: Determine global dofs ...</p><p style=\"line-height:120%\">00:00 <bold>DiffusionOperatorP1</bold>: Boundary treatment ...</p><p style=\"line-height:120%\">00:00 <bold>DiffusionOperatorP1</bold>: Assemble system matrix ...</p><p style=\"line-height:120%\">00:00 <bold>DiffusionOperatorP1</bold>: Calculate gradients of shape functions transformed by reference map ...</p><p style=\"line-height:120%\">00:00 <bold>DiffusionOperatorP1</bold>: Calculate all local scalar products between gradients ...</p><p style=\"line-height:120%\">00:00 <bold>DiffusionOperatorP1</bold>: Determine global dofs ...</p><p style=\"line-height:120%\">00:00 <bold>DiffusionOperatorP1</bold>: Boundary treatment ...</p><p style=\"line-height:120%\">00:00 <bold>DiffusionOperatorP1</bold>: Assemble system matrix ...</p><p style=\"line-height:120%\">00:00 <bold>L2ProductP1</bold>: Integrate the products of the shape functions on each element</p><p style=\"line-height:120%\">00:00 <bold>L2ProductP1</bold>: Determine global dofs ...</p><p style=\"line-height:120%\">00:00 <bold>L2ProductP1</bold>: Boundary treatment ...</p><p style=\"line-height:120%\">00:00 <bold>L2ProductP1</bold>: Assemble system matrix ...</p><p style=\"line-height:120%\">00:00 <bold>DiffusionOperatorP1</bold>: Calculate gradients of shape functions transformed by reference map ...</p><p style=\"line-height:120%\">00:00 <bold>DiffusionOperatorP1</bold>: Calculate all local scalar products between gradients ...</p><p style=\"line-height:120%\">00:00 <bold>DiffusionOperatorP1</bold>: Determine global dofs ...</p><p style=\"line-height:120%\">00:00 <bold>DiffusionOperatorP1</bold>: Boundary treatment ...</p><p style=\"line-height:120%\">00:00 <bold>DiffusionOperatorP1</bold>: Assemble system matrix ...</p><p style=\"line-height:120%\">00:00 <bold>L2ProductP1</bold>: Integrate the products of the shape functions on each element</p><p style=\"line-height:120%\">00:00 <bold>L2ProductP1</bold>: Determine global dofs ...</p><p style=\"line-height:120%\">00:00 <bold>L2ProductP1</bold>: Boundary treatment ...</p><p style=\"line-height:120%\">00:00 <bold>L2ProductP1</bold>: Assemble system matrix ...</p><p style=\"line-height:120%\">00:00 <bold>DiffusionOperatorP1</bold>: Calculate gradients of shape functions transformed by reference map ...</p><p style=\"line-height:120%\">00:00 <bold>DiffusionOperatorP1</bold>: Calculate all local scalar products between gradients ...</p><p style=\"line-height:120%\">00:00 <bold>DiffusionOperatorP1</bold>: Determine global dofs ...</p><p style=\"line-height:120%\">00:00 <bold>DiffusionOperatorP1</bold>: Boundary treatment ...</p><p style=\"line-height:120%\">00:00 <bold>DiffusionOperatorP1</bold>: Assemble system matrix ...</p>"
      }
     },
     "61701d0d653e40a3b4db78a41eb6c647": {
      "model_module": "@jupyter-widgets/controls",
      "model_module_version": "1.5.0",
      "model_name": "AccordionModel",
      "state": {
       "_dom_classes": [],
       "_model_module": "@jupyter-widgets/controls",
       "_model_module_version": "1.5.0",
       "_model_name": "AccordionModel",
       "_titles": {
        "0": "Log Output"
       },
       "_view_count": null,
       "_view_module": "@jupyter-widgets/controls",
       "_view_module_version": "1.5.0",
       "_view_name": "AccordionView",
       "box_style": "",
       "children": [
        "IPY_MODEL_1b71529c8be34e609e6a36acab3af901"
       ],
       "layout": "IPY_MODEL_305167ec851944d09acc62bc1ed9b971",
       "selected_index": null
      }
     },
     "62714552002d4e739749f031ffb6a3b2": {
      "model_module": "@jupyter-widgets/base",
      "model_module_version": "1.2.0",
      "model_name": "LayoutModel",
      "state": {
       "_model_module": "@jupyter-widgets/base",
       "_model_module_version": "1.2.0",
       "_model_name": "LayoutModel",
       "_view_count": null,
       "_view_module": "@jupyter-widgets/base",
       "_view_module_version": "1.2.0",
       "_view_name": "LayoutView",
       "align_content": null,
       "align_items": null,
       "align_self": null,
       "border": null,
       "bottom": null,
       "display": null,
       "flex": null,
       "flex_flow": null,
       "grid_area": null,
       "grid_auto_columns": null,
       "grid_auto_flow": null,
       "grid_auto_rows": null,
       "grid_column": null,
       "grid_gap": null,
       "grid_row": null,
       "grid_template_areas": null,
       "grid_template_columns": null,
       "grid_template_rows": null,
       "height": null,
       "justify_content": null,
       "justify_items": null,
       "left": null,
       "margin": null,
       "max_height": null,
       "max_width": null,
       "min_height": null,
       "min_width": null,
       "object_fit": null,
       "object_position": null,
       "order": null,
       "overflow": null,
       "overflow_x": null,
       "overflow_y": null,
       "padding": null,
       "right": null,
       "top": null,
       "visibility": null,
       "width": null
      }
     },
     "63d55b6d16c142cca906b6e2adb5eeb4": {
      "model_module": "@jupyter-widgets/controls",
      "model_module_version": "1.5.0",
      "model_name": "AccordionModel",
      "state": {
       "_dom_classes": [],
       "_model_module": "@jupyter-widgets/controls",
       "_model_module_version": "1.5.0",
       "_model_name": "AccordionModel",
       "_titles": {
        "0": "Log Output"
       },
       "_view_count": null,
       "_view_module": "@jupyter-widgets/controls",
       "_view_module_version": "1.5.0",
       "_view_name": "AccordionView",
       "box_style": "",
       "children": [
        "IPY_MODEL_0b39d268298d4a01a1d2e2c64237a9a4"
       ],
       "layout": "IPY_MODEL_aa98bd4889b745938a13eae7b07026cf",
       "selected_index": null
      }
     },
     "6d982af2ea454f7f80863c12a40d6d69": {
      "model_module": "@jupyter-widgets/base",
      "model_module_version": "1.2.0",
      "model_name": "LayoutModel",
      "state": {
       "_model_module": "@jupyter-widgets/base",
       "_model_module_version": "1.2.0",
       "_model_name": "LayoutModel",
       "_view_count": null,
       "_view_module": "@jupyter-widgets/base",
       "_view_module_version": "1.2.0",
       "_view_name": "LayoutView",
       "align_content": null,
       "align_items": null,
       "align_self": null,
       "border": null,
       "bottom": null,
       "display": null,
       "flex": null,
       "flex_flow": null,
       "grid_area": null,
       "grid_auto_columns": null,
       "grid_auto_flow": null,
       "grid_auto_rows": null,
       "grid_column": null,
       "grid_gap": null,
       "grid_row": null,
       "grid_template_areas": null,
       "grid_template_columns": null,
       "grid_template_rows": null,
       "height": null,
       "justify_content": null,
       "justify_items": null,
       "left": null,
       "margin": null,
       "max_height": null,
       "max_width": null,
       "min_height": null,
       "min_width": null,
       "object_fit": null,
       "object_position": null,
       "order": null,
       "overflow": null,
       "overflow_x": null,
       "overflow_y": null,
       "padding": null,
       "right": null,
       "top": null,
       "visibility": null,
       "width": null
      }
     },
     "775e182954fe42799c9e46d0d111f530": {
      "model_module": "@jupyter-widgets/controls",
      "model_module_version": "1.5.0",
      "model_name": "HTMLModel",
      "state": {
       "_dom_classes": [],
       "_model_module": "@jupyter-widgets/controls",
       "_model_module_version": "1.5.0",
       "_model_name": "HTMLModel",
       "_view_count": null,
       "_view_module": "@jupyter-widgets/controls",
       "_view_module_version": "1.5.0",
       "_view_name": "HTMLView",
       "description": "",
       "description_tooltip": null,
       "layout": "IPY_MODEL_8e97a643f1444206946c91f2384e5056",
       "placeholder": "​",
       "style": "IPY_MODEL_e8684df02016467b9ff1b66242c474ed",
       "value": ""
      }
     },
     "830c3cd3c2864212b359a8f58ff50f07": {
      "model_module": "@jupyter-widgets/controls",
      "model_module_version": "1.5.0",
      "model_name": "DescriptionStyleModel",
      "state": {
       "_model_module": "@jupyter-widgets/controls",
       "_model_module_version": "1.5.0",
       "_model_name": "DescriptionStyleModel",
       "_view_count": null,
       "_view_module": "@jupyter-widgets/base",
       "_view_module_version": "1.2.0",
       "_view_name": "StyleView",
       "description_width": ""
      }
     },
     "85b625dea3fa4d81bf770e9aebf12586": {
      "model_module": "@jupyter-widgets/base",
      "model_module_version": "1.2.0",
      "model_name": "LayoutModel",
      "state": {
       "_model_module": "@jupyter-widgets/base",
       "_model_module_version": "1.2.0",
       "_model_name": "LayoutModel",
       "_view_count": null,
       "_view_module": "@jupyter-widgets/base",
       "_view_module_version": "1.2.0",
       "_view_name": "LayoutView",
       "align_content": null,
       "align_items": null,
       "align_self": null,
       "border": null,
       "bottom": null,
       "display": null,
       "flex": null,
       "flex_flow": null,
       "grid_area": null,
       "grid_auto_columns": null,
       "grid_auto_flow": null,
       "grid_auto_rows": null,
       "grid_column": null,
       "grid_gap": null,
       "grid_row": null,
       "grid_template_areas": null,
       "grid_template_columns": null,
       "grid_template_rows": null,
       "height": null,
       "justify_content": null,
       "justify_items": null,
       "left": null,
       "margin": null,
       "max_height": null,
       "max_width": null,
       "min_height": null,
       "min_width": null,
       "object_fit": null,
       "object_position": null,
       "order": null,
       "overflow": null,
       "overflow_x": null,
       "overflow_y": null,
       "padding": null,
       "right": null,
       "top": null,
       "visibility": null,
       "width": null
      }
     },
     "8b2383ad2c814cde86f3cf007baacef6": {
      "model_module": "@jupyter-widgets/base",
      "model_module_version": "1.2.0",
      "model_name": "LayoutModel",
      "state": {
       "_model_module": "@jupyter-widgets/base",
       "_model_module_version": "1.2.0",
       "_model_name": "LayoutModel",
       "_view_count": null,
       "_view_module": "@jupyter-widgets/base",
       "_view_module_version": "1.2.0",
       "_view_name": "LayoutView",
       "align_content": null,
       "align_items": null,
       "align_self": null,
       "border": null,
       "bottom": null,
       "display": null,
       "flex": null,
       "flex_flow": null,
       "grid_area": null,
       "grid_auto_columns": null,
       "grid_auto_flow": null,
       "grid_auto_rows": null,
       "grid_column": null,
       "grid_gap": null,
       "grid_row": null,
       "grid_template_areas": null,
       "grid_template_columns": null,
       "grid_template_rows": null,
       "height": "16em",
       "justify_content": null,
       "justify_items": null,
       "left": null,
       "margin": null,
       "max_height": null,
       "max_width": null,
       "min_height": null,
       "min_width": null,
       "object_fit": null,
       "object_position": null,
       "order": null,
       "overflow": null,
       "overflow_x": null,
       "overflow_y": "auto",
       "padding": null,
       "right": null,
       "top": null,
       "visibility": null,
       "width": "100%"
      }
     },
     "8e97a643f1444206946c91f2384e5056": {
      "model_module": "@jupyter-widgets/base",
      "model_module_version": "1.2.0",
      "model_name": "LayoutModel",
      "state": {
       "_model_module": "@jupyter-widgets/base",
       "_model_module_version": "1.2.0",
       "_model_name": "LayoutModel",
       "_view_count": null,
       "_view_module": "@jupyter-widgets/base",
       "_view_module_version": "1.2.0",
       "_view_name": "LayoutView",
       "align_content": null,
       "align_items": null,
       "align_self": null,
       "border": null,
       "bottom": null,
       "display": null,
       "flex": null,
       "flex_flow": null,
       "grid_area": null,
       "grid_auto_columns": null,
       "grid_auto_flow": null,
       "grid_auto_rows": null,
       "grid_column": null,
       "grid_gap": null,
       "grid_row": null,
       "grid_template_areas": null,
       "grid_template_columns": null,
       "grid_template_rows": null,
       "height": "16em",
       "justify_content": null,
       "justify_items": null,
       "left": null,
       "margin": null,
       "max_height": null,
       "max_width": null,
       "min_height": null,
       "min_width": null,
       "object_fit": null,
       "object_position": null,
       "order": null,
       "overflow": null,
       "overflow_x": null,
       "overflow_y": "auto",
       "padding": null,
       "right": null,
       "top": null,
       "visibility": null,
       "width": "100%"
      }
     },
     "90342149c1c44bca80e5471d84843125": {
      "model_module": "@jupyter-widgets/base",
      "model_module_version": "1.2.0",
      "model_name": "LayoutModel",
      "state": {
       "_model_module": "@jupyter-widgets/base",
       "_model_module_version": "1.2.0",
       "_model_name": "LayoutModel",
       "_view_count": null,
       "_view_module": "@jupyter-widgets/base",
       "_view_module_version": "1.2.0",
       "_view_name": "LayoutView",
       "align_content": null,
       "align_items": null,
       "align_self": null,
       "border": null,
       "bottom": null,
       "display": null,
       "flex": null,
       "flex_flow": null,
       "grid_area": null,
       "grid_auto_columns": null,
       "grid_auto_flow": null,
       "grid_auto_rows": null,
       "grid_column": null,
       "grid_gap": null,
       "grid_row": null,
       "grid_template_areas": null,
       "grid_template_columns": null,
       "grid_template_rows": null,
       "height": "16em",
       "justify_content": null,
       "justify_items": null,
       "left": null,
       "margin": null,
       "max_height": null,
       "max_width": null,
       "min_height": null,
       "min_width": null,
       "object_fit": null,
       "object_position": null,
       "order": null,
       "overflow": null,
       "overflow_x": null,
       "overflow_y": "auto",
       "padding": null,
       "right": null,
       "top": null,
       "visibility": null,
       "width": "100%"
      }
     },
     "92daf19edd694a28861b7168de47b09a": {
      "model_module": "@jupyter-widgets/controls",
      "model_module_version": "1.5.0",
      "model_name": "AccordionModel",
      "state": {
       "_dom_classes": [],
       "_model_module": "@jupyter-widgets/controls",
       "_model_module_version": "1.5.0",
       "_model_name": "AccordionModel",
       "_titles": {
        "0": "Log Output"
       },
       "_view_count": null,
       "_view_module": "@jupyter-widgets/controls",
       "_view_module_version": "1.5.0",
       "_view_name": "AccordionView",
       "box_style": "",
       "children": [
        "IPY_MODEL_bc083a59747f4bf9a4b3f8f44dbf6b2a"
       ],
       "layout": "IPY_MODEL_bb06ef9aab3a41d086b9e2dd50e79838",
       "selected_index": null
      }
     },
     "9540b3b35b7b4f568847beb8dab6e727": {
      "model_module": "@jupyter-widgets/controls",
      "model_module_version": "1.5.0",
      "model_name": "AccordionModel",
      "state": {
       "_dom_classes": [],
       "_model_module": "@jupyter-widgets/controls",
       "_model_module_version": "1.5.0",
       "_model_name": "AccordionModel",
       "_titles": {
        "0": "Log Output"
       },
       "_view_count": null,
       "_view_module": "@jupyter-widgets/controls",
       "_view_module_version": "1.5.0",
       "_view_name": "AccordionView",
       "box_style": "",
       "children": [
        "IPY_MODEL_b08711b6e24740e49860c0187190b2d1"
       ],
       "layout": "IPY_MODEL_bf666a3045584cb8819a8c5ef11fbb25",
       "selected_index": null
      }
     },
     "9721aef037844c8fa8459709ed495e3c": {
      "model_module": "@jupyter-widgets/base",
      "model_module_version": "1.2.0",
      "model_name": "LayoutModel",
      "state": {
       "_model_module": "@jupyter-widgets/base",
       "_model_module_version": "1.2.0",
       "_model_name": "LayoutModel",
       "_view_count": null,
       "_view_module": "@jupyter-widgets/base",
       "_view_module_version": "1.2.0",
       "_view_name": "LayoutView",
       "align_content": null,
       "align_items": null,
       "align_self": null,
       "border": null,
       "bottom": null,
       "display": null,
       "flex": null,
       "flex_flow": null,
       "grid_area": null,
       "grid_auto_columns": null,
       "grid_auto_flow": null,
       "grid_auto_rows": null,
       "grid_column": null,
       "grid_gap": null,
       "grid_row": null,
       "grid_template_areas": null,
       "grid_template_columns": null,
       "grid_template_rows": null,
       "height": null,
       "justify_content": null,
       "justify_items": null,
       "left": null,
       "margin": null,
       "max_height": null,
       "max_width": null,
       "min_height": null,
       "min_width": null,
       "object_fit": null,
       "object_position": null,
       "order": null,
       "overflow": null,
       "overflow_x": null,
       "overflow_y": null,
       "padding": null,
       "right": null,
       "top": null,
       "visibility": null,
       "width": null
      }
     },
     "9b880bff14044f8bbd252eaaf3d675f4": {
      "model_module": "@jupyter-widgets/base",
      "model_module_version": "1.2.0",
      "model_name": "LayoutModel",
      "state": {
       "_model_module": "@jupyter-widgets/base",
       "_model_module_version": "1.2.0",
       "_model_name": "LayoutModel",
       "_view_count": null,
       "_view_module": "@jupyter-widgets/base",
       "_view_module_version": "1.2.0",
       "_view_name": "LayoutView",
       "align_content": null,
       "align_items": null,
       "align_self": null,
       "border": null,
       "bottom": null,
       "display": null,
       "flex": null,
       "flex_flow": null,
       "grid_area": null,
       "grid_auto_columns": null,
       "grid_auto_flow": null,
       "grid_auto_rows": null,
       "grid_column": null,
       "grid_gap": null,
       "grid_row": null,
       "grid_template_areas": null,
       "grid_template_columns": null,
       "grid_template_rows": null,
       "height": null,
       "justify_content": null,
       "justify_items": null,
       "left": null,
       "margin": null,
       "max_height": null,
       "max_width": null,
       "min_height": null,
       "min_width": null,
       "object_fit": null,
       "object_position": null,
       "order": null,
       "overflow": null,
       "overflow_x": null,
       "overflow_y": null,
       "padding": null,
       "right": null,
       "top": null,
       "visibility": null,
       "width": null
      }
     },
     "9b8b63e4e8814b379c1ca3848e9a0238": {
      "model_module": "@jupyter-widgets/base",
      "model_module_version": "1.2.0",
      "model_name": "LayoutModel",
      "state": {
       "_model_module": "@jupyter-widgets/base",
       "_model_module_version": "1.2.0",
       "_model_name": "LayoutModel",
       "_view_count": null,
       "_view_module": "@jupyter-widgets/base",
       "_view_module_version": "1.2.0",
       "_view_name": "LayoutView",
       "align_content": null,
       "align_items": null,
       "align_self": null,
       "border": null,
       "bottom": null,
       "display": null,
       "flex": null,
       "flex_flow": null,
       "grid_area": null,
       "grid_auto_columns": null,
       "grid_auto_flow": null,
       "grid_auto_rows": null,
       "grid_column": null,
       "grid_gap": null,
       "grid_row": null,
       "grid_template_areas": null,
       "grid_template_columns": null,
       "grid_template_rows": null,
       "height": "16em",
       "justify_content": null,
       "justify_items": null,
       "left": null,
       "margin": null,
       "max_height": null,
       "max_width": null,
       "min_height": null,
       "min_width": null,
       "object_fit": null,
       "object_position": null,
       "order": null,
       "overflow": null,
       "overflow_x": null,
       "overflow_y": "auto",
       "padding": null,
       "right": null,
       "top": null,
       "visibility": null,
       "width": "100%"
      }
     },
     "a37451f596844563ac7ded65ff689f54": {
      "model_module": "@jupyter-widgets/controls",
      "model_module_version": "1.5.0",
      "model_name": "DescriptionStyleModel",
      "state": {
       "_model_module": "@jupyter-widgets/controls",
       "_model_module_version": "1.5.0",
       "_model_name": "DescriptionStyleModel",
       "_view_count": null,
       "_view_module": "@jupyter-widgets/base",
       "_view_module_version": "1.2.0",
       "_view_name": "StyleView",
       "description_width": ""
      }
     },
     "a4ec26e0e81540359385b9337322ec46": {
      "model_module": "@jupyter-widgets/controls",
      "model_module_version": "1.5.0",
      "model_name": "DescriptionStyleModel",
      "state": {
       "_model_module": "@jupyter-widgets/controls",
       "_model_module_version": "1.5.0",
       "_model_name": "DescriptionStyleModel",
       "_view_count": null,
       "_view_module": "@jupyter-widgets/base",
       "_view_module_version": "1.2.0",
       "_view_name": "StyleView",
       "description_width": ""
      }
     },
     "a64d4d81dc034c9089b13660095e2044": {
      "model_module": "@jupyter-widgets/base",
      "model_module_version": "1.2.0",
      "model_name": "LayoutModel",
      "state": {
       "_model_module": "@jupyter-widgets/base",
       "_model_module_version": "1.2.0",
       "_model_name": "LayoutModel",
       "_view_count": null,
       "_view_module": "@jupyter-widgets/base",
       "_view_module_version": "1.2.0",
       "_view_name": "LayoutView",
       "align_content": null,
       "align_items": null,
       "align_self": null,
       "border": null,
       "bottom": null,
       "display": null,
       "flex": null,
       "flex_flow": null,
       "grid_area": null,
       "grid_auto_columns": null,
       "grid_auto_flow": null,
       "grid_auto_rows": null,
       "grid_column": null,
       "grid_gap": null,
       "grid_row": null,
       "grid_template_areas": null,
       "grid_template_columns": null,
       "grid_template_rows": null,
       "height": null,
       "justify_content": null,
       "justify_items": null,
       "left": null,
       "margin": null,
       "max_height": null,
       "max_width": null,
       "min_height": null,
       "min_width": null,
       "object_fit": null,
       "object_position": null,
       "order": null,
       "overflow": null,
       "overflow_x": null,
       "overflow_y": null,
       "padding": null,
       "right": null,
       "top": null,
       "visibility": null,
       "width": null
      }
     },
     "a81addbc51ad45a58ed67322a298f0be": {
      "model_module": "@jupyter-widgets/controls",
      "model_module_version": "1.5.0",
      "model_name": "DescriptionStyleModel",
      "state": {
       "_model_module": "@jupyter-widgets/controls",
       "_model_module_version": "1.5.0",
       "_model_name": "DescriptionStyleModel",
       "_view_count": null,
       "_view_module": "@jupyter-widgets/base",
       "_view_module_version": "1.2.0",
       "_view_name": "StyleView",
       "description_width": ""
      }
     },
     "aa98bd4889b745938a13eae7b07026cf": {
      "model_module": "@jupyter-widgets/base",
      "model_module_version": "1.2.0",
      "model_name": "LayoutModel",
      "state": {
       "_model_module": "@jupyter-widgets/base",
       "_model_module_version": "1.2.0",
       "_model_name": "LayoutModel",
       "_view_count": null,
       "_view_module": "@jupyter-widgets/base",
       "_view_module_version": "1.2.0",
       "_view_name": "LayoutView",
       "align_content": null,
       "align_items": null,
       "align_self": null,
       "border": null,
       "bottom": null,
       "display": null,
       "flex": null,
       "flex_flow": null,
       "grid_area": null,
       "grid_auto_columns": null,
       "grid_auto_flow": null,
       "grid_auto_rows": null,
       "grid_column": null,
       "grid_gap": null,
       "grid_row": null,
       "grid_template_areas": null,
       "grid_template_columns": null,
       "grid_template_rows": null,
       "height": null,
       "justify_content": null,
       "justify_items": null,
       "left": null,
       "margin": null,
       "max_height": null,
       "max_width": null,
       "min_height": null,
       "min_width": null,
       "object_fit": null,
       "object_position": null,
       "order": null,
       "overflow": null,
       "overflow_x": null,
       "overflow_y": null,
       "padding": null,
       "right": null,
       "top": null,
       "visibility": null,
       "width": null
      }
     },
     "ab74018336484dbb9798129ed45d1bc7": {
      "model_module": "@jupyter-widgets/controls",
      "model_module_version": "1.5.0",
      "model_name": "AccordionModel",
      "state": {
       "_dom_classes": [],
       "_model_module": "@jupyter-widgets/controls",
       "_model_module_version": "1.5.0",
       "_model_name": "AccordionModel",
       "_titles": {
        "0": "Log Output"
       },
       "_view_count": null,
       "_view_module": "@jupyter-widgets/controls",
       "_view_module_version": "1.5.0",
       "_view_name": "AccordionView",
       "box_style": "",
       "children": [
        "IPY_MODEL_775e182954fe42799c9e46d0d111f530"
       ],
       "layout": "IPY_MODEL_19add70c6a684534abc4e7cd422b48c4",
       "selected_index": null
      }
     },
     "aff345591b0741a090e681a176571a23": {
      "model_module": "@jupyter-widgets/controls",
      "model_module_version": "1.5.0",
      "model_name": "DescriptionStyleModel",
      "state": {
       "_model_module": "@jupyter-widgets/controls",
       "_model_module_version": "1.5.0",
       "_model_name": "DescriptionStyleModel",
       "_view_count": null,
       "_view_module": "@jupyter-widgets/base",
       "_view_module_version": "1.2.0",
       "_view_name": "StyleView",
       "description_width": ""
      }
     },
     "b010ee93a29e4e9daf5520a8f166b66d": {
      "model_module": "@jupyter-widgets/controls",
      "model_module_version": "1.5.0",
      "model_name": "AccordionModel",
      "state": {
       "_dom_classes": [],
       "_model_module": "@jupyter-widgets/controls",
       "_model_module_version": "1.5.0",
       "_model_name": "AccordionModel",
       "_titles": {
        "0": "Log Output"
       },
       "_view_count": null,
       "_view_module": "@jupyter-widgets/controls",
       "_view_module_version": "1.5.0",
       "_view_name": "AccordionView",
       "box_style": "",
       "children": [
        "IPY_MODEL_da4efce763b24e3eb19a007dd4d4ea65"
       ],
       "layout": "IPY_MODEL_ec5a13d038614cfd9fca0658ce1ff4ab",
       "selected_index": null
      }
     },
     "b08711b6e24740e49860c0187190b2d1": {
      "model_module": "@jupyter-widgets/controls",
      "model_module_version": "1.5.0",
      "model_name": "HTMLModel",
      "state": {
       "_dom_classes": [],
       "_model_module": "@jupyter-widgets/controls",
       "_model_module_version": "1.5.0",
       "_model_name": "HTMLModel",
       "_view_count": null,
       "_view_module": "@jupyter-widgets/controls",
       "_view_module_version": "1.5.0",
       "_view_name": "HTMLView",
       "description": "",
       "description_tooltip": null,
       "layout": "IPY_MODEL_8b2383ad2c814cde86f3cf007baacef6",
       "placeholder": "​",
       "style": "IPY_MODEL_c2e168c074684f0d8a4f341fe5ee5f3d",
       "value": ""
      }
     },
     "b80dc8ed9b1e47c19662a9355e0eb7fa": {
      "model_module": "@jupyter-widgets/controls",
      "model_module_version": "1.5.0",
      "model_name": "DescriptionStyleModel",
      "state": {
       "_model_module": "@jupyter-widgets/controls",
       "_model_module_version": "1.5.0",
       "_model_name": "DescriptionStyleModel",
       "_view_count": null,
       "_view_module": "@jupyter-widgets/base",
       "_view_module_version": "1.2.0",
       "_view_name": "StyleView",
       "description_width": ""
      }
     },
     "bb06ef9aab3a41d086b9e2dd50e79838": {
      "model_module": "@jupyter-widgets/base",
      "model_module_version": "1.2.0",
      "model_name": "LayoutModel",
      "state": {
       "_model_module": "@jupyter-widgets/base",
       "_model_module_version": "1.2.0",
       "_model_name": "LayoutModel",
       "_view_count": null,
       "_view_module": "@jupyter-widgets/base",
       "_view_module_version": "1.2.0",
       "_view_name": "LayoutView",
       "align_content": null,
       "align_items": null,
       "align_self": null,
       "border": null,
       "bottom": null,
       "display": null,
       "flex": null,
       "flex_flow": null,
       "grid_area": null,
       "grid_auto_columns": null,
       "grid_auto_flow": null,
       "grid_auto_rows": null,
       "grid_column": null,
       "grid_gap": null,
       "grid_row": null,
       "grid_template_areas": null,
       "grid_template_columns": null,
       "grid_template_rows": null,
       "height": null,
       "justify_content": null,
       "justify_items": null,
       "left": null,
       "margin": null,
       "max_height": null,
       "max_width": null,
       "min_height": null,
       "min_width": null,
       "object_fit": null,
       "object_position": null,
       "order": null,
       "overflow": null,
       "overflow_x": null,
       "overflow_y": null,
       "padding": null,
       "right": null,
       "top": null,
       "visibility": null,
       "width": null
      }
     },
     "bc083a59747f4bf9a4b3f8f44dbf6b2a": {
      "model_module": "@jupyter-widgets/controls",
      "model_module_version": "1.5.0",
      "model_name": "HTMLModel",
      "state": {
       "_dom_classes": [],
       "_model_module": "@jupyter-widgets/controls",
       "_model_module_version": "1.5.0",
       "_model_name": "HTMLModel",
       "_view_count": null,
       "_view_module": "@jupyter-widgets/controls",
       "_view_module_version": "1.5.0",
       "_view_name": "HTMLView",
       "description": "",
       "description_tooltip": null,
       "layout": "IPY_MODEL_0a9a63648bba46c2bd1f644b54f018d4",
       "placeholder": "​",
       "style": "IPY_MODEL_b80dc8ed9b1e47c19662a9355e0eb7fa",
       "value": ""
      }
     },
     "bd38e1475afa4aae9dc365198567d4e4": {
      "model_module": "@jupyter-widgets/base",
      "model_module_version": "1.2.0",
      "model_name": "LayoutModel",
      "state": {
       "_model_module": "@jupyter-widgets/base",
       "_model_module_version": "1.2.0",
       "_model_name": "LayoutModel",
       "_view_count": null,
       "_view_module": "@jupyter-widgets/base",
       "_view_module_version": "1.2.0",
       "_view_name": "LayoutView",
       "align_content": null,
       "align_items": null,
       "align_self": null,
       "border": null,
       "bottom": null,
       "display": null,
       "flex": null,
       "flex_flow": null,
       "grid_area": null,
       "grid_auto_columns": null,
       "grid_auto_flow": null,
       "grid_auto_rows": null,
       "grid_column": null,
       "grid_gap": null,
       "grid_row": null,
       "grid_template_areas": null,
       "grid_template_columns": null,
       "grid_template_rows": null,
       "height": null,
       "justify_content": null,
       "justify_items": null,
       "left": null,
       "margin": null,
       "max_height": null,
       "max_width": null,
       "min_height": null,
       "min_width": null,
       "object_fit": null,
       "object_position": null,
       "order": null,
       "overflow": null,
       "overflow_x": null,
       "overflow_y": null,
       "padding": null,
       "right": null,
       "top": null,
       "visibility": null,
       "width": null
      }
     },
     "bde55b2a4af24d4a97fcf31ea6e34570": {
      "model_module": "@jupyter-widgets/controls",
      "model_module_version": "1.5.0",
      "model_name": "HTMLModel",
      "state": {
       "_dom_classes": [],
       "_model_module": "@jupyter-widgets/controls",
       "_model_module_version": "1.5.0",
       "_model_name": "HTMLModel",
       "_view_count": null,
       "_view_module": "@jupyter-widgets/controls",
       "_view_module_version": "1.5.0",
       "_view_name": "HTMLView",
       "description": "",
       "description_tooltip": null,
       "layout": "IPY_MODEL_537e829f611646a3b62fc20884307c23",
       "placeholder": "​",
       "style": "IPY_MODEL_476a8c16c69e4448a85167b0aa982279",
       "value": ""
      }
     },
     "bf666a3045584cb8819a8c5ef11fbb25": {
      "model_module": "@jupyter-widgets/base",
      "model_module_version": "1.2.0",
      "model_name": "LayoutModel",
      "state": {
       "_model_module": "@jupyter-widgets/base",
       "_model_module_version": "1.2.0",
       "_model_name": "LayoutModel",
       "_view_count": null,
       "_view_module": "@jupyter-widgets/base",
       "_view_module_version": "1.2.0",
       "_view_name": "LayoutView",
       "align_content": null,
       "align_items": null,
       "align_self": null,
       "border": null,
       "bottom": null,
       "display": null,
       "flex": null,
       "flex_flow": null,
       "grid_area": null,
       "grid_auto_columns": null,
       "grid_auto_flow": null,
       "grid_auto_rows": null,
       "grid_column": null,
       "grid_gap": null,
       "grid_row": null,
       "grid_template_areas": null,
       "grid_template_columns": null,
       "grid_template_rows": null,
       "height": null,
       "justify_content": null,
       "justify_items": null,
       "left": null,
       "margin": null,
       "max_height": null,
       "max_width": null,
       "min_height": null,
       "min_width": null,
       "object_fit": null,
       "object_position": null,
       "order": null,
       "overflow": null,
       "overflow_x": null,
       "overflow_y": null,
       "padding": null,
       "right": null,
       "top": null,
       "visibility": null,
       "width": null
      }
     },
     "c2e168c074684f0d8a4f341fe5ee5f3d": {
      "model_module": "@jupyter-widgets/controls",
      "model_module_version": "1.5.0",
      "model_name": "DescriptionStyleModel",
      "state": {
       "_model_module": "@jupyter-widgets/controls",
       "_model_module_version": "1.5.0",
       "_model_name": "DescriptionStyleModel",
       "_view_count": null,
       "_view_module": "@jupyter-widgets/base",
       "_view_module_version": "1.2.0",
       "_view_name": "StyleView",
       "description_width": ""
      }
     },
     "c6a320e6336d480380e5622bd96e5a97": {
      "model_module": "@jupyter-widgets/controls",
      "model_module_version": "1.5.0",
      "model_name": "AccordionModel",
      "state": {
       "_dom_classes": [],
       "_model_module": "@jupyter-widgets/controls",
       "_model_module_version": "1.5.0",
       "_model_name": "AccordionModel",
       "_titles": {
        "0": "Log Output"
       },
       "_view_count": null,
       "_view_module": "@jupyter-widgets/controls",
       "_view_module_version": "1.5.0",
       "_view_name": "AccordionView",
       "box_style": "",
       "children": [
        "IPY_MODEL_dd902339101f4df1bd11a0c97d8cd687"
       ],
       "layout": "IPY_MODEL_9b880bff14044f8bbd252eaaf3d675f4",
       "selected_index": null
      }
     },
     "c9ddbe8fa962493d9dec229cb92fe773": {
      "model_module": "@jupyter-widgets/controls",
      "model_module_version": "1.5.0",
      "model_name": "AccordionModel",
      "state": {
       "_dom_classes": [],
       "_model_module": "@jupyter-widgets/controls",
       "_model_module_version": "1.5.0",
       "_model_name": "AccordionModel",
       "_titles": {
        "0": "Log Output"
       },
       "_view_count": null,
       "_view_module": "@jupyter-widgets/controls",
       "_view_module_version": "1.5.0",
       "_view_name": "AccordionView",
       "box_style": "",
       "children": [
        "IPY_MODEL_085f32b07d924a5f958e74cd667058f9"
       ],
       "layout": "IPY_MODEL_62714552002d4e739749f031ffb6a3b2",
       "selected_index": null
      }
     },
     "ce05c440b0414769b9e4ebb341c19184": {
      "model_module": "@jupyter-widgets/controls",
      "model_module_version": "1.5.0",
      "model_name": "HTMLModel",
      "state": {
       "_dom_classes": [],
       "_model_module": "@jupyter-widgets/controls",
       "_model_module_version": "1.5.0",
       "_model_name": "HTMLModel",
       "_view_count": null,
       "_view_module": "@jupyter-widgets/controls",
       "_view_module_version": "1.5.0",
       "_view_name": "HTMLView",
       "description": "",
       "description_tooltip": null,
       "layout": "IPY_MODEL_02413164fb124821a0d1b1f7963b4c46",
       "placeholder": "​",
       "style": "IPY_MODEL_a81addbc51ad45a58ed67322a298f0be",
       "value": "<p style=\"line-height:120%\">00:01 <bold>NeuralNetworkReductor</bold>: Building reduced basis ...</p><p style=\"line-height:120%\">00:01 |   <bold>NeuralNetworkReductor</bold>: Computing training snapshots ...</p><p style=\"line-height:120%\">00:01 |   |   <bold>StationaryModel</bold>: Solving 2DProblem_CG for {mu: [0.1]} ...</p><p style=\"line-height:120%\">00:01 |   |   <bold>StationaryModel</bold>: Solving 2DProblem_CG for {mu: [0.1090909090909091]} ...</p><p style=\"line-height:120%\">00:01 |   |   <bold>StationaryModel</bold>: Solving 2DProblem_CG for {mu: [0.1181818181818182]} ...</p><p style=\"line-height:120%\">00:01 |   |   <bold>StationaryModel</bold>: Solving 2DProblem_CG for {mu: [0.1272727272727273]} ...</p><p style=\"line-height:120%\">00:01 |   |   <bold>StationaryModel</bold>: Solving 2DProblem_CG for {mu: [0.13636363636363635]} ...</p><p style=\"line-height:120%\">00:01 |   |   <bold>StationaryModel</bold>: Solving 2DProblem_CG for {mu: [0.14545454545454545]} ...</p><p style=\"line-height:120%\">00:01 |   |   <bold>StationaryModel</bold>: Solving 2DProblem_CG for {mu: [0.15454545454545454]} ...</p><p style=\"line-height:120%\">00:01 |   |   <bold>StationaryModel</bold>: Solving 2DProblem_CG for {mu: [0.16363636363636364]} ...</p><p style=\"line-height:120%\">00:01 |   |   <bold>StationaryModel</bold>: Solving 2DProblem_CG for {mu: [0.17272727272727273]} ...</p><p style=\"line-height:120%\">00:01 |   |   <bold>StationaryModel</bold>: Solving 2DProblem_CG for {mu: [0.18181818181818182]} ...</p><p style=\"line-height:120%\">00:01 |   |   <bold>StationaryModel</bold>: Solving 2DProblem_CG for {mu: [0.19090909090909092]} ...</p><p style=\"line-height:120%\">00:01 |   |   <bold>StationaryModel</bold>: Solving 2DProblem_CG for {mu: [0.2]} ...</p><p style=\"line-height:120%\">00:01 |   |   <bold>StationaryModel</bold>: Solving 2DProblem_CG for {mu: [0.2090909090909091]} ...</p><p style=\"line-height:120%\">00:01 |   |   <bold>StationaryModel</bold>: Solving 2DProblem_CG for {mu: [0.2181818181818182]} ...</p><p style=\"line-height:120%\">00:01 |   |   <bold>StationaryModel</bold>: Solving 2DProblem_CG for {mu: [0.22727272727272727]} ...</p><p style=\"line-height:120%\">00:01 |   |   <bold>StationaryModel</bold>: Solving 2DProblem_CG for {mu: [0.23636363636363636]} ...</p><p style=\"line-height:120%\">00:01 |   |   <bold>StationaryModel</bold>: Solving 2DProblem_CG for {mu: [0.24545454545454545]} ...</p><p style=\"line-height:120%\">00:01 |   |   <bold>StationaryModel</bold>: Solving 2DProblem_CG for {mu: [0.2545454545454545]} ...</p><p style=\"line-height:120%\">00:01 |   |   <bold>StationaryModel</bold>: Solving 2DProblem_CG for {mu: [0.26363636363636367]} ...</p><p style=\"line-height:120%\">00:01 |   |   <bold>StationaryModel</bold>: Solving 2DProblem_CG for {mu: [0.2727272727272727]} ...</p><p style=\"line-height:120%\">00:01 |   |   <bold>StationaryModel</bold>: Solving 2DProblem_CG for {mu: [0.28181818181818186]} ...</p><p style=\"line-height:120%\">00:01 |   |   <bold>StationaryModel</bold>: Solving 2DProblem_CG for {mu: [0.2909090909090909]} ...</p><p style=\"line-height:120%\">00:01 |   |   <bold>StationaryModel</bold>: Solving 2DProblem_CG for {mu: [0.3]} ...</p><p style=\"line-height:120%\">00:01 |   |   <bold>StationaryModel</bold>: Solving 2DProblem_CG for {mu: [0.3090909090909091]} ...</p><p style=\"line-height:120%\">00:01 |   |   <bold>StationaryModel</bold>: Solving 2DProblem_CG for {mu: [0.3181818181818182]} ...</p><p style=\"line-height:120%\">00:02 |   |   <bold>StationaryModel</bold>: Solving 2DProblem_CG for {mu: [0.32727272727272727]} ...</p><p style=\"line-height:120%\">00:02 |   |   <bold>StationaryModel</bold>: Solving 2DProblem_CG for {mu: [0.33636363636363636]} ...</p><p style=\"line-height:120%\">00:02 |   |   <bold>StationaryModel</bold>: Solving 2DProblem_CG for {mu: [0.34545454545454546]} ...</p><p style=\"line-height:120%\">00:02 |   |   <bold>StationaryModel</bold>: Solving 2DProblem_CG for {mu: [0.3545454545454545]} ...</p><p style=\"line-height:120%\">00:02 |   |   <bold>StationaryModel</bold>: Solving 2DProblem_CG for {mu: [0.36363636363636365]} ...</p><p style=\"line-height:120%\">00:02 |   |   <bold>StationaryModel</bold>: Solving 2DProblem_CG for {mu: [0.3727272727272727]} ...</p><p style=\"line-height:120%\">00:02 |   |   <bold>StationaryModel</bold>: Solving 2DProblem_CG for {mu: [0.38181818181818183]} ...</p><p style=\"line-height:120%\">00:02 |   |   <bold>StationaryModel</bold>: Solving 2DProblem_CG for {mu: [0.3909090909090909]} ...</p><p style=\"line-height:120%\">00:02 |   |   <bold>StationaryModel</bold>: Solving 2DProblem_CG for {mu: [0.4]} ...</p><p style=\"line-height:120%\">00:02 |   |   <bold>StationaryModel</bold>: Solving 2DProblem_CG for {mu: [0.40909090909090906]} ...</p><p style=\"line-height:120%\">00:02 |   |   <bold>StationaryModel</bold>: Solving 2DProblem_CG for {mu: [0.4181818181818182]} ...</p><p style=\"line-height:120%\">00:02 |   |   <bold>StationaryModel</bold>: Solving 2DProblem_CG for {mu: [0.42727272727272725]} ...</p><p style=\"line-height:120%\">00:02 |   |   <bold>StationaryModel</bold>: Solving 2DProblem_CG for {mu: [0.4363636363636364]} ...</p><p style=\"line-height:120%\">00:02 |   |   <bold>StationaryModel</bold>: Solving 2DProblem_CG for {mu: [0.44545454545454544]} ...</p><p style=\"line-height:120%\">00:02 |   |   <bold>StationaryModel</bold>: Solving 2DProblem_CG for {mu: [0.4545454545454546]} ...</p><p style=\"line-height:120%\">00:02 |   |   <bold>StationaryModel</bold>: Solving 2DProblem_CG for {mu: [0.4636363636363636]} ...</p><p style=\"line-height:120%\">00:02 |   |   <bold>StationaryModel</bold>: Solving 2DProblem_CG for {mu: [0.47272727272727266]} ...</p><p style=\"line-height:120%\">00:02 |   |   <bold>StationaryModel</bold>: Solving 2DProblem_CG for {mu: [0.4818181818181818]} ...</p><p style=\"line-height:120%\">00:02 |   |   <bold>StationaryModel</bold>: Solving 2DProblem_CG for {mu: [0.49090909090909085]} ...</p><p style=\"line-height:120%\">00:02 |   |   <bold>StationaryModel</bold>: Solving 2DProblem_CG for {mu: [0.5]} ...</p><p style=\"line-height:120%\">00:02 |   |   <bold>StationaryModel</bold>: Solving 2DProblem_CG for {mu: [0.509090909090909]} ...</p><p style=\"line-height:120%\">00:02 |   |   <bold>StationaryModel</bold>: Solving 2DProblem_CG for {mu: [0.5181818181818182]} ...</p><p style=\"line-height:120%\">00:02 |   |   <bold>StationaryModel</bold>: Solving 2DProblem_CG for {mu: [0.5272727272727272]} ...</p><p style=\"line-height:120%\">00:02 |   |   <bold>StationaryModel</bold>: Solving 2DProblem_CG for {mu: [0.5363636363636364]} ...</p><p style=\"line-height:120%\">00:02 |   |   <bold>StationaryModel</bold>: Solving 2DProblem_CG for {mu: [0.5454545454545454]} ...</p><p style=\"line-height:120%\">00:02 |   |   <bold>StationaryModel</bold>: Solving 2DProblem_CG for {mu: [0.5545454545454546]} ...</p><p style=\"line-height:120%\">00:02 |   |   <bold>StationaryModel</bold>: Solving 2DProblem_CG for {mu: [0.5636363636363636]} ...</p><p style=\"line-height:120%\">00:02 |   |   <bold>StationaryModel</bold>: Solving 2DProblem_CG for {mu: [0.5727272727272728]} ...</p><p style=\"line-height:120%\">00:02 |   |   <bold>StationaryModel</bold>: Solving 2DProblem_CG for {mu: [0.5818181818181818]} ...</p><p style=\"line-height:120%\">00:02 |   |   <bold>StationaryModel</bold>: Solving 2DProblem_CG for {mu: [0.5909090909090909]} ...</p><p style=\"line-height:120%\">00:02 |   |   <bold>StationaryModel</bold>: Solving 2DProblem_CG for {mu: [0.6]} ...</p><p style=\"line-height:120%\">00:02 |   |   <bold>StationaryModel</bold>: Solving 2DProblem_CG for {mu: [0.609090909090909]} ...</p><p style=\"line-height:120%\">00:02 |   |   <bold>StationaryModel</bold>: Solving 2DProblem_CG for {mu: [0.6181818181818182]} ...</p><p style=\"line-height:120%\">00:02 |   |   <bold>StationaryModel</bold>: Solving 2DProblem_CG for {mu: [0.6272727272727272]} ...</p><p style=\"line-height:120%\">00:02 |   |   <bold>StationaryModel</bold>: Solving 2DProblem_CG for {mu: [0.6363636363636364]} ...</p><p style=\"line-height:120%\">00:02 |   |   <bold>StationaryModel</bold>: Solving 2DProblem_CG for {mu: [0.6454545454545454]} ...</p><p style=\"line-height:120%\">00:02 |   |   <bold>StationaryModel</bold>: Solving 2DProblem_CG for {mu: [0.6545454545454545]} ...</p><p style=\"line-height:120%\">00:02 |   |   <bold>StationaryModel</bold>: Solving 2DProblem_CG for {mu: [0.6636363636363636]} ...</p><p style=\"line-height:120%\">00:02 |   |   <bold>StationaryModel</bold>: Solving 2DProblem_CG for {mu: [0.6727272727272727]} ...</p><p style=\"line-height:120%\">00:02 |   |   <bold>StationaryModel</bold>: Solving 2DProblem_CG for {mu: [0.6818181818181818]} ...</p><p style=\"line-height:120%\">00:02 |   |   <bold>StationaryModel</bold>: Solving 2DProblem_CG for {mu: [0.6909090909090908]} ...</p><p style=\"line-height:120%\">00:02 |   |   <bold>StationaryModel</bold>: Solving 2DProblem_CG for {mu: [0.7]} ...</p><p style=\"line-height:120%\">00:02 |   |   <bold>StationaryModel</bold>: Solving 2DProblem_CG for {mu: [0.709090909090909]} ...</p><p style=\"line-height:120%\">00:02 |   |   <bold>StationaryModel</bold>: Solving 2DProblem_CG for {mu: [0.7181818181818181]} ...</p><p style=\"line-height:120%\">00:02 |   |   <bold>StationaryModel</bold>: Solving 2DProblem_CG for {mu: [0.7272727272727272]} ...</p><p style=\"line-height:120%\">00:02 |   |   <bold>StationaryModel</bold>: Solving 2DProblem_CG for {mu: [0.7363636363636363]} ...</p><p style=\"line-height:120%\">00:02 |   |   <bold>StationaryModel</bold>: Solving 2DProblem_CG for {mu: [0.7454545454545454]} ...</p><p style=\"line-height:120%\">00:02 |   |   <bold>StationaryModel</bold>: Solving 2DProblem_CG for {mu: [0.7545454545454545]} ...</p><p style=\"line-height:120%\">00:02 |   |   <bold>StationaryModel</bold>: Solving 2DProblem_CG for {mu: [0.7636363636363636]} ...</p><p style=\"line-height:120%\">00:02 |   |   <bold>StationaryModel</bold>: Solving 2DProblem_CG for {mu: [0.7727272727272727]} ...</p><p style=\"line-height:120%\">00:02 |   |   <bold>StationaryModel</bold>: Solving 2DProblem_CG for {mu: [0.7818181818181817]} ...</p><p style=\"line-height:120%\">00:02 |   |   <bold>StationaryModel</bold>: Solving 2DProblem_CG for {mu: [0.7909090909090909]} ...</p><p style=\"line-height:120%\">00:02 |   |   <bold>StationaryModel</bold>: Solving 2DProblem_CG for {mu: [0.7999999999999999]} ...</p><p style=\"line-height:120%\">00:02 |   |   <bold>StationaryModel</bold>: Solving 2DProblem_CG for {mu: [0.8090909090909091]} ...</p><p style=\"line-height:120%\">00:02 |   |   <bold>StationaryModel</bold>: Solving 2DProblem_CG for {mu: [0.8181818181818181]} ...</p><p style=\"line-height:120%\">00:02 |   |   <bold>StationaryModel</bold>: Solving 2DProblem_CG for {mu: [0.8272727272727273]} ...</p><p style=\"line-height:120%\">00:02 |   |   <bold>StationaryModel</bold>: Solving 2DProblem_CG for {mu: [0.8363636363636363]} ...</p><p style=\"line-height:120%\">00:02 |   |   <bold>StationaryModel</bold>: Solving 2DProblem_CG for {mu: [0.8454545454545453]} ...</p><p style=\"line-height:120%\">00:02 |   |   <bold>StationaryModel</bold>: Solving 2DProblem_CG for {mu: [0.8545454545454545]} ...</p><p style=\"line-height:120%\">00:02 |   |   <bold>StationaryModel</bold>: Solving 2DProblem_CG for {mu: [0.8636363636363635]} ...</p><p style=\"line-height:120%\">00:02 |   |   <bold>StationaryModel</bold>: Solving 2DProblem_CG for {mu: [0.8727272727272727]} ...</p><p style=\"line-height:120%\">00:03 |   |   <bold>StationaryModel</bold>: Solving 2DProblem_CG for {mu: [0.8818181818181817]} ...</p><p style=\"line-height:120%\">00:03 |   |   <bold>StationaryModel</bold>: Solving 2DProblem_CG for {mu: [0.8909090909090909]} ...</p><p style=\"line-height:120%\">00:03 |   |   <bold>StationaryModel</bold>: Solving 2DProblem_CG for {mu: [0.8999999999999999]} ...</p><p style=\"line-height:120%\">00:03 |   |   <bold>StationaryModel</bold>: Solving 2DProblem_CG for {mu: [0.9090909090909091]} ...</p><p style=\"line-height:120%\">00:03 |   |   <bold>StationaryModel</bold>: Solving 2DProblem_CG for {mu: [0.9181818181818181]} ...</p><p style=\"line-height:120%\">00:03 |   |   <bold>StationaryModel</bold>: Solving 2DProblem_CG for {mu: [0.9272727272727272]} ...</p><p style=\"line-height:120%\">00:03 |   |   <bold>StationaryModel</bold>: Solving 2DProblem_CG for {mu: [0.9363636363636363]} ...</p><p style=\"line-height:120%\">00:03 |   |   <bold>StationaryModel</bold>: Solving 2DProblem_CG for {mu: [0.9454545454545454]} ...</p><p style=\"line-height:120%\">00:03 |   |   <bold>StationaryModel</bold>: Solving 2DProblem_CG for {mu: [0.9545454545454545]} ...</p><p style=\"line-height:120%\">00:03 |   |   <bold>StationaryModel</bold>: Solving 2DProblem_CG for {mu: [0.9636363636363636]} ...</p><p style=\"line-height:120%\">00:03 |   |   <bold>StationaryModel</bold>: Solving 2DProblem_CG for {mu: [0.9727272727272727]} ...</p><p style=\"line-height:120%\">00:03 |   |   <bold>StationaryModel</bold>: Solving 2DProblem_CG for {mu: [0.9818181818181817]} ...</p><p style=\"line-height:120%\">00:03 |   |   <bold>StationaryModel</bold>: Solving 2DProblem_CG for {mu: [0.9909090909090909]} ...</p><p style=\"line-height:120%\">00:03 |   |   <bold>StationaryModel</bold>: Solving 2DProblem_CG for {mu: [1.0]} ...</p><p style=\"line-height:120%\">00:03 |   <bold>pod</bold>: Computing SVD ...</p><p style=\"line-height:120%\">00:03 |   |   <bold>method_of_snapshots</bold>: Computing Gramian (100 vectors) ...</p><p style=\"line-height:120%\">00:03 |   |   <bold>method_of_snapshots</bold>: Computing eigenvalue decomposition ...</p><p style=\"line-height:120%\">00:03 |   |   <bold>method_of_snapshots</bold>: Computing left-singular vectors (8 vectors) ...</p><p style=\"line-height:120%\">00:03 |   <bold>pod</bold>: Checking orthonormality ...</p><p style=\"line-height:120%\">00:03 |   <bold>pod</bold>: Reorthogonalizing POD modes ...</p><p style=\"line-height:120%\">00:03 <bold>NeuralNetworkReductor</bold>: Computing validation snapshots ...</p><p style=\"line-height:120%\">00:03 |   <bold>StationaryModel</bold>: Solving 2DProblem_CG for {mu: [0.4370861069626263]} ...</p><p style=\"line-height:120%\">00:03 |   <bold>StationaryModel</bold>: Solving 2DProblem_CG for {mu: [0.9556428757689246]} ...</p><p style=\"line-height:120%\">00:03 |   <bold>StationaryModel</bold>: Solving 2DProblem_CG for {mu: [0.7587945476302645]} ...</p><p style=\"line-height:120%\">00:03 |   <bold>StationaryModel</bold>: Solving 2DProblem_CG for {mu: [0.6387926357773329]} ...</p><p style=\"line-height:120%\">00:03 |   <bold>StationaryModel</bold>: Solving 2DProblem_CG for {mu: [0.24041677639819287]} ...</p><p style=\"line-height:120%\">00:03 |   <bold>StationaryModel</bold>: Solving 2DProblem_CG for {mu: [0.2403950683025824]} ...</p><p style=\"line-height:120%\">00:03 |   <bold>StationaryModel</bold>: Solving 2DProblem_CG for {mu: [0.15227525095137953]} ...</p><p style=\"line-height:120%\">00:03 |   <bold>StationaryModel</bold>: Solving 2DProblem_CG for {mu: [0.8795585311974417]} ...</p><p style=\"line-height:120%\">00:03 |   <bold>StationaryModel</bold>: Solving 2DProblem_CG for {mu: [0.6410035105688879]} ...</p><p style=\"line-height:120%\">00:03 |   <bold>StationaryModel</bold>: Solving 2DProblem_CG for {mu: [0.737265320016441]} ...</p><p style=\"line-height:120%\">00:03 |   <bold>StationaryModel</bold>: Solving 2DProblem_CG for {mu: [0.1185260448662222]} ...</p><p style=\"line-height:120%\">00:03 |   <bold>StationaryModel</bold>: Solving 2DProblem_CG for {mu: [0.9729188669457949]} ...</p><p style=\"line-height:120%\">00:03 |   <bold>StationaryModel</bold>: Solving 2DProblem_CG for {mu: [0.8491983767203796]} ...</p><p style=\"line-height:120%\">00:03 |   <bold>StationaryModel</bold>: Solving 2DProblem_CG for {mu: [0.29110519961044856]} ...</p><p style=\"line-height:120%\">00:03 |   <bold>StationaryModel</bold>: Solving 2DProblem_CG for {mu: [0.26364247048639056]} ...</p><p style=\"line-height:120%\">00:03 |   <bold>StationaryModel</bold>: Solving 2DProblem_CG for {mu: [0.2650640588680905]} ...</p><p style=\"line-height:120%\">00:03 |   <bold>StationaryModel</bold>: Solving 2DProblem_CG for {mu: [0.373818018663584]} ...</p><p style=\"line-height:120%\">00:03 |   <bold>StationaryModel</bold>: Solving 2DProblem_CG for {mu: [0.5722807884690141]} ...</p><p style=\"line-height:120%\">00:03 |   <bold>StationaryModel</bold>: Solving 2DProblem_CG for {mu: [0.48875051677790415]} ...</p><p style=\"line-height:120%\">00:03 |   <bold>StationaryModel</bold>: Solving 2DProblem_CG for {mu: [0.36210622617823773]} ...</p><p style=\"line-height:120%\">00:03 <bold>NeuralNetworkReductor</bold>: Performing 100 restarts for training ...</p><p style=\"line-height:120%\">00:03 |   <bold>NeuralNetworkReductor</bold>: Training the neural network ...</p><p style=\"line-height:120%\">00:03 |   |   <bold>FullyConnectedNN</bold>: Architecture of the neural network:\nFullyConnectedNN(\n  (layers): ModuleList(\n    (0): Linear(in_features=1, out_features=27, bias=True)\n    (1): Linear(in_features=27, out_features=27, bias=True)\n    (2): Linear(in_features=27, out_features=8, bias=True)\n  )\n)</p><p style=\"line-height:120%\">00:03 |   |   <bold>NeuralNetworkReductor</bold>: Starting optimization procedure ...</p><p style=\"line-height:120%\">00:10 |   |   <bold>NeuralNetworkReductor</bold>: Early stopping training process after 116 epochs ...</p><p style=\"line-height:120%\">00:10 |   |   <bold>NeuralNetworkReductor</bold>: Minimum validation loss: 1.4294901777981878e-05</p><p style=\"line-height:120%\">00:10 |   <bold>NeuralNetworkReductor</bold>: Checking tolerances for error of neural network ...</p><p style=\"line-height:120%\">00:10 |   <bold>NeuralNetworkReductor</bold>: Training the neural network ...</p><p style=\"line-height:120%\">00:10 |   |   <bold>FullyConnectedNN</bold>: Architecture of the neural network:\nFullyConnectedNN(\n  (layers): ModuleList(\n    (0): Linear(in_features=1, out_features=27, bias=True)\n    (1): Linear(in_features=27, out_features=27, bias=True)\n    (2): Linear(in_features=27, out_features=8, bias=True)\n  )\n)</p><p style=\"line-height:120%\">00:10 |   |   <bold>NeuralNetworkReductor</bold>: Starting optimization procedure ...</p><p style=\"line-height:120%\">00:20 |   |   <bold>NeuralNetworkReductor</bold>: Early stopping training process after 151 epochs ...</p><p style=\"line-height:120%\">00:20 |   |   <bold>NeuralNetworkReductor</bold>: Minimum validation loss: 0.00015195638204677342</p><p style=\"line-height:120%\">00:20 |   <bold>NeuralNetworkReductor</bold>: Training the neural network ...</p><p style=\"line-height:120%\">00:20 |   |   <bold>FullyConnectedNN</bold>: Architecture of the neural network:\nFullyConnectedNN(\n  (layers): ModuleList(\n    (0): Linear(in_features=1, out_features=27, bias=True)\n    (1): Linear(in_features=27, out_features=27, bias=True)\n    (2): Linear(in_features=27, out_features=8, bias=True)\n  )\n)</p><p style=\"line-height:120%\">00:20 |   |   <bold>NeuralNetworkReductor</bold>: Starting optimization procedure ...</p><p style=\"line-height:120%\">00:29 |   |   <bold>NeuralNetworkReductor</bold>: Early stopping training process after 146 epochs ...</p><p style=\"line-height:120%\">00:29 |   |   <bold>NeuralNetworkReductor</bold>: Minimum validation loss: 9.370015207633071e-05</p><p style=\"line-height:120%\">00:29 |   <bold>NeuralNetworkReductor</bold>: Training the neural network ...</p><p style=\"line-height:120%\">00:29 |   |   <bold>FullyConnectedNN</bold>: Architecture of the neural network:\nFullyConnectedNN(\n  (layers): ModuleList(\n    (0): Linear(in_features=1, out_features=27, bias=True)\n    (1): Linear(in_features=27, out_features=27, bias=True)\n    (2): Linear(in_features=27, out_features=8, bias=True)\n  )\n)</p><p style=\"line-height:120%\">00:29 |   |   <bold>NeuralNetworkReductor</bold>: Starting optimization procedure ...</p><p style=\"line-height:120%\">00:30 |   |   <bold>NeuralNetworkReductor</bold>: Early stopping training process after 12 epochs ...</p><p style=\"line-height:120%\">00:30 |   |   <bold>NeuralNetworkReductor</bold>: Minimum validation loss: 93.82761248981257</p><p style=\"line-height:120%\">00:30 |   <bold>NeuralNetworkReductor</bold>: Training the neural network ...</p><p style=\"line-height:120%\">00:30 |   |   <bold>FullyConnectedNN</bold>: Architecture of the neural network:\nFullyConnectedNN(\n  (layers): ModuleList(\n    (0): Linear(in_features=1, out_features=27, bias=True)\n    (1): Linear(in_features=27, out_features=27, bias=True)\n    (2): Linear(in_features=27, out_features=8, bias=True)\n  )\n)</p><p style=\"line-height:120%\">00:30 |   |   <bold>NeuralNetworkReductor</bold>: Starting optimization procedure ...</p><p style=\"line-height:120%\">00:30 |   |   <bold>NeuralNetworkReductor</bold>: Early stopping training process after 12 epochs ...</p><p style=\"line-height:120%\">00:30 |   |   <bold>NeuralNetworkReductor</bold>: Minimum validation loss: 94.91496515328726</p><p style=\"line-height:120%\">00:30 |   <bold>NeuralNetworkReductor</bold>: Training the neural network ...</p><p style=\"line-height:120%\">00:30 |   |   <bold>FullyConnectedNN</bold>: Architecture of the neural network:\nFullyConnectedNN(\n  (layers): ModuleList(\n    (0): Linear(in_features=1, out_features=27, bias=True)\n    (1): Linear(in_features=27, out_features=27, bias=True)\n    (2): Linear(in_features=27, out_features=8, bias=True)\n  )\n)</p><p style=\"line-height:120%\">00:30 |   |   <bold>NeuralNetworkReductor</bold>: Starting optimization procedure ...</p><p style=\"line-height:120%\">00:30 |   |   <bold>NeuralNetworkReductor</bold>: Early stopping training process after 13 epochs ...</p><p style=\"line-height:120%\">00:30 |   |   <bold>NeuralNetworkReductor</bold>: Minimum validation loss: 18.515340385978284</p><p style=\"line-height:120%\">00:30 |   <bold>NeuralNetworkReductor</bold>: Training the neural network ...</p><p style=\"line-height:120%\">00:30 |   |   <bold>FullyConnectedNN</bold>: Architecture of the neural network:\nFullyConnectedNN(\n  (layers): ModuleList(\n    (0): Linear(in_features=1, out_features=27, bias=True)\n    (1): Linear(in_features=27, out_features=27, bias=True)\n    (2): Linear(in_features=27, out_features=8, bias=True)\n  )\n)</p><p style=\"line-height:120%\">00:30 |   |   <bold>NeuralNetworkReductor</bold>: Starting optimization procedure ...</p><p style=\"line-height:120%\">00:30 |   |   <bold>NeuralNetworkReductor</bold>: Early stopping training process after 11 epochs ...</p><p style=\"line-height:120%\">00:30 |   |   <bold>NeuralNetworkReductor</bold>: Minimum validation loss: 70.19835433712724</p><p style=\"line-height:120%\">00:30 |   <bold>NeuralNetworkReductor</bold>: Training the neural network ...</p><p style=\"line-height:120%\">00:30 |   |   <bold>FullyConnectedNN</bold>: Architecture of the neural network:\nFullyConnectedNN(\n  (layers): ModuleList(\n    (0): Linear(in_features=1, out_features=27, bias=True)\n    (1): Linear(in_features=27, out_features=27, bias=True)\n    (2): Linear(in_features=27, out_features=8, bias=True)\n  )\n)</p><p style=\"line-height:120%\">00:30 |   |   <bold>NeuralNetworkReductor</bold>: Starting optimization procedure ...</p><p style=\"line-height:120%\">00:30 |   |   <bold>NeuralNetworkReductor</bold>: Early stopping training process after 16 epochs ...</p><p style=\"line-height:120%\">00:30 |   |   <bold>NeuralNetworkReductor</bold>: Minimum validation loss: 1.388411953954837</p><p style=\"line-height:120%\">00:30 |   <bold>NeuralNetworkReductor</bold>: Training the neural network ...</p><p style=\"line-height:120%\">00:30 |   |   <bold>FullyConnectedNN</bold>: Architecture of the neural network:\nFullyConnectedNN(\n  (layers): ModuleList(\n    (0): Linear(in_features=1, out_features=27, bias=True)\n    (1): Linear(in_features=27, out_features=27, bias=True)\n    (2): Linear(in_features=27, out_features=8, bias=True)\n  )\n)</p><p style=\"line-height:120%\">00:30 |   |   <bold>NeuralNetworkReductor</bold>: Starting optimization procedure ...</p><p style=\"line-height:120%\">00:31 |   |   <bold>NeuralNetworkReductor</bold>: Early stopping training process after 14 epochs ...</p><p style=\"line-height:120%\">00:31 |   |   <bold>NeuralNetworkReductor</bold>: Minimum validation loss: 20.615326332187646</p><p style=\"line-height:120%\">00:31 |   <bold>NeuralNetworkReductor</bold>: Training the neural network ...</p><p style=\"line-height:120%\">00:31 |   |   <bold>FullyConnectedNN</bold>: Architecture of the neural network:\nFullyConnectedNN(\n  (layers): ModuleList(\n    (0): Linear(in_features=1, out_features=27, bias=True)\n    (1): Linear(in_features=27, out_features=27, bias=True)\n    (2): Linear(in_features=27, out_features=8, bias=True)\n  )\n)</p><p style=\"line-height:120%\">00:31 |   |   <bold>NeuralNetworkReductor</bold>: Starting optimization procedure ...</p><p style=\"line-height:120%\">00:31 |   |   <bold>NeuralNetworkReductor</bold>: Early stopping training process after 12 epochs ...</p><p style=\"line-height:120%\">00:31 |   |   <bold>NeuralNetworkReductor</bold>: Minimum validation loss: 94.25087145094588</p><p style=\"line-height:120%\">00:31 |   <bold>NeuralNetworkReductor</bold>: Training the neural network ...</p><p style=\"line-height:120%\">00:31 |   |   <bold>FullyConnectedNN</bold>: Architecture of the neural network:\nFullyConnectedNN(\n  (layers): ModuleList(\n    (0): Linear(in_features=1, out_features=27, bias=True)\n    (1): Linear(in_features=27, out_features=27, bias=True)\n    (2): Linear(in_features=27, out_features=8, bias=True)\n  )\n)</p><p style=\"line-height:120%\">00:31 |   |   <bold>NeuralNetworkReductor</bold>: Starting optimization procedure ...</p><p style=\"line-height:120%\">00:31 |   |   <bold>NeuralNetworkReductor</bold>: Early stopping training process after 11 epochs ...</p><p style=\"line-height:120%\">00:31 |   |   <bold>NeuralNetworkReductor</bold>: Minimum validation loss: 94.78558293486057</p><p style=\"line-height:120%\">00:31 |   <bold>NeuralNetworkReductor</bold>: Training the neural network ...</p><p style=\"line-height:120%\">00:31 |   |   <bold>FullyConnectedNN</bold>: Architecture of the neural network:\nFullyConnectedNN(\n  (layers): ModuleList(\n    (0): Linear(in_features=1, out_features=27, bias=True)\n    (1): Linear(in_features=27, out_features=27, bias=True)\n    (2): Linear(in_features=27, out_features=8, bias=True)\n  )\n)</p><p style=\"line-height:120%\">00:31 |   |   <bold>NeuralNetworkReductor</bold>: Starting optimization procedure ...</p><p style=\"line-height:120%\">00:35 |   |   <bold>NeuralNetworkReductor</bold>: Early stopping training process after 68 epochs ...</p><p style=\"line-height:120%\">00:35 |   |   <bold>NeuralNetworkReductor</bold>: Minimum validation loss: 5.675013665261789e-06</p><p style=\"line-height:120%\">00:35 |   <bold>NeuralNetworkReductor</bold>: Checking tolerances for error of neural network ...</p><p style=\"line-height:120%\">00:35 |   |   <bold>NeuralNetworkReductor</bold>: Aborting training after 11 restarts ...</p><p style=\"line-height:120%\">00:35 |   |   <bold>NeuralNetworkReductor</bold>: Building ROM ...</p>"
      }
     },
     "ce1c43103f3a445ba6f3954fb6a5482b": {
      "model_module": "@jupyter-widgets/base",
      "model_module_version": "1.2.0",
      "model_name": "LayoutModel",
      "state": {
       "_model_module": "@jupyter-widgets/base",
       "_model_module_version": "1.2.0",
       "_model_name": "LayoutModel",
       "_view_count": null,
       "_view_module": "@jupyter-widgets/base",
       "_view_module_version": "1.2.0",
       "_view_name": "LayoutView",
       "align_content": null,
       "align_items": null,
       "align_self": null,
       "border": null,
       "bottom": null,
       "display": null,
       "flex": null,
       "flex_flow": null,
       "grid_area": null,
       "grid_auto_columns": null,
       "grid_auto_flow": null,
       "grid_auto_rows": null,
       "grid_column": null,
       "grid_gap": null,
       "grid_row": null,
       "grid_template_areas": null,
       "grid_template_columns": null,
       "grid_template_rows": null,
       "height": "16em",
       "justify_content": null,
       "justify_items": null,
       "left": null,
       "margin": null,
       "max_height": null,
       "max_width": null,
       "min_height": null,
       "min_width": null,
       "object_fit": null,
       "object_position": null,
       "order": null,
       "overflow": null,
       "overflow_x": null,
       "overflow_y": "auto",
       "padding": null,
       "right": null,
       "top": null,
       "visibility": null,
       "width": "100%"
      }
     },
     "d5627d0dc9b047e2b660d67dc9df94f8": {
      "model_module": "@jupyter-widgets/controls",
      "model_module_version": "1.5.0",
      "model_name": "HTMLModel",
      "state": {
       "_dom_classes": [],
       "_model_module": "@jupyter-widgets/controls",
       "_model_module_version": "1.5.0",
       "_model_name": "HTMLModel",
       "_view_count": null,
       "_view_module": "@jupyter-widgets/controls",
       "_view_module_version": "1.5.0",
       "_view_name": "HTMLView",
       "description": "",
       "description_tooltip": null,
       "layout": "IPY_MODEL_163990292af944c6a19f7d59c9f4f124",
       "placeholder": "​",
       "style": "IPY_MODEL_50cba254e95e4bf1b21369df02dc9522",
       "value": ""
      }
     },
     "d87a615a95c2492dab63878f340ffc43": {
      "model_module": "@jupyter-widgets/controls",
      "model_module_version": "1.5.0",
      "model_name": "AccordionModel",
      "state": {
       "_dom_classes": [],
       "_model_module": "@jupyter-widgets/controls",
       "_model_module_version": "1.5.0",
       "_model_name": "AccordionModel",
       "_titles": {
        "0": "Log Output"
       },
       "_view_count": null,
       "_view_module": "@jupyter-widgets/controls",
       "_view_module_version": "1.5.0",
       "_view_name": "AccordionView",
       "box_style": "",
       "children": [
        "IPY_MODEL_5801a09323cb48ada8cef7af924eb77d"
       ],
       "layout": "IPY_MODEL_6d982af2ea454f7f80863c12a40d6d69",
       "selected_index": null
      }
     },
     "da4efce763b24e3eb19a007dd4d4ea65": {
      "model_module": "@jupyter-widgets/controls",
      "model_module_version": "1.5.0",
      "model_name": "HTMLModel",
      "state": {
       "_dom_classes": [],
       "_model_module": "@jupyter-widgets/controls",
       "_model_module_version": "1.5.0",
       "_model_name": "HTMLModel",
       "_view_count": null,
       "_view_module": "@jupyter-widgets/controls",
       "_view_module_version": "1.5.0",
       "_view_name": "HTMLView",
       "description": "",
       "description_tooltip": null,
       "layout": "IPY_MODEL_ce1c43103f3a445ba6f3954fb6a5482b",
       "placeholder": "​",
       "style": "IPY_MODEL_1187cdba72e64e04a78a86cecb642b4a",
       "value": "<p style=\"line-height:120%\">00:36 <bold>StationaryModel</bold>: Solving 2DProblem_CG for {mu: [0.22554447458683766]} ...</p><p style=\"line-height:120%\">00:36 <bold>NeuralNetworkModel</bold>: Solving 2DProblem_CG_reduced for {mu: [0.22554447458683766]} ...</p><p style=\"line-height:120%\">00:36 <bold>StationaryModel</bold>: Solving 2DProblem_CG for {mu: [0.3629301836816964]} ...</p><p style=\"line-height:120%\">00:36 <bold>NeuralNetworkModel</bold>: Solving 2DProblem_CG_reduced for {mu: [0.3629301836816964]} ...</p><p style=\"line-height:120%\">00:36 <bold>StationaryModel</bold>: Solving 2DProblem_CG for {mu: [0.4297256589643226]} ...</p><p style=\"line-height:120%\">00:36 <bold>NeuralNetworkModel</bold>: Solving 2DProblem_CG_reduced for {mu: [0.4297256589643226]} ...</p><p style=\"line-height:120%\">00:36 <bold>StationaryModel</bold>: Solving 2DProblem_CG for {mu: [0.5104629857953323]} ...</p><p style=\"line-height:120%\">00:36 <bold>NeuralNetworkModel</bold>: Solving 2DProblem_CG_reduced for {mu: [0.5104629857953323]} ...</p><p style=\"line-height:120%\">00:36 <bold>StationaryModel</bold>: Solving 2DProblem_CG for {mu: [0.8066583652537123]} ...</p><p style=\"line-height:120%\">00:36 <bold>NeuralNetworkModel</bold>: Solving 2DProblem_CG_reduced for {mu: [0.8066583652537123]} ...</p><p style=\"line-height:120%\">00:36 <bold>StationaryModel</bold>: Solving 2DProblem_CG for {mu: [0.2797064039425238]} ...</p><p style=\"line-height:120%\">00:36 <bold>NeuralNetworkModel</bold>: Solving 2DProblem_CG_reduced for {mu: [0.2797064039425238]} ...</p><p style=\"line-height:120%\">00:36 <bold>StationaryModel</bold>: Solving 2DProblem_CG for {mu: [0.5628109945722505]} ...</p><p style=\"line-height:120%\">00:36 <bold>NeuralNetworkModel</bold>: Solving 2DProblem_CG_reduced for {mu: [0.5628109945722505]} ...</p><p style=\"line-height:120%\">00:36 <bold>StationaryModel</bold>: Solving 2DProblem_CG for {mu: [0.6331731119758383]} ...</p><p style=\"line-height:120%\">00:36 <bold>NeuralNetworkModel</bold>: Solving 2DProblem_CG_reduced for {mu: [0.6331731119758383]} ...</p><p style=\"line-height:120%\">00:36 <bold>StationaryModel</bold>: Solving 2DProblem_CG for {mu: [0.14180537144799796]} ...</p><p style=\"line-height:120%\">00:36 <bold>NeuralNetworkModel</bold>: Solving 2DProblem_CG_reduced for {mu: [0.14180537144799796]} ...</p><p style=\"line-height:120%\">00:36 <bold>StationaryModel</bold>: Solving 2DProblem_CG for {mu: [0.6467903667112945]} ...</p><p style=\"line-height:120%\">00:36 <bold>NeuralNetworkModel</bold>: Solving 2DProblem_CG_reduced for {mu: [0.6467903667112945]} ...</p>"
      }
     },
     "dd902339101f4df1bd11a0c97d8cd687": {
      "model_module": "@jupyter-widgets/controls",
      "model_module_version": "1.5.0",
      "model_name": "HTMLModel",
      "state": {
       "_dom_classes": [],
       "_model_module": "@jupyter-widgets/controls",
       "_model_module_version": "1.5.0",
       "_model_name": "HTMLModel",
       "_view_count": null,
       "_view_module": "@jupyter-widgets/controls",
       "_view_module_version": "1.5.0",
       "_view_name": "HTMLView",
       "description": "",
       "description_tooltip": null,
       "layout": "IPY_MODEL_90342149c1c44bca80e5471d84843125",
       "placeholder": "​",
       "style": "IPY_MODEL_e0aa986edcf148c0bc060a1f45706eae",
       "value": ""
      }
     },
     "e0aa986edcf148c0bc060a1f45706eae": {
      "model_module": "@jupyter-widgets/controls",
      "model_module_version": "1.5.0",
      "model_name": "DescriptionStyleModel",
      "state": {
       "_model_module": "@jupyter-widgets/controls",
       "_model_module_version": "1.5.0",
       "_model_name": "DescriptionStyleModel",
       "_view_count": null,
       "_view_module": "@jupyter-widgets/base",
       "_view_module_version": "1.2.0",
       "_view_name": "StyleView",
       "description_width": ""
      }
     },
     "e8684df02016467b9ff1b66242c474ed": {
      "model_module": "@jupyter-widgets/controls",
      "model_module_version": "1.5.0",
      "model_name": "DescriptionStyleModel",
      "state": {
       "_model_module": "@jupyter-widgets/controls",
       "_model_module_version": "1.5.0",
       "_model_name": "DescriptionStyleModel",
       "_view_count": null,
       "_view_module": "@jupyter-widgets/base",
       "_view_module_version": "1.2.0",
       "_view_name": "StyleView",
       "description_width": ""
      }
     },
     "ec125d8e957e46fcb4fc85dda65e1ae5": {
      "model_module": "@jupyter-widgets/controls",
      "model_module_version": "1.5.0",
      "model_name": "AccordionModel",
      "state": {
       "_dom_classes": [],
       "_model_module": "@jupyter-widgets/controls",
       "_model_module_version": "1.5.0",
       "_model_name": "AccordionModel",
       "_titles": {
        "0": "Log Output"
       },
       "_view_count": null,
       "_view_module": "@jupyter-widgets/controls",
       "_view_module_version": "1.5.0",
       "_view_name": "AccordionView",
       "box_style": "",
       "children": [
        "IPY_MODEL_bde55b2a4af24d4a97fcf31ea6e34570"
       ],
       "layout": "IPY_MODEL_a64d4d81dc034c9089b13660095e2044",
       "selected_index": null
      }
     },
     "ec5a13d038614cfd9fca0658ce1ff4ab": {
      "model_module": "@jupyter-widgets/base",
      "model_module_version": "1.2.0",
      "model_name": "LayoutModel",
      "state": {
       "_model_module": "@jupyter-widgets/base",
       "_model_module_version": "1.2.0",
       "_model_name": "LayoutModel",
       "_view_count": null,
       "_view_module": "@jupyter-widgets/base",
       "_view_module_version": "1.2.0",
       "_view_name": "LayoutView",
       "align_content": null,
       "align_items": null,
       "align_self": null,
       "border": null,
       "bottom": null,
       "display": null,
       "flex": null,
       "flex_flow": null,
       "grid_area": null,
       "grid_auto_columns": null,
       "grid_auto_flow": null,
       "grid_auto_rows": null,
       "grid_column": null,
       "grid_gap": null,
       "grid_row": null,
       "grid_template_areas": null,
       "grid_template_columns": null,
       "grid_template_rows": null,
       "height": null,
       "justify_content": null,
       "justify_items": null,
       "left": null,
       "margin": null,
       "max_height": null,
       "max_width": null,
       "min_height": null,
       "min_width": null,
       "object_fit": null,
       "object_position": null,
       "order": null,
       "overflow": null,
       "overflow_x": null,
       "overflow_y": null,
       "padding": null,
       "right": null,
       "top": null,
       "visibility": null,
       "width": null
      }
     },
     "f306e5d1d25842a6982ce34ce4a042c4": {
      "model_module": "@jupyter-widgets/controls",
      "model_module_version": "1.5.0",
      "model_name": "DescriptionStyleModel",
      "state": {
       "_model_module": "@jupyter-widgets/controls",
       "_model_module_version": "1.5.0",
       "_model_name": "DescriptionStyleModel",
       "_view_count": null,
       "_view_module": "@jupyter-widgets/base",
       "_view_module_version": "1.2.0",
       "_view_name": "StyleView",
       "description_width": ""
      }
     },
     "f6e481fa23a44f44b6ea6010cbceed0a": {
      "model_module": "@jupyter-widgets/controls",
      "model_module_version": "1.5.0",
      "model_name": "AccordionModel",
      "state": {
       "_dom_classes": [],
       "_model_module": "@jupyter-widgets/controls",
       "_model_module_version": "1.5.0",
       "_model_name": "AccordionModel",
       "_titles": {
        "0": "Log Output"
       },
       "_view_count": null,
       "_view_module": "@jupyter-widgets/controls",
       "_view_module_version": "1.5.0",
       "_view_name": "AccordionView",
       "box_style": "",
       "children": [
        "IPY_MODEL_d5627d0dc9b047e2b660d67dc9df94f8"
       ],
       "layout": "IPY_MODEL_44e59d382642408681eb389d2914b339",
       "selected_index": null
      }
     },
     "f7a4f8723b5545bd957c7802bd29ae79": {
      "model_module": "@jupyter-widgets/base",
      "model_module_version": "1.2.0",
      "model_name": "LayoutModel",
      "state": {
       "_model_module": "@jupyter-widgets/base",
       "_model_module_version": "1.2.0",
       "_model_name": "LayoutModel",
       "_view_count": null,
       "_view_module": "@jupyter-widgets/base",
       "_view_module_version": "1.2.0",
       "_view_name": "LayoutView",
       "align_content": null,
       "align_items": null,
       "align_self": null,
       "border": null,
       "bottom": null,
       "display": null,
       "flex": null,
       "flex_flow": null,
       "grid_area": null,
       "grid_auto_columns": null,
       "grid_auto_flow": null,
       "grid_auto_rows": null,
       "grid_column": null,
       "grid_gap": null,
       "grid_row": null,
       "grid_template_areas": null,
       "grid_template_columns": null,
       "grid_template_rows": null,
       "height": "16em",
       "justify_content": null,
       "justify_items": null,
       "left": null,
       "margin": null,
       "max_height": null,
       "max_width": null,
       "min_height": null,
       "min_width": null,
       "object_fit": null,
       "object_position": null,
       "order": null,
       "overflow": null,
       "overflow_x": null,
       "overflow_y": "auto",
       "padding": null,
       "right": null,
       "top": null,
       "visibility": null,
       "width": "100%"
      }
     },
     "f8ed7aef6447436d81479c3be3138a69": {
      "model_module": "@jupyter-widgets/controls",
      "model_module_version": "1.5.0",
      "model_name": "AccordionModel",
      "state": {
       "_dom_classes": [],
       "_model_module": "@jupyter-widgets/controls",
       "_model_module_version": "1.5.0",
       "_model_name": "AccordionModel",
       "_titles": {
        "0": "Log Output"
       },
       "_view_count": null,
       "_view_module": "@jupyter-widgets/controls",
       "_view_module_version": "1.5.0",
       "_view_name": "AccordionView",
       "box_style": "",
       "children": [
        "IPY_MODEL_19a4d7c76f724341a58d67b17cfdb153"
       ],
       "layout": "IPY_MODEL_bd38e1475afa4aae9dc365198567d4e4",
       "selected_index": null
      }
     }
    },
    "version_major": 2,
    "version_minor": 0
   }
  }
 },
 "nbformat": 4,
 "nbformat_minor": 4
}
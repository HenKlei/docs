{
 "cells": [
  {
   "cell_type": "code",
   "execution_count": 1,
   "metadata": {
    "execution": {
     "iopub.execute_input": "2020-11-24T08:39:23.864276Z",
     "iopub.status.busy": "2020-11-24T08:39:23.863542Z",
     "iopub.status.idle": "2020-11-24T08:39:23.937030Z",
     "shell.execute_reply": "2020-11-24T08:39:23.937699Z"
    }
   },
   "outputs": [],
   "source": [
    "from pymor.basic import *\n",
    "from pymor.core.logger import set_log_levels\n",
    "set_log_levels({'pymor.algorithms.greedy': 'ERROR', 'pymor.algorithms.gram_schmidt.gram_schmidt': 'ERROR', 'pymor.algorithms.image.estimate_image_hierarchical': 'ERROR'})"
   ]
  },
  {
   "cell_type": "code",
   "execution_count": 2,
   "metadata": {
    "execution": {
     "iopub.execute_input": "2020-11-24T08:39:23.940533Z",
     "iopub.status.busy": "2020-11-24T08:39:23.939671Z",
     "iopub.status.idle": "2020-11-24T08:39:23.963825Z",
     "shell.execute_reply": "2020-11-24T08:39:23.964442Z"
    }
   },
   "outputs": [],
   "source": [
    "p = thermal_block_problem(num_blocks=(3, 2))"
   ]
  },
  {
   "cell_type": "code",
   "execution_count": 3,
   "metadata": {
    "execution": {
     "iopub.execute_input": "2020-11-24T08:39:23.967212Z",
     "iopub.status.busy": "2020-11-24T08:39:23.966343Z",
     "iopub.status.idle": "2020-11-24T08:39:24.279360Z",
     "shell.execute_reply": "2020-11-24T08:39:24.280003Z"
    }
   },
   "outputs": [
    {
     "data": {
      "application/vnd.jupyter.widget-view+json": {
       "model_id": "e37f2d74a97f4d02961013d9fe4d4065",
       "version_major": 2,
       "version_minor": 0
      },
      "text/plain": [
       "Accordion(children=(HTML(value='', layout=Layout(height='16em', overflow_y='auto', width='100%')),), selected_…"
      ]
     },
     "metadata": {},
     "output_type": "display_data"
    }
   ],
   "source": [
    "fom, fom_data = discretize_stationary_cg(p, diameter=1./50.)"
   ]
  },
  {
   "cell_type": "code",
   "execution_count": 4,
   "metadata": {
    "execution": {
     "iopub.execute_input": "2020-11-24T08:39:24.282725Z",
     "iopub.status.busy": "2020-11-24T08:39:24.281865Z",
     "iopub.status.idle": "2020-11-24T08:39:24.305144Z",
     "shell.execute_reply": "2020-11-24T08:39:24.305770Z"
    }
   },
   "outputs": [
    {
     "name": "stdout",
     "output_type": "stream",
     "text": [
      "Tria-Grid on domain [0,1] x [0,1]\n",
      "x0-intervals: 50, x1-intervals: 50\n",
      "elements: 10000, edges: 15100, vertices: 5101\n"
     ]
    }
   ],
   "source": [
    "print(fom_data['grid'])"
   ]
  },
  {
   "cell_type": "code",
   "execution_count": 5,
   "metadata": {
    "execution": {
     "iopub.execute_input": "2020-11-24T08:39:24.308553Z",
     "iopub.status.busy": "2020-11-24T08:39:24.307694Z",
     "iopub.status.idle": "2020-11-24T08:39:24.845890Z",
     "shell.execute_reply": "2020-11-24T08:39:24.843854Z"
    }
   },
   "outputs": [
    {
     "data": {
      "application/vnd.jupyter.widget-view+json": {
       "model_id": "27a18eace7b14ac999a9cbd0e995b352",
       "version_major": 2,
       "version_minor": 0
      },
      "text/plain": [
       "Accordion(children=(HTML(value='', layout=Layout(height='16em', overflow_y='auto', width='100%')),), selected_…"
      ]
     },
     "metadata": {},
     "output_type": "display_data"
    },
    {
     "data": {
      "application/vnd.jupyter.widget-view+json": {
       "model_id": "991d467ede3d41f180d22227fcc9377f",
       "version_major": 2,
       "version_minor": 0
      },
      "text/plain": [
       "Output()"
      ]
     },
     "metadata": {},
     "output_type": "display_data"
    }
   ],
   "source": [
    "U = fom.solve([1.0, 0.1, 0.3, 0.1, 0.2, 1.0])\n",
    "fom.visualize(U, title='Solution')"
   ]
  },
  {
   "cell_type": "code",
   "execution_count": 6,
   "metadata": {
    "execution": {
     "iopub.execute_input": "2020-11-24T08:39:24.863284Z",
     "iopub.status.busy": "2020-11-24T08:39:24.862820Z",
     "iopub.status.idle": "2020-11-24T08:39:24.871807Z",
     "shell.execute_reply": "2020-11-24T08:39:24.871392Z"
    }
   },
   "outputs": [
    {
     "name": "stdout",
     "output_type": "stream",
     "text": [
      "{diffusion: 6}\n"
     ]
    }
   ],
   "source": [
    "print(fom.parameters)"
   ]
  },
  {
   "cell_type": "code",
   "execution_count": 7,
   "metadata": {
    "execution": {
     "iopub.execute_input": "2020-11-24T08:39:24.888932Z",
     "iopub.status.busy": "2020-11-24T08:39:24.888293Z",
     "iopub.status.idle": "2020-11-24T08:39:24.895647Z",
     "shell.execute_reply": "2020-11-24T08:39:24.895231Z"
    }
   },
   "outputs": [],
   "source": [
    "reductor = CoerciveRBReductor(\n",
    "    fom,\n",
    "    product=fom.h1_0_semi_product,\n",
    "    coercivity_estimator=ExpressionParameterFunctional('min(diffusion)', fom.parameters)\n",
    ")"
   ]
  },
  {
   "cell_type": "code",
   "execution_count": 8,
   "metadata": {
    "execution": {
     "iopub.execute_input": "2020-11-24T08:39:24.931303Z",
     "iopub.status.busy": "2020-11-24T08:39:24.915802Z",
     "iopub.status.idle": "2020-11-24T08:39:24.968202Z",
     "shell.execute_reply": "2020-11-24T08:39:24.967770Z"
    }
   },
   "outputs": [
    {
     "name": "stdout",
     "output_type": "stream",
     "text": [
      "{diffusion: [0.1, 0.1, 0.1, 0.1, 0.1, 0.1]}\n"
     ]
    }
   ],
   "source": [
    "training_set = p.parameter_space.sample_uniformly(4)\n",
    "print(training_set[0])"
   ]
  },
  {
   "cell_type": "code",
   "execution_count": 9,
   "metadata": {
    "execution": {
     "iopub.execute_input": "2020-11-24T08:39:24.985344Z",
     "iopub.status.busy": "2020-11-24T08:39:24.984838Z",
     "iopub.status.idle": "2020-11-24T08:40:44.761733Z",
     "shell.execute_reply": "2020-11-24T08:40:44.762133Z"
    }
   },
   "outputs": [
    {
     "data": {
      "application/vnd.jupyter.widget-view+json": {
       "model_id": "85a316b695a74997af5a9f44968a427c",
       "version_major": 2,
       "version_minor": 0
      },
      "text/plain": [
       "Accordion(children=(HTML(value='', layout=Layout(height='16em', overflow_y='auto', width='100%')),), selected_…"
      ]
     },
     "metadata": {},
     "output_type": "display_data"
    }
   ],
   "source": [
    "greedy_data = rb_greedy(fom, reductor, training_set, max_extensions=32)"
   ]
  },
  {
   "cell_type": "code",
   "execution_count": 10,
   "metadata": {
    "execution": {
     "iopub.execute_input": "2020-11-24T08:40:44.780040Z",
     "iopub.status.busy": "2020-11-24T08:40:44.779458Z",
     "iopub.status.idle": "2020-11-24T08:40:44.786630Z",
     "shell.execute_reply": "2020-11-24T08:40:44.786201Z"
    }
   },
   "outputs": [
    {
     "name": "stdout",
     "output_type": "stream",
     "text": [
      "dict_keys(['max_errs', 'max_err_mus', 'extensions', 'time', 'rom'])\n"
     ]
    }
   ],
   "source": [
    "print(greedy_data.keys())"
   ]
  },
  {
   "cell_type": "code",
   "execution_count": 11,
   "metadata": {
    "execution": {
     "iopub.execute_input": "2020-11-24T08:40:44.805481Z",
     "iopub.status.busy": "2020-11-24T08:40:44.804608Z",
     "iopub.status.idle": "2020-11-24T08:40:44.816100Z",
     "shell.execute_reply": "2020-11-24T08:40:44.807519Z"
    }
   },
   "outputs": [],
   "source": [
    "rom = greedy_data['rom']"
   ]
  },
  {
   "cell_type": "code",
   "execution_count": 12,
   "metadata": {
    "execution": {
     "iopub.execute_input": "2020-11-24T08:40:44.833708Z",
     "iopub.status.busy": "2020-11-24T08:40:44.833205Z",
     "iopub.status.idle": "2020-11-24T08:40:44.841101Z",
     "shell.execute_reply": "2020-11-24T08:40:44.841772Z"
    }
   },
   "outputs": [
    {
     "name": "stdout",
     "output_type": "stream",
     "text": [
      "<class 'pymor.vectorarrays.numpy.NumpyVectorArray'>\n",
      "32\n",
      "5101\n"
     ]
    }
   ],
   "source": [
    "RB = reductor.bases['RB']\n",
    "print(type(RB))\n",
    "print(len(RB))\n",
    "print(RB.dim)"
   ]
  },
  {
   "cell_type": "code",
   "execution_count": 13,
   "metadata": {
    "execution": {
     "iopub.execute_input": "2020-11-24T08:40:44.858677Z",
     "iopub.status.busy": "2020-11-24T08:40:44.858185Z",
     "iopub.status.idle": "2020-11-24T08:40:44.872020Z",
     "shell.execute_reply": "2020-11-24T08:40:44.872652Z"
    }
   },
   "outputs": [
    {
     "name": "stdout",
     "output_type": "stream",
     "text": [
      "1.478851763270228e-15\n"
     ]
    }
   ],
   "source": [
    "import numpy as np\n",
    "gram_matrix = RB.gramian(fom.h1_0_semi_product)\n",
    "print(np.max(np.abs(gram_matrix - np.eye(32))))"
   ]
  },
  {
   "cell_type": "code",
   "execution_count": 14,
   "metadata": {
    "execution": {
     "iopub.execute_input": "2020-11-24T08:40:44.875480Z",
     "iopub.status.busy": "2020-11-24T08:40:44.874644Z",
     "iopub.status.idle": "2020-11-24T08:40:44.903699Z",
     "shell.execute_reply": "2020-11-24T08:40:44.904350Z"
    }
   },
   "outputs": [
    {
     "name": "stdout",
     "output_type": "stream",
     "text": [
      "[[ 0.56008169  0.19410562  0.00463453  0.01675562  0.04900982  0.07760119\n",
      "  -0.08043888 -0.02889488 -0.03121126  0.26467367  0.13991773 -0.09805741\n",
      "   0.16005484  0.04417512 -0.05245844 -0.00132281 -0.01304436  0.01330245\n",
      "  -0.02185056  0.00625769 -0.00868736 -0.00115484  0.01895446 -0.00153234\n",
      "   0.02306277  0.0035532   0.01061803 -0.00225572  0.00199581 -0.0068476\n",
      "   0.00186538  0.0047302 ]]\n",
      "5101\n"
     ]
    }
   ],
   "source": [
    "u = rom.solve([1.0, 0.1, 0.3, 0.1, 0.2, 1.0])\n",
    "print(u)\n",
    "U_red = reductor.reconstruct(u)\n",
    "print(U_red.dim)"
   ]
  },
  {
   "cell_type": "code",
   "execution_count": 15,
   "metadata": {
    "execution": {
     "iopub.execute_input": "2020-11-24T08:40:44.907056Z",
     "iopub.status.busy": "2020-11-24T08:40:44.906214Z",
     "iopub.status.idle": "2020-11-24T08:40:46.396142Z",
     "shell.execute_reply": "2020-11-24T08:40:46.396780Z"
    }
   },
   "outputs": [
    {
     "name": "stdout",
     "output_type": "stream",
     "text": [
      "[0.00480011]\n"
     ]
    },
    {
     "data": {
      "application/vnd.jupyter.widget-view+json": {
       "model_id": "4f3dcd9a2c61429eb46cf17c26da09a1",
       "version_major": 2,
       "version_minor": 0
      },
      "text/plain": [
       "Output()"
      ]
     },
     "metadata": {},
     "output_type": "display_data"
    }
   ],
   "source": [
    "ERR = U - U_red\n",
    "print(ERR.norm(fom.h1_0_semi_product))\n",
    "fom.visualize((U, U_red, ERR),\n",
    "              legend=('Detailed', 'Reduced', 'Error'),\n",
    "              separate_colorbars=True)"
   ]
  }
 ],
 "metadata": {
  "kernelspec": {
   "display_name": "Python 3",
   "language": "python",
   "name": "python3"
  },
  "language_info": {
   "codemirror_mode": {
    "name": "ipython",
    "version": 3
   },
   "file_extension": ".py",
   "mimetype": "text/x-python",
   "name": "python",
   "nbconvert_exporter": "python",
   "pygments_lexer": "ipython3",
   "version": "3.7.9"
  },
  "widgets": {
   "application/vnd.jupyter.widget-state+json": {
    "state": {
     "064ce0e2cc6e43b9ad760e9ab7cfed63": {
      "model_module": "@jupyter-widgets/controls",
      "model_module_version": "1.5.0",
      "model_name": "AccordionModel",
      "state": {
       "_dom_classes": [],
       "_model_module": "@jupyter-widgets/controls",
       "_model_module_version": "1.5.0",
       "_model_name": "AccordionModel",
       "_titles": {
        "0": "Log Output"
       },
       "_view_count": null,
       "_view_module": "@jupyter-widgets/controls",
       "_view_module_version": "1.5.0",
       "_view_name": "AccordionView",
       "box_style": "",
       "children": [
        "IPY_MODEL_87acdf0158ef44b5840993729a04defd"
       ],
       "layout": "IPY_MODEL_ced4173761d94486b366770404361a03",
       "selected_index": null
      }
     },
     "0bfbe7706df14bd4ac29269f719b3218": {
      "model_module": "@jupyter-widgets/base",
      "model_module_version": "1.2.0",
      "model_name": "LayoutModel",
      "state": {
       "_model_module": "@jupyter-widgets/base",
       "_model_module_version": "1.2.0",
       "_model_name": "LayoutModel",
       "_view_count": null,
       "_view_module": "@jupyter-widgets/base",
       "_view_module_version": "1.2.0",
       "_view_name": "LayoutView",
       "align_content": null,
       "align_items": null,
       "align_self": null,
       "border": null,
       "bottom": null,
       "display": null,
       "flex": null,
       "flex_flow": null,
       "grid_area": null,
       "grid_auto_columns": null,
       "grid_auto_flow": null,
       "grid_auto_rows": null,
       "grid_column": null,
       "grid_gap": null,
       "grid_row": null,
       "grid_template_areas": null,
       "grid_template_columns": null,
       "grid_template_rows": null,
       "height": null,
       "justify_content": null,
       "justify_items": null,
       "left": null,
       "margin": null,
       "max_height": null,
       "max_width": null,
       "min_height": null,
       "min_width": null,
       "object_fit": null,
       "object_position": null,
       "order": null,
       "overflow": null,
       "overflow_x": null,
       "overflow_y": null,
       "padding": null,
       "right": null,
       "top": null,
       "visibility": null,
       "width": null
      }
     },
     "0e274fcc4997479bad5faef78a08654d": {
      "model_module": "@jupyter-widgets/base",
      "model_module_version": "1.2.0",
      "model_name": "LayoutModel",
      "state": {
       "_model_module": "@jupyter-widgets/base",
       "_model_module_version": "1.2.0",
       "_model_name": "LayoutModel",
       "_view_count": null,
       "_view_module": "@jupyter-widgets/base",
       "_view_module_version": "1.2.0",
       "_view_name": "LayoutView",
       "align_content": null,
       "align_items": null,
       "align_self": null,
       "border": null,
       "bottom": null,
       "display": null,
       "flex": null,
       "flex_flow": null,
       "grid_area": null,
       "grid_auto_columns": null,
       "grid_auto_flow": null,
       "grid_auto_rows": null,
       "grid_column": null,
       "grid_gap": null,
       "grid_row": null,
       "grid_template_areas": null,
       "grid_template_columns": null,
       "grid_template_rows": null,
       "height": "16em",
       "justify_content": null,
       "justify_items": null,
       "left": null,
       "margin": null,
       "max_height": null,
       "max_width": null,
       "min_height": null,
       "min_width": null,
       "object_fit": null,
       "object_position": null,
       "order": null,
       "overflow": null,
       "overflow_x": null,
       "overflow_y": "auto",
       "padding": null,
       "right": null,
       "top": null,
       "visibility": null,
       "width": "100%"
      }
     },
     "146fb2bcadd948d7acc2a4b88abac905": {
      "model_module": "@jupyter-widgets/controls",
      "model_module_version": "1.5.0",
      "model_name": "HTMLModel",
      "state": {
       "_dom_classes": [],
       "_model_module": "@jupyter-widgets/controls",
       "_model_module_version": "1.5.0",
       "_model_name": "HTMLModel",
       "_view_count": null,
       "_view_module": "@jupyter-widgets/controls",
       "_view_module_version": "1.5.0",
       "_view_name": "HTMLView",
       "description": "",
       "description_tooltip": null,
       "layout": "IPY_MODEL_32524d1d2cc34b0cb2d41f0df91d2951",
       "placeholder": "​",
       "style": "IPY_MODEL_a9e9617ba3954b4dbb2deed884a677a9",
       "value": "<p style=\"line-height:120%\">00:01 <bold>StationaryModel</bold>: Solving ThermalBlock((3, 2))_CG for {diffusion: [1.0, 0.1, 0.3, 0.1, 0.2, 1.0]} ...</p>"
      }
     },
     "14903a9636b2423881bb88b744b2f428": {
      "model_module": "@jupyter-widgets/base",
      "model_module_version": "1.2.0",
      "model_name": "LayoutModel",
      "state": {
       "_model_module": "@jupyter-widgets/base",
       "_model_module_version": "1.2.0",
       "_model_name": "LayoutModel",
       "_view_count": null,
       "_view_module": "@jupyter-widgets/base",
       "_view_module_version": "1.2.0",
       "_view_name": "LayoutView",
       "align_content": null,
       "align_items": null,
       "align_self": null,
       "border": null,
       "bottom": null,
       "display": null,
       "flex": null,
       "flex_flow": null,
       "grid_area": null,
       "grid_auto_columns": null,
       "grid_auto_flow": null,
       "grid_auto_rows": null,
       "grid_column": null,
       "grid_gap": null,
       "grid_row": null,
       "grid_template_areas": null,
       "grid_template_columns": null,
       "grid_template_rows": null,
       "height": null,
       "justify_content": null,
       "justify_items": null,
       "left": null,
       "margin": null,
       "max_height": null,
       "max_width": null,
       "min_height": null,
       "min_width": null,
       "object_fit": null,
       "object_position": null,
       "order": null,
       "overflow": null,
       "overflow_x": null,
       "overflow_y": null,
       "padding": null,
       "right": null,
       "top": null,
       "visibility": null,
       "width": null
      }
     },
     "20aa2e12bb3141d08e49a9f61bbef8f2": {
      "model_module": "@jupyter-widgets/controls",
      "model_module_version": "1.5.0",
      "model_name": "DescriptionStyleModel",
      "state": {
       "_model_module": "@jupyter-widgets/controls",
       "_model_module_version": "1.5.0",
       "_model_name": "DescriptionStyleModel",
       "_view_count": null,
       "_view_module": "@jupyter-widgets/base",
       "_view_module_version": "1.2.0",
       "_view_name": "StyleView",
       "description_width": ""
      }
     },
     "27a18eace7b14ac999a9cbd0e995b352": {
      "model_module": "@jupyter-widgets/controls",
      "model_module_version": "1.5.0",
      "model_name": "AccordionModel",
      "state": {
       "_dom_classes": [],
       "_model_module": "@jupyter-widgets/controls",
       "_model_module_version": "1.5.0",
       "_model_name": "AccordionModel",
       "_titles": {
        "0": "Log Output"
       },
       "_view_count": null,
       "_view_module": "@jupyter-widgets/controls",
       "_view_module_version": "1.5.0",
       "_view_name": "AccordionView",
       "box_style": "",
       "children": [
        "IPY_MODEL_146fb2bcadd948d7acc2a4b88abac905"
       ],
       "layout": "IPY_MODEL_47d7fcebe6d346c39194de796d059c30",
       "selected_index": null
      }
     },
     "2e350c0950ed467183896921047633f5": {
      "model_module": "@jupyter-widgets/controls",
      "model_module_version": "1.5.0",
      "model_name": "DescriptionStyleModel",
      "state": {
       "_model_module": "@jupyter-widgets/controls",
       "_model_module_version": "1.5.0",
       "_model_name": "DescriptionStyleModel",
       "_view_count": null,
       "_view_module": "@jupyter-widgets/base",
       "_view_module_version": "1.2.0",
       "_view_name": "StyleView",
       "description_width": ""
      }
     },
     "32524d1d2cc34b0cb2d41f0df91d2951": {
      "model_module": "@jupyter-widgets/base",
      "model_module_version": "1.2.0",
      "model_name": "LayoutModel",
      "state": {
       "_model_module": "@jupyter-widgets/base",
       "_model_module_version": "1.2.0",
       "_model_name": "LayoutModel",
       "_view_count": null,
       "_view_module": "@jupyter-widgets/base",
       "_view_module_version": "1.2.0",
       "_view_name": "LayoutView",
       "align_content": null,
       "align_items": null,
       "align_self": null,
       "border": null,
       "bottom": null,
       "display": null,
       "flex": null,
       "flex_flow": null,
       "grid_area": null,
       "grid_auto_columns": null,
       "grid_auto_flow": null,
       "grid_auto_rows": null,
       "grid_column": null,
       "grid_gap": null,
       "grid_row": null,
       "grid_template_areas": null,
       "grid_template_columns": null,
       "grid_template_rows": null,
       "height": "16em",
       "justify_content": null,
       "justify_items": null,
       "left": null,
       "margin": null,
       "max_height": null,
       "max_width": null,
       "min_height": null,
       "min_width": null,
       "object_fit": null,
       "object_position": null,
       "order": null,
       "overflow": null,
       "overflow_x": null,
       "overflow_y": "auto",
       "padding": null,
       "right": null,
       "top": null,
       "visibility": null,
       "width": "100%"
      }
     },
     "34c0fc102b8a4e6d80d03d8568639a6d": {
      "model_module": "@jupyter-widgets/controls",
      "model_module_version": "1.5.0",
      "model_name": "AccordionModel",
      "state": {
       "_dom_classes": [],
       "_model_module": "@jupyter-widgets/controls",
       "_model_module_version": "1.5.0",
       "_model_name": "AccordionModel",
       "_titles": {
        "0": "Log Output"
       },
       "_view_count": null,
       "_view_module": "@jupyter-widgets/controls",
       "_view_module_version": "1.5.0",
       "_view_name": "AccordionView",
       "box_style": "",
       "children": [
        "IPY_MODEL_99ddac117feb476f94706fc24dd902c9"
       ],
       "layout": "IPY_MODEL_fdd0072bab0446a19efae186db169440",
       "selected_index": null
      }
     },
     "3662cb80586148dc9c2bbd55c12987ae": {
      "model_module": "@jupyter-widgets/controls",
      "model_module_version": "1.5.0",
      "model_name": "AccordionModel",
      "state": {
       "_dom_classes": [],
       "_model_module": "@jupyter-widgets/controls",
       "_model_module_version": "1.5.0",
       "_model_name": "AccordionModel",
       "_titles": {
        "0": "Log Output"
       },
       "_view_count": null,
       "_view_module": "@jupyter-widgets/controls",
       "_view_module_version": "1.5.0",
       "_view_name": "AccordionView",
       "box_style": "",
       "children": [
        "IPY_MODEL_7e599ae227f14f169d77723e703e6d94"
       ],
       "layout": "IPY_MODEL_9368eb7fd453437a8dd1795d80f0ebfa",
       "selected_index": null
      }
     },
     "38ec412a23cd4b089f8797003161566c": {
      "model_module": "@jupyter-widgets/base",
      "model_module_version": "1.2.0",
      "model_name": "LayoutModel",
      "state": {
       "_model_module": "@jupyter-widgets/base",
       "_model_module_version": "1.2.0",
       "_model_name": "LayoutModel",
       "_view_count": null,
       "_view_module": "@jupyter-widgets/base",
       "_view_module_version": "1.2.0",
       "_view_name": "LayoutView",
       "align_content": null,
       "align_items": null,
       "align_self": null,
       "border": null,
       "bottom": null,
       "display": null,
       "flex": null,
       "flex_flow": null,
       "grid_area": null,
       "grid_auto_columns": null,
       "grid_auto_flow": null,
       "grid_auto_rows": null,
       "grid_column": null,
       "grid_gap": null,
       "grid_row": null,
       "grid_template_areas": null,
       "grid_template_columns": null,
       "grid_template_rows": null,
       "height": null,
       "justify_content": null,
       "justify_items": null,
       "left": null,
       "margin": null,
       "max_height": null,
       "max_width": null,
       "min_height": null,
       "min_width": null,
       "object_fit": null,
       "object_position": null,
       "order": null,
       "overflow": null,
       "overflow_x": null,
       "overflow_y": null,
       "padding": null,
       "right": null,
       "top": null,
       "visibility": null,
       "width": null
      }
     },
     "3a11c1aea2524d6a85b966681f3fdeb5": {
      "model_module": "@jupyter-widgets/controls",
      "model_module_version": "1.5.0",
      "model_name": "DescriptionStyleModel",
      "state": {
       "_model_module": "@jupyter-widgets/controls",
       "_model_module_version": "1.5.0",
       "_model_name": "DescriptionStyleModel",
       "_view_count": null,
       "_view_module": "@jupyter-widgets/base",
       "_view_module_version": "1.2.0",
       "_view_name": "StyleView",
       "description_width": ""
      }
     },
     "3aa8eacf71244e128c0b8812a29149ad": {
      "model_module": "@jupyter-widgets/controls",
      "model_module_version": "1.5.0",
      "model_name": "HTMLModel",
      "state": {
       "_dom_classes": [],
       "_model_module": "@jupyter-widgets/controls",
       "_model_module_version": "1.5.0",
       "_model_name": "HTMLModel",
       "_view_count": null,
       "_view_module": "@jupyter-widgets/controls",
       "_view_module_version": "1.5.0",
       "_view_name": "HTMLView",
       "description": "",
       "description_tooltip": null,
       "layout": "IPY_MODEL_fbfd87eba5c741ce96604288e5e849bc",
       "placeholder": "​",
       "style": "IPY_MODEL_70f897dd2ee044de8c6e8326e79313e3",
       "value": "<p style=\"line-height:120%\">00:00 <bold>DiffusionOperatorP1</bold>: Calculate gradients of shape functions transformed by reference map ...</p><p style=\"line-height:120%\">00:00 <bold>DiffusionOperatorP1</bold>: Calculate all local scalar products between gradients ...</p><p style=\"line-height:120%\">00:00 <bold>DiffusionOperatorP1</bold>: Determine global dofs ...</p><p style=\"line-height:120%\">00:00 <bold>DiffusionOperatorP1</bold>: Boundary treatment ...</p><p style=\"line-height:120%\">00:00 <bold>DiffusionOperatorP1</bold>: Assemble system matrix ...</p><p style=\"line-height:120%\">00:00 <bold>DiffusionOperatorP1</bold>: Calculate gradients of shape functions transformed by reference map ...</p><p style=\"line-height:120%\">00:00 <bold>DiffusionOperatorP1</bold>: Calculate all local scalar products between gradients ...</p><p style=\"line-height:120%\">00:00 <bold>DiffusionOperatorP1</bold>: Determine global dofs ...</p><p style=\"line-height:120%\">00:00 <bold>DiffusionOperatorP1</bold>: Boundary treatment ...</p><p style=\"line-height:120%\">00:00 <bold>DiffusionOperatorP1</bold>: Assemble system matrix ...</p><p style=\"line-height:120%\">00:00 <bold>DiffusionOperatorP1</bold>: Calculate gradients of shape functions transformed by reference map ...</p><p style=\"line-height:120%\">00:00 <bold>DiffusionOperatorP1</bold>: Calculate all local scalar products between gradients ...</p><p style=\"line-height:120%\">00:00 <bold>DiffusionOperatorP1</bold>: Determine global dofs ...</p><p style=\"line-height:120%\">00:00 <bold>DiffusionOperatorP1</bold>: Boundary treatment ...</p><p style=\"line-height:120%\">00:00 <bold>DiffusionOperatorP1</bold>: Assemble system matrix ...</p><p style=\"line-height:120%\">00:00 <bold>DiffusionOperatorP1</bold>: Calculate gradients of shape functions transformed by reference map ...</p><p style=\"line-height:120%\">00:00 <bold>DiffusionOperatorP1</bold>: Calculate all local scalar products between gradients ...</p><p style=\"line-height:120%\">00:00 <bold>DiffusionOperatorP1</bold>: Determine global dofs ...</p><p style=\"line-height:120%\">00:00 <bold>DiffusionOperatorP1</bold>: Boundary treatment ...</p><p style=\"line-height:120%\">00:00 <bold>DiffusionOperatorP1</bold>: Assemble system matrix ...</p><p style=\"line-height:120%\">00:00 <bold>DiffusionOperatorP1</bold>: Calculate gradients of shape functions transformed by reference map ...</p><p style=\"line-height:120%\">00:00 <bold>DiffusionOperatorP1</bold>: Calculate all local scalar products between gradients ...</p><p style=\"line-height:120%\">00:01 <bold>DiffusionOperatorP1</bold>: Determine global dofs ...</p><p style=\"line-height:120%\">00:01 <bold>DiffusionOperatorP1</bold>: Boundary treatment ...</p><p style=\"line-height:120%\">00:01 <bold>DiffusionOperatorP1</bold>: Assemble system matrix ...</p><p style=\"line-height:120%\">00:01 <bold>DiffusionOperatorP1</bold>: Calculate gradients of shape functions transformed by reference map ...</p><p style=\"line-height:120%\">00:01 <bold>DiffusionOperatorP1</bold>: Calculate all local scalar products between gradients ...</p><p style=\"line-height:120%\">00:01 <bold>DiffusionOperatorP1</bold>: Determine global dofs ...</p><p style=\"line-height:120%\">00:01 <bold>DiffusionOperatorP1</bold>: Boundary treatment ...</p><p style=\"line-height:120%\">00:01 <bold>DiffusionOperatorP1</bold>: Assemble system matrix ...</p><p style=\"line-height:120%\">00:01 <bold>DiffusionOperatorP1</bold>: Calculate gradients of shape functions transformed by reference map ...</p><p style=\"line-height:120%\">00:01 <bold>DiffusionOperatorP1</bold>: Calculate all local scalar products between gradients ...</p><p style=\"line-height:120%\">00:01 <bold>DiffusionOperatorP1</bold>: Determine global dofs ...</p><p style=\"line-height:120%\">00:01 <bold>DiffusionOperatorP1</bold>: Boundary treatment ...</p><p style=\"line-height:120%\">00:01 <bold>DiffusionOperatorP1</bold>: Assemble system matrix ...</p><p style=\"line-height:120%\">00:01 <bold>L2ProductP1</bold>: Integrate the products of the shape functions on each element</p><p style=\"line-height:120%\">00:01 <bold>L2ProductP1</bold>: Determine global dofs ...</p><p style=\"line-height:120%\">00:01 <bold>L2ProductP1</bold>: Boundary treatment ...</p><p style=\"line-height:120%\">00:01 <bold>L2ProductP1</bold>: Assemble system matrix ...</p><p style=\"line-height:120%\">00:01 <bold>DiffusionOperatorP1</bold>: Calculate gradients of shape functions transformed by reference map ...</p><p style=\"line-height:120%\">00:01 <bold>DiffusionOperatorP1</bold>: Calculate all local scalar products between gradients ...</p><p style=\"line-height:120%\">00:01 <bold>DiffusionOperatorP1</bold>: Determine global dofs ...</p><p style=\"line-height:120%\">00:01 <bold>DiffusionOperatorP1</bold>: Boundary treatment ...</p><p style=\"line-height:120%\">00:01 <bold>DiffusionOperatorP1</bold>: Assemble system matrix ...</p><p style=\"line-height:120%\">00:01 <bold>L2ProductP1</bold>: Integrate the products of the shape functions on each element</p><p style=\"line-height:120%\">00:01 <bold>L2ProductP1</bold>: Determine global dofs ...</p><p style=\"line-height:120%\">00:01 <bold>L2ProductP1</bold>: Boundary treatment ...</p><p style=\"line-height:120%\">00:01 <bold>L2ProductP1</bold>: Assemble system matrix ...</p><p style=\"line-height:120%\">00:01 <bold>DiffusionOperatorP1</bold>: Calculate gradients of shape functions transformed by reference map ...</p><p style=\"line-height:120%\">00:01 <bold>DiffusionOperatorP1</bold>: Calculate all local scalar products between gradients ...</p><p style=\"line-height:120%\">00:01 <bold>DiffusionOperatorP1</bold>: Determine global dofs ...</p><p style=\"line-height:120%\">00:01 <bold>DiffusionOperatorP1</bold>: Boundary treatment ...</p><p style=\"line-height:120%\">00:01 <bold>DiffusionOperatorP1</bold>: Assemble system matrix ...</p>"
      }
     },
     "3df81d8860504dbb9177bba0eed71f96": {
      "model_module": "@jupyter-widgets/base",
      "model_module_version": "1.2.0",
      "model_name": "LayoutModel",
      "state": {
       "_model_module": "@jupyter-widgets/base",
       "_model_module_version": "1.2.0",
       "_model_name": "LayoutModel",
       "_view_count": null,
       "_view_module": "@jupyter-widgets/base",
       "_view_module_version": "1.2.0",
       "_view_name": "LayoutView",
       "align_content": null,
       "align_items": null,
       "align_self": null,
       "border": null,
       "bottom": null,
       "display": null,
       "flex": null,
       "flex_flow": null,
       "grid_area": null,
       "grid_auto_columns": null,
       "grid_auto_flow": null,
       "grid_auto_rows": null,
       "grid_column": null,
       "grid_gap": null,
       "grid_row": null,
       "grid_template_areas": null,
       "grid_template_columns": null,
       "grid_template_rows": null,
       "height": null,
       "justify_content": null,
       "justify_items": null,
       "left": null,
       "margin": null,
       "max_height": null,
       "max_width": null,
       "min_height": null,
       "min_width": null,
       "object_fit": null,
       "object_position": null,
       "order": null,
       "overflow": null,
       "overflow_x": null,
       "overflow_y": null,
       "padding": null,
       "right": null,
       "top": null,
       "visibility": null,
       "width": null
      }
     },
     "444a24b9c92047ff959eafcca908d074": {
      "model_module": "@jupyter-widgets/controls",
      "model_module_version": "1.5.0",
      "model_name": "AccordionModel",
      "state": {
       "_dom_classes": [],
       "_model_module": "@jupyter-widgets/controls",
       "_model_module_version": "1.5.0",
       "_model_name": "AccordionModel",
       "_titles": {
        "0": "Log Output"
       },
       "_view_count": null,
       "_view_module": "@jupyter-widgets/controls",
       "_view_module_version": "1.5.0",
       "_view_name": "AccordionView",
       "box_style": "",
       "children": [
        "IPY_MODEL_88afbbc084514240b0d6cc3c7cff2e51"
       ],
       "layout": "IPY_MODEL_5b935d83f1b74e8794c73ed26075a406",
       "selected_index": null
      }
     },
     "44f39219acf9490da4983c6827ae36c4": {
      "model_module": "@jupyter-widgets/controls",
      "model_module_version": "1.5.0",
      "model_name": "HTMLModel",
      "state": {
       "_dom_classes": [],
       "_model_module": "@jupyter-widgets/controls",
       "_model_module_version": "1.5.0",
       "_model_name": "HTMLModel",
       "_view_count": null,
       "_view_module": "@jupyter-widgets/controls",
       "_view_module_version": "1.5.0",
       "_view_name": "HTMLView",
       "description": "",
       "description_tooltip": null,
       "layout": "IPY_MODEL_a478e878a5d0400d9e1cb5a2c37df1d9",
       "placeholder": "​",
       "style": "IPY_MODEL_88f04b24f5914bbeb0217f685696b8e9",
       "value": ""
      }
     },
     "47d7fcebe6d346c39194de796d059c30": {
      "model_module": "@jupyter-widgets/base",
      "model_module_version": "1.2.0",
      "model_name": "LayoutModel",
      "state": {
       "_model_module": "@jupyter-widgets/base",
       "_model_module_version": "1.2.0",
       "_model_name": "LayoutModel",
       "_view_count": null,
       "_view_module": "@jupyter-widgets/base",
       "_view_module_version": "1.2.0",
       "_view_name": "LayoutView",
       "align_content": null,
       "align_items": null,
       "align_self": null,
       "border": null,
       "bottom": null,
       "display": null,
       "flex": null,
       "flex_flow": null,
       "grid_area": null,
       "grid_auto_columns": null,
       "grid_auto_flow": null,
       "grid_auto_rows": null,
       "grid_column": null,
       "grid_gap": null,
       "grid_row": null,
       "grid_template_areas": null,
       "grid_template_columns": null,
       "grid_template_rows": null,
       "height": null,
       "justify_content": null,
       "justify_items": null,
       "left": null,
       "margin": null,
       "max_height": null,
       "max_width": null,
       "min_height": null,
       "min_width": null,
       "object_fit": null,
       "object_position": null,
       "order": null,
       "overflow": null,
       "overflow_x": null,
       "overflow_y": null,
       "padding": null,
       "right": null,
       "top": null,
       "visibility": null,
       "width": null
      }
     },
     "4f3dcd9a2c61429eb46cf17c26da09a1": {
      "model_module": "@jupyter-widgets/output",
      "model_module_version": "1.0.0",
      "model_name": "OutputModel",
      "state": {
       "_dom_classes": [],
       "_model_module": "@jupyter-widgets/output",
       "_model_module_version": "1.0.0",
       "_model_name": "OutputModel",
       "_view_count": null,
       "_view_module": "@jupyter-widgets/output",
       "_view_module_version": "1.0.0",
       "_view_name": "OutputView",
       "layout": "IPY_MODEL_14903a9636b2423881bb88b744b2f428",
       "msg_id": "",
       "outputs": [
        {
         "data": {
          "image/png": "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\n",
          "text/plain": "<Figure size 432x288 with 2 Axes>"
         },
         "metadata": {
          "needs_background": "light"
         },
         "output_type": "display_data"
        },
        {
         "data": {
          "image/png": "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\n",
          "text/plain": "<Figure size 432x288 with 2 Axes>"
         },
         "metadata": {
          "needs_background": "light"
         },
         "output_type": "display_data"
        },
        {
         "data": {
          "image/png": "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\n",
          "text/plain": "<Figure size 432x288 with 2 Axes>"
         },
         "metadata": {
          "needs_background": "light"
         },
         "output_type": "display_data"
        }
       ]
      }
     },
     "506bbfe105da45988e314d97026063f4": {
      "model_module": "@jupyter-widgets/controls",
      "model_module_version": "1.5.0",
      "model_name": "HTMLModel",
      "state": {
       "_dom_classes": [],
       "_model_module": "@jupyter-widgets/controls",
       "_model_module_version": "1.5.0",
       "_model_name": "HTMLModel",
       "_view_count": null,
       "_view_module": "@jupyter-widgets/controls",
       "_view_module_version": "1.5.0",
       "_view_name": "HTMLView",
       "description": "",
       "description_tooltip": null,
       "layout": "IPY_MODEL_7f563ac389bc49f58c4cc04e658ad783",
       "placeholder": "​",
       "style": "IPY_MODEL_90f17c33e9b1476698724058900cb7ba",
       "value": ""
      }
     },
     "51d4a5fbc55740fb8a125eca89d52897": {
      "model_module": "@jupyter-widgets/base",
      "model_module_version": "1.2.0",
      "model_name": "LayoutModel",
      "state": {
       "_model_module": "@jupyter-widgets/base",
       "_model_module_version": "1.2.0",
       "_model_name": "LayoutModel",
       "_view_count": null,
       "_view_module": "@jupyter-widgets/base",
       "_view_module_version": "1.2.0",
       "_view_name": "LayoutView",
       "align_content": null,
       "align_items": null,
       "align_self": null,
       "border": null,
       "bottom": null,
       "display": null,
       "flex": null,
       "flex_flow": null,
       "grid_area": null,
       "grid_auto_columns": null,
       "grid_auto_flow": null,
       "grid_auto_rows": null,
       "grid_column": null,
       "grid_gap": null,
       "grid_row": null,
       "grid_template_areas": null,
       "grid_template_columns": null,
       "grid_template_rows": null,
       "height": "16em",
       "justify_content": null,
       "justify_items": null,
       "left": null,
       "margin": null,
       "max_height": null,
       "max_width": null,
       "min_height": null,
       "min_width": null,
       "object_fit": null,
       "object_position": null,
       "order": null,
       "overflow": null,
       "overflow_x": null,
       "overflow_y": "auto",
       "padding": null,
       "right": null,
       "top": null,
       "visibility": null,
       "width": "100%"
      }
     },
     "526c31b15f1d4ff591f77c81fc36dbc2": {
      "model_module": "@jupyter-widgets/controls",
      "model_module_version": "1.5.0",
      "model_name": "AccordionModel",
      "state": {
       "_dom_classes": [],
       "_model_module": "@jupyter-widgets/controls",
       "_model_module_version": "1.5.0",
       "_model_name": "AccordionModel",
       "_titles": {
        "0": "Log Output"
       },
       "_view_count": null,
       "_view_module": "@jupyter-widgets/controls",
       "_view_module_version": "1.5.0",
       "_view_name": "AccordionView",
       "box_style": "",
       "children": [
        "IPY_MODEL_44f39219acf9490da4983c6827ae36c4"
       ],
       "layout": "IPY_MODEL_0bfbe7706df14bd4ac29269f719b3218",
       "selected_index": null
      }
     },
     "535cf3b829704916b5b522ab3ef9f286": {
      "model_module": "@jupyter-widgets/controls",
      "model_module_version": "1.5.0",
      "model_name": "DescriptionStyleModel",
      "state": {
       "_model_module": "@jupyter-widgets/controls",
       "_model_module_version": "1.5.0",
       "_model_name": "DescriptionStyleModel",
       "_view_count": null,
       "_view_module": "@jupyter-widgets/base",
       "_view_module_version": "1.2.0",
       "_view_name": "StyleView",
       "description_width": ""
      }
     },
     "5ad2b9069088458783ce724c76c525da": {
      "model_module": "@jupyter-widgets/base",
      "model_module_version": "1.2.0",
      "model_name": "LayoutModel",
      "state": {
       "_model_module": "@jupyter-widgets/base",
       "_model_module_version": "1.2.0",
       "_model_name": "LayoutModel",
       "_view_count": null,
       "_view_module": "@jupyter-widgets/base",
       "_view_module_version": "1.2.0",
       "_view_name": "LayoutView",
       "align_content": null,
       "align_items": null,
       "align_self": null,
       "border": null,
       "bottom": null,
       "display": null,
       "flex": null,
       "flex_flow": null,
       "grid_area": null,
       "grid_auto_columns": null,
       "grid_auto_flow": null,
       "grid_auto_rows": null,
       "grid_column": null,
       "grid_gap": null,
       "grid_row": null,
       "grid_template_areas": null,
       "grid_template_columns": null,
       "grid_template_rows": null,
       "height": "16em",
       "justify_content": null,
       "justify_items": null,
       "left": null,
       "margin": null,
       "max_height": null,
       "max_width": null,
       "min_height": null,
       "min_width": null,
       "object_fit": null,
       "object_position": null,
       "order": null,
       "overflow": null,
       "overflow_x": null,
       "overflow_y": "auto",
       "padding": null,
       "right": null,
       "top": null,
       "visibility": null,
       "width": "100%"
      }
     },
     "5b935d83f1b74e8794c73ed26075a406": {
      "model_module": "@jupyter-widgets/base",
      "model_module_version": "1.2.0",
      "model_name": "LayoutModel",
      "state": {
       "_model_module": "@jupyter-widgets/base",
       "_model_module_version": "1.2.0",
       "_model_name": "LayoutModel",
       "_view_count": null,
       "_view_module": "@jupyter-widgets/base",
       "_view_module_version": "1.2.0",
       "_view_name": "LayoutView",
       "align_content": null,
       "align_items": null,
       "align_self": null,
       "border": null,
       "bottom": null,
       "display": null,
       "flex": null,
       "flex_flow": null,
       "grid_area": null,
       "grid_auto_columns": null,
       "grid_auto_flow": null,
       "grid_auto_rows": null,
       "grid_column": null,
       "grid_gap": null,
       "grid_row": null,
       "grid_template_areas": null,
       "grid_template_columns": null,
       "grid_template_rows": null,
       "height": null,
       "justify_content": null,
       "justify_items": null,
       "left": null,
       "margin": null,
       "max_height": null,
       "max_width": null,
       "min_height": null,
       "min_width": null,
       "object_fit": null,
       "object_position": null,
       "order": null,
       "overflow": null,
       "overflow_x": null,
       "overflow_y": null,
       "padding": null,
       "right": null,
       "top": null,
       "visibility": null,
       "width": null
      }
     },
     "691c1e8eb130438ab6439f953eb7ebef": {
      "model_module": "@jupyter-widgets/controls",
      "model_module_version": "1.5.0",
      "model_name": "DescriptionStyleModel",
      "state": {
       "_model_module": "@jupyter-widgets/controls",
       "_model_module_version": "1.5.0",
       "_model_name": "DescriptionStyleModel",
       "_view_count": null,
       "_view_module": "@jupyter-widgets/base",
       "_view_module_version": "1.2.0",
       "_view_name": "StyleView",
       "description_width": ""
      }
     },
     "6cabaacfff1b41abbfb7ccd4d8823e42": {
      "model_module": "@jupyter-widgets/controls",
      "model_module_version": "1.5.0",
      "model_name": "AccordionModel",
      "state": {
       "_dom_classes": [],
       "_model_module": "@jupyter-widgets/controls",
       "_model_module_version": "1.5.0",
       "_model_name": "AccordionModel",
       "_titles": {
        "0": "Log Output"
       },
       "_view_count": null,
       "_view_module": "@jupyter-widgets/controls",
       "_view_module_version": "1.5.0",
       "_view_name": "AccordionView",
       "box_style": "",
       "children": [
        "IPY_MODEL_7ce34dcf45fa4597b091a6b608d969d5"
       ],
       "layout": "IPY_MODEL_3df81d8860504dbb9177bba0eed71f96",
       "selected_index": null
      }
     },
     "6f37389231e949a587b685c4b11e3672": {
      "model_module": "@jupyter-widgets/base",
      "model_module_version": "1.2.0",
      "model_name": "LayoutModel",
      "state": {
       "_model_module": "@jupyter-widgets/base",
       "_model_module_version": "1.2.0",
       "_model_name": "LayoutModel",
       "_view_count": null,
       "_view_module": "@jupyter-widgets/base",
       "_view_module_version": "1.2.0",
       "_view_name": "LayoutView",
       "align_content": null,
       "align_items": null,
       "align_self": null,
       "border": null,
       "bottom": null,
       "display": null,
       "flex": null,
       "flex_flow": null,
       "grid_area": null,
       "grid_auto_columns": null,
       "grid_auto_flow": null,
       "grid_auto_rows": null,
       "grid_column": null,
       "grid_gap": null,
       "grid_row": null,
       "grid_template_areas": null,
       "grid_template_columns": null,
       "grid_template_rows": null,
       "height": null,
       "justify_content": null,
       "justify_items": null,
       "left": null,
       "margin": null,
       "max_height": null,
       "max_width": null,
       "min_height": null,
       "min_width": null,
       "object_fit": null,
       "object_position": null,
       "order": null,
       "overflow": null,
       "overflow_x": null,
       "overflow_y": null,
       "padding": null,
       "right": null,
       "top": null,
       "visibility": null,
       "width": null
      }
     },
     "70e487ccfcfc413cbd8bf48540f243a1": {
      "model_module": "@jupyter-widgets/base",
      "model_module_version": "1.2.0",
      "model_name": "LayoutModel",
      "state": {
       "_model_module": "@jupyter-widgets/base",
       "_model_module_version": "1.2.0",
       "_model_name": "LayoutModel",
       "_view_count": null,
       "_view_module": "@jupyter-widgets/base",
       "_view_module_version": "1.2.0",
       "_view_name": "LayoutView",
       "align_content": null,
       "align_items": null,
       "align_self": null,
       "border": null,
       "bottom": null,
       "display": null,
       "flex": null,
       "flex_flow": null,
       "grid_area": null,
       "grid_auto_columns": null,
       "grid_auto_flow": null,
       "grid_auto_rows": null,
       "grid_column": null,
       "grid_gap": null,
       "grid_row": null,
       "grid_template_areas": null,
       "grid_template_columns": null,
       "grid_template_rows": null,
       "height": "16em",
       "justify_content": null,
       "justify_items": null,
       "left": null,
       "margin": null,
       "max_height": null,
       "max_width": null,
       "min_height": null,
       "min_width": null,
       "object_fit": null,
       "object_position": null,
       "order": null,
       "overflow": null,
       "overflow_x": null,
       "overflow_y": "auto",
       "padding": null,
       "right": null,
       "top": null,
       "visibility": null,
       "width": "100%"
      }
     },
     "70f897dd2ee044de8c6e8326e79313e3": {
      "model_module": "@jupyter-widgets/controls",
      "model_module_version": "1.5.0",
      "model_name": "DescriptionStyleModel",
      "state": {
       "_model_module": "@jupyter-widgets/controls",
       "_model_module_version": "1.5.0",
       "_model_name": "DescriptionStyleModel",
       "_view_count": null,
       "_view_module": "@jupyter-widgets/base",
       "_view_module_version": "1.2.0",
       "_view_name": "StyleView",
       "description_width": ""
      }
     },
     "764b907d38ab43fc9223120d7d3d7d65": {
      "model_module": "@jupyter-widgets/controls",
      "model_module_version": "1.5.0",
      "model_name": "HTMLModel",
      "state": {
       "_dom_classes": [],
       "_model_module": "@jupyter-widgets/controls",
       "_model_module_version": "1.5.0",
       "_model_name": "HTMLModel",
       "_view_count": null,
       "_view_module": "@jupyter-widgets/controls",
       "_view_module_version": "1.5.0",
       "_view_name": "HTMLView",
       "description": "",
       "description_tooltip": null,
       "layout": "IPY_MODEL_70e487ccfcfc413cbd8bf48540f243a1",
       "placeholder": "​",
       "style": "IPY_MODEL_b045feb2b4184b78b3b9f4dc5106375c",
       "value": ""
      }
     },
     "7a7fa4b9517c43dfb8c742c6b40e9666": {
      "model_module": "@jupyter-widgets/controls",
      "model_module_version": "1.5.0",
      "model_name": "DescriptionStyleModel",
      "state": {
       "_model_module": "@jupyter-widgets/controls",
       "_model_module_version": "1.5.0",
       "_model_name": "DescriptionStyleModel",
       "_view_count": null,
       "_view_module": "@jupyter-widgets/base",
       "_view_module_version": "1.2.0",
       "_view_name": "StyleView",
       "description_width": ""
      }
     },
     "7ce34dcf45fa4597b091a6b608d969d5": {
      "model_module": "@jupyter-widgets/controls",
      "model_module_version": "1.5.0",
      "model_name": "HTMLModel",
      "state": {
       "_dom_classes": [],
       "_model_module": "@jupyter-widgets/controls",
       "_model_module_version": "1.5.0",
       "_model_name": "HTMLModel",
       "_view_count": null,
       "_view_module": "@jupyter-widgets/controls",
       "_view_module_version": "1.5.0",
       "_view_name": "HTMLView",
       "description": "",
       "description_tooltip": null,
       "layout": "IPY_MODEL_d76d9c4e564346f1a0a94f4e4d5cbb28",
       "placeholder": "​",
       "style": "IPY_MODEL_535cf3b829704916b5b522ab3ef9f286",
       "value": ""
      }
     },
     "7ce5494dc3654980848fa32e3d3ba8d9": {
      "model_module": "@jupyter-widgets/controls",
      "model_module_version": "1.5.0",
      "model_name": "HTMLModel",
      "state": {
       "_dom_classes": [],
       "_model_module": "@jupyter-widgets/controls",
       "_model_module_version": "1.5.0",
       "_model_name": "HTMLModel",
       "_view_count": null,
       "_view_module": "@jupyter-widgets/controls",
       "_view_module_version": "1.5.0",
       "_view_name": "HTMLView",
       "description": "",
       "description_tooltip": null,
       "layout": "IPY_MODEL_5ad2b9069088458783ce724c76c525da",
       "placeholder": "​",
       "style": "IPY_MODEL_2e350c0950ed467183896921047633f5",
       "value": "<p style=\"line-height:120%\">00:01 <bold>CoerciveRBReductor</bold>: Operator projection ...</p><p style=\"line-height:120%\">00:01 <bold>CoerciveRBReductor</bold>: Assembling error estimator ...</p><p style=\"line-height:120%\">00:01 |   <bold>ResidualReductor</bold>: Estimating residual range ...</p><p style=\"line-height:120%\">00:01 |   <bold>ResidualReductor</bold>: Projecting residual operator ...</p><p style=\"line-height:120%\">00:01 <bold>CoerciveRBReductor</bold>: Building ROM ...</p><p style=\"line-height:120%\">00:03 <bold>StationaryModel</bold>: Solving ThermalBlock((3, 2))_CG for {diffusion: [0.1, 0.1, 0.1, 0.1, 0.1, 0.1]} ...</p><p style=\"line-height:120%\">00:03 <bold>CoerciveRBReductor</bold>: Operator projection ...</p><p style=\"line-height:120%\">00:03 <bold>CoerciveRBReductor</bold>: Assembling error estimator ...</p><p style=\"line-height:120%\">00:03 |   <bold>ResidualReductor</bold>: Estimating residual range ...</p><p style=\"line-height:120%\">00:03 |   <bold>ResidualReductor</bold>: Projecting residual operator ...</p><p style=\"line-height:120%\">00:03 <bold>CoerciveRBReductor</bold>: Building ROM ...</p><p style=\"line-height:120%\">00:06 <bold>StationaryModel</bold>: Solving ThermalBlock((3, 2))_CG for {diffusion: [0.1, 0.1, 0.1, 0.1, 0.1, 1.0]} ...</p><p style=\"line-height:120%\">00:06 <bold>CoerciveRBReductor</bold>: Operator projection ...</p><p style=\"line-height:120%\">00:06 <bold>CoerciveRBReductor</bold>: Assembling error estimator ...</p><p style=\"line-height:120%\">00:06 |   <bold>ResidualReductor</bold>: Estimating residual range ...</p><p style=\"line-height:120%\">00:06 |   <bold>ResidualReductor</bold>: Projecting residual operator ...</p><p style=\"line-height:120%\">00:06 <bold>CoerciveRBReductor</bold>: Building ROM ...</p><p style=\"line-height:120%\">00:08 <bold>StationaryModel</bold>: Solving ThermalBlock((3, 2))_CG for {diffusion: [0.1, 0.1, 1.0, 0.1, 0.1, 0.1]} ...</p><p style=\"line-height:120%\">00:08 <bold>CoerciveRBReductor</bold>: Operator projection ...</p><p style=\"line-height:120%\">00:08 <bold>CoerciveRBReductor</bold>: Assembling error estimator ...</p><p style=\"line-height:120%\">00:08 |   <bold>ResidualReductor</bold>: Estimating residual range ...</p><p style=\"line-height:120%\">00:08 |   <bold>ResidualReductor</bold>: Projecting residual operator ...</p><p style=\"line-height:120%\">00:08 <bold>CoerciveRBReductor</bold>: Building ROM ...</p><p style=\"line-height:120%\">00:10 <bold>StationaryModel</bold>: Solving ThermalBlock((3, 2))_CG for {diffusion: [0.1, 0.1, 1.0, 0.1, 0.1, 1.0]} ...</p><p style=\"line-height:120%\">00:10 <bold>CoerciveRBReductor</bold>: Operator projection ...</p><p style=\"line-height:120%\">00:10 <bold>CoerciveRBReductor</bold>: Assembling error estimator ...</p><p style=\"line-height:120%\">00:10 |   <bold>ResidualReductor</bold>: Estimating residual range ...</p><p style=\"line-height:120%\">00:10 |   <bold>ResidualReductor</bold>: Projecting residual operator ...</p><p style=\"line-height:120%\">00:10 <bold>CoerciveRBReductor</bold>: Building ROM ...</p><p style=\"line-height:120%\">00:12 <bold>StationaryModel</bold>: Solving ThermalBlock((3, 2))_CG for {diffusion: [0.1, 1.0, 0.1, 0.1, 0.1, 0.1]} ...</p><p style=\"line-height:120%\">00:12 <bold>CoerciveRBReductor</bold>: Operator projection ...</p><p style=\"line-height:120%\">00:12 <bold>CoerciveRBReductor</bold>: Assembling error estimator ...</p><p style=\"line-height:120%\">00:12 |   <bold>ResidualReductor</bold>: Estimating residual range ...</p><p style=\"line-height:120%\">00:12 |   <bold>ResidualReductor</bold>: Projecting residual operator ...</p><p style=\"line-height:120%\">00:12 <bold>CoerciveRBReductor</bold>: Building ROM ...</p><p style=\"line-height:120%\">00:15 <bold>StationaryModel</bold>: Solving ThermalBlock((3, 2))_CG for {diffusion: [0.1, 1.0, 1.0, 0.1, 0.1, 0.1]} ...</p><p style=\"line-height:120%\">00:15 <bold>CoerciveRBReductor</bold>: Operator projection ...</p><p style=\"line-height:120%\">00:15 <bold>CoerciveRBReductor</bold>: Assembling error estimator ...</p><p style=\"line-height:120%\">00:15 |   <bold>ResidualReductor</bold>: Estimating residual range ...</p><p style=\"line-height:120%\">00:15 |   <bold>ResidualReductor</bold>: Projecting residual operator ...</p><p style=\"line-height:120%\">00:15 <bold>CoerciveRBReductor</bold>: Building ROM ...</p><p style=\"line-height:120%\">00:17 <bold>StationaryModel</bold>: Solving ThermalBlock((3, 2))_CG for {diffusion: [0.1, 0.1, 0.1, 0.1, 1.0, 0.1]} ...</p><p style=\"line-height:120%\">00:17 <bold>CoerciveRBReductor</bold>: Operator projection ...</p><p style=\"line-height:120%\">00:17 <bold>CoerciveRBReductor</bold>: Assembling error estimator ...</p><p style=\"line-height:120%\">00:17 |   <bold>ResidualReductor</bold>: Estimating residual range ...</p><p style=\"line-height:120%\">00:17 |   <bold>ResidualReductor</bold>: Projecting residual operator ...</p><p style=\"line-height:120%\">00:17 <bold>CoerciveRBReductor</bold>: Building ROM ...</p><p style=\"line-height:120%\">00:19 <bold>StationaryModel</bold>: Solving ThermalBlock((3, 2))_CG for {diffusion: [0.1, 0.1, 0.1, 0.1, 1.0, 1.0]} ...</p><p style=\"line-height:120%\">00:19 <bold>CoerciveRBReductor</bold>: Operator projection ...</p><p style=\"line-height:120%\">00:19 <bold>CoerciveRBReductor</bold>: Assembling error estimator ...</p><p style=\"line-height:120%\">00:19 |   <bold>ResidualReductor</bold>: Estimating residual range ...</p><p style=\"line-height:120%\">00:19 |   <bold>ResidualReductor</bold>: Projecting residual operator ...</p><p style=\"line-height:120%\">00:19 <bold>CoerciveRBReductor</bold>: Building ROM ...</p><p style=\"line-height:120%\">00:21 <bold>StationaryModel</bold>: Solving ThermalBlock((3, 2))_CG for {diffusion: [0.1, 0.1, 0.1, 1.0, 1.0, 0.1]} ...</p><p style=\"line-height:120%\">00:21 <bold>CoerciveRBReductor</bold>: Operator projection ...</p><p style=\"line-height:120%\">00:21 <bold>CoerciveRBReductor</bold>: Assembling error estimator ...</p><p style=\"line-height:120%\">00:21 |   <bold>ResidualReductor</bold>: Estimating residual range ...</p><p style=\"line-height:120%\">00:22 |   <bold>ResidualReductor</bold>: Projecting residual operator ...</p><p style=\"line-height:120%\">00:22 <bold>CoerciveRBReductor</bold>: Building ROM ...</p><p style=\"line-height:120%\">00:24 <bold>StationaryModel</bold>: Solving ThermalBlock((3, 2))_CG for {diffusion: [1.0, 1.0, 0.1, 0.1, 0.1, 0.1]} ...</p><p style=\"line-height:120%\">00:24 <bold>CoerciveRBReductor</bold>: Operator projection ...</p><p style=\"line-height:120%\">00:24 <bold>CoerciveRBReductor</bold>: Assembling error estimator ...</p><p style=\"line-height:120%\">00:24 |   <bold>ResidualReductor</bold>: Estimating residual range ...</p><p style=\"line-height:120%\">00:24 |   <bold>ResidualReductor</bold>: Projecting residual operator ...</p><p style=\"line-height:120%\">00:24 <bold>CoerciveRBReductor</bold>: Building ROM ...</p><p style=\"line-height:120%\">00:26 <bold>StationaryModel</bold>: Solving ThermalBlock((3, 2))_CG for {diffusion: [1.0, 0.1, 0.1, 1.0, 0.1, 0.1]} ...</p><p style=\"line-height:120%\">00:26 <bold>CoerciveRBReductor</bold>: Operator projection ...</p><p style=\"line-height:120%\">00:26 <bold>CoerciveRBReductor</bold>: Assembling error estimator ...</p><p style=\"line-height:120%\">00:26 |   <bold>ResidualReductor</bold>: Estimating residual range ...</p><p style=\"line-height:120%\">00:26 |   <bold>ResidualReductor</bold>: Projecting residual operator ...</p><p style=\"line-height:120%\">00:26 <bold>CoerciveRBReductor</bold>: Building ROM ...</p><p style=\"line-height:120%\">00:29 <bold>StationaryModel</bold>: Solving ThermalBlock((3, 2))_CG for {diffusion: [0.1, 1.0, 0.1, 1.0, 0.1, 1.0]} ...</p><p style=\"line-height:120%\">00:29 <bold>CoerciveRBReductor</bold>: Operator projection ...</p><p style=\"line-height:120%\">00:29 <bold>CoerciveRBReductor</bold>: Assembling error estimator ...</p><p style=\"line-height:120%\">00:29 |   <bold>ResidualReductor</bold>: Estimating residual range ...</p><p style=\"line-height:120%\">00:29 |   <bold>ResidualReductor</bold>: Projecting residual operator ...</p><p style=\"line-height:120%\">00:29 <bold>CoerciveRBReductor</bold>: Building ROM ...</p><p style=\"line-height:120%\">00:31 <bold>StationaryModel</bold>: Solving ThermalBlock((3, 2))_CG for {diffusion: [1.0, 0.1, 1.0, 0.1, 1.0, 0.1]} ...</p><p style=\"line-height:120%\">00:31 <bold>CoerciveRBReductor</bold>: Operator projection ...</p><p style=\"line-height:120%\">00:31 <bold>CoerciveRBReductor</bold>: Assembling error estimator ...</p><p style=\"line-height:120%\">00:31 |   <bold>ResidualReductor</bold>: Estimating residual range ...</p><p style=\"line-height:120%\">00:31 |   <bold>ResidualReductor</bold>: Projecting residual operator ...</p><p style=\"line-height:120%\">00:31 <bold>CoerciveRBReductor</bold>: Building ROM ...</p><p style=\"line-height:120%\">00:33 <bold>StationaryModel</bold>: Solving ThermalBlock((3, 2))_CG for {diffusion: [0.1, 1.0, 1.0, 0.1, 1.0, 0.1]} ...</p><p style=\"line-height:120%\">00:33 <bold>CoerciveRBReductor</bold>: Operator projection ...</p><p style=\"line-height:120%\">00:33 <bold>CoerciveRBReductor</bold>: Assembling error estimator ...</p><p style=\"line-height:120%\">00:33 |   <bold>ResidualReductor</bold>: Estimating residual range ...</p><p style=\"line-height:120%\">00:34 |   <bold>ResidualReductor</bold>: Projecting residual operator ...</p><p style=\"line-height:120%\">00:34 <bold>CoerciveRBReductor</bold>: Building ROM ...</p><p style=\"line-height:120%\">00:36 <bold>StationaryModel</bold>: Solving ThermalBlock((3, 2))_CG for {diffusion: [1.0, 1.0, 0.1, 1.0, 0.1, 1.0]} ...</p><p style=\"line-height:120%\">00:36 <bold>CoerciveRBReductor</bold>: Operator projection ...</p><p style=\"line-height:120%\">00:36 <bold>CoerciveRBReductor</bold>: Assembling error estimator ...</p><p style=\"line-height:120%\">00:36 |   <bold>ResidualReductor</bold>: Estimating residual range ...</p><p style=\"line-height:120%\">00:36 |   <bold>ResidualReductor</bold>: Projecting residual operator ...</p><p style=\"line-height:120%\">00:36 <bold>CoerciveRBReductor</bold>: Building ROM ...</p><p style=\"line-height:120%\">00:38 <bold>StationaryModel</bold>: Solving ThermalBlock((3, 2))_CG for {diffusion: [1.0, 0.1, 0.1, 1.0, 1.0, 0.1]} ...</p><p style=\"line-height:120%\">00:38 <bold>CoerciveRBReductor</bold>: Operator projection ...</p><p style=\"line-height:120%\">00:38 <bold>CoerciveRBReductor</bold>: Assembling error estimator ...</p><p style=\"line-height:120%\">00:38 |   <bold>ResidualReductor</bold>: Estimating residual range ...</p><p style=\"line-height:120%\">00:38 |   <bold>ResidualReductor</bold>: Projecting residual operator ...</p><p style=\"line-height:120%\">00:38 <bold>CoerciveRBReductor</bold>: Building ROM ...</p><p style=\"line-height:120%\">00:41 <bold>StationaryModel</bold>: Solving ThermalBlock((3, 2))_CG for {diffusion: [0.1, 1.0, 1.0, 1.0, 0.1, 0.1]} ...</p><p style=\"line-height:120%\">00:41 <bold>CoerciveRBReductor</bold>: Operator projection ...</p><p style=\"line-height:120%\">00:41 <bold>CoerciveRBReductor</bold>: Assembling error estimator ...</p><p style=\"line-height:120%\">00:41 |   <bold>ResidualReductor</bold>: Estimating residual range ...</p><p style=\"line-height:120%\">00:41 |   <bold>ResidualReductor</bold>: Projecting residual operator ...</p><p style=\"line-height:120%\">00:41 <bold>CoerciveRBReductor</bold>: Building ROM ...</p><p style=\"line-height:120%\">00:43 <bold>StationaryModel</bold>: Solving ThermalBlock((3, 2))_CG for {diffusion: [1.0, 1.0, 0.1, 0.1, 1.0, 1.0]} ...</p><p style=\"line-height:120%\">00:43 <bold>CoerciveRBReductor</bold>: Operator projection ...</p><p style=\"line-height:120%\">00:43 <bold>CoerciveRBReductor</bold>: Assembling error estimator ...</p><p style=\"line-height:120%\">00:43 |   <bold>ResidualReductor</bold>: Estimating residual range ...</p><p style=\"line-height:120%\">00:43 |   <bold>ResidualReductor</bold>: Projecting residual operator ...</p><p style=\"line-height:120%\">00:43 <bold>CoerciveRBReductor</bold>: Building ROM ...</p><p style=\"line-height:120%\">00:46 <bold>StationaryModel</bold>: Solving ThermalBlock((3, 2))_CG for {diffusion: [1.0, 1.0, 1.0, 1.0, 1.0, 0.1]} ...</p><p style=\"line-height:120%\">00:46 <bold>CoerciveRBReductor</bold>: Operator projection ...</p><p style=\"line-height:120%\">00:46 <bold>CoerciveRBReductor</bold>: Assembling error estimator ...</p><p style=\"line-height:120%\">00:46 |   <bold>ResidualReductor</bold>: Estimating residual range ...</p><p style=\"line-height:120%\">00:46 |   <bold>ResidualReductor</bold>: Projecting residual operator ...</p><p style=\"line-height:120%\">00:46 <bold>CoerciveRBReductor</bold>: Building ROM ...</p><p style=\"line-height:120%\">00:48 <bold>StationaryModel</bold>: Solving ThermalBlock((3, 2))_CG for {diffusion: [1.0, 1.0, 1.0, 0.1, 0.1, 1.0]} ...</p><p style=\"line-height:120%\">00:48 <bold>CoerciveRBReductor</bold>: Operator projection ...</p><p style=\"line-height:120%\">00:48 <bold>CoerciveRBReductor</bold>: Assembling error estimator ...</p><p style=\"line-height:120%\">00:48 |   <bold>ResidualReductor</bold>: Estimating residual range ...</p><p style=\"line-height:120%\">00:48 |   <bold>ResidualReductor</bold>: Projecting residual operator ...</p><p style=\"line-height:120%\">00:48 <bold>CoerciveRBReductor</bold>: Building ROM ...</p><p style=\"line-height:120%\">00:51 <bold>StationaryModel</bold>: Solving ThermalBlock((3, 2))_CG for {diffusion: [0.1, 0.1, 1.0, 0.1, 1.0, 1.0]} ...</p><p style=\"line-height:120%\">00:51 <bold>CoerciveRBReductor</bold>: Operator projection ...</p><p style=\"line-height:120%\">00:51 <bold>CoerciveRBReductor</bold>: Assembling error estimator ...</p><p style=\"line-height:120%\">00:51 |   <bold>ResidualReductor</bold>: Estimating residual range ...</p><p style=\"line-height:120%\">00:51 |   <bold>ResidualReductor</bold>: Projecting residual operator ...</p><p style=\"line-height:120%\">00:51 <bold>CoerciveRBReductor</bold>: Building ROM ...</p><p style=\"line-height:120%\">00:53 <bold>StationaryModel</bold>: Solving ThermalBlock((3, 2))_CG for {diffusion: [0.1, 1.0, 0.1, 1.0, 1.0, 0.1]} ...</p><p style=\"line-height:120%\">00:53 <bold>CoerciveRBReductor</bold>: Operator projection ...</p><p style=\"line-height:120%\">00:53 <bold>CoerciveRBReductor</bold>: Assembling error estimator ...</p><p style=\"line-height:120%\">00:53 |   <bold>ResidualReductor</bold>: Estimating residual range ...</p><p style=\"line-height:120%\">00:54 |   <bold>ResidualReductor</bold>: Projecting residual operator ...</p><p style=\"line-height:120%\">00:54 <bold>CoerciveRBReductor</bold>: Building ROM ...</p><p style=\"line-height:120%\">00:56 <bold>StationaryModel</bold>: Solving ThermalBlock((3, 2))_CG for {diffusion: [1.0, 0.1, 1.0, 1.0, 0.1, 1.0]} ...</p><p style=\"line-height:120%\">00:56 <bold>CoerciveRBReductor</bold>: Operator projection ...</p><p style=\"line-height:120%\">00:56 <bold>CoerciveRBReductor</bold>: Assembling error estimator ...</p><p style=\"line-height:120%\">00:56 |   <bold>ResidualReductor</bold>: Estimating residual range ...</p><p style=\"line-height:120%\">00:56 |   <bold>ResidualReductor</bold>: Projecting residual operator ...</p><p style=\"line-height:120%\">00:56 <bold>CoerciveRBReductor</bold>: Building ROM ...</p><p style=\"line-height:120%\">00:58 <bold>StationaryModel</bold>: Solving ThermalBlock((3, 2))_CG for {diffusion: [0.1, 1.0, 0.1, 1.0, 1.0, 1.0]} ...</p><p style=\"line-height:120%\">00:59 <bold>CoerciveRBReductor</bold>: Operator projection ...</p><p style=\"line-height:120%\">00:59 <bold>CoerciveRBReductor</bold>: Assembling error estimator ...</p><p style=\"line-height:120%\">00:59 |   <bold>ResidualReductor</bold>: Estimating residual range ...</p><p style=\"line-height:120%\">00:59 |   <bold>ResidualReductor</bold>: Projecting residual operator ...</p><p style=\"line-height:120%\">00:59 <bold>CoerciveRBReductor</bold>: Building ROM ...</p><p style=\"line-height:120%\">01:01 <bold>StationaryModel</bold>: Solving ThermalBlock((3, 2))_CG for {diffusion: [1.0, 0.1, 0.1, 0.1, 0.4, 0.1]} ...</p><p style=\"line-height:120%\">01:01 <bold>CoerciveRBReductor</bold>: Operator projection ...</p><p style=\"line-height:120%\">01:01 <bold>CoerciveRBReductor</bold>: Assembling error estimator ...</p><p style=\"line-height:120%\">01:01 |   <bold>ResidualReductor</bold>: Estimating residual range ...</p><p style=\"line-height:120%\">01:01 |   <bold>ResidualReductor</bold>: Projecting residual operator ...</p><p style=\"line-height:120%\">01:02 <bold>CoerciveRBReductor</bold>: Building ROM ...</p><p style=\"line-height:120%\">01:04 <bold>StationaryModel</bold>: Solving ThermalBlock((3, 2))_CG for {diffusion: [0.1, 0.4, 0.1, 1.0, 0.1, 0.1]} ...</p><p style=\"line-height:120%\">01:04 <bold>CoerciveRBReductor</bold>: Operator projection ...</p><p style=\"line-height:120%\">01:04 <bold>CoerciveRBReductor</bold>: Assembling error estimator ...</p><p style=\"line-height:120%\">01:04 |   <bold>ResidualReductor</bold>: Estimating residual range ...</p><p style=\"line-height:120%\">01:04 |   <bold>ResidualReductor</bold>: Projecting residual operator ...</p><p style=\"line-height:120%\">01:04 <bold>CoerciveRBReductor</bold>: Building ROM ...</p><p style=\"line-height:120%\">01:07 <bold>StationaryModel</bold>: Solving ThermalBlock((3, 2))_CG for {diffusion: [0.1, 0.4, 1.0, 0.1, 0.4, 1.0]} ...</p><p style=\"line-height:120%\">01:07 <bold>CoerciveRBReductor</bold>: Operator projection ...</p><p style=\"line-height:120%\">01:07 <bold>CoerciveRBReductor</bold>: Assembling error estimator ...</p><p style=\"line-height:120%\">01:07 |   <bold>ResidualReductor</bold>: Estimating residual range ...</p><p style=\"line-height:120%\">01:07 |   <bold>ResidualReductor</bold>: Projecting residual operator ...</p><p style=\"line-height:120%\">01:07 <bold>CoerciveRBReductor</bold>: Building ROM ...</p><p style=\"line-height:120%\">01:09 <bold>StationaryModel</bold>: Solving ThermalBlock((3, 2))_CG for {diffusion: [0.1, 0.4, 1.0, 1.0, 0.4, 0.1]} ...</p><p style=\"line-height:120%\">01:09 <bold>CoerciveRBReductor</bold>: Operator projection ...</p><p style=\"line-height:120%\">01:09 <bold>CoerciveRBReductor</bold>: Assembling error estimator ...</p><p style=\"line-height:120%\">01:09 |   <bold>ResidualReductor</bold>: Estimating residual range ...</p><p style=\"line-height:120%\">01:10 |   <bold>ResidualReductor</bold>: Projecting residual operator ...</p><p style=\"line-height:120%\">01:10 <bold>CoerciveRBReductor</bold>: Building ROM ...</p><p style=\"line-height:120%\">01:12 <bold>StationaryModel</bold>: Solving ThermalBlock((3, 2))_CG for {diffusion: [0.1, 1.0, 1.0, 0.4, 0.1, 1.0]} ...</p><p style=\"line-height:120%\">01:12 <bold>CoerciveRBReductor</bold>: Operator projection ...</p><p style=\"line-height:120%\">01:12 <bold>CoerciveRBReductor</bold>: Assembling error estimator ...</p><p style=\"line-height:120%\">01:12 |   <bold>ResidualReductor</bold>: Estimating residual range ...</p><p style=\"line-height:120%\">01:12 |   <bold>ResidualReductor</bold>: Projecting residual operator ...</p><p style=\"line-height:120%\">01:12 <bold>CoerciveRBReductor</bold>: Building ROM ...</p><p style=\"line-height:120%\">01:15 <bold>StationaryModel</bold>: Solving ThermalBlock((3, 2))_CG for {diffusion: [0.1, 0.4, 0.1, 1.0, 1.0, 1.0]} ...</p><p style=\"line-height:120%\">01:15 <bold>CoerciveRBReductor</bold>: Operator projection ...</p><p style=\"line-height:120%\">01:15 <bold>CoerciveRBReductor</bold>: Assembling error estimator ...</p><p style=\"line-height:120%\">01:15 |   <bold>ResidualReductor</bold>: Estimating residual range ...</p><p style=\"line-height:120%\">01:15 |   <bold>ResidualReductor</bold>: Projecting residual operator ...</p><p style=\"line-height:120%\">01:15 <bold>CoerciveRBReductor</bold>: Building ROM ...</p><p style=\"line-height:120%\">01:18 <bold>StationaryModel</bold>: Solving ThermalBlock((3, 2))_CG for {diffusion: [1.0, 0.4, 0.1, 0.1, 0.4, 1.0]} ...</p><p style=\"line-height:120%\">01:18 <bold>CoerciveRBReductor</bold>: Operator projection ...</p><p style=\"line-height:120%\">01:18 <bold>CoerciveRBReductor</bold>: Assembling error estimator ...</p><p style=\"line-height:120%\">01:18 |   <bold>ResidualReductor</bold>: Estimating residual range ...</p><p style=\"line-height:120%\">01:18 |   <bold>ResidualReductor</bold>: Projecting residual operator ...</p><p style=\"line-height:120%\">01:18 <bold>CoerciveRBReductor</bold>: Building ROM ...</p><p style=\"line-height:120%\">01:21 <bold>StationaryModel</bold>: Solving ThermalBlock((3, 2))_CG for {diffusion: [1.0, 0.1, 1.0, 0.1, 0.1, 0.1]} ...</p><p style=\"line-height:120%\">01:21 <bold>CoerciveRBReductor</bold>: Operator projection ...</p><p style=\"line-height:120%\">01:21 <bold>CoerciveRBReductor</bold>: Assembling error estimator ...</p><p style=\"line-height:120%\">01:21 |   <bold>ResidualReductor</bold>: Estimating residual range ...</p><p style=\"line-height:120%\">01:21 |   <bold>ResidualReductor</bold>: Projecting residual operator ...</p><p style=\"line-height:120%\">01:21 <bold>CoerciveRBReductor</bold>: Building ROM ...</p>"
      }
     },
     "7e599ae227f14f169d77723e703e6d94": {
      "model_module": "@jupyter-widgets/controls",
      "model_module_version": "1.5.0",
      "model_name": "HTMLModel",
      "state": {
       "_dom_classes": [],
       "_model_module": "@jupyter-widgets/controls",
       "_model_module_version": "1.5.0",
       "_model_name": "HTMLModel",
       "_view_count": null,
       "_view_module": "@jupyter-widgets/controls",
       "_view_module_version": "1.5.0",
       "_view_name": "HTMLView",
       "description": "",
       "description_tooltip": null,
       "layout": "IPY_MODEL_a56aa96f7d124d94b1e1210f0e746f17",
       "placeholder": "​",
       "style": "IPY_MODEL_d729db93823948a6955cb81140a2b743",
       "value": ""
      }
     },
     "7f563ac389bc49f58c4cc04e658ad783": {
      "model_module": "@jupyter-widgets/base",
      "model_module_version": "1.2.0",
      "model_name": "LayoutModel",
      "state": {
       "_model_module": "@jupyter-widgets/base",
       "_model_module_version": "1.2.0",
       "_model_name": "LayoutModel",
       "_view_count": null,
       "_view_module": "@jupyter-widgets/base",
       "_view_module_version": "1.2.0",
       "_view_name": "LayoutView",
       "align_content": null,
       "align_items": null,
       "align_self": null,
       "border": null,
       "bottom": null,
       "display": null,
       "flex": null,
       "flex_flow": null,
       "grid_area": null,
       "grid_auto_columns": null,
       "grid_auto_flow": null,
       "grid_auto_rows": null,
       "grid_column": null,
       "grid_gap": null,
       "grid_row": null,
       "grid_template_areas": null,
       "grid_template_columns": null,
       "grid_template_rows": null,
       "height": "16em",
       "justify_content": null,
       "justify_items": null,
       "left": null,
       "margin": null,
       "max_height": null,
       "max_width": null,
       "min_height": null,
       "min_width": null,
       "object_fit": null,
       "object_position": null,
       "order": null,
       "overflow": null,
       "overflow_x": null,
       "overflow_y": "auto",
       "padding": null,
       "right": null,
       "top": null,
       "visibility": null,
       "width": "100%"
      }
     },
     "85a316b695a74997af5a9f44968a427c": {
      "model_module": "@jupyter-widgets/controls",
      "model_module_version": "1.5.0",
      "model_name": "AccordionModel",
      "state": {
       "_dom_classes": [],
       "_model_module": "@jupyter-widgets/controls",
       "_model_module_version": "1.5.0",
       "_model_name": "AccordionModel",
       "_titles": {
        "0": "Log Output"
       },
       "_view_count": null,
       "_view_module": "@jupyter-widgets/controls",
       "_view_module_version": "1.5.0",
       "_view_name": "AccordionView",
       "box_style": "",
       "children": [
        "IPY_MODEL_7ce5494dc3654980848fa32e3d3ba8d9"
       ],
       "layout": "IPY_MODEL_b0c695740cbc49ff9dcd7d56801e3623",
       "selected_index": null
      }
     },
     "8719470f8427480dbe16992926faa6b2": {
      "model_module": "@jupyter-widgets/base",
      "model_module_version": "1.2.0",
      "model_name": "LayoutModel",
      "state": {
       "_model_module": "@jupyter-widgets/base",
       "_model_module_version": "1.2.0",
       "_model_name": "LayoutModel",
       "_view_count": null,
       "_view_module": "@jupyter-widgets/base",
       "_view_module_version": "1.2.0",
       "_view_name": "LayoutView",
       "align_content": null,
       "align_items": null,
       "align_self": null,
       "border": null,
       "bottom": null,
       "display": null,
       "flex": null,
       "flex_flow": null,
       "grid_area": null,
       "grid_auto_columns": null,
       "grid_auto_flow": null,
       "grid_auto_rows": null,
       "grid_column": null,
       "grid_gap": null,
       "grid_row": null,
       "grid_template_areas": null,
       "grid_template_columns": null,
       "grid_template_rows": null,
       "height": "16em",
       "justify_content": null,
       "justify_items": null,
       "left": null,
       "margin": null,
       "max_height": null,
       "max_width": null,
       "min_height": null,
       "min_width": null,
       "object_fit": null,
       "object_position": null,
       "order": null,
       "overflow": null,
       "overflow_x": null,
       "overflow_y": "auto",
       "padding": null,
       "right": null,
       "top": null,
       "visibility": null,
       "width": "100%"
      }
     },
     "87acdf0158ef44b5840993729a04defd": {
      "model_module": "@jupyter-widgets/controls",
      "model_module_version": "1.5.0",
      "model_name": "HTMLModel",
      "state": {
       "_dom_classes": [],
       "_model_module": "@jupyter-widgets/controls",
       "_model_module_version": "1.5.0",
       "_model_name": "HTMLModel",
       "_view_count": null,
       "_view_module": "@jupyter-widgets/controls",
       "_view_module_version": "1.5.0",
       "_view_name": "HTMLView",
       "description": "",
       "description_tooltip": null,
       "layout": "IPY_MODEL_8719470f8427480dbe16992926faa6b2",
       "placeholder": "​",
       "style": "IPY_MODEL_88a0c33a45a64095ada94e52b2d82764",
       "value": ""
      }
     },
     "88a0c33a45a64095ada94e52b2d82764": {
      "model_module": "@jupyter-widgets/controls",
      "model_module_version": "1.5.0",
      "model_name": "DescriptionStyleModel",
      "state": {
       "_model_module": "@jupyter-widgets/controls",
       "_model_module_version": "1.5.0",
       "_model_name": "DescriptionStyleModel",
       "_view_count": null,
       "_view_module": "@jupyter-widgets/base",
       "_view_module_version": "1.2.0",
       "_view_name": "StyleView",
       "description_width": ""
      }
     },
     "88afbbc084514240b0d6cc3c7cff2e51": {
      "model_module": "@jupyter-widgets/controls",
      "model_module_version": "1.5.0",
      "model_name": "HTMLModel",
      "state": {
       "_dom_classes": [],
       "_model_module": "@jupyter-widgets/controls",
       "_model_module_version": "1.5.0",
       "_model_name": "HTMLModel",
       "_view_count": null,
       "_view_module": "@jupyter-widgets/controls",
       "_view_module_version": "1.5.0",
       "_view_name": "HTMLView",
       "description": "",
       "description_tooltip": null,
       "layout": "IPY_MODEL_0e274fcc4997479bad5faef78a08654d",
       "placeholder": "​",
       "style": "IPY_MODEL_7a7fa4b9517c43dfb8c742c6b40e9666",
       "value": ""
      }
     },
     "88f04b24f5914bbeb0217f685696b8e9": {
      "model_module": "@jupyter-widgets/controls",
      "model_module_version": "1.5.0",
      "model_name": "DescriptionStyleModel",
      "state": {
       "_model_module": "@jupyter-widgets/controls",
       "_model_module_version": "1.5.0",
       "_model_name": "DescriptionStyleModel",
       "_view_count": null,
       "_view_module": "@jupyter-widgets/base",
       "_view_module_version": "1.2.0",
       "_view_name": "StyleView",
       "description_width": ""
      }
     },
     "90f17c33e9b1476698724058900cb7ba": {
      "model_module": "@jupyter-widgets/controls",
      "model_module_version": "1.5.0",
      "model_name": "DescriptionStyleModel",
      "state": {
       "_model_module": "@jupyter-widgets/controls",
       "_model_module_version": "1.5.0",
       "_model_name": "DescriptionStyleModel",
       "_view_count": null,
       "_view_module": "@jupyter-widgets/base",
       "_view_module_version": "1.2.0",
       "_view_name": "StyleView",
       "description_width": ""
      }
     },
     "9368eb7fd453437a8dd1795d80f0ebfa": {
      "model_module": "@jupyter-widgets/base",
      "model_module_version": "1.2.0",
      "model_name": "LayoutModel",
      "state": {
       "_model_module": "@jupyter-widgets/base",
       "_model_module_version": "1.2.0",
       "_model_name": "LayoutModel",
       "_view_count": null,
       "_view_module": "@jupyter-widgets/base",
       "_view_module_version": "1.2.0",
       "_view_name": "LayoutView",
       "align_content": null,
       "align_items": null,
       "align_self": null,
       "border": null,
       "bottom": null,
       "display": null,
       "flex": null,
       "flex_flow": null,
       "grid_area": null,
       "grid_auto_columns": null,
       "grid_auto_flow": null,
       "grid_auto_rows": null,
       "grid_column": null,
       "grid_gap": null,
       "grid_row": null,
       "grid_template_areas": null,
       "grid_template_columns": null,
       "grid_template_rows": null,
       "height": null,
       "justify_content": null,
       "justify_items": null,
       "left": null,
       "margin": null,
       "max_height": null,
       "max_width": null,
       "min_height": null,
       "min_width": null,
       "object_fit": null,
       "object_position": null,
       "order": null,
       "overflow": null,
       "overflow_x": null,
       "overflow_y": null,
       "padding": null,
       "right": null,
       "top": null,
       "visibility": null,
       "width": null
      }
     },
     "95c683524dcb439eb256fbdbab795ba8": {
      "model_module": "@jupyter-widgets/controls",
      "model_module_version": "1.5.0",
      "model_name": "AccordionModel",
      "state": {
       "_dom_classes": [],
       "_model_module": "@jupyter-widgets/controls",
       "_model_module_version": "1.5.0",
       "_model_name": "AccordionModel",
       "_titles": {
        "0": "Log Output"
       },
       "_view_count": null,
       "_view_module": "@jupyter-widgets/controls",
       "_view_module_version": "1.5.0",
       "_view_name": "AccordionView",
       "box_style": "",
       "children": [
        "IPY_MODEL_506bbfe105da45988e314d97026063f4"
       ],
       "layout": "IPY_MODEL_f28c4067341f46bc900d6f21f9a84321",
       "selected_index": null
      }
     },
     "991d467ede3d41f180d22227fcc9377f": {
      "model_module": "@jupyter-widgets/output",
      "model_module_version": "1.0.0",
      "model_name": "OutputModel",
      "state": {
       "_dom_classes": [],
       "_model_module": "@jupyter-widgets/output",
       "_model_module_version": "1.0.0",
       "_model_name": "OutputModel",
       "_view_count": null,
       "_view_module": "@jupyter-widgets/output",
       "_view_module_version": "1.0.0",
       "_view_name": "OutputView",
       "layout": "IPY_MODEL_c4e4b3ab41964cb291572594d683291c",
       "msg_id": "",
       "outputs": [
        {
         "data": {
          "image/png": "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\n",
          "text/plain": "<Figure size 432x288 with 2 Axes>"
         },
         "metadata": {
          "needs_background": "light"
         },
         "output_type": "display_data"
        }
       ]
      }
     },
     "9959b9f167854f1c845ccabf7aab4a64": {
      "model_module": "@jupyter-widgets/controls",
      "model_module_version": "1.5.0",
      "model_name": "AccordionModel",
      "state": {
       "_dom_classes": [],
       "_model_module": "@jupyter-widgets/controls",
       "_model_module_version": "1.5.0",
       "_model_name": "AccordionModel",
       "_titles": {
        "0": "Log Output"
       },
       "_view_count": null,
       "_view_module": "@jupyter-widgets/controls",
       "_view_module_version": "1.5.0",
       "_view_name": "AccordionView",
       "box_style": "",
       "children": [
        "IPY_MODEL_b1e4c52b7dc848bb8f548d28279e5446"
       ],
       "layout": "IPY_MODEL_38ec412a23cd4b089f8797003161566c",
       "selected_index": null
      }
     },
     "99ddac117feb476f94706fc24dd902c9": {
      "model_module": "@jupyter-widgets/controls",
      "model_module_version": "1.5.0",
      "model_name": "HTMLModel",
      "state": {
       "_dom_classes": [],
       "_model_module": "@jupyter-widgets/controls",
       "_model_module_version": "1.5.0",
       "_model_name": "HTMLModel",
       "_view_count": null,
       "_view_module": "@jupyter-widgets/controls",
       "_view_module_version": "1.5.0",
       "_view_name": "HTMLView",
       "description": "",
       "description_tooltip": null,
       "layout": "IPY_MODEL_9f6feae00ba74d33a5b0a7c794fe2ccd",
       "placeholder": "​",
       "style": "IPY_MODEL_a95b038add1a4829a2501090a6eb549c",
       "value": ""
      }
     },
     "9e2ccb4f8ca3473fb0280080b1104bef": {
      "model_module": "@jupyter-widgets/controls",
      "model_module_version": "1.5.0",
      "model_name": "AccordionModel",
      "state": {
       "_dom_classes": [],
       "_model_module": "@jupyter-widgets/controls",
       "_model_module_version": "1.5.0",
       "_model_name": "AccordionModel",
       "_titles": {
        "0": "Log Output"
       },
       "_view_count": null,
       "_view_module": "@jupyter-widgets/controls",
       "_view_module_version": "1.5.0",
       "_view_name": "AccordionView",
       "box_style": "",
       "children": [
        "IPY_MODEL_a37a94662d8740e0a78fef9a9f080812"
       ],
       "layout": "IPY_MODEL_ba0034fb6fe84d92b1b058b1a176b4f0",
       "selected_index": null
      }
     },
     "9f6feae00ba74d33a5b0a7c794fe2ccd": {
      "model_module": "@jupyter-widgets/base",
      "model_module_version": "1.2.0",
      "model_name": "LayoutModel",
      "state": {
       "_model_module": "@jupyter-widgets/base",
       "_model_module_version": "1.2.0",
       "_model_name": "LayoutModel",
       "_view_count": null,
       "_view_module": "@jupyter-widgets/base",
       "_view_module_version": "1.2.0",
       "_view_name": "LayoutView",
       "align_content": null,
       "align_items": null,
       "align_self": null,
       "border": null,
       "bottom": null,
       "display": null,
       "flex": null,
       "flex_flow": null,
       "grid_area": null,
       "grid_auto_columns": null,
       "grid_auto_flow": null,
       "grid_auto_rows": null,
       "grid_column": null,
       "grid_gap": null,
       "grid_row": null,
       "grid_template_areas": null,
       "grid_template_columns": null,
       "grid_template_rows": null,
       "height": "16em",
       "justify_content": null,
       "justify_items": null,
       "left": null,
       "margin": null,
       "max_height": null,
       "max_width": null,
       "min_height": null,
       "min_width": null,
       "object_fit": null,
       "object_position": null,
       "order": null,
       "overflow": null,
       "overflow_x": null,
       "overflow_y": "auto",
       "padding": null,
       "right": null,
       "top": null,
       "visibility": null,
       "width": "100%"
      }
     },
     "a13e9b32436d4562a563e66c24b65462": {
      "model_module": "@jupyter-widgets/base",
      "model_module_version": "1.2.0",
      "model_name": "LayoutModel",
      "state": {
       "_model_module": "@jupyter-widgets/base",
       "_model_module_version": "1.2.0",
       "_model_name": "LayoutModel",
       "_view_count": null,
       "_view_module": "@jupyter-widgets/base",
       "_view_module_version": "1.2.0",
       "_view_name": "LayoutView",
       "align_content": null,
       "align_items": null,
       "align_self": null,
       "border": null,
       "bottom": null,
       "display": null,
       "flex": null,
       "flex_flow": null,
       "grid_area": null,
       "grid_auto_columns": null,
       "grid_auto_flow": null,
       "grid_auto_rows": null,
       "grid_column": null,
       "grid_gap": null,
       "grid_row": null,
       "grid_template_areas": null,
       "grid_template_columns": null,
       "grid_template_rows": null,
       "height": null,
       "justify_content": null,
       "justify_items": null,
       "left": null,
       "margin": null,
       "max_height": null,
       "max_width": null,
       "min_height": null,
       "min_width": null,
       "object_fit": null,
       "object_position": null,
       "order": null,
       "overflow": null,
       "overflow_x": null,
       "overflow_y": null,
       "padding": null,
       "right": null,
       "top": null,
       "visibility": null,
       "width": null
      }
     },
     "a37a94662d8740e0a78fef9a9f080812": {
      "model_module": "@jupyter-widgets/controls",
      "model_module_version": "1.5.0",
      "model_name": "HTMLModel",
      "state": {
       "_dom_classes": [],
       "_model_module": "@jupyter-widgets/controls",
       "_model_module_version": "1.5.0",
       "_model_name": "HTMLModel",
       "_view_count": null,
       "_view_module": "@jupyter-widgets/controls",
       "_view_module_version": "1.5.0",
       "_view_name": "HTMLView",
       "description": "",
       "description_tooltip": null,
       "layout": "IPY_MODEL_d6343fca748c477db88fc3a19dc13f6f",
       "placeholder": "​",
       "style": "IPY_MODEL_20aa2e12bb3141d08e49a9f61bbef8f2",
       "value": ""
      }
     },
     "a478e878a5d0400d9e1cb5a2c37df1d9": {
      "model_module": "@jupyter-widgets/base",
      "model_module_version": "1.2.0",
      "model_name": "LayoutModel",
      "state": {
       "_model_module": "@jupyter-widgets/base",
       "_model_module_version": "1.2.0",
       "_model_name": "LayoutModel",
       "_view_count": null,
       "_view_module": "@jupyter-widgets/base",
       "_view_module_version": "1.2.0",
       "_view_name": "LayoutView",
       "align_content": null,
       "align_items": null,
       "align_self": null,
       "border": null,
       "bottom": null,
       "display": null,
       "flex": null,
       "flex_flow": null,
       "grid_area": null,
       "grid_auto_columns": null,
       "grid_auto_flow": null,
       "grid_auto_rows": null,
       "grid_column": null,
       "grid_gap": null,
       "grid_row": null,
       "grid_template_areas": null,
       "grid_template_columns": null,
       "grid_template_rows": null,
       "height": "16em",
       "justify_content": null,
       "justify_items": null,
       "left": null,
       "margin": null,
       "max_height": null,
       "max_width": null,
       "min_height": null,
       "min_width": null,
       "object_fit": null,
       "object_position": null,
       "order": null,
       "overflow": null,
       "overflow_x": null,
       "overflow_y": "auto",
       "padding": null,
       "right": null,
       "top": null,
       "visibility": null,
       "width": "100%"
      }
     },
     "a56aa96f7d124d94b1e1210f0e746f17": {
      "model_module": "@jupyter-widgets/base",
      "model_module_version": "1.2.0",
      "model_name": "LayoutModel",
      "state": {
       "_model_module": "@jupyter-widgets/base",
       "_model_module_version": "1.2.0",
       "_model_name": "LayoutModel",
       "_view_count": null,
       "_view_module": "@jupyter-widgets/base",
       "_view_module_version": "1.2.0",
       "_view_name": "LayoutView",
       "align_content": null,
       "align_items": null,
       "align_self": null,
       "border": null,
       "bottom": null,
       "display": null,
       "flex": null,
       "flex_flow": null,
       "grid_area": null,
       "grid_auto_columns": null,
       "grid_auto_flow": null,
       "grid_auto_rows": null,
       "grid_column": null,
       "grid_gap": null,
       "grid_row": null,
       "grid_template_areas": null,
       "grid_template_columns": null,
       "grid_template_rows": null,
       "height": "16em",
       "justify_content": null,
       "justify_items": null,
       "left": null,
       "margin": null,
       "max_height": null,
       "max_width": null,
       "min_height": null,
       "min_width": null,
       "object_fit": null,
       "object_position": null,
       "order": null,
       "overflow": null,
       "overflow_x": null,
       "overflow_y": "auto",
       "padding": null,
       "right": null,
       "top": null,
       "visibility": null,
       "width": "100%"
      }
     },
     "a59711643f9445b4aadf6f18acb9fe0d": {
      "model_module": "@jupyter-widgets/base",
      "model_module_version": "1.2.0",
      "model_name": "LayoutModel",
      "state": {
       "_model_module": "@jupyter-widgets/base",
       "_model_module_version": "1.2.0",
       "_model_name": "LayoutModel",
       "_view_count": null,
       "_view_module": "@jupyter-widgets/base",
       "_view_module_version": "1.2.0",
       "_view_name": "LayoutView",
       "align_content": null,
       "align_items": null,
       "align_self": null,
       "border": null,
       "bottom": null,
       "display": null,
       "flex": null,
       "flex_flow": null,
       "grid_area": null,
       "grid_auto_columns": null,
       "grid_auto_flow": null,
       "grid_auto_rows": null,
       "grid_column": null,
       "grid_gap": null,
       "grid_row": null,
       "grid_template_areas": null,
       "grid_template_columns": null,
       "grid_template_rows": null,
       "height": null,
       "justify_content": null,
       "justify_items": null,
       "left": null,
       "margin": null,
       "max_height": null,
       "max_width": null,
       "min_height": null,
       "min_width": null,
       "object_fit": null,
       "object_position": null,
       "order": null,
       "overflow": null,
       "overflow_x": null,
       "overflow_y": null,
       "padding": null,
       "right": null,
       "top": null,
       "visibility": null,
       "width": null
      }
     },
     "a95b038add1a4829a2501090a6eb549c": {
      "model_module": "@jupyter-widgets/controls",
      "model_module_version": "1.5.0",
      "model_name": "DescriptionStyleModel",
      "state": {
       "_model_module": "@jupyter-widgets/controls",
       "_model_module_version": "1.5.0",
       "_model_name": "DescriptionStyleModel",
       "_view_count": null,
       "_view_module": "@jupyter-widgets/base",
       "_view_module_version": "1.2.0",
       "_view_name": "StyleView",
       "description_width": ""
      }
     },
     "a9e9617ba3954b4dbb2deed884a677a9": {
      "model_module": "@jupyter-widgets/controls",
      "model_module_version": "1.5.0",
      "model_name": "DescriptionStyleModel",
      "state": {
       "_model_module": "@jupyter-widgets/controls",
       "_model_module_version": "1.5.0",
       "_model_name": "DescriptionStyleModel",
       "_view_count": null,
       "_view_module": "@jupyter-widgets/base",
       "_view_module_version": "1.2.0",
       "_view_name": "StyleView",
       "description_width": ""
      }
     },
     "aa83d44a8e9b4f6a8db1f591c5332738": {
      "model_module": "@jupyter-widgets/base",
      "model_module_version": "1.2.0",
      "model_name": "LayoutModel",
      "state": {
       "_model_module": "@jupyter-widgets/base",
       "_model_module_version": "1.2.0",
       "_model_name": "LayoutModel",
       "_view_count": null,
       "_view_module": "@jupyter-widgets/base",
       "_view_module_version": "1.2.0",
       "_view_name": "LayoutView",
       "align_content": null,
       "align_items": null,
       "align_self": null,
       "border": null,
       "bottom": null,
       "display": null,
       "flex": null,
       "flex_flow": null,
       "grid_area": null,
       "grid_auto_columns": null,
       "grid_auto_flow": null,
       "grid_auto_rows": null,
       "grid_column": null,
       "grid_gap": null,
       "grid_row": null,
       "grid_template_areas": null,
       "grid_template_columns": null,
       "grid_template_rows": null,
       "height": "16em",
       "justify_content": null,
       "justify_items": null,
       "left": null,
       "margin": null,
       "max_height": null,
       "max_width": null,
       "min_height": null,
       "min_width": null,
       "object_fit": null,
       "object_position": null,
       "order": null,
       "overflow": null,
       "overflow_x": null,
       "overflow_y": "auto",
       "padding": null,
       "right": null,
       "top": null,
       "visibility": null,
       "width": "100%"
      }
     },
     "b045feb2b4184b78b3b9f4dc5106375c": {
      "model_module": "@jupyter-widgets/controls",
      "model_module_version": "1.5.0",
      "model_name": "DescriptionStyleModel",
      "state": {
       "_model_module": "@jupyter-widgets/controls",
       "_model_module_version": "1.5.0",
       "_model_name": "DescriptionStyleModel",
       "_view_count": null,
       "_view_module": "@jupyter-widgets/base",
       "_view_module_version": "1.2.0",
       "_view_name": "StyleView",
       "description_width": ""
      }
     },
     "b0c695740cbc49ff9dcd7d56801e3623": {
      "model_module": "@jupyter-widgets/base",
      "model_module_version": "1.2.0",
      "model_name": "LayoutModel",
      "state": {
       "_model_module": "@jupyter-widgets/base",
       "_model_module_version": "1.2.0",
       "_model_name": "LayoutModel",
       "_view_count": null,
       "_view_module": "@jupyter-widgets/base",
       "_view_module_version": "1.2.0",
       "_view_name": "LayoutView",
       "align_content": null,
       "align_items": null,
       "align_self": null,
       "border": null,
       "bottom": null,
       "display": null,
       "flex": null,
       "flex_flow": null,
       "grid_area": null,
       "grid_auto_columns": null,
       "grid_auto_flow": null,
       "grid_auto_rows": null,
       "grid_column": null,
       "grid_gap": null,
       "grid_row": null,
       "grid_template_areas": null,
       "grid_template_columns": null,
       "grid_template_rows": null,
       "height": null,
       "justify_content": null,
       "justify_items": null,
       "left": null,
       "margin": null,
       "max_height": null,
       "max_width": null,
       "min_height": null,
       "min_width": null,
       "object_fit": null,
       "object_position": null,
       "order": null,
       "overflow": null,
       "overflow_x": null,
       "overflow_y": null,
       "padding": null,
       "right": null,
       "top": null,
       "visibility": null,
       "width": null
      }
     },
     "b1e4c52b7dc848bb8f548d28279e5446": {
      "model_module": "@jupyter-widgets/controls",
      "model_module_version": "1.5.0",
      "model_name": "HTMLModel",
      "state": {
       "_dom_classes": [],
       "_model_module": "@jupyter-widgets/controls",
       "_model_module_version": "1.5.0",
       "_model_name": "HTMLModel",
       "_view_count": null,
       "_view_module": "@jupyter-widgets/controls",
       "_view_module_version": "1.5.0",
       "_view_name": "HTMLView",
       "description": "",
       "description_tooltip": null,
       "layout": "IPY_MODEL_f1df04bd58794c0e895c43e6d6e6bb51",
       "placeholder": "​",
       "style": "IPY_MODEL_691c1e8eb130438ab6439f953eb7ebef",
       "value": ""
      }
     },
     "b977f98cb2be4762b501b58867ea5fa3": {
      "model_module": "@jupyter-widgets/controls",
      "model_module_version": "1.5.0",
      "model_name": "AccordionModel",
      "state": {
       "_dom_classes": [],
       "_model_module": "@jupyter-widgets/controls",
       "_model_module_version": "1.5.0",
       "_model_name": "AccordionModel",
       "_titles": {
        "0": "Log Output"
       },
       "_view_count": null,
       "_view_module": "@jupyter-widgets/controls",
       "_view_module_version": "1.5.0",
       "_view_name": "AccordionView",
       "box_style": "",
       "children": [
        "IPY_MODEL_764b907d38ab43fc9223120d7d3d7d65"
       ],
       "layout": "IPY_MODEL_6f37389231e949a587b685c4b11e3672",
       "selected_index": null
      }
     },
     "ba0034fb6fe84d92b1b058b1a176b4f0": {
      "model_module": "@jupyter-widgets/base",
      "model_module_version": "1.2.0",
      "model_name": "LayoutModel",
      "state": {
       "_model_module": "@jupyter-widgets/base",
       "_model_module_version": "1.2.0",
       "_model_name": "LayoutModel",
       "_view_count": null,
       "_view_module": "@jupyter-widgets/base",
       "_view_module_version": "1.2.0",
       "_view_name": "LayoutView",
       "align_content": null,
       "align_items": null,
       "align_self": null,
       "border": null,
       "bottom": null,
       "display": null,
       "flex": null,
       "flex_flow": null,
       "grid_area": null,
       "grid_auto_columns": null,
       "grid_auto_flow": null,
       "grid_auto_rows": null,
       "grid_column": null,
       "grid_gap": null,
       "grid_row": null,
       "grid_template_areas": null,
       "grid_template_columns": null,
       "grid_template_rows": null,
       "height": null,
       "justify_content": null,
       "justify_items": null,
       "left": null,
       "margin": null,
       "max_height": null,
       "max_width": null,
       "min_height": null,
       "min_width": null,
       "object_fit": null,
       "object_position": null,
       "order": null,
       "overflow": null,
       "overflow_x": null,
       "overflow_y": null,
       "padding": null,
       "right": null,
       "top": null,
       "visibility": null,
       "width": null
      }
     },
     "c09dbf495c07450896f9921db04c4236": {
      "model_module": "@jupyter-widgets/controls",
      "model_module_version": "1.5.0",
      "model_name": "DescriptionStyleModel",
      "state": {
       "_model_module": "@jupyter-widgets/controls",
       "_model_module_version": "1.5.0",
       "_model_name": "DescriptionStyleModel",
       "_view_count": null,
       "_view_module": "@jupyter-widgets/base",
       "_view_module_version": "1.2.0",
       "_view_name": "StyleView",
       "description_width": ""
      }
     },
     "c4e4b3ab41964cb291572594d683291c": {
      "model_module": "@jupyter-widgets/base",
      "model_module_version": "1.2.0",
      "model_name": "LayoutModel",
      "state": {
       "_model_module": "@jupyter-widgets/base",
       "_model_module_version": "1.2.0",
       "_model_name": "LayoutModel",
       "_view_count": null,
       "_view_module": "@jupyter-widgets/base",
       "_view_module_version": "1.2.0",
       "_view_name": "LayoutView",
       "align_content": null,
       "align_items": null,
       "align_self": null,
       "border": null,
       "bottom": null,
       "display": null,
       "flex": null,
       "flex_flow": null,
       "grid_area": null,
       "grid_auto_columns": null,
       "grid_auto_flow": null,
       "grid_auto_rows": null,
       "grid_column": null,
       "grid_gap": null,
       "grid_row": null,
       "grid_template_areas": null,
       "grid_template_columns": null,
       "grid_template_rows": null,
       "height": null,
       "justify_content": null,
       "justify_items": null,
       "left": null,
       "margin": null,
       "max_height": null,
       "max_width": null,
       "min_height": null,
       "min_width": null,
       "object_fit": null,
       "object_position": null,
       "order": null,
       "overflow": null,
       "overflow_x": null,
       "overflow_y": null,
       "padding": null,
       "right": null,
       "top": null,
       "visibility": null,
       "width": null
      }
     },
     "ced4173761d94486b366770404361a03": {
      "model_module": "@jupyter-widgets/base",
      "model_module_version": "1.2.0",
      "model_name": "LayoutModel",
      "state": {
       "_model_module": "@jupyter-widgets/base",
       "_model_module_version": "1.2.0",
       "_model_name": "LayoutModel",
       "_view_count": null,
       "_view_module": "@jupyter-widgets/base",
       "_view_module_version": "1.2.0",
       "_view_name": "LayoutView",
       "align_content": null,
       "align_items": null,
       "align_self": null,
       "border": null,
       "bottom": null,
       "display": null,
       "flex": null,
       "flex_flow": null,
       "grid_area": null,
       "grid_auto_columns": null,
       "grid_auto_flow": null,
       "grid_auto_rows": null,
       "grid_column": null,
       "grid_gap": null,
       "grid_row": null,
       "grid_template_areas": null,
       "grid_template_columns": null,
       "grid_template_rows": null,
       "height": null,
       "justify_content": null,
       "justify_items": null,
       "left": null,
       "margin": null,
       "max_height": null,
       "max_width": null,
       "min_height": null,
       "min_width": null,
       "object_fit": null,
       "object_position": null,
       "order": null,
       "overflow": null,
       "overflow_x": null,
       "overflow_y": null,
       "padding": null,
       "right": null,
       "top": null,
       "visibility": null,
       "width": null
      }
     },
     "d4c9a29a17df4939b67ed89ae1d5ba07": {
      "model_module": "@jupyter-widgets/base",
      "model_module_version": "1.2.0",
      "model_name": "LayoutModel",
      "state": {
       "_model_module": "@jupyter-widgets/base",
       "_model_module_version": "1.2.0",
       "_model_name": "LayoutModel",
       "_view_count": null,
       "_view_module": "@jupyter-widgets/base",
       "_view_module_version": "1.2.0",
       "_view_name": "LayoutView",
       "align_content": null,
       "align_items": null,
       "align_self": null,
       "border": null,
       "bottom": null,
       "display": null,
       "flex": null,
       "flex_flow": null,
       "grid_area": null,
       "grid_auto_columns": null,
       "grid_auto_flow": null,
       "grid_auto_rows": null,
       "grid_column": null,
       "grid_gap": null,
       "grid_row": null,
       "grid_template_areas": null,
       "grid_template_columns": null,
       "grid_template_rows": null,
       "height": null,
       "justify_content": null,
       "justify_items": null,
       "left": null,
       "margin": null,
       "max_height": null,
       "max_width": null,
       "min_height": null,
       "min_width": null,
       "object_fit": null,
       "object_position": null,
       "order": null,
       "overflow": null,
       "overflow_x": null,
       "overflow_y": null,
       "padding": null,
       "right": null,
       "top": null,
       "visibility": null,
       "width": null
      }
     },
     "d6343fca748c477db88fc3a19dc13f6f": {
      "model_module": "@jupyter-widgets/base",
      "model_module_version": "1.2.0",
      "model_name": "LayoutModel",
      "state": {
       "_model_module": "@jupyter-widgets/base",
       "_model_module_version": "1.2.0",
       "_model_name": "LayoutModel",
       "_view_count": null,
       "_view_module": "@jupyter-widgets/base",
       "_view_module_version": "1.2.0",
       "_view_name": "LayoutView",
       "align_content": null,
       "align_items": null,
       "align_self": null,
       "border": null,
       "bottom": null,
       "display": null,
       "flex": null,
       "flex_flow": null,
       "grid_area": null,
       "grid_auto_columns": null,
       "grid_auto_flow": null,
       "grid_auto_rows": null,
       "grid_column": null,
       "grid_gap": null,
       "grid_row": null,
       "grid_template_areas": null,
       "grid_template_columns": null,
       "grid_template_rows": null,
       "height": "16em",
       "justify_content": null,
       "justify_items": null,
       "left": null,
       "margin": null,
       "max_height": null,
       "max_width": null,
       "min_height": null,
       "min_width": null,
       "object_fit": null,
       "object_position": null,
       "order": null,
       "overflow": null,
       "overflow_x": null,
       "overflow_y": "auto",
       "padding": null,
       "right": null,
       "top": null,
       "visibility": null,
       "width": "100%"
      }
     },
     "d729db93823948a6955cb81140a2b743": {
      "model_module": "@jupyter-widgets/controls",
      "model_module_version": "1.5.0",
      "model_name": "DescriptionStyleModel",
      "state": {
       "_model_module": "@jupyter-widgets/controls",
       "_model_module_version": "1.5.0",
       "_model_name": "DescriptionStyleModel",
       "_view_count": null,
       "_view_module": "@jupyter-widgets/base",
       "_view_module_version": "1.2.0",
       "_view_name": "StyleView",
       "description_width": ""
      }
     },
     "d76d9c4e564346f1a0a94f4e4d5cbb28": {
      "model_module": "@jupyter-widgets/base",
      "model_module_version": "1.2.0",
      "model_name": "LayoutModel",
      "state": {
       "_model_module": "@jupyter-widgets/base",
       "_model_module_version": "1.2.0",
       "_model_name": "LayoutModel",
       "_view_count": null,
       "_view_module": "@jupyter-widgets/base",
       "_view_module_version": "1.2.0",
       "_view_name": "LayoutView",
       "align_content": null,
       "align_items": null,
       "align_self": null,
       "border": null,
       "bottom": null,
       "display": null,
       "flex": null,
       "flex_flow": null,
       "grid_area": null,
       "grid_auto_columns": null,
       "grid_auto_flow": null,
       "grid_auto_rows": null,
       "grid_column": null,
       "grid_gap": null,
       "grid_row": null,
       "grid_template_areas": null,
       "grid_template_columns": null,
       "grid_template_rows": null,
       "height": "16em",
       "justify_content": null,
       "justify_items": null,
       "left": null,
       "margin": null,
       "max_height": null,
       "max_width": null,
       "min_height": null,
       "min_width": null,
       "object_fit": null,
       "object_position": null,
       "order": null,
       "overflow": null,
       "overflow_x": null,
       "overflow_y": "auto",
       "padding": null,
       "right": null,
       "top": null,
       "visibility": null,
       "width": "100%"
      }
     },
     "dccc370360084837ad54bee6f7f64d60": {
      "model_module": "@jupyter-widgets/controls",
      "model_module_version": "1.5.0",
      "model_name": "HTMLModel",
      "state": {
       "_dom_classes": [],
       "_model_module": "@jupyter-widgets/controls",
       "_model_module_version": "1.5.0",
       "_model_name": "HTMLModel",
       "_view_count": null,
       "_view_module": "@jupyter-widgets/controls",
       "_view_module_version": "1.5.0",
       "_view_name": "HTMLView",
       "description": "",
       "description_tooltip": null,
       "layout": "IPY_MODEL_aa83d44a8e9b4f6a8db1f591c5332738",
       "placeholder": "​",
       "style": "IPY_MODEL_c09dbf495c07450896f9921db04c4236",
       "value": ""
      }
     },
     "e37f2d74a97f4d02961013d9fe4d4065": {
      "model_module": "@jupyter-widgets/controls",
      "model_module_version": "1.5.0",
      "model_name": "AccordionModel",
      "state": {
       "_dom_classes": [],
       "_model_module": "@jupyter-widgets/controls",
       "_model_module_version": "1.5.0",
       "_model_name": "AccordionModel",
       "_titles": {
        "0": "Log Output"
       },
       "_view_count": null,
       "_view_module": "@jupyter-widgets/controls",
       "_view_module_version": "1.5.0",
       "_view_name": "AccordionView",
       "box_style": "",
       "children": [
        "IPY_MODEL_3aa8eacf71244e128c0b8812a29149ad"
       ],
       "layout": "IPY_MODEL_a59711643f9445b4aadf6f18acb9fe0d",
       "selected_index": null
      }
     },
     "ee74f9a61f1b435bac3a935604a3d3d2": {
      "model_module": "@jupyter-widgets/controls",
      "model_module_version": "1.5.0",
      "model_name": "AccordionModel",
      "state": {
       "_dom_classes": [],
       "_model_module": "@jupyter-widgets/controls",
       "_model_module_version": "1.5.0",
       "_model_name": "AccordionModel",
       "_titles": {
        "0": "Log Output"
       },
       "_view_count": null,
       "_view_module": "@jupyter-widgets/controls",
       "_view_module_version": "1.5.0",
       "_view_name": "AccordionView",
       "box_style": "",
       "children": [
        "IPY_MODEL_dccc370360084837ad54bee6f7f64d60"
       ],
       "layout": "IPY_MODEL_d4c9a29a17df4939b67ed89ae1d5ba07",
       "selected_index": null
      }
     },
     "efd1a940e40e4d9ca77cadc0e01bc6fa": {
      "model_module": "@jupyter-widgets/controls",
      "model_module_version": "1.5.0",
      "model_name": "AccordionModel",
      "state": {
       "_dom_classes": [],
       "_model_module": "@jupyter-widgets/controls",
       "_model_module_version": "1.5.0",
       "_model_name": "AccordionModel",
       "_titles": {
        "0": "Log Output"
       },
       "_view_count": null,
       "_view_module": "@jupyter-widgets/controls",
       "_view_module_version": "1.5.0",
       "_view_name": "AccordionView",
       "box_style": "",
       "children": [
        "IPY_MODEL_f7d71a586522456e9da12aefe250badb"
       ],
       "layout": "IPY_MODEL_a13e9b32436d4562a563e66c24b65462",
       "selected_index": null
      }
     },
     "f1df04bd58794c0e895c43e6d6e6bb51": {
      "model_module": "@jupyter-widgets/base",
      "model_module_version": "1.2.0",
      "model_name": "LayoutModel",
      "state": {
       "_model_module": "@jupyter-widgets/base",
       "_model_module_version": "1.2.0",
       "_model_name": "LayoutModel",
       "_view_count": null,
       "_view_module": "@jupyter-widgets/base",
       "_view_module_version": "1.2.0",
       "_view_name": "LayoutView",
       "align_content": null,
       "align_items": null,
       "align_self": null,
       "border": null,
       "bottom": null,
       "display": null,
       "flex": null,
       "flex_flow": null,
       "grid_area": null,
       "grid_auto_columns": null,
       "grid_auto_flow": null,
       "grid_auto_rows": null,
       "grid_column": null,
       "grid_gap": null,
       "grid_row": null,
       "grid_template_areas": null,
       "grid_template_columns": null,
       "grid_template_rows": null,
       "height": "16em",
       "justify_content": null,
       "justify_items": null,
       "left": null,
       "margin": null,
       "max_height": null,
       "max_width": null,
       "min_height": null,
       "min_width": null,
       "object_fit": null,
       "object_position": null,
       "order": null,
       "overflow": null,
       "overflow_x": null,
       "overflow_y": "auto",
       "padding": null,
       "right": null,
       "top": null,
       "visibility": null,
       "width": "100%"
      }
     },
     "f28c4067341f46bc900d6f21f9a84321": {
      "model_module": "@jupyter-widgets/base",
      "model_module_version": "1.2.0",
      "model_name": "LayoutModel",
      "state": {
       "_model_module": "@jupyter-widgets/base",
       "_model_module_version": "1.2.0",
       "_model_name": "LayoutModel",
       "_view_count": null,
       "_view_module": "@jupyter-widgets/base",
       "_view_module_version": "1.2.0",
       "_view_name": "LayoutView",
       "align_content": null,
       "align_items": null,
       "align_self": null,
       "border": null,
       "bottom": null,
       "display": null,
       "flex": null,
       "flex_flow": null,
       "grid_area": null,
       "grid_auto_columns": null,
       "grid_auto_flow": null,
       "grid_auto_rows": null,
       "grid_column": null,
       "grid_gap": null,
       "grid_row": null,
       "grid_template_areas": null,
       "grid_template_columns": null,
       "grid_template_rows": null,
       "height": null,
       "justify_content": null,
       "justify_items": null,
       "left": null,
       "margin": null,
       "max_height": null,
       "max_width": null,
       "min_height": null,
       "min_width": null,
       "object_fit": null,
       "object_position": null,
       "order": null,
       "overflow": null,
       "overflow_x": null,
       "overflow_y": null,
       "padding": null,
       "right": null,
       "top": null,
       "visibility": null,
       "width": null
      }
     },
     "f7d71a586522456e9da12aefe250badb": {
      "model_module": "@jupyter-widgets/controls",
      "model_module_version": "1.5.0",
      "model_name": "HTMLModel",
      "state": {
       "_dom_classes": [],
       "_model_module": "@jupyter-widgets/controls",
       "_model_module_version": "1.5.0",
       "_model_name": "HTMLModel",
       "_view_count": null,
       "_view_module": "@jupyter-widgets/controls",
       "_view_module_version": "1.5.0",
       "_view_name": "HTMLView",
       "description": "",
       "description_tooltip": null,
       "layout": "IPY_MODEL_51d4a5fbc55740fb8a125eca89d52897",
       "placeholder": "​",
       "style": "IPY_MODEL_3a11c1aea2524d6a85b966681f3fdeb5",
       "value": ""
      }
     },
     "fbfd87eba5c741ce96604288e5e849bc": {
      "model_module": "@jupyter-widgets/base",
      "model_module_version": "1.2.0",
      "model_name": "LayoutModel",
      "state": {
       "_model_module": "@jupyter-widgets/base",
       "_model_module_version": "1.2.0",
       "_model_name": "LayoutModel",
       "_view_count": null,
       "_view_module": "@jupyter-widgets/base",
       "_view_module_version": "1.2.0",
       "_view_name": "LayoutView",
       "align_content": null,
       "align_items": null,
       "align_self": null,
       "border": null,
       "bottom": null,
       "display": null,
       "flex": null,
       "flex_flow": null,
       "grid_area": null,
       "grid_auto_columns": null,
       "grid_auto_flow": null,
       "grid_auto_rows": null,
       "grid_column": null,
       "grid_gap": null,
       "grid_row": null,
       "grid_template_areas": null,
       "grid_template_columns": null,
       "grid_template_rows": null,
       "height": "16em",
       "justify_content": null,
       "justify_items": null,
       "left": null,
       "margin": null,
       "max_height": null,
       "max_width": null,
       "min_height": null,
       "min_width": null,
       "object_fit": null,
       "object_position": null,
       "order": null,
       "overflow": null,
       "overflow_x": null,
       "overflow_y": "auto",
       "padding": null,
       "right": null,
       "top": null,
       "visibility": null,
       "width": "100%"
      }
     },
     "fdd0072bab0446a19efae186db169440": {
      "model_module": "@jupyter-widgets/base",
      "model_module_version": "1.2.0",
      "model_name": "LayoutModel",
      "state": {
       "_model_module": "@jupyter-widgets/base",
       "_model_module_version": "1.2.0",
       "_model_name": "LayoutModel",
       "_view_count": null,
       "_view_module": "@jupyter-widgets/base",
       "_view_module_version": "1.2.0",
       "_view_name": "LayoutView",
       "align_content": null,
       "align_items": null,
       "align_self": null,
       "border": null,
       "bottom": null,
       "display": null,
       "flex": null,
       "flex_flow": null,
       "grid_area": null,
       "grid_auto_columns": null,
       "grid_auto_flow": null,
       "grid_auto_rows": null,
       "grid_column": null,
       "grid_gap": null,
       "grid_row": null,
       "grid_template_areas": null,
       "grid_template_columns": null,
       "grid_template_rows": null,
       "height": null,
       "justify_content": null,
       "justify_items": null,
       "left": null,
       "margin": null,
       "max_height": null,
       "max_width": null,
       "min_height": null,
       "min_width": null,
       "object_fit": null,
       "object_position": null,
       "order": null,
       "overflow": null,
       "overflow_x": null,
       "overflow_y": null,
       "padding": null,
       "right": null,
       "top": null,
       "visibility": null,
       "width": null
      }
     }
    },
    "version_major": 2,
    "version_minor": 0
   }
  }
 },
 "nbformat": 4,
 "nbformat_minor": 4
}
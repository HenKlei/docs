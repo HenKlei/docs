{
 "cells": [
  {
   "cell_type": "code",
   "execution_count": 1,
   "metadata": {
    "execution": {
     "iopub.execute_input": "2020-11-19T15:31:57.919449Z",
     "iopub.status.busy": "2020-11-19T15:31:57.903024Z",
     "iopub.status.idle": "2020-11-19T15:31:57.926135Z",
     "shell.execute_reply": "2020-11-19T15:31:57.922675Z"
    }
   },
   "outputs": [
    {
     "name": "stdout",
     "output_type": "stream",
     "text": [
      "The pymor.discretizers.builtin.gui.jupyter extension is already loaded. To reload it, use:\n",
      "  %reload_ext pymor.discretizers.builtin.gui.jupyter\n"
     ]
    }
   ],
   "source": [
    "from IPython import get_ipython\n",
    "ip = get_ipython()\n",
    "if ip is not None:\n",
    "    ip.run_line_magic('load_ext', 'pymor.discretizers.builtin.gui.jupyter')\n",
    "%matplotlib inline\n",
    "\n",
    "import warnings\n",
    "warnings.filterwarnings(\"ignore\", category=UserWarning, module='torch')\n",
    "import pymor.tools.random\n",
    "pymor.tools.random._default_random_state = None"
   ]
  },
  {
   "cell_type": "code",
   "execution_count": 2,
   "metadata": {
    "execution": {
     "iopub.execute_input": "2020-11-19T15:31:57.928638Z",
     "iopub.status.busy": "2020-11-19T15:31:57.928015Z",
     "iopub.status.idle": "2020-11-19T15:31:58.188307Z",
     "shell.execute_reply": "2020-11-19T15:31:58.188944Z"
    }
   },
   "outputs": [
    {
     "data": {
      "application/vnd.jupyter.widget-view+json": {
       "model_id": "2180a034c35c47a5af213751649329ad",
       "version_major": 2,
       "version_minor": 0
      },
      "text/plain": [
       "Accordion(children=(HTML(value='', layout=Layout(height='16em', overflow_y='auto', width='100%')),), selected_…"
      ]
     },
     "metadata": {},
     "output_type": "display_data"
    }
   ],
   "source": [
    "from pymor.basic import *\n",
    "\n",
    "problem = StationaryProblem(\n",
    "      domain=RectDomain(),\n",
    "\n",
    "      rhs=LincombFunction(\n",
    "          [ExpressionFunction('ones(x.shape[:-1]) * 10', 2, ()), ConstantFunction(1., 2)],\n",
    "          [ProjectionParameterFunctional('mu'), 0.1]),\n",
    "\n",
    "      diffusion=LincombFunction(\n",
    "          [ExpressionFunction('1 - x[..., 0]', 2, ()), ExpressionFunction('x[..., 0]', 2, ())],\n",
    "          [ProjectionParameterFunctional('mu'), 1]),\n",
    "\n",
    "      dirichlet_data=LincombFunction(\n",
    "          [ExpressionFunction('2 * x[..., 0]', 2, ()), ConstantFunction(1., 2)],\n",
    "          [ProjectionParameterFunctional('mu'), 0.5]),\n",
    "\n",
    "      name='2DProblem'\n",
    "  )\n",
    "\n",
    "fom, _ = discretize_stationary_cg(problem, diameter=1/50)"
   ]
  },
  {
   "cell_type": "code",
   "execution_count": 3,
   "metadata": {
    "execution": {
     "iopub.execute_input": "2020-11-19T15:31:58.191274Z",
     "iopub.status.busy": "2020-11-19T15:31:58.190777Z",
     "iopub.status.idle": "2020-11-19T15:31:58.206955Z",
     "shell.execute_reply": "2020-11-19T15:31:58.207448Z"
    }
   },
   "outputs": [],
   "source": [
    "parameter_space = fom.parameters.space((0.1, 1))"
   ]
  },
  {
   "cell_type": "code",
   "execution_count": 4,
   "metadata": {
    "execution": {
     "iopub.execute_input": "2020-11-19T15:31:58.209759Z",
     "iopub.status.busy": "2020-11-19T15:31:58.209217Z",
     "iopub.status.idle": "2020-11-19T15:31:58.227982Z",
     "shell.execute_reply": "2020-11-19T15:31:58.228408Z"
    }
   },
   "outputs": [],
   "source": [
    "training_set = parameter_space.sample_uniformly(100)\n",
    "validation_set = parameter_space.sample_randomly(20)"
   ]
  },
  {
   "cell_type": "code",
   "execution_count": 5,
   "metadata": {
    "execution": {
     "iopub.execute_input": "2020-11-19T15:31:58.230586Z",
     "iopub.status.busy": "2020-11-19T15:31:58.230074Z",
     "iopub.status.idle": "2020-11-19T15:31:58.758716Z",
     "shell.execute_reply": "2020-11-19T15:31:58.759447Z"
    }
   },
   "outputs": [],
   "source": [
    "from pymor.reductors.neural_network import NeuralNetworkReductor\n",
    "\n",
    "reductor = NeuralNetworkReductor(fom,\n",
    "                                 training_set,\n",
    "                                 validation_set,\n",
    "                                 l2_err=1e-5,\n",
    "                                 ann_mse=1e-5)"
   ]
  },
  {
   "cell_type": "code",
   "execution_count": 6,
   "metadata": {
    "execution": {
     "iopub.execute_input": "2020-11-19T15:31:58.763010Z",
     "iopub.status.busy": "2020-11-19T15:31:58.762070Z",
     "iopub.status.idle": "2020-11-19T15:32:34.148937Z",
     "shell.execute_reply": "2020-11-19T15:32:34.149389Z"
    }
   },
   "outputs": [
    {
     "data": {
      "application/vnd.jupyter.widget-view+json": {
       "model_id": "1e0197c21cb14d3d9a344c3b59fd8c0d",
       "version_major": 2,
       "version_minor": 0
      },
      "text/plain": [
       "Accordion(children=(HTML(value='', layout=Layout(height='16em', overflow_y='auto', width='100%')),), selected_…"
      ]
     },
     "metadata": {},
     "output_type": "display_data"
    }
   ],
   "source": [
    "rom = reductor.reduce(restarts=100)"
   ]
  },
  {
   "cell_type": "code",
   "execution_count": 7,
   "metadata": {
    "execution": {
     "iopub.execute_input": "2020-11-19T15:32:34.151524Z",
     "iopub.status.busy": "2020-11-19T15:32:34.151012Z",
     "iopub.status.idle": "2020-11-19T15:32:35.149357Z",
     "shell.execute_reply": "2020-11-19T15:32:35.149804Z"
    }
   },
   "outputs": [
    {
     "data": {
      "application/vnd.jupyter.widget-view+json": {
       "model_id": "9ac56714aced4820aa20dd2a28b14cbd",
       "version_major": 2,
       "version_minor": 0
      },
      "text/plain": [
       "Accordion(children=(HTML(value='', layout=Layout(height='16em', overflow_y='auto', width='100%')),), selected_…"
      ]
     },
     "metadata": {},
     "output_type": "display_data"
    },
    {
     "data": {
      "application/vnd.jupyter.widget-view+json": {
       "model_id": "c15e102dea6946f58c0462860bd6c79a",
       "version_major": 2,
       "version_minor": 0
      },
      "text/plain": [
       "Output()"
      ]
     },
     "metadata": {},
     "output_type": "display_data"
    }
   ],
   "source": [
    "mu = parameter_space.sample_randomly(1)[0]\n",
    "\n",
    "U = fom.solve(mu)\n",
    "U_red = rom.solve(mu)\n",
    "U_red_recon = reductor.reconstruct(U_red)\n",
    "\n",
    "fom.visualize((U, U_red_recon),\n",
    "              legend=(f'Full solution for parameter {mu}', f'Reduced solution for parameter {mu}'))"
   ]
  },
  {
   "cell_type": "code",
   "execution_count": 8,
   "metadata": {
    "execution": {
     "iopub.execute_input": "2020-11-19T15:32:35.174081Z",
     "iopub.status.busy": "2020-11-19T15:32:35.173463Z",
     "iopub.status.idle": "2020-11-19T15:32:35.179089Z",
     "shell.execute_reply": "2020-11-19T15:32:35.174599Z"
    }
   },
   "outputs": [],
   "source": [
    "test_set = parameter_space.sample_randomly(10)"
   ]
  },
  {
   "cell_type": "code",
   "execution_count": 9,
   "metadata": {
    "execution": {
     "iopub.execute_input": "2020-11-19T15:32:35.195213Z",
     "iopub.status.busy": "2020-11-19T15:32:35.194679Z",
     "iopub.status.idle": "2020-11-19T15:32:35.200155Z",
     "shell.execute_reply": "2020-11-19T15:32:35.198299Z"
    }
   },
   "outputs": [],
   "source": [
    "U = fom.solution_space.empty(reserve=len(test_set))\n",
    "U_red = fom.solution_space.empty(reserve=len(test_set))\n",
    "\n",
    "speedups = []"
   ]
  },
  {
   "cell_type": "code",
   "execution_count": 10,
   "metadata": {
    "execution": {
     "iopub.execute_input": "2020-11-19T15:32:35.202654Z",
     "iopub.status.busy": "2020-11-19T15:32:35.202148Z",
     "iopub.status.idle": "2020-11-19T15:32:35.416558Z",
     "shell.execute_reply": "2020-11-19T15:32:35.415944Z"
    }
   },
   "outputs": [
    {
     "data": {
      "application/vnd.jupyter.widget-view+json": {
       "model_id": "20f63650feed435599d56f233563ec3d",
       "version_major": 2,
       "version_minor": 0
      },
      "text/plain": [
       "Accordion(children=(HTML(value='', layout=Layout(height='16em', overflow_y='auto', width='100%')),), selected_…"
      ]
     },
     "metadata": {},
     "output_type": "display_data"
    }
   ],
   "source": [
    "import time\n",
    "\n",
    "for mu in test_set:\n",
    "    tic = time.perf_counter()\n",
    "    U.append(fom.solve(mu))\n",
    "    time_fom = time.perf_counter() - tic\n",
    "\n",
    "    tic = time.perf_counter()\n",
    "    U_red.append(reductor.reconstruct(rom.solve(mu)))\n",
    "    time_red = time.perf_counter() - tic\n",
    "\n",
    "    speedups.append(time_fom / time_red)"
   ]
  },
  {
   "cell_type": "code",
   "execution_count": 11,
   "metadata": {
    "execution": {
     "iopub.execute_input": "2020-11-19T15:32:35.432251Z",
     "iopub.status.busy": "2020-11-19T15:32:35.428718Z",
     "iopub.status.idle": "2020-11-19T15:32:35.437168Z",
     "shell.execute_reply": "2020-11-19T15:32:35.436725Z"
    }
   },
   "outputs": [],
   "source": [
    "absolute_errors = (U - U_red).norm()\n",
    "relative_errors = (U - U_red).norm() / U.norm()"
   ]
  },
  {
   "cell_type": "code",
   "execution_count": 12,
   "metadata": {
    "execution": {
     "iopub.execute_input": "2020-11-19T15:32:35.439137Z",
     "iopub.status.busy": "2020-11-19T15:32:35.438640Z",
     "iopub.status.idle": "2020-11-19T15:32:35.457940Z",
     "shell.execute_reply": "2020-11-19T15:32:35.458425Z"
    }
   },
   "outputs": [
    {
     "data": {
      "text/plain": [
       "0.006289521325984161"
      ]
     },
     "execution_count": 12,
     "metadata": {},
     "output_type": "execute_result"
    }
   ],
   "source": [
    "import numpy as np\n",
    "\n",
    "np.average(absolute_errors)"
   ]
  },
  {
   "cell_type": "code",
   "execution_count": 13,
   "metadata": {
    "execution": {
     "iopub.execute_input": "2020-11-19T15:32:35.460442Z",
     "iopub.status.busy": "2020-11-19T15:32:35.459962Z",
     "iopub.status.idle": "2020-11-19T15:32:35.477871Z",
     "shell.execute_reply": "2020-11-19T15:32:35.478358Z"
    }
   },
   "outputs": [
    {
     "data": {
      "text/plain": [
       "8.106265612992289e-05"
      ]
     },
     "execution_count": 13,
     "metadata": {},
     "output_type": "execute_result"
    }
   ],
   "source": [
    "np.average(relative_errors)"
   ]
  },
  {
   "cell_type": "code",
   "execution_count": 14,
   "metadata": {
    "execution": {
     "iopub.execute_input": "2020-11-19T15:32:35.480435Z",
     "iopub.status.busy": "2020-11-19T15:32:35.479927Z",
     "iopub.status.idle": "2020-11-19T15:32:35.506294Z",
     "shell.execute_reply": "2020-11-19T15:32:35.507054Z"
    }
   },
   "outputs": [
    {
     "data": {
      "text/plain": [
       "10.386295291639307"
      ]
     },
     "execution_count": 14,
     "metadata": {},
     "output_type": "execute_result"
    }
   ],
   "source": [
    "np.median(speedups)"
   ]
  }
 ],
 "metadata": {
  "kernelspec": {
   "display_name": "Python 3",
   "language": "python",
   "name": "python3"
  },
  "language_info": {
   "codemirror_mode": {
    "name": "ipython",
    "version": 3
   },
   "file_extension": ".py",
   "mimetype": "text/x-python",
   "name": "python",
   "nbconvert_exporter": "python",
   "pygments_lexer": "ipython3",
   "version": "3.7.9"
  },
  "widgets": {
   "application/vnd.jupyter.widget-state+json": {
    "state": {
     "08d7a91a6eb14199ace4db70e44c4670": {
      "model_module": "@jupyter-widgets/controls",
      "model_module_version": "1.5.0",
      "model_name": "HTMLModel",
      "state": {
       "_dom_classes": [],
       "_model_module": "@jupyter-widgets/controls",
       "_model_module_version": "1.5.0",
       "_model_name": "HTMLModel",
       "_view_count": null,
       "_view_module": "@jupyter-widgets/controls",
       "_view_module_version": "1.5.0",
       "_view_name": "HTMLView",
       "description": "",
       "description_tooltip": null,
       "layout": "IPY_MODEL_ff8f822261df4c7eb2391d08443b2907",
       "placeholder": "​",
       "style": "IPY_MODEL_95211bbf992e47c985ccd6cbf5597615",
       "value": ""
      }
     },
     "0e1f532d8fca40ce8687ab164f653768": {
      "model_module": "@jupyter-widgets/controls",
      "model_module_version": "1.5.0",
      "model_name": "DescriptionStyleModel",
      "state": {
       "_model_module": "@jupyter-widgets/controls",
       "_model_module_version": "1.5.0",
       "_model_name": "DescriptionStyleModel",
       "_view_count": null,
       "_view_module": "@jupyter-widgets/base",
       "_view_module_version": "1.2.0",
       "_view_name": "StyleView",
       "description_width": ""
      }
     },
     "10c184c472f7497c9db581f2e72d4e3e": {
      "model_module": "@jupyter-widgets/controls",
      "model_module_version": "1.5.0",
      "model_name": "DescriptionStyleModel",
      "state": {
       "_model_module": "@jupyter-widgets/controls",
       "_model_module_version": "1.5.0",
       "_model_name": "DescriptionStyleModel",
       "_view_count": null,
       "_view_module": "@jupyter-widgets/base",
       "_view_module_version": "1.2.0",
       "_view_name": "StyleView",
       "description_width": ""
      }
     },
     "1e0197c21cb14d3d9a344c3b59fd8c0d": {
      "model_module": "@jupyter-widgets/controls",
      "model_module_version": "1.5.0",
      "model_name": "AccordionModel",
      "state": {
       "_dom_classes": [],
       "_model_module": "@jupyter-widgets/controls",
       "_model_module_version": "1.5.0",
       "_model_name": "AccordionModel",
       "_titles": {
        "0": "Log Output"
       },
       "_view_count": null,
       "_view_module": "@jupyter-widgets/controls",
       "_view_module_version": "1.5.0",
       "_view_name": "AccordionView",
       "box_style": "",
       "children": [
        "IPY_MODEL_249d75a097d9480c84c8b46fb5524540"
       ],
       "layout": "IPY_MODEL_832c3040ba2f430c81e00ae1ce6c9037",
       "selected_index": null
      }
     },
     "1e98b0383ad04604971beabbbfc5730a": {
      "model_module": "@jupyter-widgets/base",
      "model_module_version": "1.2.0",
      "model_name": "LayoutModel",
      "state": {
       "_model_module": "@jupyter-widgets/base",
       "_model_module_version": "1.2.0",
       "_model_name": "LayoutModel",
       "_view_count": null,
       "_view_module": "@jupyter-widgets/base",
       "_view_module_version": "1.2.0",
       "_view_name": "LayoutView",
       "align_content": null,
       "align_items": null,
       "align_self": null,
       "border": null,
       "bottom": null,
       "display": null,
       "flex": null,
       "flex_flow": null,
       "grid_area": null,
       "grid_auto_columns": null,
       "grid_auto_flow": null,
       "grid_auto_rows": null,
       "grid_column": null,
       "grid_gap": null,
       "grid_row": null,
       "grid_template_areas": null,
       "grid_template_columns": null,
       "grid_template_rows": null,
       "height": "16em",
       "justify_content": null,
       "justify_items": null,
       "left": null,
       "margin": null,
       "max_height": null,
       "max_width": null,
       "min_height": null,
       "min_width": null,
       "object_fit": null,
       "object_position": null,
       "order": null,
       "overflow": null,
       "overflow_x": null,
       "overflow_y": "auto",
       "padding": null,
       "right": null,
       "top": null,
       "visibility": null,
       "width": "100%"
      }
     },
     "20f63650feed435599d56f233563ec3d": {
      "model_module": "@jupyter-widgets/controls",
      "model_module_version": "1.5.0",
      "model_name": "AccordionModel",
      "state": {
       "_dom_classes": [],
       "_model_module": "@jupyter-widgets/controls",
       "_model_module_version": "1.5.0",
       "_model_name": "AccordionModel",
       "_titles": {
        "0": "Log Output"
       },
       "_view_count": null,
       "_view_module": "@jupyter-widgets/controls",
       "_view_module_version": "1.5.0",
       "_view_name": "AccordionView",
       "box_style": "",
       "children": [
        "IPY_MODEL_f26cf92f37b64033b75fb0ed89fa9f6c"
       ],
       "layout": "IPY_MODEL_f462a43840054afabc0163877037303a",
       "selected_index": null
      }
     },
     "213a008d61314fa7a8727f5cb3291ad3": {
      "model_module": "@jupyter-widgets/base",
      "model_module_version": "1.2.0",
      "model_name": "LayoutModel",
      "state": {
       "_model_module": "@jupyter-widgets/base",
       "_model_module_version": "1.2.0",
       "_model_name": "LayoutModel",
       "_view_count": null,
       "_view_module": "@jupyter-widgets/base",
       "_view_module_version": "1.2.0",
       "_view_name": "LayoutView",
       "align_content": null,
       "align_items": null,
       "align_self": null,
       "border": null,
       "bottom": null,
       "display": null,
       "flex": null,
       "flex_flow": null,
       "grid_area": null,
       "grid_auto_columns": null,
       "grid_auto_flow": null,
       "grid_auto_rows": null,
       "grid_column": null,
       "grid_gap": null,
       "grid_row": null,
       "grid_template_areas": null,
       "grid_template_columns": null,
       "grid_template_rows": null,
       "height": null,
       "justify_content": null,
       "justify_items": null,
       "left": null,
       "margin": null,
       "max_height": null,
       "max_width": null,
       "min_height": null,
       "min_width": null,
       "object_fit": null,
       "object_position": null,
       "order": null,
       "overflow": null,
       "overflow_x": null,
       "overflow_y": null,
       "padding": null,
       "right": null,
       "top": null,
       "visibility": null,
       "width": null
      }
     },
     "2180a034c35c47a5af213751649329ad": {
      "model_module": "@jupyter-widgets/controls",
      "model_module_version": "1.5.0",
      "model_name": "AccordionModel",
      "state": {
       "_dom_classes": [],
       "_model_module": "@jupyter-widgets/controls",
       "_model_module_version": "1.5.0",
       "_model_name": "AccordionModel",
       "_titles": {
        "0": "Log Output"
       },
       "_view_count": null,
       "_view_module": "@jupyter-widgets/controls",
       "_view_module_version": "1.5.0",
       "_view_name": "AccordionView",
       "box_style": "",
       "children": [
        "IPY_MODEL_fdd1e45da00640f29c640dee8ed3b28d"
       ],
       "layout": "IPY_MODEL_706be5b1a2b342a2a9cfdcad4886ad73",
       "selected_index": null
      }
     },
     "249d75a097d9480c84c8b46fb5524540": {
      "model_module": "@jupyter-widgets/controls",
      "model_module_version": "1.5.0",
      "model_name": "HTMLModel",
      "state": {
       "_dom_classes": [],
       "_model_module": "@jupyter-widgets/controls",
       "_model_module_version": "1.5.0",
       "_model_name": "HTMLModel",
       "_view_count": null,
       "_view_module": "@jupyter-widgets/controls",
       "_view_module_version": "1.5.0",
       "_view_name": "HTMLView",
       "description": "",
       "description_tooltip": null,
       "layout": "IPY_MODEL_1e98b0383ad04604971beabbbfc5730a",
       "placeholder": "​",
       "style": "IPY_MODEL_3b828fcccb1949b399a40698fc09defb",
       "value": "<p style=\"line-height:120%\">00:01 <bold>NeuralNetworkReductor</bold>: Building reduced basis ...</p><p style=\"line-height:120%\">00:01 |   <bold>NeuralNetworkReductor</bold>: Computing training snapshots ...</p><p style=\"line-height:120%\">00:01 |   |   <bold>StationaryModel</bold>: Solving 2DProblem_CG for {mu: [0.1]} ...</p><p style=\"line-height:120%\">00:01 |   |   <bold>StationaryModel</bold>: Solving 2DProblem_CG for {mu: [0.1090909090909091]} ...</p><p style=\"line-height:120%\">00:01 |   |   <bold>StationaryModel</bold>: Solving 2DProblem_CG for {mu: [0.1181818181818182]} ...</p><p style=\"line-height:120%\">00:01 |   |   <bold>StationaryModel</bold>: Solving 2DProblem_CG for {mu: [0.1272727272727273]} ...</p><p style=\"line-height:120%\">00:01 |   |   <bold>StationaryModel</bold>: Solving 2DProblem_CG for {mu: [0.13636363636363635]} ...</p><p style=\"line-height:120%\">00:01 |   |   <bold>StationaryModel</bold>: Solving 2DProblem_CG for {mu: [0.14545454545454545]} ...</p><p style=\"line-height:120%\">00:01 |   |   <bold>StationaryModel</bold>: Solving 2DProblem_CG for {mu: [0.15454545454545454]} ...</p><p style=\"line-height:120%\">00:01 |   |   <bold>StationaryModel</bold>: Solving 2DProblem_CG for {mu: [0.16363636363636364]} ...</p><p style=\"line-height:120%\">00:01 |   |   <bold>StationaryModel</bold>: Solving 2DProblem_CG for {mu: [0.17272727272727273]} ...</p><p style=\"line-height:120%\">00:01 |   |   <bold>StationaryModel</bold>: Solving 2DProblem_CG for {mu: [0.18181818181818182]} ...</p><p style=\"line-height:120%\">00:01 |   |   <bold>StationaryModel</bold>: Solving 2DProblem_CG for {mu: [0.19090909090909092]} ...</p><p style=\"line-height:120%\">00:01 |   |   <bold>StationaryModel</bold>: Solving 2DProblem_CG for {mu: [0.2]} ...</p><p style=\"line-height:120%\">00:01 |   |   <bold>StationaryModel</bold>: Solving 2DProblem_CG for {mu: [0.2090909090909091]} ...</p><p style=\"line-height:120%\">00:01 |   |   <bold>StationaryModel</bold>: Solving 2DProblem_CG for {mu: [0.2181818181818182]} ...</p><p style=\"line-height:120%\">00:01 |   |   <bold>StationaryModel</bold>: Solving 2DProblem_CG for {mu: [0.22727272727272727]} ...</p><p style=\"line-height:120%\">00:01 |   |   <bold>StationaryModel</bold>: Solving 2DProblem_CG for {mu: [0.23636363636363636]} ...</p><p style=\"line-height:120%\">00:01 |   |   <bold>StationaryModel</bold>: Solving 2DProblem_CG for {mu: [0.24545454545454545]} ...</p><p style=\"line-height:120%\">00:01 |   |   <bold>StationaryModel</bold>: Solving 2DProblem_CG for {mu: [0.2545454545454545]} ...</p><p style=\"line-height:120%\">00:01 |   |   <bold>StationaryModel</bold>: Solving 2DProblem_CG for {mu: [0.26363636363636367]} ...</p><p style=\"line-height:120%\">00:01 |   |   <bold>StationaryModel</bold>: Solving 2DProblem_CG for {mu: [0.2727272727272727]} ...</p><p style=\"line-height:120%\">00:01 |   |   <bold>StationaryModel</bold>: Solving 2DProblem_CG for {mu: [0.28181818181818186]} ...</p><p style=\"line-height:120%\">00:01 |   |   <bold>StationaryModel</bold>: Solving 2DProblem_CG for {mu: [0.2909090909090909]} ...</p><p style=\"line-height:120%\">00:02 |   |   <bold>StationaryModel</bold>: Solving 2DProblem_CG for {mu: [0.3]} ...</p><p style=\"line-height:120%\">00:02 |   |   <bold>StationaryModel</bold>: Solving 2DProblem_CG for {mu: [0.3090909090909091]} ...</p><p style=\"line-height:120%\">00:02 |   |   <bold>StationaryModel</bold>: Solving 2DProblem_CG for {mu: [0.3181818181818182]} ...</p><p style=\"line-height:120%\">00:02 |   |   <bold>StationaryModel</bold>: Solving 2DProblem_CG for {mu: [0.32727272727272727]} ...</p><p style=\"line-height:120%\">00:02 |   |   <bold>StationaryModel</bold>: Solving 2DProblem_CG for {mu: [0.33636363636363636]} ...</p><p style=\"line-height:120%\">00:02 |   |   <bold>StationaryModel</bold>: Solving 2DProblem_CG for {mu: [0.34545454545454546]} ...</p><p style=\"line-height:120%\">00:02 |   |   <bold>StationaryModel</bold>: Solving 2DProblem_CG for {mu: [0.3545454545454545]} ...</p><p style=\"line-height:120%\">00:02 |   |   <bold>StationaryModel</bold>: Solving 2DProblem_CG for {mu: [0.36363636363636365]} ...</p><p style=\"line-height:120%\">00:02 |   |   <bold>StationaryModel</bold>: Solving 2DProblem_CG for {mu: [0.3727272727272727]} ...</p><p style=\"line-height:120%\">00:02 |   |   <bold>StationaryModel</bold>: Solving 2DProblem_CG for {mu: [0.38181818181818183]} ...</p><p style=\"line-height:120%\">00:02 |   |   <bold>StationaryModel</bold>: Solving 2DProblem_CG for {mu: [0.3909090909090909]} ...</p><p style=\"line-height:120%\">00:02 |   |   <bold>StationaryModel</bold>: Solving 2DProblem_CG for {mu: [0.4]} ...</p><p style=\"line-height:120%\">00:02 |   |   <bold>StationaryModel</bold>: Solving 2DProblem_CG for {mu: [0.40909090909090906]} ...</p><p style=\"line-height:120%\">00:02 |   |   <bold>StationaryModel</bold>: Solving 2DProblem_CG for {mu: [0.4181818181818182]} ...</p><p style=\"line-height:120%\">00:02 |   |   <bold>StationaryModel</bold>: Solving 2DProblem_CG for {mu: [0.42727272727272725]} ...</p><p style=\"line-height:120%\">00:02 |   |   <bold>StationaryModel</bold>: Solving 2DProblem_CG for {mu: [0.4363636363636364]} ...</p><p style=\"line-height:120%\">00:02 |   |   <bold>StationaryModel</bold>: Solving 2DProblem_CG for {mu: [0.44545454545454544]} ...</p><p style=\"line-height:120%\">00:02 |   |   <bold>StationaryModel</bold>: Solving 2DProblem_CG for {mu: [0.4545454545454546]} ...</p><p style=\"line-height:120%\">00:02 |   |   <bold>StationaryModel</bold>: Solving 2DProblem_CG for {mu: [0.4636363636363636]} ...</p><p style=\"line-height:120%\">00:02 |   |   <bold>StationaryModel</bold>: Solving 2DProblem_CG for {mu: [0.47272727272727266]} ...</p><p style=\"line-height:120%\">00:02 |   |   <bold>StationaryModel</bold>: Solving 2DProblem_CG for {mu: [0.4818181818181818]} ...</p><p style=\"line-height:120%\">00:02 |   |   <bold>StationaryModel</bold>: Solving 2DProblem_CG for {mu: [0.49090909090909085]} ...</p><p style=\"line-height:120%\">00:02 |   |   <bold>StationaryModel</bold>: Solving 2DProblem_CG for {mu: [0.5]} ...</p><p style=\"line-height:120%\">00:02 |   |   <bold>StationaryModel</bold>: Solving 2DProblem_CG for {mu: [0.509090909090909]} ...</p><p style=\"line-height:120%\">00:02 |   |   <bold>StationaryModel</bold>: Solving 2DProblem_CG for {mu: [0.5181818181818182]} ...</p><p style=\"line-height:120%\">00:02 |   |   <bold>StationaryModel</bold>: Solving 2DProblem_CG for {mu: [0.5272727272727272]} ...</p><p style=\"line-height:120%\">00:02 |   |   <bold>StationaryModel</bold>: Solving 2DProblem_CG for {mu: [0.5363636363636364]} ...</p><p style=\"line-height:120%\">00:02 |   |   <bold>StationaryModel</bold>: Solving 2DProblem_CG for {mu: [0.5454545454545454]} ...</p><p style=\"line-height:120%\">00:02 |   |   <bold>StationaryModel</bold>: Solving 2DProblem_CG for {mu: [0.5545454545454546]} ...</p><p style=\"line-height:120%\">00:02 |   |   <bold>StationaryModel</bold>: Solving 2DProblem_CG for {mu: [0.5636363636363636]} ...</p><p style=\"line-height:120%\">00:02 |   |   <bold>StationaryModel</bold>: Solving 2DProblem_CG for {mu: [0.5727272727272728]} ...</p><p style=\"line-height:120%\">00:02 |   |   <bold>StationaryModel</bold>: Solving 2DProblem_CG for {mu: [0.5818181818181818]} ...</p><p style=\"line-height:120%\">00:02 |   |   <bold>StationaryModel</bold>: Solving 2DProblem_CG for {mu: [0.5909090909090909]} ...</p><p style=\"line-height:120%\">00:02 |   |   <bold>StationaryModel</bold>: Solving 2DProblem_CG for {mu: [0.6]} ...</p><p style=\"line-height:120%\">00:02 |   |   <bold>StationaryModel</bold>: Solving 2DProblem_CG for {mu: [0.609090909090909]} ...</p><p style=\"line-height:120%\">00:02 |   |   <bold>StationaryModel</bold>: Solving 2DProblem_CG for {mu: [0.6181818181818182]} ...</p><p style=\"line-height:120%\">00:02 |   |   <bold>StationaryModel</bold>: Solving 2DProblem_CG for {mu: [0.6272727272727272]} ...</p><p style=\"line-height:120%\">00:02 |   |   <bold>StationaryModel</bold>: Solving 2DProblem_CG for {mu: [0.6363636363636364]} ...</p><p style=\"line-height:120%\">00:02 |   |   <bold>StationaryModel</bold>: Solving 2DProblem_CG for {mu: [0.6454545454545454]} ...</p><p style=\"line-height:120%\">00:02 |   |   <bold>StationaryModel</bold>: Solving 2DProblem_CG for {mu: [0.6545454545454545]} ...</p><p style=\"line-height:120%\">00:02 |   |   <bold>StationaryModel</bold>: Solving 2DProblem_CG for {mu: [0.6636363636363636]} ...</p><p style=\"line-height:120%\">00:02 |   |   <bold>StationaryModel</bold>: Solving 2DProblem_CG for {mu: [0.6727272727272727]} ...</p><p style=\"line-height:120%\">00:02 |   |   <bold>StationaryModel</bold>: Solving 2DProblem_CG for {mu: [0.6818181818181818]} ...</p><p style=\"line-height:120%\">00:02 |   |   <bold>StationaryModel</bold>: Solving 2DProblem_CG for {mu: [0.6909090909090908]} ...</p><p style=\"line-height:120%\">00:02 |   |   <bold>StationaryModel</bold>: Solving 2DProblem_CG for {mu: [0.7]} ...</p><p style=\"line-height:120%\">00:02 |   |   <bold>StationaryModel</bold>: Solving 2DProblem_CG for {mu: [0.709090909090909]} ...</p><p style=\"line-height:120%\">00:02 |   |   <bold>StationaryModel</bold>: Solving 2DProblem_CG for {mu: [0.7181818181818181]} ...</p><p style=\"line-height:120%\">00:02 |   |   <bold>StationaryModel</bold>: Solving 2DProblem_CG for {mu: [0.7272727272727272]} ...</p><p style=\"line-height:120%\">00:02 |   |   <bold>StationaryModel</bold>: Solving 2DProblem_CG for {mu: [0.7363636363636363]} ...</p><p style=\"line-height:120%\">00:02 |   |   <bold>StationaryModel</bold>: Solving 2DProblem_CG for {mu: [0.7454545454545454]} ...</p><p style=\"line-height:120%\">00:02 |   |   <bold>StationaryModel</bold>: Solving 2DProblem_CG for {mu: [0.7545454545454545]} ...</p><p style=\"line-height:120%\">00:02 |   |   <bold>StationaryModel</bold>: Solving 2DProblem_CG for {mu: [0.7636363636363636]} ...</p><p style=\"line-height:120%\">00:02 |   |   <bold>StationaryModel</bold>: Solving 2DProblem_CG for {mu: [0.7727272727272727]} ...</p><p style=\"line-height:120%\">00:02 |   |   <bold>StationaryModel</bold>: Solving 2DProblem_CG for {mu: [0.7818181818181817]} ...</p><p style=\"line-height:120%\">00:02 |   |   <bold>StationaryModel</bold>: Solving 2DProblem_CG for {mu: [0.7909090909090909]} ...</p><p style=\"line-height:120%\">00:02 |   |   <bold>StationaryModel</bold>: Solving 2DProblem_CG for {mu: [0.7999999999999999]} ...</p><p style=\"line-height:120%\">00:02 |   |   <bold>StationaryModel</bold>: Solving 2DProblem_CG for {mu: [0.8090909090909091]} ...</p><p style=\"line-height:120%\">00:02 |   |   <bold>StationaryModel</bold>: Solving 2DProblem_CG for {mu: [0.8181818181818181]} ...</p><p style=\"line-height:120%\">00:03 |   |   <bold>StationaryModel</bold>: Solving 2DProblem_CG for {mu: [0.8272727272727273]} ...</p><p style=\"line-height:120%\">00:03 |   |   <bold>StationaryModel</bold>: Solving 2DProblem_CG for {mu: [0.8363636363636363]} ...</p><p style=\"line-height:120%\">00:03 |   |   <bold>StationaryModel</bold>: Solving 2DProblem_CG for {mu: [0.8454545454545453]} ...</p><p style=\"line-height:120%\">00:03 |   |   <bold>StationaryModel</bold>: Solving 2DProblem_CG for {mu: [0.8545454545454545]} ...</p><p style=\"line-height:120%\">00:03 |   |   <bold>StationaryModel</bold>: Solving 2DProblem_CG for {mu: [0.8636363636363635]} ...</p><p style=\"line-height:120%\">00:03 |   |   <bold>StationaryModel</bold>: Solving 2DProblem_CG for {mu: [0.8727272727272727]} ...</p><p style=\"line-height:120%\">00:03 |   |   <bold>StationaryModel</bold>: Solving 2DProblem_CG for {mu: [0.8818181818181817]} ...</p><p style=\"line-height:120%\">00:03 |   |   <bold>StationaryModel</bold>: Solving 2DProblem_CG for {mu: [0.8909090909090909]} ...</p><p style=\"line-height:120%\">00:03 |   |   <bold>StationaryModel</bold>: Solving 2DProblem_CG for {mu: [0.8999999999999999]} ...</p><p style=\"line-height:120%\">00:03 |   |   <bold>StationaryModel</bold>: Solving 2DProblem_CG for {mu: [0.9090909090909091]} ...</p><p style=\"line-height:120%\">00:03 |   |   <bold>StationaryModel</bold>: Solving 2DProblem_CG for {mu: [0.9181818181818181]} ...</p><p style=\"line-height:120%\">00:03 |   |   <bold>StationaryModel</bold>: Solving 2DProblem_CG for {mu: [0.9272727272727272]} ...</p><p style=\"line-height:120%\">00:03 |   |   <bold>StationaryModel</bold>: Solving 2DProblem_CG for {mu: [0.9363636363636363]} ...</p><p style=\"line-height:120%\">00:03 |   |   <bold>StationaryModel</bold>: Solving 2DProblem_CG for {mu: [0.9454545454545454]} ...</p><p style=\"line-height:120%\">00:03 |   |   <bold>StationaryModel</bold>: Solving 2DProblem_CG for {mu: [0.9545454545454545]} ...</p><p style=\"line-height:120%\">00:03 |   |   <bold>StationaryModel</bold>: Solving 2DProblem_CG for {mu: [0.9636363636363636]} ...</p><p style=\"line-height:120%\">00:03 |   |   <bold>StationaryModel</bold>: Solving 2DProblem_CG for {mu: [0.9727272727272727]} ...</p><p style=\"line-height:120%\">00:03 |   |   <bold>StationaryModel</bold>: Solving 2DProblem_CG for {mu: [0.9818181818181817]} ...</p><p style=\"line-height:120%\">00:03 |   |   <bold>StationaryModel</bold>: Solving 2DProblem_CG for {mu: [0.9909090909090909]} ...</p><p style=\"line-height:120%\">00:03 |   |   <bold>StationaryModel</bold>: Solving 2DProblem_CG for {mu: [1.0]} ...</p><p style=\"line-height:120%\">00:03 |   <bold>pod</bold>: Computing SVD ...</p><p style=\"line-height:120%\">00:03 |   |   <bold>method_of_snapshots</bold>: Computing Gramian (100 vectors) ...</p><p style=\"line-height:120%\">00:03 |   |   <bold>method_of_snapshots</bold>: Computing eigenvalue decomposition ...</p><p style=\"line-height:120%\">00:03 |   |   <bold>method_of_snapshots</bold>: Computing left-singular vectors (8 vectors) ...</p><p style=\"line-height:120%\">00:03 |   <bold>pod</bold>: Checking orthonormality ...</p><p style=\"line-height:120%\">00:03 |   <bold>pod</bold>: Reorthogonalizing POD modes ...</p><p style=\"line-height:120%\">00:03 <bold>NeuralNetworkReductor</bold>: Computing validation snapshots ...</p><p style=\"line-height:120%\">00:03 |   <bold>StationaryModel</bold>: Solving 2DProblem_CG for {mu: [0.4370861069626263]} ...</p><p style=\"line-height:120%\">00:03 |   <bold>StationaryModel</bold>: Solving 2DProblem_CG for {mu: [0.9556428757689246]} ...</p><p style=\"line-height:120%\">00:03 |   <bold>StationaryModel</bold>: Solving 2DProblem_CG for {mu: [0.7587945476302645]} ...</p><p style=\"line-height:120%\">00:03 |   <bold>StationaryModel</bold>: Solving 2DProblem_CG for {mu: [0.6387926357773329]} ...</p><p style=\"line-height:120%\">00:03 |   <bold>StationaryModel</bold>: Solving 2DProblem_CG for {mu: [0.24041677639819287]} ...</p><p style=\"line-height:120%\">00:03 |   <bold>StationaryModel</bold>: Solving 2DProblem_CG for {mu: [0.2403950683025824]} ...</p><p style=\"line-height:120%\">00:03 |   <bold>StationaryModel</bold>: Solving 2DProblem_CG for {mu: [0.15227525095137953]} ...</p><p style=\"line-height:120%\">00:03 |   <bold>StationaryModel</bold>: Solving 2DProblem_CG for {mu: [0.8795585311974417]} ...</p><p style=\"line-height:120%\">00:03 |   <bold>StationaryModel</bold>: Solving 2DProblem_CG for {mu: [0.6410035105688879]} ...</p><p style=\"line-height:120%\">00:03 |   <bold>StationaryModel</bold>: Solving 2DProblem_CG for {mu: [0.737265320016441]} ...</p><p style=\"line-height:120%\">00:03 |   <bold>StationaryModel</bold>: Solving 2DProblem_CG for {mu: [0.1185260448662222]} ...</p><p style=\"line-height:120%\">00:03 |   <bold>StationaryModel</bold>: Solving 2DProblem_CG for {mu: [0.9729188669457949]} ...</p><p style=\"line-height:120%\">00:03 |   <bold>StationaryModel</bold>: Solving 2DProblem_CG for {mu: [0.8491983767203796]} ...</p><p style=\"line-height:120%\">00:03 |   <bold>StationaryModel</bold>: Solving 2DProblem_CG for {mu: [0.29110519961044856]} ...</p><p style=\"line-height:120%\">00:03 |   <bold>StationaryModel</bold>: Solving 2DProblem_CG for {mu: [0.26364247048639056]} ...</p><p style=\"line-height:120%\">00:03 |   <bold>StationaryModel</bold>: Solving 2DProblem_CG for {mu: [0.2650640588680905]} ...</p><p style=\"line-height:120%\">00:03 |   <bold>StationaryModel</bold>: Solving 2DProblem_CG for {mu: [0.373818018663584]} ...</p><p style=\"line-height:120%\">00:03 |   <bold>StationaryModel</bold>: Solving 2DProblem_CG for {mu: [0.5722807884690141]} ...</p><p style=\"line-height:120%\">00:03 |   <bold>StationaryModel</bold>: Solving 2DProblem_CG for {mu: [0.48875051677790415]} ...</p><p style=\"line-height:120%\">00:03 |   <bold>StationaryModel</bold>: Solving 2DProblem_CG for {mu: [0.36210622617823773]} ...</p><p style=\"line-height:120%\">00:03 <bold>NeuralNetworkReductor</bold>: Performing 100 restarts for training ...</p><p style=\"line-height:120%\">00:03 |   <bold>NeuralNetworkReductor</bold>: Training the neural network ...</p><p style=\"line-height:120%\">00:03 |   |   <bold>FullyConnectedNN</bold>: Architecture of the neural network:\nFullyConnectedNN(\n  (layers): ModuleList(\n    (0): Linear(in_features=1, out_features=27, bias=True)\n    (1): Linear(in_features=27, out_features=27, bias=True)\n    (2): Linear(in_features=27, out_features=8, bias=True)\n  )\n)</p><p style=\"line-height:120%\">00:03 |   |   <bold>NeuralNetworkReductor</bold>: Starting optimization procedure ...</p><p style=\"line-height:120%\">00:11 |   |   <bold>NeuralNetworkReductor</bold>: Early stopping training process after 116 epochs ...</p><p style=\"line-height:120%\">00:11 |   |   <bold>NeuralNetworkReductor</bold>: Minimum validation loss: 1.4294901777981878e-05</p><p style=\"line-height:120%\">00:11 |   <bold>NeuralNetworkReductor</bold>: Checking tolerances for error of neural network ...</p><p style=\"line-height:120%\">00:11 |   <bold>NeuralNetworkReductor</bold>: Training the neural network ...</p><p style=\"line-height:120%\">00:11 |   |   <bold>FullyConnectedNN</bold>: Architecture of the neural network:\nFullyConnectedNN(\n  (layers): ModuleList(\n    (0): Linear(in_features=1, out_features=27, bias=True)\n    (1): Linear(in_features=27, out_features=27, bias=True)\n    (2): Linear(in_features=27, out_features=8, bias=True)\n  )\n)</p><p style=\"line-height:120%\">00:11 |   |   <bold>NeuralNetworkReductor</bold>: Starting optimization procedure ...</p><p style=\"line-height:120%\">00:21 |   |   <bold>NeuralNetworkReductor</bold>: Early stopping training process after 151 epochs ...</p><p style=\"line-height:120%\">00:21 |   |   <bold>NeuralNetworkReductor</bold>: Minimum validation loss: 0.00015195638204677342</p><p style=\"line-height:120%\">00:21 |   <bold>NeuralNetworkReductor</bold>: Training the neural network ...</p><p style=\"line-height:120%\">00:21 |   |   <bold>FullyConnectedNN</bold>: Architecture of the neural network:\nFullyConnectedNN(\n  (layers): ModuleList(\n    (0): Linear(in_features=1, out_features=27, bias=True)\n    (1): Linear(in_features=27, out_features=27, bias=True)\n    (2): Linear(in_features=27, out_features=8, bias=True)\n  )\n)</p><p style=\"line-height:120%\">00:21 |   |   <bold>NeuralNetworkReductor</bold>: Starting optimization procedure ...</p><p style=\"line-height:120%\">00:30 |   |   <bold>NeuralNetworkReductor</bold>: Early stopping training process after 146 epochs ...</p><p style=\"line-height:120%\">00:30 |   |   <bold>NeuralNetworkReductor</bold>: Minimum validation loss: 9.370015207633071e-05</p><p style=\"line-height:120%\">00:30 |   <bold>NeuralNetworkReductor</bold>: Training the neural network ...</p><p style=\"line-height:120%\">00:30 |   |   <bold>FullyConnectedNN</bold>: Architecture of the neural network:\nFullyConnectedNN(\n  (layers): ModuleList(\n    (0): Linear(in_features=1, out_features=27, bias=True)\n    (1): Linear(in_features=27, out_features=27, bias=True)\n    (2): Linear(in_features=27, out_features=8, bias=True)\n  )\n)</p><p style=\"line-height:120%\">00:30 |   |   <bold>NeuralNetworkReductor</bold>: Starting optimization procedure ...</p><p style=\"line-height:120%\">00:31 |   |   <bold>NeuralNetworkReductor</bold>: Early stopping training process after 12 epochs ...</p><p style=\"line-height:120%\">00:31 |   |   <bold>NeuralNetworkReductor</bold>: Minimum validation loss: 93.82761248981257</p><p style=\"line-height:120%\">00:31 |   <bold>NeuralNetworkReductor</bold>: Training the neural network ...</p><p style=\"line-height:120%\">00:31 |   |   <bold>FullyConnectedNN</bold>: Architecture of the neural network:\nFullyConnectedNN(\n  (layers): ModuleList(\n    (0): Linear(in_features=1, out_features=27, bias=True)\n    (1): Linear(in_features=27, out_features=27, bias=True)\n    (2): Linear(in_features=27, out_features=8, bias=True)\n  )\n)</p><p style=\"line-height:120%\">00:31 |   |   <bold>NeuralNetworkReductor</bold>: Starting optimization procedure ...</p><p style=\"line-height:120%\">00:31 |   |   <bold>NeuralNetworkReductor</bold>: Early stopping training process after 12 epochs ...</p><p style=\"line-height:120%\">00:31 |   |   <bold>NeuralNetworkReductor</bold>: Minimum validation loss: 94.91496515328726</p><p style=\"line-height:120%\">00:31 |   <bold>NeuralNetworkReductor</bold>: Training the neural network ...</p><p style=\"line-height:120%\">00:31 |   |   <bold>FullyConnectedNN</bold>: Architecture of the neural network:\nFullyConnectedNN(\n  (layers): ModuleList(\n    (0): Linear(in_features=1, out_features=27, bias=True)\n    (1): Linear(in_features=27, out_features=27, bias=True)\n    (2): Linear(in_features=27, out_features=8, bias=True)\n  )\n)</p><p style=\"line-height:120%\">00:31 |   |   <bold>NeuralNetworkReductor</bold>: Starting optimization procedure ...</p><p style=\"line-height:120%\">00:31 |   |   <bold>NeuralNetworkReductor</bold>: Early stopping training process after 13 epochs ...</p><p style=\"line-height:120%\">00:31 |   |   <bold>NeuralNetworkReductor</bold>: Minimum validation loss: 18.515340385978284</p><p style=\"line-height:120%\">00:31 |   <bold>NeuralNetworkReductor</bold>: Training the neural network ...</p><p style=\"line-height:120%\">00:31 |   |   <bold>FullyConnectedNN</bold>: Architecture of the neural network:\nFullyConnectedNN(\n  (layers): ModuleList(\n    (0): Linear(in_features=1, out_features=27, bias=True)\n    (1): Linear(in_features=27, out_features=27, bias=True)\n    (2): Linear(in_features=27, out_features=8, bias=True)\n  )\n)</p><p style=\"line-height:120%\">00:31 |   |   <bold>NeuralNetworkReductor</bold>: Starting optimization procedure ...</p><p style=\"line-height:120%\">00:31 |   |   <bold>NeuralNetworkReductor</bold>: Early stopping training process after 11 epochs ...</p><p style=\"line-height:120%\">00:31 |   |   <bold>NeuralNetworkReductor</bold>: Minimum validation loss: 70.19835433712724</p><p style=\"line-height:120%\">00:31 |   <bold>NeuralNetworkReductor</bold>: Training the neural network ...</p><p style=\"line-height:120%\">00:31 |   |   <bold>FullyConnectedNN</bold>: Architecture of the neural network:\nFullyConnectedNN(\n  (layers): ModuleList(\n    (0): Linear(in_features=1, out_features=27, bias=True)\n    (1): Linear(in_features=27, out_features=27, bias=True)\n    (2): Linear(in_features=27, out_features=8, bias=True)\n  )\n)</p><p style=\"line-height:120%\">00:31 |   |   <bold>NeuralNetworkReductor</bold>: Starting optimization procedure ...</p><p style=\"line-height:120%\">00:32 |   |   <bold>NeuralNetworkReductor</bold>: Early stopping training process after 16 epochs ...</p><p style=\"line-height:120%\">00:32 |   |   <bold>NeuralNetworkReductor</bold>: Minimum validation loss: 1.388411953954837</p><p style=\"line-height:120%\">00:32 |   <bold>NeuralNetworkReductor</bold>: Training the neural network ...</p><p style=\"line-height:120%\">00:32 |   |   <bold>FullyConnectedNN</bold>: Architecture of the neural network:\nFullyConnectedNN(\n  (layers): ModuleList(\n    (0): Linear(in_features=1, out_features=27, bias=True)\n    (1): Linear(in_features=27, out_features=27, bias=True)\n    (2): Linear(in_features=27, out_features=8, bias=True)\n  )\n)</p><p style=\"line-height:120%\">00:32 |   |   <bold>NeuralNetworkReductor</bold>: Starting optimization procedure ...</p><p style=\"line-height:120%\">00:32 |   |   <bold>NeuralNetworkReductor</bold>: Early stopping training process after 14 epochs ...</p><p style=\"line-height:120%\">00:32 |   |   <bold>NeuralNetworkReductor</bold>: Minimum validation loss: 20.615326332187646</p><p style=\"line-height:120%\">00:32 |   <bold>NeuralNetworkReductor</bold>: Training the neural network ...</p><p style=\"line-height:120%\">00:32 |   |   <bold>FullyConnectedNN</bold>: Architecture of the neural network:\nFullyConnectedNN(\n  (layers): ModuleList(\n    (0): Linear(in_features=1, out_features=27, bias=True)\n    (1): Linear(in_features=27, out_features=27, bias=True)\n    (2): Linear(in_features=27, out_features=8, bias=True)\n  )\n)</p><p style=\"line-height:120%\">00:32 |   |   <bold>NeuralNetworkReductor</bold>: Starting optimization procedure ...</p><p style=\"line-height:120%\">00:33 |   |   <bold>NeuralNetworkReductor</bold>: Early stopping training process after 12 epochs ...</p><p style=\"line-height:120%\">00:33 |   |   <bold>NeuralNetworkReductor</bold>: Minimum validation loss: 94.25087145094588</p><p style=\"line-height:120%\">00:33 |   <bold>NeuralNetworkReductor</bold>: Training the neural network ...</p><p style=\"line-height:120%\">00:33 |   |   <bold>FullyConnectedNN</bold>: Architecture of the neural network:\nFullyConnectedNN(\n  (layers): ModuleList(\n    (0): Linear(in_features=1, out_features=27, bias=True)\n    (1): Linear(in_features=27, out_features=27, bias=True)\n    (2): Linear(in_features=27, out_features=8, bias=True)\n  )\n)</p><p style=\"line-height:120%\">00:33 |   |   <bold>NeuralNetworkReductor</bold>: Starting optimization procedure ...</p><p style=\"line-height:120%\">00:33 |   |   <bold>NeuralNetworkReductor</bold>: Early stopping training process after 11 epochs ...</p><p style=\"line-height:120%\">00:33 |   |   <bold>NeuralNetworkReductor</bold>: Minimum validation loss: 94.78558293486057</p><p style=\"line-height:120%\">00:33 |   <bold>NeuralNetworkReductor</bold>: Training the neural network ...</p><p style=\"line-height:120%\">00:33 |   |   <bold>FullyConnectedNN</bold>: Architecture of the neural network:\nFullyConnectedNN(\n  (layers): ModuleList(\n    (0): Linear(in_features=1, out_features=27, bias=True)\n    (1): Linear(in_features=27, out_features=27, bias=True)\n    (2): Linear(in_features=27, out_features=8, bias=True)\n  )\n)</p><p style=\"line-height:120%\">00:33 |   |   <bold>NeuralNetworkReductor</bold>: Starting optimization procedure ...</p><p style=\"line-height:120%\">00:36 |   |   <bold>NeuralNetworkReductor</bold>: Early stopping training process after 68 epochs ...</p><p style=\"line-height:120%\">00:36 |   |   <bold>NeuralNetworkReductor</bold>: Minimum validation loss: 5.675013665261789e-06</p><p style=\"line-height:120%\">00:36 |   <bold>NeuralNetworkReductor</bold>: Checking tolerances for error of neural network ...</p><p style=\"line-height:120%\">00:36 |   |   <bold>NeuralNetworkReductor</bold>: Aborting training after 11 restarts ...</p><p style=\"line-height:120%\">00:36 |   |   <bold>NeuralNetworkReductor</bold>: Building ROM ...</p>"
      }
     },
     "25160b1d3c2a4bf490de9de6e7416735": {
      "model_module": "@jupyter-widgets/base",
      "model_module_version": "1.2.0",
      "model_name": "LayoutModel",
      "state": {
       "_model_module": "@jupyter-widgets/base",
       "_model_module_version": "1.2.0",
       "_model_name": "LayoutModel",
       "_view_count": null,
       "_view_module": "@jupyter-widgets/base",
       "_view_module_version": "1.2.0",
       "_view_name": "LayoutView",
       "align_content": null,
       "align_items": null,
       "align_self": null,
       "border": null,
       "bottom": null,
       "display": null,
       "flex": null,
       "flex_flow": null,
       "grid_area": null,
       "grid_auto_columns": null,
       "grid_auto_flow": null,
       "grid_auto_rows": null,
       "grid_column": null,
       "grid_gap": null,
       "grid_row": null,
       "grid_template_areas": null,
       "grid_template_columns": null,
       "grid_template_rows": null,
       "height": null,
       "justify_content": null,
       "justify_items": null,
       "left": null,
       "margin": null,
       "max_height": null,
       "max_width": null,
       "min_height": null,
       "min_width": null,
       "object_fit": null,
       "object_position": null,
       "order": null,
       "overflow": null,
       "overflow_x": null,
       "overflow_y": null,
       "padding": null,
       "right": null,
       "top": null,
       "visibility": null,
       "width": null
      }
     },
     "258081c3188941a0a4e7f1c9b546e6b3": {
      "model_module": "@jupyter-widgets/controls",
      "model_module_version": "1.5.0",
      "model_name": "AccordionModel",
      "state": {
       "_dom_classes": [],
       "_model_module": "@jupyter-widgets/controls",
       "_model_module_version": "1.5.0",
       "_model_name": "AccordionModel",
       "_titles": {
        "0": "Log Output"
       },
       "_view_count": null,
       "_view_module": "@jupyter-widgets/controls",
       "_view_module_version": "1.5.0",
       "_view_name": "AccordionView",
       "box_style": "",
       "children": [
        "IPY_MODEL_49271e55acc842639410f1a7bf5c9479"
       ],
       "layout": "IPY_MODEL_acf253ddd95d4798928495e04e80eed4",
       "selected_index": null
      }
     },
     "280d49ad936447a0a9662dcb135cbc2b": {
      "model_module": "@jupyter-widgets/base",
      "model_module_version": "1.2.0",
      "model_name": "LayoutModel",
      "state": {
       "_model_module": "@jupyter-widgets/base",
       "_model_module_version": "1.2.0",
       "_model_name": "LayoutModel",
       "_view_count": null,
       "_view_module": "@jupyter-widgets/base",
       "_view_module_version": "1.2.0",
       "_view_name": "LayoutView",
       "align_content": null,
       "align_items": null,
       "align_self": null,
       "border": null,
       "bottom": null,
       "display": null,
       "flex": null,
       "flex_flow": null,
       "grid_area": null,
       "grid_auto_columns": null,
       "grid_auto_flow": null,
       "grid_auto_rows": null,
       "grid_column": null,
       "grid_gap": null,
       "grid_row": null,
       "grid_template_areas": null,
       "grid_template_columns": null,
       "grid_template_rows": null,
       "height": null,
       "justify_content": null,
       "justify_items": null,
       "left": null,
       "margin": null,
       "max_height": null,
       "max_width": null,
       "min_height": null,
       "min_width": null,
       "object_fit": null,
       "object_position": null,
       "order": null,
       "overflow": null,
       "overflow_x": null,
       "overflow_y": null,
       "padding": null,
       "right": null,
       "top": null,
       "visibility": null,
       "width": null
      }
     },
     "28613ba0fb3b4184a1d5be1172be500d": {
      "model_module": "@jupyter-widgets/controls",
      "model_module_version": "1.5.0",
      "model_name": "AccordionModel",
      "state": {
       "_dom_classes": [],
       "_model_module": "@jupyter-widgets/controls",
       "_model_module_version": "1.5.0",
       "_model_name": "AccordionModel",
       "_titles": {
        "0": "Log Output"
       },
       "_view_count": null,
       "_view_module": "@jupyter-widgets/controls",
       "_view_module_version": "1.5.0",
       "_view_name": "AccordionView",
       "box_style": "",
       "children": [
        "IPY_MODEL_08d7a91a6eb14199ace4db70e44c4670"
       ],
       "layout": "IPY_MODEL_e236396f06a64d11909cb4ac3651042f",
       "selected_index": null
      }
     },
     "2862574f59474a04be65b13cee01a1a6": {
      "model_module": "@jupyter-widgets/controls",
      "model_module_version": "1.5.0",
      "model_name": "AccordionModel",
      "state": {
       "_dom_classes": [],
       "_model_module": "@jupyter-widgets/controls",
       "_model_module_version": "1.5.0",
       "_model_name": "AccordionModel",
       "_titles": {
        "0": "Log Output"
       },
       "_view_count": null,
       "_view_module": "@jupyter-widgets/controls",
       "_view_module_version": "1.5.0",
       "_view_name": "AccordionView",
       "box_style": "",
       "children": [
        "IPY_MODEL_c9059f1362d54dd9b6238bb1c2f18aa0"
       ],
       "layout": "IPY_MODEL_4db8f3789f7c4996a7291822ccfe3214",
       "selected_index": null
      }
     },
     "29d8476fcdcc4947859be00eea844270": {
      "model_module": "@jupyter-widgets/controls",
      "model_module_version": "1.5.0",
      "model_name": "AccordionModel",
      "state": {
       "_dom_classes": [],
       "_model_module": "@jupyter-widgets/controls",
       "_model_module_version": "1.5.0",
       "_model_name": "AccordionModel",
       "_titles": {
        "0": "Log Output"
       },
       "_view_count": null,
       "_view_module": "@jupyter-widgets/controls",
       "_view_module_version": "1.5.0",
       "_view_name": "AccordionView",
       "box_style": "",
       "children": [
        "IPY_MODEL_e631cb7f4f264f0e8ce531b17a71fb3a"
       ],
       "layout": "IPY_MODEL_3764d48cef374230b60059875e9905fe",
       "selected_index": null
      }
     },
     "30436527478f4d64acee2f022ebb6a8b": {
      "model_module": "@jupyter-widgets/controls",
      "model_module_version": "1.5.0",
      "model_name": "DescriptionStyleModel",
      "state": {
       "_model_module": "@jupyter-widgets/controls",
       "_model_module_version": "1.5.0",
       "_model_name": "DescriptionStyleModel",
       "_view_count": null,
       "_view_module": "@jupyter-widgets/base",
       "_view_module_version": "1.2.0",
       "_view_name": "StyleView",
       "description_width": ""
      }
     },
     "3764d48cef374230b60059875e9905fe": {
      "model_module": "@jupyter-widgets/base",
      "model_module_version": "1.2.0",
      "model_name": "LayoutModel",
      "state": {
       "_model_module": "@jupyter-widgets/base",
       "_model_module_version": "1.2.0",
       "_model_name": "LayoutModel",
       "_view_count": null,
       "_view_module": "@jupyter-widgets/base",
       "_view_module_version": "1.2.0",
       "_view_name": "LayoutView",
       "align_content": null,
       "align_items": null,
       "align_self": null,
       "border": null,
       "bottom": null,
       "display": null,
       "flex": null,
       "flex_flow": null,
       "grid_area": null,
       "grid_auto_columns": null,
       "grid_auto_flow": null,
       "grid_auto_rows": null,
       "grid_column": null,
       "grid_gap": null,
       "grid_row": null,
       "grid_template_areas": null,
       "grid_template_columns": null,
       "grid_template_rows": null,
       "height": null,
       "justify_content": null,
       "justify_items": null,
       "left": null,
       "margin": null,
       "max_height": null,
       "max_width": null,
       "min_height": null,
       "min_width": null,
       "object_fit": null,
       "object_position": null,
       "order": null,
       "overflow": null,
       "overflow_x": null,
       "overflow_y": null,
       "padding": null,
       "right": null,
       "top": null,
       "visibility": null,
       "width": null
      }
     },
     "3b828fcccb1949b399a40698fc09defb": {
      "model_module": "@jupyter-widgets/controls",
      "model_module_version": "1.5.0",
      "model_name": "DescriptionStyleModel",
      "state": {
       "_model_module": "@jupyter-widgets/controls",
       "_model_module_version": "1.5.0",
       "_model_name": "DescriptionStyleModel",
       "_view_count": null,
       "_view_module": "@jupyter-widgets/base",
       "_view_module_version": "1.2.0",
       "_view_name": "StyleView",
       "description_width": ""
      }
     },
     "3bb53653376948588e3e38257dd55a99": {
      "model_module": "@jupyter-widgets/controls",
      "model_module_version": "1.5.0",
      "model_name": "DescriptionStyleModel",
      "state": {
       "_model_module": "@jupyter-widgets/controls",
       "_model_module_version": "1.5.0",
       "_model_name": "DescriptionStyleModel",
       "_view_count": null,
       "_view_module": "@jupyter-widgets/base",
       "_view_module_version": "1.2.0",
       "_view_name": "StyleView",
       "description_width": ""
      }
     },
     "47328da431ec49cd92a41f1437cc9ba2": {
      "model_module": "@jupyter-widgets/base",
      "model_module_version": "1.2.0",
      "model_name": "LayoutModel",
      "state": {
       "_model_module": "@jupyter-widgets/base",
       "_model_module_version": "1.2.0",
       "_model_name": "LayoutModel",
       "_view_count": null,
       "_view_module": "@jupyter-widgets/base",
       "_view_module_version": "1.2.0",
       "_view_name": "LayoutView",
       "align_content": null,
       "align_items": null,
       "align_self": null,
       "border": null,
       "bottom": null,
       "display": null,
       "flex": null,
       "flex_flow": null,
       "grid_area": null,
       "grid_auto_columns": null,
       "grid_auto_flow": null,
       "grid_auto_rows": null,
       "grid_column": null,
       "grid_gap": null,
       "grid_row": null,
       "grid_template_areas": null,
       "grid_template_columns": null,
       "grid_template_rows": null,
       "height": "16em",
       "justify_content": null,
       "justify_items": null,
       "left": null,
       "margin": null,
       "max_height": null,
       "max_width": null,
       "min_height": null,
       "min_width": null,
       "object_fit": null,
       "object_position": null,
       "order": null,
       "overflow": null,
       "overflow_x": null,
       "overflow_y": "auto",
       "padding": null,
       "right": null,
       "top": null,
       "visibility": null,
       "width": "100%"
      }
     },
     "49271e55acc842639410f1a7bf5c9479": {
      "model_module": "@jupyter-widgets/controls",
      "model_module_version": "1.5.0",
      "model_name": "HTMLModel",
      "state": {
       "_dom_classes": [],
       "_model_module": "@jupyter-widgets/controls",
       "_model_module_version": "1.5.0",
       "_model_name": "HTMLModel",
       "_view_count": null,
       "_view_module": "@jupyter-widgets/controls",
       "_view_module_version": "1.5.0",
       "_view_name": "HTMLView",
       "description": "",
       "description_tooltip": null,
       "layout": "IPY_MODEL_6c6e2ac7d12f4bc283aac2e1d164d0e6",
       "placeholder": "​",
       "style": "IPY_MODEL_9dbed6b695234c4d890c1f77977981c7",
       "value": ""
      }
     },
     "4957e0fc513f4f0a8194f8f97216251b": {
      "model_module": "@jupyter-widgets/controls",
      "model_module_version": "1.5.0",
      "model_name": "DescriptionStyleModel",
      "state": {
       "_model_module": "@jupyter-widgets/controls",
       "_model_module_version": "1.5.0",
       "_model_name": "DescriptionStyleModel",
       "_view_count": null,
       "_view_module": "@jupyter-widgets/base",
       "_view_module_version": "1.2.0",
       "_view_name": "StyleView",
       "description_width": ""
      }
     },
     "4c4b8903f80243d0b7c3d756117e17b9": {
      "model_module": "@jupyter-widgets/base",
      "model_module_version": "1.2.0",
      "model_name": "LayoutModel",
      "state": {
       "_model_module": "@jupyter-widgets/base",
       "_model_module_version": "1.2.0",
       "_model_name": "LayoutModel",
       "_view_count": null,
       "_view_module": "@jupyter-widgets/base",
       "_view_module_version": "1.2.0",
       "_view_name": "LayoutView",
       "align_content": null,
       "align_items": null,
       "align_self": null,
       "border": null,
       "bottom": null,
       "display": null,
       "flex": null,
       "flex_flow": null,
       "grid_area": null,
       "grid_auto_columns": null,
       "grid_auto_flow": null,
       "grid_auto_rows": null,
       "grid_column": null,
       "grid_gap": null,
       "grid_row": null,
       "grid_template_areas": null,
       "grid_template_columns": null,
       "grid_template_rows": null,
       "height": "16em",
       "justify_content": null,
       "justify_items": null,
       "left": null,
       "margin": null,
       "max_height": null,
       "max_width": null,
       "min_height": null,
       "min_width": null,
       "object_fit": null,
       "object_position": null,
       "order": null,
       "overflow": null,
       "overflow_x": null,
       "overflow_y": "auto",
       "padding": null,
       "right": null,
       "top": null,
       "visibility": null,
       "width": "100%"
      }
     },
     "4db8f3789f7c4996a7291822ccfe3214": {
      "model_module": "@jupyter-widgets/base",
      "model_module_version": "1.2.0",
      "model_name": "LayoutModel",
      "state": {
       "_model_module": "@jupyter-widgets/base",
       "_model_module_version": "1.2.0",
       "_model_name": "LayoutModel",
       "_view_count": null,
       "_view_module": "@jupyter-widgets/base",
       "_view_module_version": "1.2.0",
       "_view_name": "LayoutView",
       "align_content": null,
       "align_items": null,
       "align_self": null,
       "border": null,
       "bottom": null,
       "display": null,
       "flex": null,
       "flex_flow": null,
       "grid_area": null,
       "grid_auto_columns": null,
       "grid_auto_flow": null,
       "grid_auto_rows": null,
       "grid_column": null,
       "grid_gap": null,
       "grid_row": null,
       "grid_template_areas": null,
       "grid_template_columns": null,
       "grid_template_rows": null,
       "height": null,
       "justify_content": null,
       "justify_items": null,
       "left": null,
       "margin": null,
       "max_height": null,
       "max_width": null,
       "min_height": null,
       "min_width": null,
       "object_fit": null,
       "object_position": null,
       "order": null,
       "overflow": null,
       "overflow_x": null,
       "overflow_y": null,
       "padding": null,
       "right": null,
       "top": null,
       "visibility": null,
       "width": null
      }
     },
     "55aea6c0ec514e348bda061132373e43": {
      "model_module": "@jupyter-widgets/controls",
      "model_module_version": "1.5.0",
      "model_name": "HTMLModel",
      "state": {
       "_dom_classes": [],
       "_model_module": "@jupyter-widgets/controls",
       "_model_module_version": "1.5.0",
       "_model_name": "HTMLModel",
       "_view_count": null,
       "_view_module": "@jupyter-widgets/controls",
       "_view_module_version": "1.5.0",
       "_view_name": "HTMLView",
       "description": "",
       "description_tooltip": null,
       "layout": "IPY_MODEL_b3f695a25de146d4a6ec89e28d29be2a",
       "placeholder": "​",
       "style": "IPY_MODEL_9e694f4c357445f6a4908972fb106964",
       "value": ""
      }
     },
     "56016996cb8a448baa1c61b4a1a80f3a": {
      "model_module": "@jupyter-widgets/controls",
      "model_module_version": "1.5.0",
      "model_name": "AccordionModel",
      "state": {
       "_dom_classes": [],
       "_model_module": "@jupyter-widgets/controls",
       "_model_module_version": "1.5.0",
       "_model_name": "AccordionModel",
       "_titles": {
        "0": "Log Output"
       },
       "_view_count": null,
       "_view_module": "@jupyter-widgets/controls",
       "_view_module_version": "1.5.0",
       "_view_name": "AccordionView",
       "box_style": "",
       "children": [
        "IPY_MODEL_b8c90d2d271f487e862acdaf67367fcd"
       ],
       "layout": "IPY_MODEL_627b593a4215484d9bf66b4b4fbc38b4",
       "selected_index": null
      }
     },
     "58ee21b34c624f04bbe5b99d10d232e9": {
      "model_module": "@jupyter-widgets/controls",
      "model_module_version": "1.5.0",
      "model_name": "HTMLModel",
      "state": {
       "_dom_classes": [],
       "_model_module": "@jupyter-widgets/controls",
       "_model_module_version": "1.5.0",
       "_model_name": "HTMLModel",
       "_view_count": null,
       "_view_module": "@jupyter-widgets/controls",
       "_view_module_version": "1.5.0",
       "_view_name": "HTMLView",
       "description": "",
       "description_tooltip": null,
       "layout": "IPY_MODEL_8e3a5c92377d4f129c292daf5fb39e4c",
       "placeholder": "​",
       "style": "IPY_MODEL_0e1f532d8fca40ce8687ab164f653768",
       "value": ""
      }
     },
     "5e492df57bd74ea09645edc82113837a": {
      "model_module": "@jupyter-widgets/base",
      "model_module_version": "1.2.0",
      "model_name": "LayoutModel",
      "state": {
       "_model_module": "@jupyter-widgets/base",
       "_model_module_version": "1.2.0",
       "_model_name": "LayoutModel",
       "_view_count": null,
       "_view_module": "@jupyter-widgets/base",
       "_view_module_version": "1.2.0",
       "_view_name": "LayoutView",
       "align_content": null,
       "align_items": null,
       "align_self": null,
       "border": null,
       "bottom": null,
       "display": null,
       "flex": null,
       "flex_flow": null,
       "grid_area": null,
       "grid_auto_columns": null,
       "grid_auto_flow": null,
       "grid_auto_rows": null,
       "grid_column": null,
       "grid_gap": null,
       "grid_row": null,
       "grid_template_areas": null,
       "grid_template_columns": null,
       "grid_template_rows": null,
       "height": "16em",
       "justify_content": null,
       "justify_items": null,
       "left": null,
       "margin": null,
       "max_height": null,
       "max_width": null,
       "min_height": null,
       "min_width": null,
       "object_fit": null,
       "object_position": null,
       "order": null,
       "overflow": null,
       "overflow_x": null,
       "overflow_y": "auto",
       "padding": null,
       "right": null,
       "top": null,
       "visibility": null,
       "width": "100%"
      }
     },
     "5eae1ad073dc47ea87cbf84bb5c4d9d7": {
      "model_module": "@jupyter-widgets/controls",
      "model_module_version": "1.5.0",
      "model_name": "DescriptionStyleModel",
      "state": {
       "_model_module": "@jupyter-widgets/controls",
       "_model_module_version": "1.5.0",
       "_model_name": "DescriptionStyleModel",
       "_view_count": null,
       "_view_module": "@jupyter-widgets/base",
       "_view_module_version": "1.2.0",
       "_view_name": "StyleView",
       "description_width": ""
      }
     },
     "619e4d3095544c67acfb723d1f2c6485": {
      "model_module": "@jupyter-widgets/controls",
      "model_module_version": "1.5.0",
      "model_name": "DescriptionStyleModel",
      "state": {
       "_model_module": "@jupyter-widgets/controls",
       "_model_module_version": "1.5.0",
       "_model_name": "DescriptionStyleModel",
       "_view_count": null,
       "_view_module": "@jupyter-widgets/base",
       "_view_module_version": "1.2.0",
       "_view_name": "StyleView",
       "description_width": ""
      }
     },
     "627b593a4215484d9bf66b4b4fbc38b4": {
      "model_module": "@jupyter-widgets/base",
      "model_module_version": "1.2.0",
      "model_name": "LayoutModel",
      "state": {
       "_model_module": "@jupyter-widgets/base",
       "_model_module_version": "1.2.0",
       "_model_name": "LayoutModel",
       "_view_count": null,
       "_view_module": "@jupyter-widgets/base",
       "_view_module_version": "1.2.0",
       "_view_name": "LayoutView",
       "align_content": null,
       "align_items": null,
       "align_self": null,
       "border": null,
       "bottom": null,
       "display": null,
       "flex": null,
       "flex_flow": null,
       "grid_area": null,
       "grid_auto_columns": null,
       "grid_auto_flow": null,
       "grid_auto_rows": null,
       "grid_column": null,
       "grid_gap": null,
       "grid_row": null,
       "grid_template_areas": null,
       "grid_template_columns": null,
       "grid_template_rows": null,
       "height": null,
       "justify_content": null,
       "justify_items": null,
       "left": null,
       "margin": null,
       "max_height": null,
       "max_width": null,
       "min_height": null,
       "min_width": null,
       "object_fit": null,
       "object_position": null,
       "order": null,
       "overflow": null,
       "overflow_x": null,
       "overflow_y": null,
       "padding": null,
       "right": null,
       "top": null,
       "visibility": null,
       "width": null
      }
     },
     "6a598a62fde24b80bc636dbac52266b8": {
      "model_module": "@jupyter-widgets/base",
      "model_module_version": "1.2.0",
      "model_name": "LayoutModel",
      "state": {
       "_model_module": "@jupyter-widgets/base",
       "_model_module_version": "1.2.0",
       "_model_name": "LayoutModel",
       "_view_count": null,
       "_view_module": "@jupyter-widgets/base",
       "_view_module_version": "1.2.0",
       "_view_name": "LayoutView",
       "align_content": null,
       "align_items": null,
       "align_self": null,
       "border": null,
       "bottom": null,
       "display": null,
       "flex": null,
       "flex_flow": null,
       "grid_area": null,
       "grid_auto_columns": null,
       "grid_auto_flow": null,
       "grid_auto_rows": null,
       "grid_column": null,
       "grid_gap": null,
       "grid_row": null,
       "grid_template_areas": null,
       "grid_template_columns": null,
       "grid_template_rows": null,
       "height": "16em",
       "justify_content": null,
       "justify_items": null,
       "left": null,
       "margin": null,
       "max_height": null,
       "max_width": null,
       "min_height": null,
       "min_width": null,
       "object_fit": null,
       "object_position": null,
       "order": null,
       "overflow": null,
       "overflow_x": null,
       "overflow_y": "auto",
       "padding": null,
       "right": null,
       "top": null,
       "visibility": null,
       "width": "100%"
      }
     },
     "6c6e2ac7d12f4bc283aac2e1d164d0e6": {
      "model_module": "@jupyter-widgets/base",
      "model_module_version": "1.2.0",
      "model_name": "LayoutModel",
      "state": {
       "_model_module": "@jupyter-widgets/base",
       "_model_module_version": "1.2.0",
       "_model_name": "LayoutModel",
       "_view_count": null,
       "_view_module": "@jupyter-widgets/base",
       "_view_module_version": "1.2.0",
       "_view_name": "LayoutView",
       "align_content": null,
       "align_items": null,
       "align_self": null,
       "border": null,
       "bottom": null,
       "display": null,
       "flex": null,
       "flex_flow": null,
       "grid_area": null,
       "grid_auto_columns": null,
       "grid_auto_flow": null,
       "grid_auto_rows": null,
       "grid_column": null,
       "grid_gap": null,
       "grid_row": null,
       "grid_template_areas": null,
       "grid_template_columns": null,
       "grid_template_rows": null,
       "height": "16em",
       "justify_content": null,
       "justify_items": null,
       "left": null,
       "margin": null,
       "max_height": null,
       "max_width": null,
       "min_height": null,
       "min_width": null,
       "object_fit": null,
       "object_position": null,
       "order": null,
       "overflow": null,
       "overflow_x": null,
       "overflow_y": "auto",
       "padding": null,
       "right": null,
       "top": null,
       "visibility": null,
       "width": "100%"
      }
     },
     "706be5b1a2b342a2a9cfdcad4886ad73": {
      "model_module": "@jupyter-widgets/base",
      "model_module_version": "1.2.0",
      "model_name": "LayoutModel",
      "state": {
       "_model_module": "@jupyter-widgets/base",
       "_model_module_version": "1.2.0",
       "_model_name": "LayoutModel",
       "_view_count": null,
       "_view_module": "@jupyter-widgets/base",
       "_view_module_version": "1.2.0",
       "_view_name": "LayoutView",
       "align_content": null,
       "align_items": null,
       "align_self": null,
       "border": null,
       "bottom": null,
       "display": null,
       "flex": null,
       "flex_flow": null,
       "grid_area": null,
       "grid_auto_columns": null,
       "grid_auto_flow": null,
       "grid_auto_rows": null,
       "grid_column": null,
       "grid_gap": null,
       "grid_row": null,
       "grid_template_areas": null,
       "grid_template_columns": null,
       "grid_template_rows": null,
       "height": null,
       "justify_content": null,
       "justify_items": null,
       "left": null,
       "margin": null,
       "max_height": null,
       "max_width": null,
       "min_height": null,
       "min_width": null,
       "object_fit": null,
       "object_position": null,
       "order": null,
       "overflow": null,
       "overflow_x": null,
       "overflow_y": null,
       "padding": null,
       "right": null,
       "top": null,
       "visibility": null,
       "width": null
      }
     },
     "744d5b362b204afd9aaef0f2db4c9bbf": {
      "model_module": "@jupyter-widgets/controls",
      "model_module_version": "1.5.0",
      "model_name": "DescriptionStyleModel",
      "state": {
       "_model_module": "@jupyter-widgets/controls",
       "_model_module_version": "1.5.0",
       "_model_name": "DescriptionStyleModel",
       "_view_count": null,
       "_view_module": "@jupyter-widgets/base",
       "_view_module_version": "1.2.0",
       "_view_name": "StyleView",
       "description_width": ""
      }
     },
     "81a47393057a45c9ada728104fee879e": {
      "model_module": "@jupyter-widgets/controls",
      "model_module_version": "1.5.0",
      "model_name": "HTMLModel",
      "state": {
       "_dom_classes": [],
       "_model_module": "@jupyter-widgets/controls",
       "_model_module_version": "1.5.0",
       "_model_name": "HTMLModel",
       "_view_count": null,
       "_view_module": "@jupyter-widgets/controls",
       "_view_module_version": "1.5.0",
       "_view_name": "HTMLView",
       "description": "",
       "description_tooltip": null,
       "layout": "IPY_MODEL_4c4b8903f80243d0b7c3d756117e17b9",
       "placeholder": "​",
       "style": "IPY_MODEL_b58017446c4c4a0aaa6950f52d25307d",
       "value": ""
      }
     },
     "832c3040ba2f430c81e00ae1ce6c9037": {
      "model_module": "@jupyter-widgets/base",
      "model_module_version": "1.2.0",
      "model_name": "LayoutModel",
      "state": {
       "_model_module": "@jupyter-widgets/base",
       "_model_module_version": "1.2.0",
       "_model_name": "LayoutModel",
       "_view_count": null,
       "_view_module": "@jupyter-widgets/base",
       "_view_module_version": "1.2.0",
       "_view_name": "LayoutView",
       "align_content": null,
       "align_items": null,
       "align_self": null,
       "border": null,
       "bottom": null,
       "display": null,
       "flex": null,
       "flex_flow": null,
       "grid_area": null,
       "grid_auto_columns": null,
       "grid_auto_flow": null,
       "grid_auto_rows": null,
       "grid_column": null,
       "grid_gap": null,
       "grid_row": null,
       "grid_template_areas": null,
       "grid_template_columns": null,
       "grid_template_rows": null,
       "height": null,
       "justify_content": null,
       "justify_items": null,
       "left": null,
       "margin": null,
       "max_height": null,
       "max_width": null,
       "min_height": null,
       "min_width": null,
       "object_fit": null,
       "object_position": null,
       "order": null,
       "overflow": null,
       "overflow_x": null,
       "overflow_y": null,
       "padding": null,
       "right": null,
       "top": null,
       "visibility": null,
       "width": null
      }
     },
     "8353cc464bcd43a58c5ff995f425036a": {
      "model_module": "@jupyter-widgets/controls",
      "model_module_version": "1.5.0",
      "model_name": "AccordionModel",
      "state": {
       "_dom_classes": [],
       "_model_module": "@jupyter-widgets/controls",
       "_model_module_version": "1.5.0",
       "_model_name": "AccordionModel",
       "_titles": {
        "0": "Log Output"
       },
       "_view_count": null,
       "_view_module": "@jupyter-widgets/controls",
       "_view_module_version": "1.5.0",
       "_view_name": "AccordionView",
       "box_style": "",
       "children": [
        "IPY_MODEL_58ee21b34c624f04bbe5b99d10d232e9"
       ],
       "layout": "IPY_MODEL_25160b1d3c2a4bf490de9de6e7416735",
       "selected_index": null
      }
     },
     "84637d83ec5649d1956d854e14a67e6a": {
      "model_module": "@jupyter-widgets/controls",
      "model_module_version": "1.5.0",
      "model_name": "HTMLModel",
      "state": {
       "_dom_classes": [],
       "_model_module": "@jupyter-widgets/controls",
       "_model_module_version": "1.5.0",
       "_model_name": "HTMLModel",
       "_view_count": null,
       "_view_module": "@jupyter-widgets/controls",
       "_view_module_version": "1.5.0",
       "_view_name": "HTMLView",
       "description": "",
       "description_tooltip": null,
       "layout": "IPY_MODEL_a3750be8b5eb4e2ba49d805bd96ea15e",
       "placeholder": "​",
       "style": "IPY_MODEL_30436527478f4d64acee2f022ebb6a8b",
       "value": ""
      }
     },
     "87cb0afcc5384b3eb34d552cf362e204": {
      "model_module": "@jupyter-widgets/controls",
      "model_module_version": "1.5.0",
      "model_name": "AccordionModel",
      "state": {
       "_dom_classes": [],
       "_model_module": "@jupyter-widgets/controls",
       "_model_module_version": "1.5.0",
       "_model_name": "AccordionModel",
       "_titles": {
        "0": "Log Output"
       },
       "_view_count": null,
       "_view_module": "@jupyter-widgets/controls",
       "_view_module_version": "1.5.0",
       "_view_name": "AccordionView",
       "box_style": "",
       "children": [
        "IPY_MODEL_55aea6c0ec514e348bda061132373e43"
       ],
       "layout": "IPY_MODEL_9b43b60f056b4acda94a7e41a8be3076",
       "selected_index": null
      }
     },
     "8e3a5c92377d4f129c292daf5fb39e4c": {
      "model_module": "@jupyter-widgets/base",
      "model_module_version": "1.2.0",
      "model_name": "LayoutModel",
      "state": {
       "_model_module": "@jupyter-widgets/base",
       "_model_module_version": "1.2.0",
       "_model_name": "LayoutModel",
       "_view_count": null,
       "_view_module": "@jupyter-widgets/base",
       "_view_module_version": "1.2.0",
       "_view_name": "LayoutView",
       "align_content": null,
       "align_items": null,
       "align_self": null,
       "border": null,
       "bottom": null,
       "display": null,
       "flex": null,
       "flex_flow": null,
       "grid_area": null,
       "grid_auto_columns": null,
       "grid_auto_flow": null,
       "grid_auto_rows": null,
       "grid_column": null,
       "grid_gap": null,
       "grid_row": null,
       "grid_template_areas": null,
       "grid_template_columns": null,
       "grid_template_rows": null,
       "height": "16em",
       "justify_content": null,
       "justify_items": null,
       "left": null,
       "margin": null,
       "max_height": null,
       "max_width": null,
       "min_height": null,
       "min_width": null,
       "object_fit": null,
       "object_position": null,
       "order": null,
       "overflow": null,
       "overflow_x": null,
       "overflow_y": "auto",
       "padding": null,
       "right": null,
       "top": null,
       "visibility": null,
       "width": "100%"
      }
     },
     "95211bbf992e47c985ccd6cbf5597615": {
      "model_module": "@jupyter-widgets/controls",
      "model_module_version": "1.5.0",
      "model_name": "DescriptionStyleModel",
      "state": {
       "_model_module": "@jupyter-widgets/controls",
       "_model_module_version": "1.5.0",
       "_model_name": "DescriptionStyleModel",
       "_view_count": null,
       "_view_module": "@jupyter-widgets/base",
       "_view_module_version": "1.2.0",
       "_view_name": "StyleView",
       "description_width": ""
      }
     },
     "964d41ced7ec4b6bbbf285f424af5a98": {
      "model_module": "@jupyter-widgets/controls",
      "model_module_version": "1.5.0",
      "model_name": "HTMLModel",
      "state": {
       "_dom_classes": [],
       "_model_module": "@jupyter-widgets/controls",
       "_model_module_version": "1.5.0",
       "_model_name": "HTMLModel",
       "_view_count": null,
       "_view_module": "@jupyter-widgets/controls",
       "_view_module_version": "1.5.0",
       "_view_name": "HTMLView",
       "description": "",
       "description_tooltip": null,
       "layout": "IPY_MODEL_47328da431ec49cd92a41f1437cc9ba2",
       "placeholder": "​",
       "style": "IPY_MODEL_5eae1ad073dc47ea87cbf84bb5c4d9d7",
       "value": ""
      }
     },
     "9ac56714aced4820aa20dd2a28b14cbd": {
      "model_module": "@jupyter-widgets/controls",
      "model_module_version": "1.5.0",
      "model_name": "AccordionModel",
      "state": {
       "_dom_classes": [],
       "_model_module": "@jupyter-widgets/controls",
       "_model_module_version": "1.5.0",
       "_model_name": "AccordionModel",
       "_titles": {
        "0": "Log Output"
       },
       "_view_count": null,
       "_view_module": "@jupyter-widgets/controls",
       "_view_module_version": "1.5.0",
       "_view_name": "AccordionView",
       "box_style": "",
       "children": [
        "IPY_MODEL_f664a3697f0f4a8cb86350ae457dcab1"
       ],
       "layout": "IPY_MODEL_eaaaeebaea5b48b99c677d7ea96597b2",
       "selected_index": null
      }
     },
     "9b43b60f056b4acda94a7e41a8be3076": {
      "model_module": "@jupyter-widgets/base",
      "model_module_version": "1.2.0",
      "model_name": "LayoutModel",
      "state": {
       "_model_module": "@jupyter-widgets/base",
       "_model_module_version": "1.2.0",
       "_model_name": "LayoutModel",
       "_view_count": null,
       "_view_module": "@jupyter-widgets/base",
       "_view_module_version": "1.2.0",
       "_view_name": "LayoutView",
       "align_content": null,
       "align_items": null,
       "align_self": null,
       "border": null,
       "bottom": null,
       "display": null,
       "flex": null,
       "flex_flow": null,
       "grid_area": null,
       "grid_auto_columns": null,
       "grid_auto_flow": null,
       "grid_auto_rows": null,
       "grid_column": null,
       "grid_gap": null,
       "grid_row": null,
       "grid_template_areas": null,
       "grid_template_columns": null,
       "grid_template_rows": null,
       "height": null,
       "justify_content": null,
       "justify_items": null,
       "left": null,
       "margin": null,
       "max_height": null,
       "max_width": null,
       "min_height": null,
       "min_width": null,
       "object_fit": null,
       "object_position": null,
       "order": null,
       "overflow": null,
       "overflow_x": null,
       "overflow_y": null,
       "padding": null,
       "right": null,
       "top": null,
       "visibility": null,
       "width": null
      }
     },
     "9dbed6b695234c4d890c1f77977981c7": {
      "model_module": "@jupyter-widgets/controls",
      "model_module_version": "1.5.0",
      "model_name": "DescriptionStyleModel",
      "state": {
       "_model_module": "@jupyter-widgets/controls",
       "_model_module_version": "1.5.0",
       "_model_name": "DescriptionStyleModel",
       "_view_count": null,
       "_view_module": "@jupyter-widgets/base",
       "_view_module_version": "1.2.0",
       "_view_name": "StyleView",
       "description_width": ""
      }
     },
     "9e694f4c357445f6a4908972fb106964": {
      "model_module": "@jupyter-widgets/controls",
      "model_module_version": "1.5.0",
      "model_name": "DescriptionStyleModel",
      "state": {
       "_model_module": "@jupyter-widgets/controls",
       "_model_module_version": "1.5.0",
       "_model_name": "DescriptionStyleModel",
       "_view_count": null,
       "_view_module": "@jupyter-widgets/base",
       "_view_module_version": "1.2.0",
       "_view_name": "StyleView",
       "description_width": ""
      }
     },
     "a3750be8b5eb4e2ba49d805bd96ea15e": {
      "model_module": "@jupyter-widgets/base",
      "model_module_version": "1.2.0",
      "model_name": "LayoutModel",
      "state": {
       "_model_module": "@jupyter-widgets/base",
       "_model_module_version": "1.2.0",
       "_model_name": "LayoutModel",
       "_view_count": null,
       "_view_module": "@jupyter-widgets/base",
       "_view_module_version": "1.2.0",
       "_view_name": "LayoutView",
       "align_content": null,
       "align_items": null,
       "align_self": null,
       "border": null,
       "bottom": null,
       "display": null,
       "flex": null,
       "flex_flow": null,
       "grid_area": null,
       "grid_auto_columns": null,
       "grid_auto_flow": null,
       "grid_auto_rows": null,
       "grid_column": null,
       "grid_gap": null,
       "grid_row": null,
       "grid_template_areas": null,
       "grid_template_columns": null,
       "grid_template_rows": null,
       "height": "16em",
       "justify_content": null,
       "justify_items": null,
       "left": null,
       "margin": null,
       "max_height": null,
       "max_width": null,
       "min_height": null,
       "min_width": null,
       "object_fit": null,
       "object_position": null,
       "order": null,
       "overflow": null,
       "overflow_x": null,
       "overflow_y": "auto",
       "padding": null,
       "right": null,
       "top": null,
       "visibility": null,
       "width": "100%"
      }
     },
     "acf253ddd95d4798928495e04e80eed4": {
      "model_module": "@jupyter-widgets/base",
      "model_module_version": "1.2.0",
      "model_name": "LayoutModel",
      "state": {
       "_model_module": "@jupyter-widgets/base",
       "_model_module_version": "1.2.0",
       "_model_name": "LayoutModel",
       "_view_count": null,
       "_view_module": "@jupyter-widgets/base",
       "_view_module_version": "1.2.0",
       "_view_name": "LayoutView",
       "align_content": null,
       "align_items": null,
       "align_self": null,
       "border": null,
       "bottom": null,
       "display": null,
       "flex": null,
       "flex_flow": null,
       "grid_area": null,
       "grid_auto_columns": null,
       "grid_auto_flow": null,
       "grid_auto_rows": null,
       "grid_column": null,
       "grid_gap": null,
       "grid_row": null,
       "grid_template_areas": null,
       "grid_template_columns": null,
       "grid_template_rows": null,
       "height": null,
       "justify_content": null,
       "justify_items": null,
       "left": null,
       "margin": null,
       "max_height": null,
       "max_width": null,
       "min_height": null,
       "min_width": null,
       "object_fit": null,
       "object_position": null,
       "order": null,
       "overflow": null,
       "overflow_x": null,
       "overflow_y": null,
       "padding": null,
       "right": null,
       "top": null,
       "visibility": null,
       "width": null
      }
     },
     "b086e842a88047fe8c20507e7edd1da1": {
      "model_module": "@jupyter-widgets/controls",
      "model_module_version": "1.5.0",
      "model_name": "AccordionModel",
      "state": {
       "_dom_classes": [],
       "_model_module": "@jupyter-widgets/controls",
       "_model_module_version": "1.5.0",
       "_model_name": "AccordionModel",
       "_titles": {
        "0": "Log Output"
       },
       "_view_count": null,
       "_view_module": "@jupyter-widgets/controls",
       "_view_module_version": "1.5.0",
       "_view_name": "AccordionView",
       "box_style": "",
       "children": [
        "IPY_MODEL_964d41ced7ec4b6bbbf285f424af5a98"
       ],
       "layout": "IPY_MODEL_b0cc9d0c59ca46f892a698b4b9087fb5",
       "selected_index": null
      }
     },
     "b0cc9d0c59ca46f892a698b4b9087fb5": {
      "model_module": "@jupyter-widgets/base",
      "model_module_version": "1.2.0",
      "model_name": "LayoutModel",
      "state": {
       "_model_module": "@jupyter-widgets/base",
       "_model_module_version": "1.2.0",
       "_model_name": "LayoutModel",
       "_view_count": null,
       "_view_module": "@jupyter-widgets/base",
       "_view_module_version": "1.2.0",
       "_view_name": "LayoutView",
       "align_content": null,
       "align_items": null,
       "align_self": null,
       "border": null,
       "bottom": null,
       "display": null,
       "flex": null,
       "flex_flow": null,
       "grid_area": null,
       "grid_auto_columns": null,
       "grid_auto_flow": null,
       "grid_auto_rows": null,
       "grid_column": null,
       "grid_gap": null,
       "grid_row": null,
       "grid_template_areas": null,
       "grid_template_columns": null,
       "grid_template_rows": null,
       "height": null,
       "justify_content": null,
       "justify_items": null,
       "left": null,
       "margin": null,
       "max_height": null,
       "max_width": null,
       "min_height": null,
       "min_width": null,
       "object_fit": null,
       "object_position": null,
       "order": null,
       "overflow": null,
       "overflow_x": null,
       "overflow_y": null,
       "padding": null,
       "right": null,
       "top": null,
       "visibility": null,
       "width": null
      }
     },
     "b3f695a25de146d4a6ec89e28d29be2a": {
      "model_module": "@jupyter-widgets/base",
      "model_module_version": "1.2.0",
      "model_name": "LayoutModel",
      "state": {
       "_model_module": "@jupyter-widgets/base",
       "_model_module_version": "1.2.0",
       "_model_name": "LayoutModel",
       "_view_count": null,
       "_view_module": "@jupyter-widgets/base",
       "_view_module_version": "1.2.0",
       "_view_name": "LayoutView",
       "align_content": null,
       "align_items": null,
       "align_self": null,
       "border": null,
       "bottom": null,
       "display": null,
       "flex": null,
       "flex_flow": null,
       "grid_area": null,
       "grid_auto_columns": null,
       "grid_auto_flow": null,
       "grid_auto_rows": null,
       "grid_column": null,
       "grid_gap": null,
       "grid_row": null,
       "grid_template_areas": null,
       "grid_template_columns": null,
       "grid_template_rows": null,
       "height": "16em",
       "justify_content": null,
       "justify_items": null,
       "left": null,
       "margin": null,
       "max_height": null,
       "max_width": null,
       "min_height": null,
       "min_width": null,
       "object_fit": null,
       "object_position": null,
       "order": null,
       "overflow": null,
       "overflow_x": null,
       "overflow_y": "auto",
       "padding": null,
       "right": null,
       "top": null,
       "visibility": null,
       "width": "100%"
      }
     },
     "b58017446c4c4a0aaa6950f52d25307d": {
      "model_module": "@jupyter-widgets/controls",
      "model_module_version": "1.5.0",
      "model_name": "DescriptionStyleModel",
      "state": {
       "_model_module": "@jupyter-widgets/controls",
       "_model_module_version": "1.5.0",
       "_model_name": "DescriptionStyleModel",
       "_view_count": null,
       "_view_module": "@jupyter-widgets/base",
       "_view_module_version": "1.2.0",
       "_view_name": "StyleView",
       "description_width": ""
      }
     },
     "b8c90d2d271f487e862acdaf67367fcd": {
      "model_module": "@jupyter-widgets/controls",
      "model_module_version": "1.5.0",
      "model_name": "HTMLModel",
      "state": {
       "_dom_classes": [],
       "_model_module": "@jupyter-widgets/controls",
       "_model_module_version": "1.5.0",
       "_model_name": "HTMLModel",
       "_view_count": null,
       "_view_module": "@jupyter-widgets/controls",
       "_view_module_version": "1.5.0",
       "_view_name": "HTMLView",
       "description": "",
       "description_tooltip": null,
       "layout": "IPY_MODEL_5e492df57bd74ea09645edc82113837a",
       "placeholder": "​",
       "style": "IPY_MODEL_619e4d3095544c67acfb723d1f2c6485",
       "value": ""
      }
     },
     "b945a600f43d4679a318b9b800324706": {
      "model_module": "@jupyter-widgets/base",
      "model_module_version": "1.2.0",
      "model_name": "LayoutModel",
      "state": {
       "_model_module": "@jupyter-widgets/base",
       "_model_module_version": "1.2.0",
       "_model_name": "LayoutModel",
       "_view_count": null,
       "_view_module": "@jupyter-widgets/base",
       "_view_module_version": "1.2.0",
       "_view_name": "LayoutView",
       "align_content": null,
       "align_items": null,
       "align_self": null,
       "border": null,
       "bottom": null,
       "display": null,
       "flex": null,
       "flex_flow": null,
       "grid_area": null,
       "grid_auto_columns": null,
       "grid_auto_flow": null,
       "grid_auto_rows": null,
       "grid_column": null,
       "grid_gap": null,
       "grid_row": null,
       "grid_template_areas": null,
       "grid_template_columns": null,
       "grid_template_rows": null,
       "height": "16em",
       "justify_content": null,
       "justify_items": null,
       "left": null,
       "margin": null,
       "max_height": null,
       "max_width": null,
       "min_height": null,
       "min_width": null,
       "object_fit": null,
       "object_position": null,
       "order": null,
       "overflow": null,
       "overflow_x": null,
       "overflow_y": "auto",
       "padding": null,
       "right": null,
       "top": null,
       "visibility": null,
       "width": "100%"
      }
     },
     "c050c65d092e40adb09eafe6945aa2f5": {
      "model_module": "@jupyter-widgets/base",
      "model_module_version": "1.2.0",
      "model_name": "LayoutModel",
      "state": {
       "_model_module": "@jupyter-widgets/base",
       "_model_module_version": "1.2.0",
       "_model_name": "LayoutModel",
       "_view_count": null,
       "_view_module": "@jupyter-widgets/base",
       "_view_module_version": "1.2.0",
       "_view_name": "LayoutView",
       "align_content": null,
       "align_items": null,
       "align_self": null,
       "border": null,
       "bottom": null,
       "display": null,
       "flex": null,
       "flex_flow": null,
       "grid_area": null,
       "grid_auto_columns": null,
       "grid_auto_flow": null,
       "grid_auto_rows": null,
       "grid_column": null,
       "grid_gap": null,
       "grid_row": null,
       "grid_template_areas": null,
       "grid_template_columns": null,
       "grid_template_rows": null,
       "height": "16em",
       "justify_content": null,
       "justify_items": null,
       "left": null,
       "margin": null,
       "max_height": null,
       "max_width": null,
       "min_height": null,
       "min_width": null,
       "object_fit": null,
       "object_position": null,
       "order": null,
       "overflow": null,
       "overflow_x": null,
       "overflow_y": "auto",
       "padding": null,
       "right": null,
       "top": null,
       "visibility": null,
       "width": "100%"
      }
     },
     "c15e102dea6946f58c0462860bd6c79a": {
      "model_module": "@jupyter-widgets/output",
      "model_module_version": "1.0.0",
      "model_name": "OutputModel",
      "state": {
       "_dom_classes": [],
       "_model_module": "@jupyter-widgets/output",
       "_model_module_version": "1.0.0",
       "_model_name": "OutputModel",
       "_view_count": null,
       "_view_module": "@jupyter-widgets/output",
       "_view_module_version": "1.0.0",
       "_view_name": "OutputView",
       "layout": "IPY_MODEL_213a008d61314fa7a8727f5cb3291ad3",
       "msg_id": "",
       "outputs": [
        {
         "data": {
          "image/png": "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\n",
          "text/plain": "<Figure size 432x432 with 1 Axes>"
         },
         "metadata": {
          "needs_background": "light"
         },
         "output_type": "display_data"
        },
        {
         "data": {
          "image/png": "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\n",
          "text/plain": "<Figure size 432x432 with 2 Axes>"
         },
         "metadata": {
          "needs_background": "light"
         },
         "output_type": "display_data"
        }
       ]
      }
     },
     "c6fff7f8093247d8a639e58fc845a43a": {
      "model_module": "@jupyter-widgets/controls",
      "model_module_version": "1.5.0",
      "model_name": "DescriptionStyleModel",
      "state": {
       "_model_module": "@jupyter-widgets/controls",
       "_model_module_version": "1.5.0",
       "_model_name": "DescriptionStyleModel",
       "_view_count": null,
       "_view_module": "@jupyter-widgets/base",
       "_view_module_version": "1.2.0",
       "_view_name": "StyleView",
       "description_width": ""
      }
     },
     "c9059f1362d54dd9b6238bb1c2f18aa0": {
      "model_module": "@jupyter-widgets/controls",
      "model_module_version": "1.5.0",
      "model_name": "HTMLModel",
      "state": {
       "_dom_classes": [],
       "_model_module": "@jupyter-widgets/controls",
       "_model_module_version": "1.5.0",
       "_model_name": "HTMLModel",
       "_view_count": null,
       "_view_module": "@jupyter-widgets/controls",
       "_view_module_version": "1.5.0",
       "_view_name": "HTMLView",
       "description": "",
       "description_tooltip": null,
       "layout": "IPY_MODEL_cd58b7bcf47449fa9bf8ed36d446904b",
       "placeholder": "​",
       "style": "IPY_MODEL_3bb53653376948588e3e38257dd55a99",
       "value": ""
      }
     },
     "cd58b7bcf47449fa9bf8ed36d446904b": {
      "model_module": "@jupyter-widgets/base",
      "model_module_version": "1.2.0",
      "model_name": "LayoutModel",
      "state": {
       "_model_module": "@jupyter-widgets/base",
       "_model_module_version": "1.2.0",
       "_model_name": "LayoutModel",
       "_view_count": null,
       "_view_module": "@jupyter-widgets/base",
       "_view_module_version": "1.2.0",
       "_view_name": "LayoutView",
       "align_content": null,
       "align_items": null,
       "align_self": null,
       "border": null,
       "bottom": null,
       "display": null,
       "flex": null,
       "flex_flow": null,
       "grid_area": null,
       "grid_auto_columns": null,
       "grid_auto_flow": null,
       "grid_auto_rows": null,
       "grid_column": null,
       "grid_gap": null,
       "grid_row": null,
       "grid_template_areas": null,
       "grid_template_columns": null,
       "grid_template_rows": null,
       "height": "16em",
       "justify_content": null,
       "justify_items": null,
       "left": null,
       "margin": null,
       "max_height": null,
       "max_width": null,
       "min_height": null,
       "min_width": null,
       "object_fit": null,
       "object_position": null,
       "order": null,
       "overflow": null,
       "overflow_x": null,
       "overflow_y": "auto",
       "padding": null,
       "right": null,
       "top": null,
       "visibility": null,
       "width": "100%"
      }
     },
     "d93fcb0f84774fc0b915e7845ef9a65c": {
      "model_module": "@jupyter-widgets/controls",
      "model_module_version": "1.5.0",
      "model_name": "AccordionModel",
      "state": {
       "_dom_classes": [],
       "_model_module": "@jupyter-widgets/controls",
       "_model_module_version": "1.5.0",
       "_model_name": "AccordionModel",
       "_titles": {
        "0": "Log Output"
       },
       "_view_count": null,
       "_view_module": "@jupyter-widgets/controls",
       "_view_module_version": "1.5.0",
       "_view_name": "AccordionView",
       "box_style": "",
       "children": [
        "IPY_MODEL_81a47393057a45c9ada728104fee879e"
       ],
       "layout": "IPY_MODEL_e02fee5afa8b4937a9fe041f7e9532cf",
       "selected_index": null
      }
     },
     "e02fee5afa8b4937a9fe041f7e9532cf": {
      "model_module": "@jupyter-widgets/base",
      "model_module_version": "1.2.0",
      "model_name": "LayoutModel",
      "state": {
       "_model_module": "@jupyter-widgets/base",
       "_model_module_version": "1.2.0",
       "_model_name": "LayoutModel",
       "_view_count": null,
       "_view_module": "@jupyter-widgets/base",
       "_view_module_version": "1.2.0",
       "_view_name": "LayoutView",
       "align_content": null,
       "align_items": null,
       "align_self": null,
       "border": null,
       "bottom": null,
       "display": null,
       "flex": null,
       "flex_flow": null,
       "grid_area": null,
       "grid_auto_columns": null,
       "grid_auto_flow": null,
       "grid_auto_rows": null,
       "grid_column": null,
       "grid_gap": null,
       "grid_row": null,
       "grid_template_areas": null,
       "grid_template_columns": null,
       "grid_template_rows": null,
       "height": null,
       "justify_content": null,
       "justify_items": null,
       "left": null,
       "margin": null,
       "max_height": null,
       "max_width": null,
       "min_height": null,
       "min_width": null,
       "object_fit": null,
       "object_position": null,
       "order": null,
       "overflow": null,
       "overflow_x": null,
       "overflow_y": null,
       "padding": null,
       "right": null,
       "top": null,
       "visibility": null,
       "width": null
      }
     },
     "e236396f06a64d11909cb4ac3651042f": {
      "model_module": "@jupyter-widgets/base",
      "model_module_version": "1.2.0",
      "model_name": "LayoutModel",
      "state": {
       "_model_module": "@jupyter-widgets/base",
       "_model_module_version": "1.2.0",
       "_model_name": "LayoutModel",
       "_view_count": null,
       "_view_module": "@jupyter-widgets/base",
       "_view_module_version": "1.2.0",
       "_view_name": "LayoutView",
       "align_content": null,
       "align_items": null,
       "align_self": null,
       "border": null,
       "bottom": null,
       "display": null,
       "flex": null,
       "flex_flow": null,
       "grid_area": null,
       "grid_auto_columns": null,
       "grid_auto_flow": null,
       "grid_auto_rows": null,
       "grid_column": null,
       "grid_gap": null,
       "grid_row": null,
       "grid_template_areas": null,
       "grid_template_columns": null,
       "grid_template_rows": null,
       "height": null,
       "justify_content": null,
       "justify_items": null,
       "left": null,
       "margin": null,
       "max_height": null,
       "max_width": null,
       "min_height": null,
       "min_width": null,
       "object_fit": null,
       "object_position": null,
       "order": null,
       "overflow": null,
       "overflow_x": null,
       "overflow_y": null,
       "padding": null,
       "right": null,
       "top": null,
       "visibility": null,
       "width": null
      }
     },
     "e631cb7f4f264f0e8ce531b17a71fb3a": {
      "model_module": "@jupyter-widgets/controls",
      "model_module_version": "1.5.0",
      "model_name": "HTMLModel",
      "state": {
       "_dom_classes": [],
       "_model_module": "@jupyter-widgets/controls",
       "_model_module_version": "1.5.0",
       "_model_name": "HTMLModel",
       "_view_count": null,
       "_view_module": "@jupyter-widgets/controls",
       "_view_module_version": "1.5.0",
       "_view_name": "HTMLView",
       "description": "",
       "description_tooltip": null,
       "layout": "IPY_MODEL_c050c65d092e40adb09eafe6945aa2f5",
       "placeholder": "​",
       "style": "IPY_MODEL_744d5b362b204afd9aaef0f2db4c9bbf",
       "value": ""
      }
     },
     "eaaaeebaea5b48b99c677d7ea96597b2": {
      "model_module": "@jupyter-widgets/base",
      "model_module_version": "1.2.0",
      "model_name": "LayoutModel",
      "state": {
       "_model_module": "@jupyter-widgets/base",
       "_model_module_version": "1.2.0",
       "_model_name": "LayoutModel",
       "_view_count": null,
       "_view_module": "@jupyter-widgets/base",
       "_view_module_version": "1.2.0",
       "_view_name": "LayoutView",
       "align_content": null,
       "align_items": null,
       "align_self": null,
       "border": null,
       "bottom": null,
       "display": null,
       "flex": null,
       "flex_flow": null,
       "grid_area": null,
       "grid_auto_columns": null,
       "grid_auto_flow": null,
       "grid_auto_rows": null,
       "grid_column": null,
       "grid_gap": null,
       "grid_row": null,
       "grid_template_areas": null,
       "grid_template_columns": null,
       "grid_template_rows": null,
       "height": null,
       "justify_content": null,
       "justify_items": null,
       "left": null,
       "margin": null,
       "max_height": null,
       "max_width": null,
       "min_height": null,
       "min_width": null,
       "object_fit": null,
       "object_position": null,
       "order": null,
       "overflow": null,
       "overflow_x": null,
       "overflow_y": null,
       "padding": null,
       "right": null,
       "top": null,
       "visibility": null,
       "width": null
      }
     },
     "ef50fdbd09c346dab053145e06bb8ce1": {
      "model_module": "@jupyter-widgets/base",
      "model_module_version": "1.2.0",
      "model_name": "LayoutModel",
      "state": {
       "_model_module": "@jupyter-widgets/base",
       "_model_module_version": "1.2.0",
       "_model_name": "LayoutModel",
       "_view_count": null,
       "_view_module": "@jupyter-widgets/base",
       "_view_module_version": "1.2.0",
       "_view_name": "LayoutView",
       "align_content": null,
       "align_items": null,
       "align_self": null,
       "border": null,
       "bottom": null,
       "display": null,
       "flex": null,
       "flex_flow": null,
       "grid_area": null,
       "grid_auto_columns": null,
       "grid_auto_flow": null,
       "grid_auto_rows": null,
       "grid_column": null,
       "grid_gap": null,
       "grid_row": null,
       "grid_template_areas": null,
       "grid_template_columns": null,
       "grid_template_rows": null,
       "height": "16em",
       "justify_content": null,
       "justify_items": null,
       "left": null,
       "margin": null,
       "max_height": null,
       "max_width": null,
       "min_height": null,
       "min_width": null,
       "object_fit": null,
       "object_position": null,
       "order": null,
       "overflow": null,
       "overflow_x": null,
       "overflow_y": "auto",
       "padding": null,
       "right": null,
       "top": null,
       "visibility": null,
       "width": "100%"
      }
     },
     "f26cf92f37b64033b75fb0ed89fa9f6c": {
      "model_module": "@jupyter-widgets/controls",
      "model_module_version": "1.5.0",
      "model_name": "HTMLModel",
      "state": {
       "_dom_classes": [],
       "_model_module": "@jupyter-widgets/controls",
       "_model_module_version": "1.5.0",
       "_model_name": "HTMLModel",
       "_view_count": null,
       "_view_module": "@jupyter-widgets/controls",
       "_view_module_version": "1.5.0",
       "_view_name": "HTMLView",
       "description": "",
       "description_tooltip": null,
       "layout": "IPY_MODEL_ef50fdbd09c346dab053145e06bb8ce1",
       "placeholder": "​",
       "style": "IPY_MODEL_4957e0fc513f4f0a8194f8f97216251b",
       "value": "<p style=\"line-height:120%\">00:38 <bold>StationaryModel</bold>: Solving 2DProblem_CG for {mu: [0.22554447458683766]} ...</p><p style=\"line-height:120%\">00:38 <bold>NeuralNetworkModel</bold>: Solving 2DProblem_CG_reduced for {mu: [0.22554447458683766]} ...</p><p style=\"line-height:120%\">00:38 <bold>StationaryModel</bold>: Solving 2DProblem_CG for {mu: [0.3629301836816964]} ...</p><p style=\"line-height:120%\">00:38 <bold>NeuralNetworkModel</bold>: Solving 2DProblem_CG_reduced for {mu: [0.3629301836816964]} ...</p><p style=\"line-height:120%\">00:38 <bold>StationaryModel</bold>: Solving 2DProblem_CG for {mu: [0.4297256589643226]} ...</p><p style=\"line-height:120%\">00:38 <bold>NeuralNetworkModel</bold>: Solving 2DProblem_CG_reduced for {mu: [0.4297256589643226]} ...</p><p style=\"line-height:120%\">00:38 <bold>StationaryModel</bold>: Solving 2DProblem_CG for {mu: [0.5104629857953323]} ...</p><p style=\"line-height:120%\">00:38 <bold>NeuralNetworkModel</bold>: Solving 2DProblem_CG_reduced for {mu: [0.5104629857953323]} ...</p><p style=\"line-height:120%\">00:38 <bold>StationaryModel</bold>: Solving 2DProblem_CG for {mu: [0.8066583652537123]} ...</p><p style=\"line-height:120%\">00:38 <bold>NeuralNetworkModel</bold>: Solving 2DProblem_CG_reduced for {mu: [0.8066583652537123]} ...</p><p style=\"line-height:120%\">00:38 <bold>StationaryModel</bold>: Solving 2DProblem_CG for {mu: [0.2797064039425238]} ...</p><p style=\"line-height:120%\">00:38 <bold>NeuralNetworkModel</bold>: Solving 2DProblem_CG_reduced for {mu: [0.2797064039425238]} ...</p><p style=\"line-height:120%\">00:38 <bold>StationaryModel</bold>: Solving 2DProblem_CG for {mu: [0.5628109945722505]} ...</p><p style=\"line-height:120%\">00:38 <bold>NeuralNetworkModel</bold>: Solving 2DProblem_CG_reduced for {mu: [0.5628109945722505]} ...</p><p style=\"line-height:120%\">00:38 <bold>StationaryModel</bold>: Solving 2DProblem_CG for {mu: [0.6331731119758383]} ...</p><p style=\"line-height:120%\">00:38 <bold>NeuralNetworkModel</bold>: Solving 2DProblem_CG_reduced for {mu: [0.6331731119758383]} ...</p><p style=\"line-height:120%\">00:38 <bold>StationaryModel</bold>: Solving 2DProblem_CG for {mu: [0.14180537144799796]} ...</p><p style=\"line-height:120%\">00:38 <bold>NeuralNetworkModel</bold>: Solving 2DProblem_CG_reduced for {mu: [0.14180537144799796]} ...</p><p style=\"line-height:120%\">00:38 <bold>StationaryModel</bold>: Solving 2DProblem_CG for {mu: [0.6467903667112945]} ...</p><p style=\"line-height:120%\">00:38 <bold>NeuralNetworkModel</bold>: Solving 2DProblem_CG_reduced for {mu: [0.6467903667112945]} ...</p>"
      }
     },
     "f462a43840054afabc0163877037303a": {
      "model_module": "@jupyter-widgets/base",
      "model_module_version": "1.2.0",
      "model_name": "LayoutModel",
      "state": {
       "_model_module": "@jupyter-widgets/base",
       "_model_module_version": "1.2.0",
       "_model_name": "LayoutModel",
       "_view_count": null,
       "_view_module": "@jupyter-widgets/base",
       "_view_module_version": "1.2.0",
       "_view_name": "LayoutView",
       "align_content": null,
       "align_items": null,
       "align_self": null,
       "border": null,
       "bottom": null,
       "display": null,
       "flex": null,
       "flex_flow": null,
       "grid_area": null,
       "grid_auto_columns": null,
       "grid_auto_flow": null,
       "grid_auto_rows": null,
       "grid_column": null,
       "grid_gap": null,
       "grid_row": null,
       "grid_template_areas": null,
       "grid_template_columns": null,
       "grid_template_rows": null,
       "height": null,
       "justify_content": null,
       "justify_items": null,
       "left": null,
       "margin": null,
       "max_height": null,
       "max_width": null,
       "min_height": null,
       "min_width": null,
       "object_fit": null,
       "object_position": null,
       "order": null,
       "overflow": null,
       "overflow_x": null,
       "overflow_y": null,
       "padding": null,
       "right": null,
       "top": null,
       "visibility": null,
       "width": null
      }
     },
     "f664a3697f0f4a8cb86350ae457dcab1": {
      "model_module": "@jupyter-widgets/controls",
      "model_module_version": "1.5.0",
      "model_name": "HTMLModel",
      "state": {
       "_dom_classes": [],
       "_model_module": "@jupyter-widgets/controls",
       "_model_module_version": "1.5.0",
       "_model_name": "HTMLModel",
       "_view_count": null,
       "_view_module": "@jupyter-widgets/controls",
       "_view_module_version": "1.5.0",
       "_view_name": "HTMLView",
       "description": "",
       "description_tooltip": null,
       "layout": "IPY_MODEL_b945a600f43d4679a318b9b800324706",
       "placeholder": "​",
       "style": "IPY_MODEL_10c184c472f7497c9db581f2e72d4e3e",
       "value": "<p style=\"line-height:120%\">00:37 <bold>StationaryModel</bold>: Solving 2DProblem_CG for {mu: [0.6506676052501416]} ...</p><p style=\"line-height:120%\">00:37 <bold>NeuralNetworkModel</bold>: Solving 2DProblem_CG_reduced for {mu: [0.6506676052501416]} ...</p>"
      }
     },
     "fd3ef481a944454a80b307099f060ed5": {
      "model_module": "@jupyter-widgets/controls",
      "model_module_version": "1.5.0",
      "model_name": "AccordionModel",
      "state": {
       "_dom_classes": [],
       "_model_module": "@jupyter-widgets/controls",
       "_model_module_version": "1.5.0",
       "_model_name": "AccordionModel",
       "_titles": {
        "0": "Log Output"
       },
       "_view_count": null,
       "_view_module": "@jupyter-widgets/controls",
       "_view_module_version": "1.5.0",
       "_view_name": "AccordionView",
       "box_style": "",
       "children": [
        "IPY_MODEL_84637d83ec5649d1956d854e14a67e6a"
       ],
       "layout": "IPY_MODEL_280d49ad936447a0a9662dcb135cbc2b",
       "selected_index": null
      }
     },
     "fdd1e45da00640f29c640dee8ed3b28d": {
      "model_module": "@jupyter-widgets/controls",
      "model_module_version": "1.5.0",
      "model_name": "HTMLModel",
      "state": {
       "_dom_classes": [],
       "_model_module": "@jupyter-widgets/controls",
       "_model_module_version": "1.5.0",
       "_model_name": "HTMLModel",
       "_view_count": null,
       "_view_module": "@jupyter-widgets/controls",
       "_view_module_version": "1.5.0",
       "_view_name": "HTMLView",
       "description": "",
       "description_tooltip": null,
       "layout": "IPY_MODEL_6a598a62fde24b80bc636dbac52266b8",
       "placeholder": "​",
       "style": "IPY_MODEL_c6fff7f8093247d8a639e58fc845a43a",
       "value": "<p style=\"line-height:120%\">00:00 <bold>DiffusionOperatorP1</bold>: Calculate gradients of shape functions transformed by reference map ...</p><p style=\"line-height:120%\">00:00 <bold>DiffusionOperatorP1</bold>: Calculate all local scalar products between gradients ...</p><p style=\"line-height:120%\">00:00 <bold>DiffusionOperatorP1</bold>: Determine global dofs ...</p><p style=\"line-height:120%\">00:00 <bold>DiffusionOperatorP1</bold>: Boundary treatment ...</p><p style=\"line-height:120%\">00:00 <bold>DiffusionOperatorP1</bold>: Assemble system matrix ...</p><p style=\"line-height:120%\">00:00 <bold>DiffusionOperatorP1</bold>: Calculate gradients of shape functions transformed by reference map ...</p><p style=\"line-height:120%\">00:00 <bold>DiffusionOperatorP1</bold>: Calculate all local scalar products between gradients ...</p><p style=\"line-height:120%\">00:00 <bold>DiffusionOperatorP1</bold>: Determine global dofs ...</p><p style=\"line-height:120%\">00:00 <bold>DiffusionOperatorP1</bold>: Boundary treatment ...</p><p style=\"line-height:120%\">00:00 <bold>DiffusionOperatorP1</bold>: Assemble system matrix ...</p><p style=\"line-height:120%\">00:00 <bold>DiffusionOperatorP1</bold>: Calculate gradients of shape functions transformed by reference map ...</p><p style=\"line-height:120%\">00:00 <bold>DiffusionOperatorP1</bold>: Calculate all local scalar products between gradients ...</p><p style=\"line-height:120%\">00:00 <bold>DiffusionOperatorP1</bold>: Determine global dofs ...</p><p style=\"line-height:120%\">00:00 <bold>DiffusionOperatorP1</bold>: Boundary treatment ...</p><p style=\"line-height:120%\">00:00 <bold>DiffusionOperatorP1</bold>: Assemble system matrix ...</p><p style=\"line-height:120%\">00:00 <bold>L2ProductP1</bold>: Integrate the products of the shape functions on each element</p><p style=\"line-height:120%\">00:00 <bold>L2ProductP1</bold>: Determine global dofs ...</p><p style=\"line-height:120%\">00:00 <bold>L2ProductP1</bold>: Boundary treatment ...</p><p style=\"line-height:120%\">00:00 <bold>L2ProductP1</bold>: Assemble system matrix ...</p><p style=\"line-height:120%\">00:00 <bold>DiffusionOperatorP1</bold>: Calculate gradients of shape functions transformed by reference map ...</p><p style=\"line-height:120%\">00:00 <bold>DiffusionOperatorP1</bold>: Calculate all local scalar products between gradients ...</p><p style=\"line-height:120%\">00:00 <bold>DiffusionOperatorP1</bold>: Determine global dofs ...</p><p style=\"line-height:120%\">00:00 <bold>DiffusionOperatorP1</bold>: Boundary treatment ...</p><p style=\"line-height:120%\">00:00 <bold>DiffusionOperatorP1</bold>: Assemble system matrix ...</p><p style=\"line-height:120%\">00:01 <bold>L2ProductP1</bold>: Integrate the products of the shape functions on each element</p><p style=\"line-height:120%\">00:01 <bold>L2ProductP1</bold>: Determine global dofs ...</p><p style=\"line-height:120%\">00:01 <bold>L2ProductP1</bold>: Boundary treatment ...</p><p style=\"line-height:120%\">00:01 <bold>L2ProductP1</bold>: Assemble system matrix ...</p><p style=\"line-height:120%\">00:01 <bold>DiffusionOperatorP1</bold>: Calculate gradients of shape functions transformed by reference map ...</p><p style=\"line-height:120%\">00:01 <bold>DiffusionOperatorP1</bold>: Calculate all local scalar products between gradients ...</p><p style=\"line-height:120%\">00:01 <bold>DiffusionOperatorP1</bold>: Determine global dofs ...</p><p style=\"line-height:120%\">00:01 <bold>DiffusionOperatorP1</bold>: Boundary treatment ...</p><p style=\"line-height:120%\">00:01 <bold>DiffusionOperatorP1</bold>: Assemble system matrix ...</p>"
      }
     },
     "ff8f822261df4c7eb2391d08443b2907": {
      "model_module": "@jupyter-widgets/base",
      "model_module_version": "1.2.0",
      "model_name": "LayoutModel",
      "state": {
       "_model_module": "@jupyter-widgets/base",
       "_model_module_version": "1.2.0",
       "_model_name": "LayoutModel",
       "_view_count": null,
       "_view_module": "@jupyter-widgets/base",
       "_view_module_version": "1.2.0",
       "_view_name": "LayoutView",
       "align_content": null,
       "align_items": null,
       "align_self": null,
       "border": null,
       "bottom": null,
       "display": null,
       "flex": null,
       "flex_flow": null,
       "grid_area": null,
       "grid_auto_columns": null,
       "grid_auto_flow": null,
       "grid_auto_rows": null,
       "grid_column": null,
       "grid_gap": null,
       "grid_row": null,
       "grid_template_areas": null,
       "grid_template_columns": null,
       "grid_template_rows": null,
       "height": "16em",
       "justify_content": null,
       "justify_items": null,
       "left": null,
       "margin": null,
       "max_height": null,
       "max_width": null,
       "min_height": null,
       "min_width": null,
       "object_fit": null,
       "object_position": null,
       "order": null,
       "overflow": null,
       "overflow_x": null,
       "overflow_y": "auto",
       "padding": null,
       "right": null,
       "top": null,
       "visibility": null,
       "width": "100%"
      }
     }
    },
    "version_major": 2,
    "version_minor": 0
   }
  }
 },
 "nbformat": 4,
 "nbformat_minor": 4
}
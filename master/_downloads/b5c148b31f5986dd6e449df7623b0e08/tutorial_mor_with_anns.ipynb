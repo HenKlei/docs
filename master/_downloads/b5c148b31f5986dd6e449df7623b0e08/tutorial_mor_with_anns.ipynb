{
 "cells": [
  {
   "cell_type": "code",
   "execution_count": 1,
   "metadata": {
    "execution": {
     "iopub.execute_input": "2020-10-28T13:33:20.421334Z",
     "iopub.status.busy": "2020-10-28T13:33:20.420817Z",
     "iopub.status.idle": "2020-10-28T13:33:20.428407Z",
     "shell.execute_reply": "2020-10-28T13:33:20.423799Z"
    }
   },
   "outputs": [
    {
     "name": "stdout",
     "output_type": "stream",
     "text": [
      "The pymor.discretizers.builtin.gui.jupyter extension is already loaded. To reload it, use:\n",
      "  %reload_ext pymor.discretizers.builtin.gui.jupyter\n"
     ]
    }
   ],
   "source": [
    "%matplotlib inline\n",
    "\n",
    "import pymor.tools.random\n",
    "pymor.tools.random._default_random_state = None\n",
    "\n",
    "from IPython import get_ipython\n",
    "ip = get_ipython()\n",
    "if ip is not None:\n",
    "    ip.run_line_magic('load_ext', 'pymor.discretizers.builtin.gui.jupyter')"
   ]
  },
  {
   "cell_type": "code",
   "execution_count": 2,
   "metadata": {
    "execution": {
     "iopub.execute_input": "2020-10-28T13:33:20.430784Z",
     "iopub.status.busy": "2020-10-28T13:33:20.430287Z",
     "iopub.status.idle": "2020-10-28T13:33:20.722270Z",
     "shell.execute_reply": "2020-10-28T13:33:20.722730Z"
    }
   },
   "outputs": [
    {
     "data": {
      "application/vnd.jupyter.widget-view+json": {
       "model_id": "95160b64c66d414a9811a5b3bfa684f7",
       "version_major": 2,
       "version_minor": 0
      },
      "text/plain": [
       "Accordion(children=(HTML(value='', layout=Layout(height='16em', overflow_y='auto', width='100%')),), selected_…"
      ]
     },
     "metadata": {},
     "output_type": "display_data"
    }
   ],
   "source": [
    "from pymor.basic import *\n",
    "\n",
    "problem = StationaryProblem(\n",
    "      domain=RectDomain(),\n",
    "\n",
    "      rhs=LincombFunction(\n",
    "          [ExpressionFunction('ones(x.shape[:-1]) * 10', 2, ()), ConstantFunction(1., 2)],\n",
    "          [ProjectionParameterFunctional('mu'), 0.1]),\n",
    "\n",
    "      diffusion=LincombFunction(\n",
    "          [ExpressionFunction('1 - x[..., 0]', 2, ()), ExpressionFunction('x[..., 0]', 2, ())],\n",
    "          [ProjectionParameterFunctional('mu'), 1]),\n",
    "\n",
    "      dirichlet_data=LincombFunction(\n",
    "          [ExpressionFunction('2 * x[..., 0]', 2, ()), ConstantFunction(1., 2)],\n",
    "          [ProjectionParameterFunctional('mu'), 0.5]),\n",
    "\n",
    "      name='2DProblem'\n",
    "  )\n",
    "\n",
    "fom, _ = discretize_stationary_cg(problem, diameter=1/50)"
   ]
  },
  {
   "cell_type": "code",
   "execution_count": 3,
   "metadata": {
    "execution": {
     "iopub.execute_input": "2020-10-28T13:33:20.725001Z",
     "iopub.status.busy": "2020-10-28T13:33:20.724536Z",
     "iopub.status.idle": "2020-10-28T13:33:20.741803Z",
     "shell.execute_reply": "2020-10-28T13:33:20.742242Z"
    }
   },
   "outputs": [],
   "source": [
    "parameter_space = fom.parameters.space((0.1, 1))"
   ]
  },
  {
   "cell_type": "code",
   "execution_count": 4,
   "metadata": {
    "execution": {
     "iopub.execute_input": "2020-10-28T13:33:20.744504Z",
     "iopub.status.busy": "2020-10-28T13:33:20.743993Z",
     "iopub.status.idle": "2020-10-28T13:33:20.762175Z",
     "shell.execute_reply": "2020-10-28T13:33:20.762698Z"
    }
   },
   "outputs": [],
   "source": [
    "training_set = parameter_space.sample_uniformly(100)\n",
    "validation_set = parameter_space.sample_randomly(20)"
   ]
  },
  {
   "cell_type": "code",
   "execution_count": 5,
   "metadata": {
    "execution": {
     "iopub.execute_input": "2020-10-28T13:33:20.764825Z",
     "iopub.status.busy": "2020-10-28T13:33:20.764351Z",
     "iopub.status.idle": "2020-10-28T13:33:21.212959Z",
     "shell.execute_reply": "2020-10-28T13:33:21.213528Z"
    }
   },
   "outputs": [],
   "source": [
    "from pymor.reductors.neural_network import NeuralNetworkReductor\n",
    "\n",
    "reductor = NeuralNetworkReductor(fom,\n",
    "                                 training_set,\n",
    "                                 validation_set,\n",
    "                                 l2_err=1e-5,\n",
    "                                 ann_mse=1e-5)"
   ]
  },
  {
   "cell_type": "code",
   "execution_count": 6,
   "metadata": {
    "execution": {
     "iopub.execute_input": "2020-10-28T13:33:21.215620Z",
     "iopub.status.busy": "2020-10-28T13:33:21.215126Z",
     "iopub.status.idle": "2020-10-28T13:33:29.961679Z",
     "shell.execute_reply": "2020-10-28T13:33:29.962100Z"
    }
   },
   "outputs": [
    {
     "data": {
      "application/vnd.jupyter.widget-view+json": {
       "model_id": "85306e39febd4dbabdb3b2907187334d",
       "version_major": 2,
       "version_minor": 0
      },
      "text/plain": [
       "Accordion(children=(HTML(value='', layout=Layout(height='16em', overflow_y='auto', width='100%')),), selected_…"
      ]
     },
     "metadata": {},
     "output_type": "display_data"
    }
   ],
   "source": [
    "rom = reductor.reduce(restarts=100)"
   ]
  },
  {
   "cell_type": "code",
   "execution_count": 7,
   "metadata": {
    "execution": {
     "iopub.execute_input": "2020-10-28T13:33:29.964275Z",
     "iopub.status.busy": "2020-10-28T13:33:29.963741Z",
     "iopub.status.idle": "2020-10-28T13:33:30.880275Z",
     "shell.execute_reply": "2020-10-28T13:33:30.879764Z"
    }
   },
   "outputs": [
    {
     "data": {
      "application/vnd.jupyter.widget-view+json": {
       "model_id": "469e72b5e35841febcf0596dd6869dcf",
       "version_major": 2,
       "version_minor": 0
      },
      "text/plain": [
       "Accordion(children=(HTML(value='', layout=Layout(height='16em', overflow_y='auto', width='100%')),), selected_…"
      ]
     },
     "metadata": {},
     "output_type": "display_data"
    },
    {
     "data": {
      "application/vnd.jupyter.widget-view+json": {
       "model_id": "d5cd19c12e1e46e283b712a557fbb503",
       "version_major": 2,
       "version_minor": 0
      },
      "text/plain": [
       "Output()"
      ]
     },
     "metadata": {},
     "output_type": "display_data"
    }
   ],
   "source": [
    "mu = parameter_space.sample_randomly(1)[0]\n",
    "\n",
    "U = fom.solve(mu)\n",
    "U_red = rom.solve(mu)\n",
    "U_red_recon = reductor.reconstruct(U_red)\n",
    "\n",
    "fom.visualize((U, U_red_recon),\n",
    "              legend=(f'Full solution for parameter {mu}', f'Reduced solution for parameter {mu}'))"
   ]
  },
  {
   "cell_type": "code",
   "execution_count": 8,
   "metadata": {
    "execution": {
     "iopub.execute_input": "2020-10-28T13:33:30.901898Z",
     "iopub.status.busy": "2020-10-28T13:33:30.901292Z",
     "iopub.status.idle": "2020-10-28T13:33:30.906884Z",
     "shell.execute_reply": "2020-10-28T13:33:30.902524Z"
    }
   },
   "outputs": [],
   "source": [
    "test_set = parameter_space.sample_randomly(10)"
   ]
  },
  {
   "cell_type": "code",
   "execution_count": 9,
   "metadata": {
    "execution": {
     "iopub.execute_input": "2020-10-28T13:33:30.924539Z",
     "iopub.status.busy": "2020-10-28T13:33:30.923293Z",
     "iopub.status.idle": "2020-10-28T13:33:30.929920Z",
     "shell.execute_reply": "2020-10-28T13:33:30.927149Z"
    }
   },
   "outputs": [],
   "source": [
    "U = fom.solution_space.empty(reserve=len(test_set))\n",
    "U_red = fom.solution_space.empty(reserve=len(test_set))\n",
    "\n",
    "speedups = []"
   ]
  },
  {
   "cell_type": "code",
   "execution_count": 10,
   "metadata": {
    "execution": {
     "iopub.execute_input": "2020-10-28T13:33:30.949796Z",
     "iopub.status.busy": "2020-10-28T13:33:30.948925Z",
     "iopub.status.idle": "2020-10-28T13:33:31.132812Z",
     "shell.execute_reply": "2020-10-28T13:33:31.133247Z"
    }
   },
   "outputs": [
    {
     "data": {
      "application/vnd.jupyter.widget-view+json": {
       "model_id": "23f0313c4516466a9ef07eca0edd0b4d",
       "version_major": 2,
       "version_minor": 0
      },
      "text/plain": [
       "Accordion(children=(HTML(value='', layout=Layout(height='16em', overflow_y='auto', width='100%')),), selected_…"
      ]
     },
     "metadata": {},
     "output_type": "display_data"
    }
   ],
   "source": [
    "import time\n",
    "\n",
    "for mu in test_set:\n",
    "    tic = time.time()\n",
    "    U.append(fom.solve(mu))\n",
    "    time_fom = time.time() - tic\n",
    "\n",
    "    tic = time.time()\n",
    "    U_red.append(reductor.reconstruct(rom.solve(mu)))\n",
    "    time_red = time.time() - tic\n",
    "\n",
    "    speedups.append(time_fom / time_red)"
   ]
  },
  {
   "cell_type": "code",
   "execution_count": 11,
   "metadata": {
    "execution": {
     "iopub.execute_input": "2020-10-28T13:33:31.148848Z",
     "iopub.status.busy": "2020-10-28T13:33:31.148312Z",
     "iopub.status.idle": "2020-10-28T13:33:31.154483Z",
     "shell.execute_reply": "2020-10-28T13:33:31.151693Z"
    }
   },
   "outputs": [],
   "source": [
    "absolute_errors = (U - U_red).norm()\n",
    "relative_errors = (U - U_red).norm() / U.norm()"
   ]
  },
  {
   "cell_type": "code",
   "execution_count": 12,
   "metadata": {
    "execution": {
     "iopub.execute_input": "2020-10-28T13:33:31.172280Z",
     "iopub.status.busy": "2020-10-28T13:33:31.171326Z",
     "iopub.status.idle": "2020-10-28T13:33:31.178396Z",
     "shell.execute_reply": "2020-10-28T13:33:31.174886Z"
    }
   },
   "outputs": [
    {
     "data": {
      "text/plain": [
       "0.006363440477226703"
      ]
     },
     "execution_count": 12,
     "metadata": {},
     "output_type": "execute_result"
    }
   ],
   "source": [
    "import numpy as np\n",
    "\n",
    "np.average(absolute_errors)"
   ]
  },
  {
   "cell_type": "code",
   "execution_count": 13,
   "metadata": {
    "execution": {
     "iopub.execute_input": "2020-10-28T13:33:31.193959Z",
     "iopub.status.busy": "2020-10-28T13:33:31.188861Z",
     "iopub.status.idle": "2020-10-28T13:33:31.200456Z",
     "shell.execute_reply": "2020-10-28T13:33:31.197389Z"
    }
   },
   "outputs": [
    {
     "data": {
      "text/plain": [
       "8.624937251237646e-05"
      ]
     },
     "execution_count": 13,
     "metadata": {},
     "output_type": "execute_result"
    }
   ],
   "source": [
    "np.average(relative_errors)"
   ]
  },
  {
   "cell_type": "code",
   "execution_count": 14,
   "metadata": {
    "execution": {
     "iopub.execute_input": "2020-10-28T13:33:31.215501Z",
     "iopub.status.busy": "2020-10-28T13:33:31.214998Z",
     "iopub.status.idle": "2020-10-28T13:33:31.225281Z",
     "shell.execute_reply": "2020-10-28T13:33:31.225678Z"
    }
   },
   "outputs": [
    {
     "data": {
      "text/plain": [
       "11.284377906874704"
      ]
     },
     "execution_count": 14,
     "metadata": {},
     "output_type": "execute_result"
    }
   ],
   "source": [
    "np.median(speedups)"
   ]
  }
 ],
 "metadata": {
  "kernelspec": {
   "display_name": "Python 3",
   "language": "python",
   "name": "python3"
  },
  "language_info": {
   "codemirror_mode": {
    "name": "ipython",
    "version": 3
   },
   "file_extension": ".py",
   "mimetype": "text/x-python",
   "name": "python",
   "nbconvert_exporter": "python",
   "pygments_lexer": "ipython3",
   "version": "3.7.8"
  },
  "widgets": {
   "application/vnd.jupyter.widget-state+json": {
    "state": {
     "009f7cbd7b8b48879d3d6cd44c155a2b": {
      "model_module": "@jupyter-widgets/base",
      "model_module_version": "1.2.0",
      "model_name": "LayoutModel",
      "state": {
       "_model_module": "@jupyter-widgets/base",
       "_model_module_version": "1.2.0",
       "_model_name": "LayoutModel",
       "_view_count": null,
       "_view_module": "@jupyter-widgets/base",
       "_view_module_version": "1.2.0",
       "_view_name": "LayoutView",
       "align_content": null,
       "align_items": null,
       "align_self": null,
       "border": null,
       "bottom": null,
       "display": null,
       "flex": null,
       "flex_flow": null,
       "grid_area": null,
       "grid_auto_columns": null,
       "grid_auto_flow": null,
       "grid_auto_rows": null,
       "grid_column": null,
       "grid_gap": null,
       "grid_row": null,
       "grid_template_areas": null,
       "grid_template_columns": null,
       "grid_template_rows": null,
       "height": null,
       "justify_content": null,
       "justify_items": null,
       "left": null,
       "margin": null,
       "max_height": null,
       "max_width": null,
       "min_height": null,
       "min_width": null,
       "object_fit": null,
       "object_position": null,
       "order": null,
       "overflow": null,
       "overflow_x": null,
       "overflow_y": null,
       "padding": null,
       "right": null,
       "top": null,
       "visibility": null,
       "width": null
      }
     },
     "0172d868a80c446a985618ce862668b7": {
      "model_module": "@jupyter-widgets/controls",
      "model_module_version": "1.5.0",
      "model_name": "DescriptionStyleModel",
      "state": {
       "_model_module": "@jupyter-widgets/controls",
       "_model_module_version": "1.5.0",
       "_model_name": "DescriptionStyleModel",
       "_view_count": null,
       "_view_module": "@jupyter-widgets/base",
       "_view_module_version": "1.2.0",
       "_view_name": "StyleView",
       "description_width": ""
      }
     },
     "042c989b04224443822876cad812ff31": {
      "model_module": "@jupyter-widgets/controls",
      "model_module_version": "1.5.0",
      "model_name": "HTMLModel",
      "state": {
       "_dom_classes": [],
       "_model_module": "@jupyter-widgets/controls",
       "_model_module_version": "1.5.0",
       "_model_name": "HTMLModel",
       "_view_count": null,
       "_view_module": "@jupyter-widgets/controls",
       "_view_module_version": "1.5.0",
       "_view_name": "HTMLView",
       "description": "",
       "description_tooltip": null,
       "layout": "IPY_MODEL_0ad4cabb61f449c7b58c1bab095f269f",
       "placeholder": "​",
       "style": "IPY_MODEL_0172d868a80c446a985618ce862668b7",
       "value": ""
      }
     },
     "050f7d96b4704935a7ad0533aeeb6cbd": {
      "model_module": "@jupyter-widgets/controls",
      "model_module_version": "1.5.0",
      "model_name": "AccordionModel",
      "state": {
       "_dom_classes": [],
       "_model_module": "@jupyter-widgets/controls",
       "_model_module_version": "1.5.0",
       "_model_name": "AccordionModel",
       "_titles": {
        "0": "Log Output"
       },
       "_view_count": null,
       "_view_module": "@jupyter-widgets/controls",
       "_view_module_version": "1.5.0",
       "_view_name": "AccordionView",
       "box_style": "",
       "children": [
        "IPY_MODEL_97f546c9b7564624abf6e12d712aa67b"
       ],
       "layout": "IPY_MODEL_96b907fecd2f460ea1939cd8b816ebf3",
       "selected_index": null
      }
     },
     "06c2c70ba8474424808dab94b163e060": {
      "model_module": "@jupyter-widgets/base",
      "model_module_version": "1.2.0",
      "model_name": "LayoutModel",
      "state": {
       "_model_module": "@jupyter-widgets/base",
       "_model_module_version": "1.2.0",
       "_model_name": "LayoutModel",
       "_view_count": null,
       "_view_module": "@jupyter-widgets/base",
       "_view_module_version": "1.2.0",
       "_view_name": "LayoutView",
       "align_content": null,
       "align_items": null,
       "align_self": null,
       "border": null,
       "bottom": null,
       "display": null,
       "flex": null,
       "flex_flow": null,
       "grid_area": null,
       "grid_auto_columns": null,
       "grid_auto_flow": null,
       "grid_auto_rows": null,
       "grid_column": null,
       "grid_gap": null,
       "grid_row": null,
       "grid_template_areas": null,
       "grid_template_columns": null,
       "grid_template_rows": null,
       "height": "16em",
       "justify_content": null,
       "justify_items": null,
       "left": null,
       "margin": null,
       "max_height": null,
       "max_width": null,
       "min_height": null,
       "min_width": null,
       "object_fit": null,
       "object_position": null,
       "order": null,
       "overflow": null,
       "overflow_x": null,
       "overflow_y": "auto",
       "padding": null,
       "right": null,
       "top": null,
       "visibility": null,
       "width": "100%"
      }
     },
     "094cd711071b4b4cbfbe8d874439e242": {
      "model_module": "@jupyter-widgets/controls",
      "model_module_version": "1.5.0",
      "model_name": "DescriptionStyleModel",
      "state": {
       "_model_module": "@jupyter-widgets/controls",
       "_model_module_version": "1.5.0",
       "_model_name": "DescriptionStyleModel",
       "_view_count": null,
       "_view_module": "@jupyter-widgets/base",
       "_view_module_version": "1.2.0",
       "_view_name": "StyleView",
       "description_width": ""
      }
     },
     "0ad4cabb61f449c7b58c1bab095f269f": {
      "model_module": "@jupyter-widgets/base",
      "model_module_version": "1.2.0",
      "model_name": "LayoutModel",
      "state": {
       "_model_module": "@jupyter-widgets/base",
       "_model_module_version": "1.2.0",
       "_model_name": "LayoutModel",
       "_view_count": null,
       "_view_module": "@jupyter-widgets/base",
       "_view_module_version": "1.2.0",
       "_view_name": "LayoutView",
       "align_content": null,
       "align_items": null,
       "align_self": null,
       "border": null,
       "bottom": null,
       "display": null,
       "flex": null,
       "flex_flow": null,
       "grid_area": null,
       "grid_auto_columns": null,
       "grid_auto_flow": null,
       "grid_auto_rows": null,
       "grid_column": null,
       "grid_gap": null,
       "grid_row": null,
       "grid_template_areas": null,
       "grid_template_columns": null,
       "grid_template_rows": null,
       "height": "16em",
       "justify_content": null,
       "justify_items": null,
       "left": null,
       "margin": null,
       "max_height": null,
       "max_width": null,
       "min_height": null,
       "min_width": null,
       "object_fit": null,
       "object_position": null,
       "order": null,
       "overflow": null,
       "overflow_x": null,
       "overflow_y": "auto",
       "padding": null,
       "right": null,
       "top": null,
       "visibility": null,
       "width": "100%"
      }
     },
     "0fbde632521c466996cbe04e75694846": {
      "model_module": "@jupyter-widgets/controls",
      "model_module_version": "1.5.0",
      "model_name": "DescriptionStyleModel",
      "state": {
       "_model_module": "@jupyter-widgets/controls",
       "_model_module_version": "1.5.0",
       "_model_name": "DescriptionStyleModel",
       "_view_count": null,
       "_view_module": "@jupyter-widgets/base",
       "_view_module_version": "1.2.0",
       "_view_name": "StyleView",
       "description_width": ""
      }
     },
     "1b96c16a1a60465ba9e08701c258bdb4": {
      "model_module": "@jupyter-widgets/controls",
      "model_module_version": "1.5.0",
      "model_name": "DescriptionStyleModel",
      "state": {
       "_model_module": "@jupyter-widgets/controls",
       "_model_module_version": "1.5.0",
       "_model_name": "DescriptionStyleModel",
       "_view_count": null,
       "_view_module": "@jupyter-widgets/base",
       "_view_module_version": "1.2.0",
       "_view_name": "StyleView",
       "description_width": ""
      }
     },
     "1bca4df2a8c646d4bda7a450602f8e7f": {
      "model_module": "@jupyter-widgets/controls",
      "model_module_version": "1.5.0",
      "model_name": "HTMLModel",
      "state": {
       "_dom_classes": [],
       "_model_module": "@jupyter-widgets/controls",
       "_model_module_version": "1.5.0",
       "_model_name": "HTMLModel",
       "_view_count": null,
       "_view_module": "@jupyter-widgets/controls",
       "_view_module_version": "1.5.0",
       "_view_name": "HTMLView",
       "description": "",
       "description_tooltip": null,
       "layout": "IPY_MODEL_8212379f92e3405cb9864fe76082d36a",
       "placeholder": "​",
       "style": "IPY_MODEL_b7cb5f07fb0d4d8f99259893d18f833f",
       "value": ""
      }
     },
     "1ce00efc53234c78b7bdaa80ba952d5a": {
      "model_module": "@jupyter-widgets/base",
      "model_module_version": "1.2.0",
      "model_name": "LayoutModel",
      "state": {
       "_model_module": "@jupyter-widgets/base",
       "_model_module_version": "1.2.0",
       "_model_name": "LayoutModel",
       "_view_count": null,
       "_view_module": "@jupyter-widgets/base",
       "_view_module_version": "1.2.0",
       "_view_name": "LayoutView",
       "align_content": null,
       "align_items": null,
       "align_self": null,
       "border": null,
       "bottom": null,
       "display": null,
       "flex": null,
       "flex_flow": null,
       "grid_area": null,
       "grid_auto_columns": null,
       "grid_auto_flow": null,
       "grid_auto_rows": null,
       "grid_column": null,
       "grid_gap": null,
       "grid_row": null,
       "grid_template_areas": null,
       "grid_template_columns": null,
       "grid_template_rows": null,
       "height": "16em",
       "justify_content": null,
       "justify_items": null,
       "left": null,
       "margin": null,
       "max_height": null,
       "max_width": null,
       "min_height": null,
       "min_width": null,
       "object_fit": null,
       "object_position": null,
       "order": null,
       "overflow": null,
       "overflow_x": null,
       "overflow_y": "auto",
       "padding": null,
       "right": null,
       "top": null,
       "visibility": null,
       "width": "100%"
      }
     },
     "22f3bee544134070ba778013837d7971": {
      "model_module": "@jupyter-widgets/base",
      "model_module_version": "1.2.0",
      "model_name": "LayoutModel",
      "state": {
       "_model_module": "@jupyter-widgets/base",
       "_model_module_version": "1.2.0",
       "_model_name": "LayoutModel",
       "_view_count": null,
       "_view_module": "@jupyter-widgets/base",
       "_view_module_version": "1.2.0",
       "_view_name": "LayoutView",
       "align_content": null,
       "align_items": null,
       "align_self": null,
       "border": null,
       "bottom": null,
       "display": null,
       "flex": null,
       "flex_flow": null,
       "grid_area": null,
       "grid_auto_columns": null,
       "grid_auto_flow": null,
       "grid_auto_rows": null,
       "grid_column": null,
       "grid_gap": null,
       "grid_row": null,
       "grid_template_areas": null,
       "grid_template_columns": null,
       "grid_template_rows": null,
       "height": null,
       "justify_content": null,
       "justify_items": null,
       "left": null,
       "margin": null,
       "max_height": null,
       "max_width": null,
       "min_height": null,
       "min_width": null,
       "object_fit": null,
       "object_position": null,
       "order": null,
       "overflow": null,
       "overflow_x": null,
       "overflow_y": null,
       "padding": null,
       "right": null,
       "top": null,
       "visibility": null,
       "width": null
      }
     },
     "23f0313c4516466a9ef07eca0edd0b4d": {
      "model_module": "@jupyter-widgets/controls",
      "model_module_version": "1.5.0",
      "model_name": "AccordionModel",
      "state": {
       "_dom_classes": [],
       "_model_module": "@jupyter-widgets/controls",
       "_model_module_version": "1.5.0",
       "_model_name": "AccordionModel",
       "_titles": {
        "0": "Log Output"
       },
       "_view_count": null,
       "_view_module": "@jupyter-widgets/controls",
       "_view_module_version": "1.5.0",
       "_view_name": "AccordionView",
       "box_style": "",
       "children": [
        "IPY_MODEL_93ecd5e31cf740d98fc0376e90a3e4c9"
       ],
       "layout": "IPY_MODEL_cd2cde83a086456c8ac3b691af7a7469",
       "selected_index": null
      }
     },
     "254ca97fbfca416ca778a30a6ffc8d4e": {
      "model_module": "@jupyter-widgets/controls",
      "model_module_version": "1.5.0",
      "model_name": "HTMLModel",
      "state": {
       "_dom_classes": [],
       "_model_module": "@jupyter-widgets/controls",
       "_model_module_version": "1.5.0",
       "_model_name": "HTMLModel",
       "_view_count": null,
       "_view_module": "@jupyter-widgets/controls",
       "_view_module_version": "1.5.0",
       "_view_name": "HTMLView",
       "description": "",
       "description_tooltip": null,
       "layout": "IPY_MODEL_9c0fd8a4024642189eb449b7082b83ce",
       "placeholder": "​",
       "style": "IPY_MODEL_41abcaabd0204acb927c203deffa92c0",
       "value": ""
      }
     },
     "266ee98174274e5db58d5143a48bcdf2": {
      "model_module": "@jupyter-widgets/base",
      "model_module_version": "1.2.0",
      "model_name": "LayoutModel",
      "state": {
       "_model_module": "@jupyter-widgets/base",
       "_model_module_version": "1.2.0",
       "_model_name": "LayoutModel",
       "_view_count": null,
       "_view_module": "@jupyter-widgets/base",
       "_view_module_version": "1.2.0",
       "_view_name": "LayoutView",
       "align_content": null,
       "align_items": null,
       "align_self": null,
       "border": null,
       "bottom": null,
       "display": null,
       "flex": null,
       "flex_flow": null,
       "grid_area": null,
       "grid_auto_columns": null,
       "grid_auto_flow": null,
       "grid_auto_rows": null,
       "grid_column": null,
       "grid_gap": null,
       "grid_row": null,
       "grid_template_areas": null,
       "grid_template_columns": null,
       "grid_template_rows": null,
       "height": null,
       "justify_content": null,
       "justify_items": null,
       "left": null,
       "margin": null,
       "max_height": null,
       "max_width": null,
       "min_height": null,
       "min_width": null,
       "object_fit": null,
       "object_position": null,
       "order": null,
       "overflow": null,
       "overflow_x": null,
       "overflow_y": null,
       "padding": null,
       "right": null,
       "top": null,
       "visibility": null,
       "width": null
      }
     },
     "2b791d3c687641c0b82340e3f1d7210b": {
      "model_module": "@jupyter-widgets/controls",
      "model_module_version": "1.5.0",
      "model_name": "DescriptionStyleModel",
      "state": {
       "_model_module": "@jupyter-widgets/controls",
       "_model_module_version": "1.5.0",
       "_model_name": "DescriptionStyleModel",
       "_view_count": null,
       "_view_module": "@jupyter-widgets/base",
       "_view_module_version": "1.2.0",
       "_view_name": "StyleView",
       "description_width": ""
      }
     },
     "31f22e5304cd498f8fe82211ae5eba1e": {
      "model_module": "@jupyter-widgets/base",
      "model_module_version": "1.2.0",
      "model_name": "LayoutModel",
      "state": {
       "_model_module": "@jupyter-widgets/base",
       "_model_module_version": "1.2.0",
       "_model_name": "LayoutModel",
       "_view_count": null,
       "_view_module": "@jupyter-widgets/base",
       "_view_module_version": "1.2.0",
       "_view_name": "LayoutView",
       "align_content": null,
       "align_items": null,
       "align_self": null,
       "border": null,
       "bottom": null,
       "display": null,
       "flex": null,
       "flex_flow": null,
       "grid_area": null,
       "grid_auto_columns": null,
       "grid_auto_flow": null,
       "grid_auto_rows": null,
       "grid_column": null,
       "grid_gap": null,
       "grid_row": null,
       "grid_template_areas": null,
       "grid_template_columns": null,
       "grid_template_rows": null,
       "height": null,
       "justify_content": null,
       "justify_items": null,
       "left": null,
       "margin": null,
       "max_height": null,
       "max_width": null,
       "min_height": null,
       "min_width": null,
       "object_fit": null,
       "object_position": null,
       "order": null,
       "overflow": null,
       "overflow_x": null,
       "overflow_y": null,
       "padding": null,
       "right": null,
       "top": null,
       "visibility": null,
       "width": null
      }
     },
     "329a3ff3c6964ce59dc8c50fe8fa787c": {
      "model_module": "@jupyter-widgets/base",
      "model_module_version": "1.2.0",
      "model_name": "LayoutModel",
      "state": {
       "_model_module": "@jupyter-widgets/base",
       "_model_module_version": "1.2.0",
       "_model_name": "LayoutModel",
       "_view_count": null,
       "_view_module": "@jupyter-widgets/base",
       "_view_module_version": "1.2.0",
       "_view_name": "LayoutView",
       "align_content": null,
       "align_items": null,
       "align_self": null,
       "border": null,
       "bottom": null,
       "display": null,
       "flex": null,
       "flex_flow": null,
       "grid_area": null,
       "grid_auto_columns": null,
       "grid_auto_flow": null,
       "grid_auto_rows": null,
       "grid_column": null,
       "grid_gap": null,
       "grid_row": null,
       "grid_template_areas": null,
       "grid_template_columns": null,
       "grid_template_rows": null,
       "height": null,
       "justify_content": null,
       "justify_items": null,
       "left": null,
       "margin": null,
       "max_height": null,
       "max_width": null,
       "min_height": null,
       "min_width": null,
       "object_fit": null,
       "object_position": null,
       "order": null,
       "overflow": null,
       "overflow_x": null,
       "overflow_y": null,
       "padding": null,
       "right": null,
       "top": null,
       "visibility": null,
       "width": null
      }
     },
     "41abcaabd0204acb927c203deffa92c0": {
      "model_module": "@jupyter-widgets/controls",
      "model_module_version": "1.5.0",
      "model_name": "DescriptionStyleModel",
      "state": {
       "_model_module": "@jupyter-widgets/controls",
       "_model_module_version": "1.5.0",
       "_model_name": "DescriptionStyleModel",
       "_view_count": null,
       "_view_module": "@jupyter-widgets/base",
       "_view_module_version": "1.2.0",
       "_view_name": "StyleView",
       "description_width": ""
      }
     },
     "422f876faff14785afe9dedab6933ca8": {
      "model_module": "@jupyter-widgets/controls",
      "model_module_version": "1.5.0",
      "model_name": "AccordionModel",
      "state": {
       "_dom_classes": [],
       "_model_module": "@jupyter-widgets/controls",
       "_model_module_version": "1.5.0",
       "_model_name": "AccordionModel",
       "_titles": {
        "0": "Log Output"
       },
       "_view_count": null,
       "_view_module": "@jupyter-widgets/controls",
       "_view_module_version": "1.5.0",
       "_view_name": "AccordionView",
       "box_style": "",
       "children": [
        "IPY_MODEL_a558415c773d4ad481cf92c5a830fac5"
       ],
       "layout": "IPY_MODEL_7af01ef585ed43528a59719c675aa437",
       "selected_index": null
      }
     },
     "447995cdbef247b8b982f30db953640f": {
      "model_module": "@jupyter-widgets/base",
      "model_module_version": "1.2.0",
      "model_name": "LayoutModel",
      "state": {
       "_model_module": "@jupyter-widgets/base",
       "_model_module_version": "1.2.0",
       "_model_name": "LayoutModel",
       "_view_count": null,
       "_view_module": "@jupyter-widgets/base",
       "_view_module_version": "1.2.0",
       "_view_name": "LayoutView",
       "align_content": null,
       "align_items": null,
       "align_self": null,
       "border": null,
       "bottom": null,
       "display": null,
       "flex": null,
       "flex_flow": null,
       "grid_area": null,
       "grid_auto_columns": null,
       "grid_auto_flow": null,
       "grid_auto_rows": null,
       "grid_column": null,
       "grid_gap": null,
       "grid_row": null,
       "grid_template_areas": null,
       "grid_template_columns": null,
       "grid_template_rows": null,
       "height": null,
       "justify_content": null,
       "justify_items": null,
       "left": null,
       "margin": null,
       "max_height": null,
       "max_width": null,
       "min_height": null,
       "min_width": null,
       "object_fit": null,
       "object_position": null,
       "order": null,
       "overflow": null,
       "overflow_x": null,
       "overflow_y": null,
       "padding": null,
       "right": null,
       "top": null,
       "visibility": null,
       "width": null
      }
     },
     "45bb7e79d1ce4316a7784ac1f503cb7d": {
      "model_module": "@jupyter-widgets/controls",
      "model_module_version": "1.5.0",
      "model_name": "DescriptionStyleModel",
      "state": {
       "_model_module": "@jupyter-widgets/controls",
       "_model_module_version": "1.5.0",
       "_model_name": "DescriptionStyleModel",
       "_view_count": null,
       "_view_module": "@jupyter-widgets/base",
       "_view_module_version": "1.2.0",
       "_view_name": "StyleView",
       "description_width": ""
      }
     },
     "469e72b5e35841febcf0596dd6869dcf": {
      "model_module": "@jupyter-widgets/controls",
      "model_module_version": "1.5.0",
      "model_name": "AccordionModel",
      "state": {
       "_dom_classes": [],
       "_model_module": "@jupyter-widgets/controls",
       "_model_module_version": "1.5.0",
       "_model_name": "AccordionModel",
       "_titles": {
        "0": "Log Output"
       },
       "_view_count": null,
       "_view_module": "@jupyter-widgets/controls",
       "_view_module_version": "1.5.0",
       "_view_name": "AccordionView",
       "box_style": "",
       "children": [
        "IPY_MODEL_c0f40ea5029f459daed3608fdd52c874"
       ],
       "layout": "IPY_MODEL_9b057fa664c84526a0f206143c89eeeb",
       "selected_index": null
      }
     },
     "4a9b0659de8d4d4ea18a8706bb93d392": {
      "model_module": "@jupyter-widgets/controls",
      "model_module_version": "1.5.0",
      "model_name": "HTMLModel",
      "state": {
       "_dom_classes": [],
       "_model_module": "@jupyter-widgets/controls",
       "_model_module_version": "1.5.0",
       "_model_name": "HTMLModel",
       "_view_count": null,
       "_view_module": "@jupyter-widgets/controls",
       "_view_module_version": "1.5.0",
       "_view_name": "HTMLView",
       "description": "",
       "description_tooltip": null,
       "layout": "IPY_MODEL_a5d4b96e4ae84c369d4e18776fe46a0f",
       "placeholder": "​",
       "style": "IPY_MODEL_2b791d3c687641c0b82340e3f1d7210b",
       "value": "<p style=\"line-height:120%\">00:00 <bold>DiffusionOperatorP1</bold>: Calculate gradients of shape functions transformed by reference map ...</p><p style=\"line-height:120%\">00:00 <bold>DiffusionOperatorP1</bold>: Calculate all local scalar products between gradients ...</p><p style=\"line-height:120%\">00:00 <bold>DiffusionOperatorP1</bold>: Determine global dofs ...</p><p style=\"line-height:120%\">00:00 <bold>DiffusionOperatorP1</bold>: Boundary treatment ...</p><p style=\"line-height:120%\">00:00 <bold>DiffusionOperatorP1</bold>: Assemble system matrix ...</p><p style=\"line-height:120%\">00:00 <bold>DiffusionOperatorP1</bold>: Calculate gradients of shape functions transformed by reference map ...</p><p style=\"line-height:120%\">00:00 <bold>DiffusionOperatorP1</bold>: Calculate all local scalar products between gradients ...</p><p style=\"line-height:120%\">00:00 <bold>DiffusionOperatorP1</bold>: Determine global dofs ...</p><p style=\"line-height:120%\">00:00 <bold>DiffusionOperatorP1</bold>: Boundary treatment ...</p><p style=\"line-height:120%\">00:00 <bold>DiffusionOperatorP1</bold>: Assemble system matrix ...</p><p style=\"line-height:120%\">00:00 <bold>DiffusionOperatorP1</bold>: Calculate gradients of shape functions transformed by reference map ...</p><p style=\"line-height:120%\">00:00 <bold>DiffusionOperatorP1</bold>: Calculate all local scalar products between gradients ...</p><p style=\"line-height:120%\">00:00 <bold>DiffusionOperatorP1</bold>: Determine global dofs ...</p><p style=\"line-height:120%\">00:00 <bold>DiffusionOperatorP1</bold>: Boundary treatment ...</p><p style=\"line-height:120%\">00:00 <bold>DiffusionOperatorP1</bold>: Assemble system matrix ...</p><p style=\"line-height:120%\">00:00 <bold>L2ProductP1</bold>: Integrate the products of the shape functions on each element</p><p style=\"line-height:120%\">00:00 <bold>L2ProductP1</bold>: Determine global dofs ...</p><p style=\"line-height:120%\">00:00 <bold>L2ProductP1</bold>: Boundary treatment ...</p><p style=\"line-height:120%\">00:00 <bold>L2ProductP1</bold>: Assemble system matrix ...</p><p style=\"line-height:120%\">00:00 <bold>DiffusionOperatorP1</bold>: Calculate gradients of shape functions transformed by reference map ...</p><p style=\"line-height:120%\">00:00 <bold>DiffusionOperatorP1</bold>: Calculate all local scalar products between gradients ...</p><p style=\"line-height:120%\">00:00 <bold>DiffusionOperatorP1</bold>: Determine global dofs ...</p><p style=\"line-height:120%\">00:00 <bold>DiffusionOperatorP1</bold>: Boundary treatment ...</p><p style=\"line-height:120%\">00:00 <bold>DiffusionOperatorP1</bold>: Assemble system matrix ...</p><p style=\"line-height:120%\">00:00 <bold>L2ProductP1</bold>: Integrate the products of the shape functions on each element</p><p style=\"line-height:120%\">00:00 <bold>L2ProductP1</bold>: Determine global dofs ...</p><p style=\"line-height:120%\">00:00 <bold>L2ProductP1</bold>: Boundary treatment ...</p><p style=\"line-height:120%\">00:00 <bold>L2ProductP1</bold>: Assemble system matrix ...</p><p style=\"line-height:120%\">00:00 <bold>DiffusionOperatorP1</bold>: Calculate gradients of shape functions transformed by reference map ...</p><p style=\"line-height:120%\">00:00 <bold>DiffusionOperatorP1</bold>: Calculate all local scalar products between gradients ...</p><p style=\"line-height:120%\">00:01 <bold>DiffusionOperatorP1</bold>: Determine global dofs ...</p><p style=\"line-height:120%\">00:01 <bold>DiffusionOperatorP1</bold>: Boundary treatment ...</p><p style=\"line-height:120%\">00:01 <bold>DiffusionOperatorP1</bold>: Assemble system matrix ...</p>"
      }
     },
     "57dea3ef41584e8dabd827588f3d7f0c": {
      "model_module": "@jupyter-widgets/base",
      "model_module_version": "1.2.0",
      "model_name": "LayoutModel",
      "state": {
       "_model_module": "@jupyter-widgets/base",
       "_model_module_version": "1.2.0",
       "_model_name": "LayoutModel",
       "_view_count": null,
       "_view_module": "@jupyter-widgets/base",
       "_view_module_version": "1.2.0",
       "_view_name": "LayoutView",
       "align_content": null,
       "align_items": null,
       "align_self": null,
       "border": null,
       "bottom": null,
       "display": null,
       "flex": null,
       "flex_flow": null,
       "grid_area": null,
       "grid_auto_columns": null,
       "grid_auto_flow": null,
       "grid_auto_rows": null,
       "grid_column": null,
       "grid_gap": null,
       "grid_row": null,
       "grid_template_areas": null,
       "grid_template_columns": null,
       "grid_template_rows": null,
       "height": null,
       "justify_content": null,
       "justify_items": null,
       "left": null,
       "margin": null,
       "max_height": null,
       "max_width": null,
       "min_height": null,
       "min_width": null,
       "object_fit": null,
       "object_position": null,
       "order": null,
       "overflow": null,
       "overflow_x": null,
       "overflow_y": null,
       "padding": null,
       "right": null,
       "top": null,
       "visibility": null,
       "width": null
      }
     },
     "681a486dab2e42d5838e6a96a216a439": {
      "model_module": "@jupyter-widgets/controls",
      "model_module_version": "1.5.0",
      "model_name": "AccordionModel",
      "state": {
       "_dom_classes": [],
       "_model_module": "@jupyter-widgets/controls",
       "_model_module_version": "1.5.0",
       "_model_name": "AccordionModel",
       "_titles": {
        "0": "Log Output"
       },
       "_view_count": null,
       "_view_module": "@jupyter-widgets/controls",
       "_view_module_version": "1.5.0",
       "_view_name": "AccordionView",
       "box_style": "",
       "children": [
        "IPY_MODEL_254ca97fbfca416ca778a30a6ffc8d4e"
       ],
       "layout": "IPY_MODEL_31f22e5304cd498f8fe82211ae5eba1e",
       "selected_index": null
      }
     },
     "68cd0b60ca0943cca1464154e281c1f1": {
      "model_module": "@jupyter-widgets/base",
      "model_module_version": "1.2.0",
      "model_name": "LayoutModel",
      "state": {
       "_model_module": "@jupyter-widgets/base",
       "_model_module_version": "1.2.0",
       "_model_name": "LayoutModel",
       "_view_count": null,
       "_view_module": "@jupyter-widgets/base",
       "_view_module_version": "1.2.0",
       "_view_name": "LayoutView",
       "align_content": null,
       "align_items": null,
       "align_self": null,
       "border": null,
       "bottom": null,
       "display": null,
       "flex": null,
       "flex_flow": null,
       "grid_area": null,
       "grid_auto_columns": null,
       "grid_auto_flow": null,
       "grid_auto_rows": null,
       "grid_column": null,
       "grid_gap": null,
       "grid_row": null,
       "grid_template_areas": null,
       "grid_template_columns": null,
       "grid_template_rows": null,
       "height": "16em",
       "justify_content": null,
       "justify_items": null,
       "left": null,
       "margin": null,
       "max_height": null,
       "max_width": null,
       "min_height": null,
       "min_width": null,
       "object_fit": null,
       "object_position": null,
       "order": null,
       "overflow": null,
       "overflow_x": null,
       "overflow_y": "auto",
       "padding": null,
       "right": null,
       "top": null,
       "visibility": null,
       "width": "100%"
      }
     },
     "6ed72f86e3f844a690bc275784ef2cb5": {
      "model_module": "@jupyter-widgets/controls",
      "model_module_version": "1.5.0",
      "model_name": "HTMLModel",
      "state": {
       "_dom_classes": [],
       "_model_module": "@jupyter-widgets/controls",
       "_model_module_version": "1.5.0",
       "_model_name": "HTMLModel",
       "_view_count": null,
       "_view_module": "@jupyter-widgets/controls",
       "_view_module_version": "1.5.0",
       "_view_name": "HTMLView",
       "description": "",
       "description_tooltip": null,
       "layout": "IPY_MODEL_f8f731fa490249959fbca348b8a38ae1",
       "placeholder": "​",
       "style": "IPY_MODEL_fdb82b37f3ec4062bbf2145a0ba996e9",
       "value": ""
      }
     },
     "76774c2d3b4740068d4a8db81c855e89": {
      "model_module": "@jupyter-widgets/controls",
      "model_module_version": "1.5.0",
      "model_name": "DescriptionStyleModel",
      "state": {
       "_model_module": "@jupyter-widgets/controls",
       "_model_module_version": "1.5.0",
       "_model_name": "DescriptionStyleModel",
       "_view_count": null,
       "_view_module": "@jupyter-widgets/base",
       "_view_module_version": "1.2.0",
       "_view_name": "StyleView",
       "description_width": ""
      }
     },
     "76e2bf4f246b43aa96732206f4baeafa": {
      "model_module": "@jupyter-widgets/base",
      "model_module_version": "1.2.0",
      "model_name": "LayoutModel",
      "state": {
       "_model_module": "@jupyter-widgets/base",
       "_model_module_version": "1.2.0",
       "_model_name": "LayoutModel",
       "_view_count": null,
       "_view_module": "@jupyter-widgets/base",
       "_view_module_version": "1.2.0",
       "_view_name": "LayoutView",
       "align_content": null,
       "align_items": null,
       "align_self": null,
       "border": null,
       "bottom": null,
       "display": null,
       "flex": null,
       "flex_flow": null,
       "grid_area": null,
       "grid_auto_columns": null,
       "grid_auto_flow": null,
       "grid_auto_rows": null,
       "grid_column": null,
       "grid_gap": null,
       "grid_row": null,
       "grid_template_areas": null,
       "grid_template_columns": null,
       "grid_template_rows": null,
       "height": "16em",
       "justify_content": null,
       "justify_items": null,
       "left": null,
       "margin": null,
       "max_height": null,
       "max_width": null,
       "min_height": null,
       "min_width": null,
       "object_fit": null,
       "object_position": null,
       "order": null,
       "overflow": null,
       "overflow_x": null,
       "overflow_y": "auto",
       "padding": null,
       "right": null,
       "top": null,
       "visibility": null,
       "width": "100%"
      }
     },
     "7a3d8773b0e34df483ab2260783ebc9b": {
      "model_module": "@jupyter-widgets/base",
      "model_module_version": "1.2.0",
      "model_name": "LayoutModel",
      "state": {
       "_model_module": "@jupyter-widgets/base",
       "_model_module_version": "1.2.0",
       "_model_name": "LayoutModel",
       "_view_count": null,
       "_view_module": "@jupyter-widgets/base",
       "_view_module_version": "1.2.0",
       "_view_name": "LayoutView",
       "align_content": null,
       "align_items": null,
       "align_self": null,
       "border": null,
       "bottom": null,
       "display": null,
       "flex": null,
       "flex_flow": null,
       "grid_area": null,
       "grid_auto_columns": null,
       "grid_auto_flow": null,
       "grid_auto_rows": null,
       "grid_column": null,
       "grid_gap": null,
       "grid_row": null,
       "grid_template_areas": null,
       "grid_template_columns": null,
       "grid_template_rows": null,
       "height": "16em",
       "justify_content": null,
       "justify_items": null,
       "left": null,
       "margin": null,
       "max_height": null,
       "max_width": null,
       "min_height": null,
       "min_width": null,
       "object_fit": null,
       "object_position": null,
       "order": null,
       "overflow": null,
       "overflow_x": null,
       "overflow_y": "auto",
       "padding": null,
       "right": null,
       "top": null,
       "visibility": null,
       "width": "100%"
      }
     },
     "7af01ef585ed43528a59719c675aa437": {
      "model_module": "@jupyter-widgets/base",
      "model_module_version": "1.2.0",
      "model_name": "LayoutModel",
      "state": {
       "_model_module": "@jupyter-widgets/base",
       "_model_module_version": "1.2.0",
       "_model_name": "LayoutModel",
       "_view_count": null,
       "_view_module": "@jupyter-widgets/base",
       "_view_module_version": "1.2.0",
       "_view_name": "LayoutView",
       "align_content": null,
       "align_items": null,
       "align_self": null,
       "border": null,
       "bottom": null,
       "display": null,
       "flex": null,
       "flex_flow": null,
       "grid_area": null,
       "grid_auto_columns": null,
       "grid_auto_flow": null,
       "grid_auto_rows": null,
       "grid_column": null,
       "grid_gap": null,
       "grid_row": null,
       "grid_template_areas": null,
       "grid_template_columns": null,
       "grid_template_rows": null,
       "height": null,
       "justify_content": null,
       "justify_items": null,
       "left": null,
       "margin": null,
       "max_height": null,
       "max_width": null,
       "min_height": null,
       "min_width": null,
       "object_fit": null,
       "object_position": null,
       "order": null,
       "overflow": null,
       "overflow_x": null,
       "overflow_y": null,
       "padding": null,
       "right": null,
       "top": null,
       "visibility": null,
       "width": null
      }
     },
     "7ba6a681c2a04281a653b0e9e0b9852b": {
      "model_module": "@jupyter-widgets/controls",
      "model_module_version": "1.5.0",
      "model_name": "DescriptionStyleModel",
      "state": {
       "_model_module": "@jupyter-widgets/controls",
       "_model_module_version": "1.5.0",
       "_model_name": "DescriptionStyleModel",
       "_view_count": null,
       "_view_module": "@jupyter-widgets/base",
       "_view_module_version": "1.2.0",
       "_view_name": "StyleView",
       "description_width": ""
      }
     },
     "8212379f92e3405cb9864fe76082d36a": {
      "model_module": "@jupyter-widgets/base",
      "model_module_version": "1.2.0",
      "model_name": "LayoutModel",
      "state": {
       "_model_module": "@jupyter-widgets/base",
       "_model_module_version": "1.2.0",
       "_model_name": "LayoutModel",
       "_view_count": null,
       "_view_module": "@jupyter-widgets/base",
       "_view_module_version": "1.2.0",
       "_view_name": "LayoutView",
       "align_content": null,
       "align_items": null,
       "align_self": null,
       "border": null,
       "bottom": null,
       "display": null,
       "flex": null,
       "flex_flow": null,
       "grid_area": null,
       "grid_auto_columns": null,
       "grid_auto_flow": null,
       "grid_auto_rows": null,
       "grid_column": null,
       "grid_gap": null,
       "grid_row": null,
       "grid_template_areas": null,
       "grid_template_columns": null,
       "grid_template_rows": null,
       "height": "16em",
       "justify_content": null,
       "justify_items": null,
       "left": null,
       "margin": null,
       "max_height": null,
       "max_width": null,
       "min_height": null,
       "min_width": null,
       "object_fit": null,
       "object_position": null,
       "order": null,
       "overflow": null,
       "overflow_x": null,
       "overflow_y": "auto",
       "padding": null,
       "right": null,
       "top": null,
       "visibility": null,
       "width": "100%"
      }
     },
     "824923b8079c49988b6c5b61950dee46": {
      "model_module": "@jupyter-widgets/controls",
      "model_module_version": "1.5.0",
      "model_name": "AccordionModel",
      "state": {
       "_dom_classes": [],
       "_model_module": "@jupyter-widgets/controls",
       "_model_module_version": "1.5.0",
       "_model_name": "AccordionModel",
       "_titles": {
        "0": "Log Output"
       },
       "_view_count": null,
       "_view_module": "@jupyter-widgets/controls",
       "_view_module_version": "1.5.0",
       "_view_name": "AccordionView",
       "box_style": "",
       "children": [
        "IPY_MODEL_1bca4df2a8c646d4bda7a450602f8e7f"
       ],
       "layout": "IPY_MODEL_009f7cbd7b8b48879d3d6cd44c155a2b",
       "selected_index": null
      }
     },
     "85306e39febd4dbabdb3b2907187334d": {
      "model_module": "@jupyter-widgets/controls",
      "model_module_version": "1.5.0",
      "model_name": "AccordionModel",
      "state": {
       "_dom_classes": [],
       "_model_module": "@jupyter-widgets/controls",
       "_model_module_version": "1.5.0",
       "_model_name": "AccordionModel",
       "_titles": {
        "0": "Log Output"
       },
       "_view_count": null,
       "_view_module": "@jupyter-widgets/controls",
       "_view_module_version": "1.5.0",
       "_view_name": "AccordionView",
       "box_style": "",
       "children": [
        "IPY_MODEL_fce4988fb2ac4b4f8e31c7bc17c061c2"
       ],
       "layout": "IPY_MODEL_dbb8520e6d0f43c98b2c42e0875dd66d",
       "selected_index": null
      }
     },
     "88d1d575bb584cdfb40faf98eaedd93d": {
      "model_module": "@jupyter-widgets/controls",
      "model_module_version": "1.5.0",
      "model_name": "DescriptionStyleModel",
      "state": {
       "_model_module": "@jupyter-widgets/controls",
       "_model_module_version": "1.5.0",
       "_model_name": "DescriptionStyleModel",
       "_view_count": null,
       "_view_module": "@jupyter-widgets/base",
       "_view_module_version": "1.2.0",
       "_view_name": "StyleView",
       "description_width": ""
      }
     },
     "8a6a15337fc243bd85d50020f9cf47f3": {
      "model_module": "@jupyter-widgets/base",
      "model_module_version": "1.2.0",
      "model_name": "LayoutModel",
      "state": {
       "_model_module": "@jupyter-widgets/base",
       "_model_module_version": "1.2.0",
       "_model_name": "LayoutModel",
       "_view_count": null,
       "_view_module": "@jupyter-widgets/base",
       "_view_module_version": "1.2.0",
       "_view_name": "LayoutView",
       "align_content": null,
       "align_items": null,
       "align_self": null,
       "border": null,
       "bottom": null,
       "display": null,
       "flex": null,
       "flex_flow": null,
       "grid_area": null,
       "grid_auto_columns": null,
       "grid_auto_flow": null,
       "grid_auto_rows": null,
       "grid_column": null,
       "grid_gap": null,
       "grid_row": null,
       "grid_template_areas": null,
       "grid_template_columns": null,
       "grid_template_rows": null,
       "height": null,
       "justify_content": null,
       "justify_items": null,
       "left": null,
       "margin": null,
       "max_height": null,
       "max_width": null,
       "min_height": null,
       "min_width": null,
       "object_fit": null,
       "object_position": null,
       "order": null,
       "overflow": null,
       "overflow_x": null,
       "overflow_y": null,
       "padding": null,
       "right": null,
       "top": null,
       "visibility": null,
       "width": null
      }
     },
     "93ecd5e31cf740d98fc0376e90a3e4c9": {
      "model_module": "@jupyter-widgets/controls",
      "model_module_version": "1.5.0",
      "model_name": "HTMLModel",
      "state": {
       "_dom_classes": [],
       "_model_module": "@jupyter-widgets/controls",
       "_model_module_version": "1.5.0",
       "_model_name": "HTMLModel",
       "_view_count": null,
       "_view_module": "@jupyter-widgets/controls",
       "_view_module_version": "1.5.0",
       "_view_name": "HTMLView",
       "description": "",
       "description_tooltip": null,
       "layout": "IPY_MODEL_d066be0c32a947e6acdcd5d451dd2fca",
       "placeholder": "​",
       "style": "IPY_MODEL_45bb7e79d1ce4316a7784ac1f503cb7d",
       "value": "<p style=\"line-height:120%\">00:11 <bold>StationaryModel</bold>: Solving 2DProblem_CG for {mu: [0.22554447458683766]} ...</p><p style=\"line-height:120%\">00:11 <bold>NeuralNetworkModel</bold>: Solving 2DProblem_CG_reduced for {mu: [0.22554447458683766]} ...</p><p style=\"line-height:120%\">00:11 <bold>StationaryModel</bold>: Solving 2DProblem_CG for {mu: [0.3629301836816964]} ...</p><p style=\"line-height:120%\">00:11 <bold>NeuralNetworkModel</bold>: Solving 2DProblem_CG_reduced for {mu: [0.3629301836816964]} ...</p><p style=\"line-height:120%\">00:11 <bold>StationaryModel</bold>: Solving 2DProblem_CG for {mu: [0.4297256589643226]} ...</p><p style=\"line-height:120%\">00:11 <bold>NeuralNetworkModel</bold>: Solving 2DProblem_CG_reduced for {mu: [0.4297256589643226]} ...</p><p style=\"line-height:120%\">00:11 <bold>StationaryModel</bold>: Solving 2DProblem_CG for {mu: [0.5104629857953323]} ...</p><p style=\"line-height:120%\">00:11 <bold>NeuralNetworkModel</bold>: Solving 2DProblem_CG_reduced for {mu: [0.5104629857953323]} ...</p><p style=\"line-height:120%\">00:11 <bold>StationaryModel</bold>: Solving 2DProblem_CG for {mu: [0.8066583652537123]} ...</p><p style=\"line-height:120%\">00:11 <bold>NeuralNetworkModel</bold>: Solving 2DProblem_CG_reduced for {mu: [0.8066583652537123]} ...</p><p style=\"line-height:120%\">00:11 <bold>StationaryModel</bold>: Solving 2DProblem_CG for {mu: [0.2797064039425238]} ...</p><p style=\"line-height:120%\">00:11 <bold>NeuralNetworkModel</bold>: Solving 2DProblem_CG_reduced for {mu: [0.2797064039425238]} ...</p><p style=\"line-height:120%\">00:11 <bold>StationaryModel</bold>: Solving 2DProblem_CG for {mu: [0.5628109945722505]} ...</p><p style=\"line-height:120%\">00:11 <bold>NeuralNetworkModel</bold>: Solving 2DProblem_CG_reduced for {mu: [0.5628109945722505]} ...</p><p style=\"line-height:120%\">00:11 <bold>StationaryModel</bold>: Solving 2DProblem_CG for {mu: [0.6331731119758383]} ...</p><p style=\"line-height:120%\">00:11 <bold>NeuralNetworkModel</bold>: Solving 2DProblem_CG_reduced for {mu: [0.6331731119758383]} ...</p><p style=\"line-height:120%\">00:11 <bold>StationaryModel</bold>: Solving 2DProblem_CG for {mu: [0.14180537144799796]} ...</p><p style=\"line-height:120%\">00:11 <bold>NeuralNetworkModel</bold>: Solving 2DProblem_CG_reduced for {mu: [0.14180537144799796]} ...</p><p style=\"line-height:120%\">00:11 <bold>StationaryModel</bold>: Solving 2DProblem_CG for {mu: [0.6467903667112945]} ...</p><p style=\"line-height:120%\">00:11 <bold>NeuralNetworkModel</bold>: Solving 2DProblem_CG_reduced for {mu: [0.6467903667112945]} ...</p>"
      }
     },
     "94e870917a1242ef9f711a37199d6b26": {
      "model_module": "@jupyter-widgets/controls",
      "model_module_version": "1.5.0",
      "model_name": "DescriptionStyleModel",
      "state": {
       "_model_module": "@jupyter-widgets/controls",
       "_model_module_version": "1.5.0",
       "_model_name": "DescriptionStyleModel",
       "_view_count": null,
       "_view_module": "@jupyter-widgets/base",
       "_view_module_version": "1.2.0",
       "_view_name": "StyleView",
       "description_width": ""
      }
     },
     "95160b64c66d414a9811a5b3bfa684f7": {
      "model_module": "@jupyter-widgets/controls",
      "model_module_version": "1.5.0",
      "model_name": "AccordionModel",
      "state": {
       "_dom_classes": [],
       "_model_module": "@jupyter-widgets/controls",
       "_model_module_version": "1.5.0",
       "_model_name": "AccordionModel",
       "_titles": {
        "0": "Log Output"
       },
       "_view_count": null,
       "_view_module": "@jupyter-widgets/controls",
       "_view_module_version": "1.5.0",
       "_view_name": "AccordionView",
       "box_style": "",
       "children": [
        "IPY_MODEL_4a9b0659de8d4d4ea18a8706bb93d392"
       ],
       "layout": "IPY_MODEL_e62660771bd64656b66853cb5f435c30",
       "selected_index": null
      }
     },
     "96b907fecd2f460ea1939cd8b816ebf3": {
      "model_module": "@jupyter-widgets/base",
      "model_module_version": "1.2.0",
      "model_name": "LayoutModel",
      "state": {
       "_model_module": "@jupyter-widgets/base",
       "_model_module_version": "1.2.0",
       "_model_name": "LayoutModel",
       "_view_count": null,
       "_view_module": "@jupyter-widgets/base",
       "_view_module_version": "1.2.0",
       "_view_name": "LayoutView",
       "align_content": null,
       "align_items": null,
       "align_self": null,
       "border": null,
       "bottom": null,
       "display": null,
       "flex": null,
       "flex_flow": null,
       "grid_area": null,
       "grid_auto_columns": null,
       "grid_auto_flow": null,
       "grid_auto_rows": null,
       "grid_column": null,
       "grid_gap": null,
       "grid_row": null,
       "grid_template_areas": null,
       "grid_template_columns": null,
       "grid_template_rows": null,
       "height": null,
       "justify_content": null,
       "justify_items": null,
       "left": null,
       "margin": null,
       "max_height": null,
       "max_width": null,
       "min_height": null,
       "min_width": null,
       "object_fit": null,
       "object_position": null,
       "order": null,
       "overflow": null,
       "overflow_x": null,
       "overflow_y": null,
       "padding": null,
       "right": null,
       "top": null,
       "visibility": null,
       "width": null
      }
     },
     "97f546c9b7564624abf6e12d712aa67b": {
      "model_module": "@jupyter-widgets/controls",
      "model_module_version": "1.5.0",
      "model_name": "HTMLModel",
      "state": {
       "_dom_classes": [],
       "_model_module": "@jupyter-widgets/controls",
       "_model_module_version": "1.5.0",
       "_model_name": "HTMLModel",
       "_view_count": null,
       "_view_module": "@jupyter-widgets/controls",
       "_view_module_version": "1.5.0",
       "_view_name": "HTMLView",
       "description": "",
       "description_tooltip": null,
       "layout": "IPY_MODEL_7a3d8773b0e34df483ab2260783ebc9b",
       "placeholder": "​",
       "style": "IPY_MODEL_7ba6a681c2a04281a653b0e9e0b9852b",
       "value": ""
      }
     },
     "9b057fa664c84526a0f206143c89eeeb": {
      "model_module": "@jupyter-widgets/base",
      "model_module_version": "1.2.0",
      "model_name": "LayoutModel",
      "state": {
       "_model_module": "@jupyter-widgets/base",
       "_model_module_version": "1.2.0",
       "_model_name": "LayoutModel",
       "_view_count": null,
       "_view_module": "@jupyter-widgets/base",
       "_view_module_version": "1.2.0",
       "_view_name": "LayoutView",
       "align_content": null,
       "align_items": null,
       "align_self": null,
       "border": null,
       "bottom": null,
       "display": null,
       "flex": null,
       "flex_flow": null,
       "grid_area": null,
       "grid_auto_columns": null,
       "grid_auto_flow": null,
       "grid_auto_rows": null,
       "grid_column": null,
       "grid_gap": null,
       "grid_row": null,
       "grid_template_areas": null,
       "grid_template_columns": null,
       "grid_template_rows": null,
       "height": null,
       "justify_content": null,
       "justify_items": null,
       "left": null,
       "margin": null,
       "max_height": null,
       "max_width": null,
       "min_height": null,
       "min_width": null,
       "object_fit": null,
       "object_position": null,
       "order": null,
       "overflow": null,
       "overflow_x": null,
       "overflow_y": null,
       "padding": null,
       "right": null,
       "top": null,
       "visibility": null,
       "width": null
      }
     },
     "9c0fd8a4024642189eb449b7082b83ce": {
      "model_module": "@jupyter-widgets/base",
      "model_module_version": "1.2.0",
      "model_name": "LayoutModel",
      "state": {
       "_model_module": "@jupyter-widgets/base",
       "_model_module_version": "1.2.0",
       "_model_name": "LayoutModel",
       "_view_count": null,
       "_view_module": "@jupyter-widgets/base",
       "_view_module_version": "1.2.0",
       "_view_name": "LayoutView",
       "align_content": null,
       "align_items": null,
       "align_self": null,
       "border": null,
       "bottom": null,
       "display": null,
       "flex": null,
       "flex_flow": null,
       "grid_area": null,
       "grid_auto_columns": null,
       "grid_auto_flow": null,
       "grid_auto_rows": null,
       "grid_column": null,
       "grid_gap": null,
       "grid_row": null,
       "grid_template_areas": null,
       "grid_template_columns": null,
       "grid_template_rows": null,
       "height": "16em",
       "justify_content": null,
       "justify_items": null,
       "left": null,
       "margin": null,
       "max_height": null,
       "max_width": null,
       "min_height": null,
       "min_width": null,
       "object_fit": null,
       "object_position": null,
       "order": null,
       "overflow": null,
       "overflow_x": null,
       "overflow_y": "auto",
       "padding": null,
       "right": null,
       "top": null,
       "visibility": null,
       "width": "100%"
      }
     },
     "a558415c773d4ad481cf92c5a830fac5": {
      "model_module": "@jupyter-widgets/controls",
      "model_module_version": "1.5.0",
      "model_name": "HTMLModel",
      "state": {
       "_dom_classes": [],
       "_model_module": "@jupyter-widgets/controls",
       "_model_module_version": "1.5.0",
       "_model_name": "HTMLModel",
       "_view_count": null,
       "_view_module": "@jupyter-widgets/controls",
       "_view_module_version": "1.5.0",
       "_view_name": "HTMLView",
       "description": "",
       "description_tooltip": null,
       "layout": "IPY_MODEL_76e2bf4f246b43aa96732206f4baeafa",
       "placeholder": "​",
       "style": "IPY_MODEL_1b96c16a1a60465ba9e08701c258bdb4",
       "value": ""
      }
     },
     "a5d4b96e4ae84c369d4e18776fe46a0f": {
      "model_module": "@jupyter-widgets/base",
      "model_module_version": "1.2.0",
      "model_name": "LayoutModel",
      "state": {
       "_model_module": "@jupyter-widgets/base",
       "_model_module_version": "1.2.0",
       "_model_name": "LayoutModel",
       "_view_count": null,
       "_view_module": "@jupyter-widgets/base",
       "_view_module_version": "1.2.0",
       "_view_name": "LayoutView",
       "align_content": null,
       "align_items": null,
       "align_self": null,
       "border": null,
       "bottom": null,
       "display": null,
       "flex": null,
       "flex_flow": null,
       "grid_area": null,
       "grid_auto_columns": null,
       "grid_auto_flow": null,
       "grid_auto_rows": null,
       "grid_column": null,
       "grid_gap": null,
       "grid_row": null,
       "grid_template_areas": null,
       "grid_template_columns": null,
       "grid_template_rows": null,
       "height": "16em",
       "justify_content": null,
       "justify_items": null,
       "left": null,
       "margin": null,
       "max_height": null,
       "max_width": null,
       "min_height": null,
       "min_width": null,
       "object_fit": null,
       "object_position": null,
       "order": null,
       "overflow": null,
       "overflow_x": null,
       "overflow_y": "auto",
       "padding": null,
       "right": null,
       "top": null,
       "visibility": null,
       "width": "100%"
      }
     },
     "a8a12d85ca0343c8b8c746e3753200f5": {
      "model_module": "@jupyter-widgets/controls",
      "model_module_version": "1.5.0",
      "model_name": "DescriptionStyleModel",
      "state": {
       "_model_module": "@jupyter-widgets/controls",
       "_model_module_version": "1.5.0",
       "_model_name": "DescriptionStyleModel",
       "_view_count": null,
       "_view_module": "@jupyter-widgets/base",
       "_view_module_version": "1.2.0",
       "_view_name": "StyleView",
       "description_width": ""
      }
     },
     "b04e91bd2de549858a93c182258132ce": {
      "model_module": "@jupyter-widgets/controls",
      "model_module_version": "1.5.0",
      "model_name": "HTMLModel",
      "state": {
       "_dom_classes": [],
       "_model_module": "@jupyter-widgets/controls",
       "_model_module_version": "1.5.0",
       "_model_name": "HTMLModel",
       "_view_count": null,
       "_view_module": "@jupyter-widgets/controls",
       "_view_module_version": "1.5.0",
       "_view_name": "HTMLView",
       "description": "",
       "description_tooltip": null,
       "layout": "IPY_MODEL_06c2c70ba8474424808dab94b163e060",
       "placeholder": "​",
       "style": "IPY_MODEL_0fbde632521c466996cbe04e75694846",
       "value": ""
      }
     },
     "b7cb5f07fb0d4d8f99259893d18f833f": {
      "model_module": "@jupyter-widgets/controls",
      "model_module_version": "1.5.0",
      "model_name": "DescriptionStyleModel",
      "state": {
       "_model_module": "@jupyter-widgets/controls",
       "_model_module_version": "1.5.0",
       "_model_name": "DescriptionStyleModel",
       "_view_count": null,
       "_view_module": "@jupyter-widgets/base",
       "_view_module_version": "1.2.0",
       "_view_name": "StyleView",
       "description_width": ""
      }
     },
     "bb489228743b43638ba46563640f2162": {
      "model_module": "@jupyter-widgets/controls",
      "model_module_version": "1.5.0",
      "model_name": "AccordionModel",
      "state": {
       "_dom_classes": [],
       "_model_module": "@jupyter-widgets/controls",
       "_model_module_version": "1.5.0",
       "_model_name": "AccordionModel",
       "_titles": {
        "0": "Log Output"
       },
       "_view_count": null,
       "_view_module": "@jupyter-widgets/controls",
       "_view_module_version": "1.5.0",
       "_view_name": "AccordionView",
       "box_style": "",
       "children": [
        "IPY_MODEL_b04e91bd2de549858a93c182258132ce"
       ],
       "layout": "IPY_MODEL_f7f09273b6724442b41d8c53b6e4170f",
       "selected_index": null
      }
     },
     "bcfaa70da3374396bea68261c4da39c1": {
      "model_module": "@jupyter-widgets/controls",
      "model_module_version": "1.5.0",
      "model_name": "HTMLModel",
      "state": {
       "_dom_classes": [],
       "_model_module": "@jupyter-widgets/controls",
       "_model_module_version": "1.5.0",
       "_model_name": "HTMLModel",
       "_view_count": null,
       "_view_module": "@jupyter-widgets/controls",
       "_view_module_version": "1.5.0",
       "_view_name": "HTMLView",
       "description": "",
       "description_tooltip": null,
       "layout": "IPY_MODEL_1ce00efc53234c78b7bdaa80ba952d5a",
       "placeholder": "​",
       "style": "IPY_MODEL_094cd711071b4b4cbfbe8d874439e242",
       "value": ""
      }
     },
     "bedbd9313a0d4f71bce8a9ade03285d8": {
      "model_module": "@jupyter-widgets/controls",
      "model_module_version": "1.5.0",
      "model_name": "HTMLModel",
      "state": {
       "_dom_classes": [],
       "_model_module": "@jupyter-widgets/controls",
       "_model_module_version": "1.5.0",
       "_model_name": "HTMLModel",
       "_view_count": null,
       "_view_module": "@jupyter-widgets/controls",
       "_view_module_version": "1.5.0",
       "_view_name": "HTMLView",
       "description": "",
       "description_tooltip": null,
       "layout": "IPY_MODEL_dd0cc140f66546478eb334cb33a4fda5",
       "placeholder": "​",
       "style": "IPY_MODEL_88d1d575bb584cdfb40faf98eaedd93d",
       "value": ""
      }
     },
     "c0f40ea5029f459daed3608fdd52c874": {
      "model_module": "@jupyter-widgets/controls",
      "model_module_version": "1.5.0",
      "model_name": "HTMLModel",
      "state": {
       "_dom_classes": [],
       "_model_module": "@jupyter-widgets/controls",
       "_model_module_version": "1.5.0",
       "_model_name": "HTMLModel",
       "_view_count": null,
       "_view_module": "@jupyter-widgets/controls",
       "_view_module_version": "1.5.0",
       "_view_name": "HTMLView",
       "description": "",
       "description_tooltip": null,
       "layout": "IPY_MODEL_e26aa4ea68f74aac92848a13cca81a5b",
       "placeholder": "​",
       "style": "IPY_MODEL_76774c2d3b4740068d4a8db81c855e89",
       "value": "<p style=\"line-height:120%\">00:10 <bold>StationaryModel</bold>: Solving 2DProblem_CG for {mu: [0.6506676052501416]} ...</p><p style=\"line-height:120%\">00:10 <bold>NeuralNetworkModel</bold>: Solving 2DProblem_CG_reduced for {mu: [0.6506676052501416]} ...</p>"
      }
     },
     "c669e5b6bb574fa7aa2c8eefe45e3725": {
      "model_module": "@jupyter-widgets/base",
      "model_module_version": "1.2.0",
      "model_name": "LayoutModel",
      "state": {
       "_model_module": "@jupyter-widgets/base",
       "_model_module_version": "1.2.0",
       "_model_name": "LayoutModel",
       "_view_count": null,
       "_view_module": "@jupyter-widgets/base",
       "_view_module_version": "1.2.0",
       "_view_name": "LayoutView",
       "align_content": null,
       "align_items": null,
       "align_self": null,
       "border": null,
       "bottom": null,
       "display": null,
       "flex": null,
       "flex_flow": null,
       "grid_area": null,
       "grid_auto_columns": null,
       "grid_auto_flow": null,
       "grid_auto_rows": null,
       "grid_column": null,
       "grid_gap": null,
       "grid_row": null,
       "grid_template_areas": null,
       "grid_template_columns": null,
       "grid_template_rows": null,
       "height": "16em",
       "justify_content": null,
       "justify_items": null,
       "left": null,
       "margin": null,
       "max_height": null,
       "max_width": null,
       "min_height": null,
       "min_width": null,
       "object_fit": null,
       "object_position": null,
       "order": null,
       "overflow": null,
       "overflow_x": null,
       "overflow_y": "auto",
       "padding": null,
       "right": null,
       "top": null,
       "visibility": null,
       "width": "100%"
      }
     },
     "cd2cde83a086456c8ac3b691af7a7469": {
      "model_module": "@jupyter-widgets/base",
      "model_module_version": "1.2.0",
      "model_name": "LayoutModel",
      "state": {
       "_model_module": "@jupyter-widgets/base",
       "_model_module_version": "1.2.0",
       "_model_name": "LayoutModel",
       "_view_count": null,
       "_view_module": "@jupyter-widgets/base",
       "_view_module_version": "1.2.0",
       "_view_name": "LayoutView",
       "align_content": null,
       "align_items": null,
       "align_self": null,
       "border": null,
       "bottom": null,
       "display": null,
       "flex": null,
       "flex_flow": null,
       "grid_area": null,
       "grid_auto_columns": null,
       "grid_auto_flow": null,
       "grid_auto_rows": null,
       "grid_column": null,
       "grid_gap": null,
       "grid_row": null,
       "grid_template_areas": null,
       "grid_template_columns": null,
       "grid_template_rows": null,
       "height": null,
       "justify_content": null,
       "justify_items": null,
       "left": null,
       "margin": null,
       "max_height": null,
       "max_width": null,
       "min_height": null,
       "min_width": null,
       "object_fit": null,
       "object_position": null,
       "order": null,
       "overflow": null,
       "overflow_x": null,
       "overflow_y": null,
       "padding": null,
       "right": null,
       "top": null,
       "visibility": null,
       "width": null
      }
     },
     "cf18032092774b7cb1fc6d81778081a8": {
      "model_module": "@jupyter-widgets/controls",
      "model_module_version": "1.5.0",
      "model_name": "AccordionModel",
      "state": {
       "_dom_classes": [],
       "_model_module": "@jupyter-widgets/controls",
       "_model_module_version": "1.5.0",
       "_model_name": "AccordionModel",
       "_titles": {
        "0": "Log Output"
       },
       "_view_count": null,
       "_view_module": "@jupyter-widgets/controls",
       "_view_module_version": "1.5.0",
       "_view_name": "AccordionView",
       "box_style": "",
       "children": [
        "IPY_MODEL_da936a866eaa40a1a995613521e7244e"
       ],
       "layout": "IPY_MODEL_22f3bee544134070ba778013837d7971",
       "selected_index": null
      }
     },
     "d066be0c32a947e6acdcd5d451dd2fca": {
      "model_module": "@jupyter-widgets/base",
      "model_module_version": "1.2.0",
      "model_name": "LayoutModel",
      "state": {
       "_model_module": "@jupyter-widgets/base",
       "_model_module_version": "1.2.0",
       "_model_name": "LayoutModel",
       "_view_count": null,
       "_view_module": "@jupyter-widgets/base",
       "_view_module_version": "1.2.0",
       "_view_name": "LayoutView",
       "align_content": null,
       "align_items": null,
       "align_self": null,
       "border": null,
       "bottom": null,
       "display": null,
       "flex": null,
       "flex_flow": null,
       "grid_area": null,
       "grid_auto_columns": null,
       "grid_auto_flow": null,
       "grid_auto_rows": null,
       "grid_column": null,
       "grid_gap": null,
       "grid_row": null,
       "grid_template_areas": null,
       "grid_template_columns": null,
       "grid_template_rows": null,
       "height": "16em",
       "justify_content": null,
       "justify_items": null,
       "left": null,
       "margin": null,
       "max_height": null,
       "max_width": null,
       "min_height": null,
       "min_width": null,
       "object_fit": null,
       "object_position": null,
       "order": null,
       "overflow": null,
       "overflow_x": null,
       "overflow_y": "auto",
       "padding": null,
       "right": null,
       "top": null,
       "visibility": null,
       "width": "100%"
      }
     },
     "d5cd19c12e1e46e283b712a557fbb503": {
      "model_module": "@jupyter-widgets/output",
      "model_module_version": "1.0.0",
      "model_name": "OutputModel",
      "state": {
       "_dom_classes": [],
       "_model_module": "@jupyter-widgets/output",
       "_model_module_version": "1.0.0",
       "_model_name": "OutputModel",
       "_view_count": null,
       "_view_module": "@jupyter-widgets/output",
       "_view_module_version": "1.0.0",
       "_view_name": "OutputView",
       "layout": "IPY_MODEL_8a6a15337fc243bd85d50020f9cf47f3",
       "msg_id": "",
       "outputs": [
        {
         "data": {
          "image/png": "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\n",
          "text/plain": "<Figure size 432x288 with 1 Axes>"
         },
         "metadata": {
          "needs_background": "light"
         },
         "output_type": "display_data"
        },
        {
         "data": {
          "image/png": "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\n",
          "text/plain": "<Figure size 432x288 with 2 Axes>"
         },
         "metadata": {
          "needs_background": "light"
         },
         "output_type": "display_data"
        }
       ]
      }
     },
     "da936a866eaa40a1a995613521e7244e": {
      "model_module": "@jupyter-widgets/controls",
      "model_module_version": "1.5.0",
      "model_name": "HTMLModel",
      "state": {
       "_dom_classes": [],
       "_model_module": "@jupyter-widgets/controls",
       "_model_module_version": "1.5.0",
       "_model_name": "HTMLModel",
       "_view_count": null,
       "_view_module": "@jupyter-widgets/controls",
       "_view_module_version": "1.5.0",
       "_view_name": "HTMLView",
       "description": "",
       "description_tooltip": null,
       "layout": "IPY_MODEL_c669e5b6bb574fa7aa2c8eefe45e3725",
       "placeholder": "​",
       "style": "IPY_MODEL_94e870917a1242ef9f711a37199d6b26",
       "value": ""
      }
     },
     "dbb8520e6d0f43c98b2c42e0875dd66d": {
      "model_module": "@jupyter-widgets/base",
      "model_module_version": "1.2.0",
      "model_name": "LayoutModel",
      "state": {
       "_model_module": "@jupyter-widgets/base",
       "_model_module_version": "1.2.0",
       "_model_name": "LayoutModel",
       "_view_count": null,
       "_view_module": "@jupyter-widgets/base",
       "_view_module_version": "1.2.0",
       "_view_name": "LayoutView",
       "align_content": null,
       "align_items": null,
       "align_self": null,
       "border": null,
       "bottom": null,
       "display": null,
       "flex": null,
       "flex_flow": null,
       "grid_area": null,
       "grid_auto_columns": null,
       "grid_auto_flow": null,
       "grid_auto_rows": null,
       "grid_column": null,
       "grid_gap": null,
       "grid_row": null,
       "grid_template_areas": null,
       "grid_template_columns": null,
       "grid_template_rows": null,
       "height": null,
       "justify_content": null,
       "justify_items": null,
       "left": null,
       "margin": null,
       "max_height": null,
       "max_width": null,
       "min_height": null,
       "min_width": null,
       "object_fit": null,
       "object_position": null,
       "order": null,
       "overflow": null,
       "overflow_x": null,
       "overflow_y": null,
       "padding": null,
       "right": null,
       "top": null,
       "visibility": null,
       "width": null
      }
     },
     "dd0cc140f66546478eb334cb33a4fda5": {
      "model_module": "@jupyter-widgets/base",
      "model_module_version": "1.2.0",
      "model_name": "LayoutModel",
      "state": {
       "_model_module": "@jupyter-widgets/base",
       "_model_module_version": "1.2.0",
       "_model_name": "LayoutModel",
       "_view_count": null,
       "_view_module": "@jupyter-widgets/base",
       "_view_module_version": "1.2.0",
       "_view_name": "LayoutView",
       "align_content": null,
       "align_items": null,
       "align_self": null,
       "border": null,
       "bottom": null,
       "display": null,
       "flex": null,
       "flex_flow": null,
       "grid_area": null,
       "grid_auto_columns": null,
       "grid_auto_flow": null,
       "grid_auto_rows": null,
       "grid_column": null,
       "grid_gap": null,
       "grid_row": null,
       "grid_template_areas": null,
       "grid_template_columns": null,
       "grid_template_rows": null,
       "height": "16em",
       "justify_content": null,
       "justify_items": null,
       "left": null,
       "margin": null,
       "max_height": null,
       "max_width": null,
       "min_height": null,
       "min_width": null,
       "object_fit": null,
       "object_position": null,
       "order": null,
       "overflow": null,
       "overflow_x": null,
       "overflow_y": "auto",
       "padding": null,
       "right": null,
       "top": null,
       "visibility": null,
       "width": "100%"
      }
     },
     "e26aa4ea68f74aac92848a13cca81a5b": {
      "model_module": "@jupyter-widgets/base",
      "model_module_version": "1.2.0",
      "model_name": "LayoutModel",
      "state": {
       "_model_module": "@jupyter-widgets/base",
       "_model_module_version": "1.2.0",
       "_model_name": "LayoutModel",
       "_view_count": null,
       "_view_module": "@jupyter-widgets/base",
       "_view_module_version": "1.2.0",
       "_view_name": "LayoutView",
       "align_content": null,
       "align_items": null,
       "align_self": null,
       "border": null,
       "bottom": null,
       "display": null,
       "flex": null,
       "flex_flow": null,
       "grid_area": null,
       "grid_auto_columns": null,
       "grid_auto_flow": null,
       "grid_auto_rows": null,
       "grid_column": null,
       "grid_gap": null,
       "grid_row": null,
       "grid_template_areas": null,
       "grid_template_columns": null,
       "grid_template_rows": null,
       "height": "16em",
       "justify_content": null,
       "justify_items": null,
       "left": null,
       "margin": null,
       "max_height": null,
       "max_width": null,
       "min_height": null,
       "min_width": null,
       "object_fit": null,
       "object_position": null,
       "order": null,
       "overflow": null,
       "overflow_x": null,
       "overflow_y": "auto",
       "padding": null,
       "right": null,
       "top": null,
       "visibility": null,
       "width": "100%"
      }
     },
     "e62660771bd64656b66853cb5f435c30": {
      "model_module": "@jupyter-widgets/base",
      "model_module_version": "1.2.0",
      "model_name": "LayoutModel",
      "state": {
       "_model_module": "@jupyter-widgets/base",
       "_model_module_version": "1.2.0",
       "_model_name": "LayoutModel",
       "_view_count": null,
       "_view_module": "@jupyter-widgets/base",
       "_view_module_version": "1.2.0",
       "_view_name": "LayoutView",
       "align_content": null,
       "align_items": null,
       "align_self": null,
       "border": null,
       "bottom": null,
       "display": null,
       "flex": null,
       "flex_flow": null,
       "grid_area": null,
       "grid_auto_columns": null,
       "grid_auto_flow": null,
       "grid_auto_rows": null,
       "grid_column": null,
       "grid_gap": null,
       "grid_row": null,
       "grid_template_areas": null,
       "grid_template_columns": null,
       "grid_template_rows": null,
       "height": null,
       "justify_content": null,
       "justify_items": null,
       "left": null,
       "margin": null,
       "max_height": null,
       "max_width": null,
       "min_height": null,
       "min_width": null,
       "object_fit": null,
       "object_position": null,
       "order": null,
       "overflow": null,
       "overflow_x": null,
       "overflow_y": null,
       "padding": null,
       "right": null,
       "top": null,
       "visibility": null,
       "width": null
      }
     },
     "e80425a2d20d46b5882d05ed68ad28f9": {
      "model_module": "@jupyter-widgets/controls",
      "model_module_version": "1.5.0",
      "model_name": "AccordionModel",
      "state": {
       "_dom_classes": [],
       "_model_module": "@jupyter-widgets/controls",
       "_model_module_version": "1.5.0",
       "_model_name": "AccordionModel",
       "_titles": {
        "0": "Log Output"
       },
       "_view_count": null,
       "_view_module": "@jupyter-widgets/controls",
       "_view_module_version": "1.5.0",
       "_view_name": "AccordionView",
       "box_style": "",
       "children": [
        "IPY_MODEL_bedbd9313a0d4f71bce8a9ade03285d8"
       ],
       "layout": "IPY_MODEL_57dea3ef41584e8dabd827588f3d7f0c",
       "selected_index": null
      }
     },
     "f57f7fb75ed748e9959f5c314d289a57": {
      "model_module": "@jupyter-widgets/controls",
      "model_module_version": "1.5.0",
      "model_name": "AccordionModel",
      "state": {
       "_dom_classes": [],
       "_model_module": "@jupyter-widgets/controls",
       "_model_module_version": "1.5.0",
       "_model_name": "AccordionModel",
       "_titles": {
        "0": "Log Output"
       },
       "_view_count": null,
       "_view_module": "@jupyter-widgets/controls",
       "_view_module_version": "1.5.0",
       "_view_name": "AccordionView",
       "box_style": "",
       "children": [
        "IPY_MODEL_6ed72f86e3f844a690bc275784ef2cb5"
       ],
       "layout": "IPY_MODEL_447995cdbef247b8b982f30db953640f",
       "selected_index": null
      }
     },
     "f7f09273b6724442b41d8c53b6e4170f": {
      "model_module": "@jupyter-widgets/base",
      "model_module_version": "1.2.0",
      "model_name": "LayoutModel",
      "state": {
       "_model_module": "@jupyter-widgets/base",
       "_model_module_version": "1.2.0",
       "_model_name": "LayoutModel",
       "_view_count": null,
       "_view_module": "@jupyter-widgets/base",
       "_view_module_version": "1.2.0",
       "_view_name": "LayoutView",
       "align_content": null,
       "align_items": null,
       "align_self": null,
       "border": null,
       "bottom": null,
       "display": null,
       "flex": null,
       "flex_flow": null,
       "grid_area": null,
       "grid_auto_columns": null,
       "grid_auto_flow": null,
       "grid_auto_rows": null,
       "grid_column": null,
       "grid_gap": null,
       "grid_row": null,
       "grid_template_areas": null,
       "grid_template_columns": null,
       "grid_template_rows": null,
       "height": null,
       "justify_content": null,
       "justify_items": null,
       "left": null,
       "margin": null,
       "max_height": null,
       "max_width": null,
       "min_height": null,
       "min_width": null,
       "object_fit": null,
       "object_position": null,
       "order": null,
       "overflow": null,
       "overflow_x": null,
       "overflow_y": null,
       "padding": null,
       "right": null,
       "top": null,
       "visibility": null,
       "width": null
      }
     },
     "f8abb0a46f8a41b0ad381fbc56c40e92": {
      "model_module": "@jupyter-widgets/controls",
      "model_module_version": "1.5.0",
      "model_name": "AccordionModel",
      "state": {
       "_dom_classes": [],
       "_model_module": "@jupyter-widgets/controls",
       "_model_module_version": "1.5.0",
       "_model_name": "AccordionModel",
       "_titles": {
        "0": "Log Output"
       },
       "_view_count": null,
       "_view_module": "@jupyter-widgets/controls",
       "_view_module_version": "1.5.0",
       "_view_name": "AccordionView",
       "box_style": "",
       "children": [
        "IPY_MODEL_bcfaa70da3374396bea68261c4da39c1"
       ],
       "layout": "IPY_MODEL_329a3ff3c6964ce59dc8c50fe8fa787c",
       "selected_index": null
      }
     },
     "f8f731fa490249959fbca348b8a38ae1": {
      "model_module": "@jupyter-widgets/base",
      "model_module_version": "1.2.0",
      "model_name": "LayoutModel",
      "state": {
       "_model_module": "@jupyter-widgets/base",
       "_model_module_version": "1.2.0",
       "_model_name": "LayoutModel",
       "_view_count": null,
       "_view_module": "@jupyter-widgets/base",
       "_view_module_version": "1.2.0",
       "_view_name": "LayoutView",
       "align_content": null,
       "align_items": null,
       "align_self": null,
       "border": null,
       "bottom": null,
       "display": null,
       "flex": null,
       "flex_flow": null,
       "grid_area": null,
       "grid_auto_columns": null,
       "grid_auto_flow": null,
       "grid_auto_rows": null,
       "grid_column": null,
       "grid_gap": null,
       "grid_row": null,
       "grid_template_areas": null,
       "grid_template_columns": null,
       "grid_template_rows": null,
       "height": "16em",
       "justify_content": null,
       "justify_items": null,
       "left": null,
       "margin": null,
       "max_height": null,
       "max_width": null,
       "min_height": null,
       "min_width": null,
       "object_fit": null,
       "object_position": null,
       "order": null,
       "overflow": null,
       "overflow_x": null,
       "overflow_y": "auto",
       "padding": null,
       "right": null,
       "top": null,
       "visibility": null,
       "width": "100%"
      }
     },
     "fa8755398f3144c1807f7c4556bfc4ee": {
      "model_module": "@jupyter-widgets/controls",
      "model_module_version": "1.5.0",
      "model_name": "AccordionModel",
      "state": {
       "_dom_classes": [],
       "_model_module": "@jupyter-widgets/controls",
       "_model_module_version": "1.5.0",
       "_model_name": "AccordionModel",
       "_titles": {
        "0": "Log Output"
       },
       "_view_count": null,
       "_view_module": "@jupyter-widgets/controls",
       "_view_module_version": "1.5.0",
       "_view_name": "AccordionView",
       "box_style": "",
       "children": [
        "IPY_MODEL_042c989b04224443822876cad812ff31"
       ],
       "layout": "IPY_MODEL_266ee98174274e5db58d5143a48bcdf2",
       "selected_index": null
      }
     },
     "fce4988fb2ac4b4f8e31c7bc17c061c2": {
      "model_module": "@jupyter-widgets/controls",
      "model_module_version": "1.5.0",
      "model_name": "HTMLModel",
      "state": {
       "_dom_classes": [],
       "_model_module": "@jupyter-widgets/controls",
       "_model_module_version": "1.5.0",
       "_model_name": "HTMLModel",
       "_view_count": null,
       "_view_module": "@jupyter-widgets/controls",
       "_view_module_version": "1.5.0",
       "_view_name": "HTMLView",
       "description": "",
       "description_tooltip": null,
       "layout": "IPY_MODEL_68cd0b60ca0943cca1464154e281c1f1",
       "placeholder": "​",
       "style": "IPY_MODEL_a8a12d85ca0343c8b8c746e3753200f5",
       "value": "<p style=\"line-height:120%\">00:01 <bold>NeuralNetworkReductor</bold>: Building reduced basis ...</p><p style=\"line-height:120%\">00:01 |   <bold>NeuralNetworkReductor</bold>: Computing training snapshots ...</p><p style=\"line-height:120%\">00:01 |   |   <bold>StationaryModel</bold>: Solving 2DProblem_CG for {mu: [0.1]} ...</p><p style=\"line-height:120%\">00:01 |   |   <bold>StationaryModel</bold>: Solving 2DProblem_CG for {mu: [0.1090909090909091]} ...</p><p style=\"line-height:120%\">00:01 |   |   <bold>StationaryModel</bold>: Solving 2DProblem_CG for {mu: [0.1181818181818182]} ...</p><p style=\"line-height:120%\">00:01 |   |   <bold>StationaryModel</bold>: Solving 2DProblem_CG for {mu: [0.1272727272727273]} ...</p><p style=\"line-height:120%\">00:01 |   |   <bold>StationaryModel</bold>: Solving 2DProblem_CG for {mu: [0.13636363636363635]} ...</p><p style=\"line-height:120%\">00:01 |   |   <bold>StationaryModel</bold>: Solving 2DProblem_CG for {mu: [0.14545454545454545]} ...</p><p style=\"line-height:120%\">00:01 |   |   <bold>StationaryModel</bold>: Solving 2DProblem_CG for {mu: [0.15454545454545454]} ...</p><p style=\"line-height:120%\">00:01 |   |   <bold>StationaryModel</bold>: Solving 2DProblem_CG for {mu: [0.16363636363636364]} ...</p><p style=\"line-height:120%\">00:01 |   |   <bold>StationaryModel</bold>: Solving 2DProblem_CG for {mu: [0.17272727272727273]} ...</p><p style=\"line-height:120%\">00:01 |   |   <bold>StationaryModel</bold>: Solving 2DProblem_CG for {mu: [0.18181818181818182]} ...</p><p style=\"line-height:120%\">00:01 |   |   <bold>StationaryModel</bold>: Solving 2DProblem_CG for {mu: [0.19090909090909092]} ...</p><p style=\"line-height:120%\">00:01 |   |   <bold>StationaryModel</bold>: Solving 2DProblem_CG for {mu: [0.2]} ...</p><p style=\"line-height:120%\">00:01 |   |   <bold>StationaryModel</bold>: Solving 2DProblem_CG for {mu: [0.2090909090909091]} ...</p><p style=\"line-height:120%\">00:01 |   |   <bold>StationaryModel</bold>: Solving 2DProblem_CG for {mu: [0.2181818181818182]} ...</p><p style=\"line-height:120%\">00:01 |   |   <bold>StationaryModel</bold>: Solving 2DProblem_CG for {mu: [0.22727272727272727]} ...</p><p style=\"line-height:120%\">00:01 |   |   <bold>StationaryModel</bold>: Solving 2DProblem_CG for {mu: [0.23636363636363636]} ...</p><p style=\"line-height:120%\">00:01 |   |   <bold>StationaryModel</bold>: Solving 2DProblem_CG for {mu: [0.24545454545454545]} ...</p><p style=\"line-height:120%\">00:01 |   |   <bold>StationaryModel</bold>: Solving 2DProblem_CG for {mu: [0.2545454545454545]} ...</p><p style=\"line-height:120%\">00:01 |   |   <bold>StationaryModel</bold>: Solving 2DProblem_CG for {mu: [0.26363636363636367]} ...</p><p style=\"line-height:120%\">00:01 |   |   <bold>StationaryModel</bold>: Solving 2DProblem_CG for {mu: [0.2727272727272727]} ...</p><p style=\"line-height:120%\">00:01 |   |   <bold>StationaryModel</bold>: Solving 2DProblem_CG for {mu: [0.28181818181818186]} ...</p><p style=\"line-height:120%\">00:01 |   |   <bold>StationaryModel</bold>: Solving 2DProblem_CG for {mu: [0.2909090909090909]} ...</p><p style=\"line-height:120%\">00:01 |   |   <bold>StationaryModel</bold>: Solving 2DProblem_CG for {mu: [0.3]} ...</p><p style=\"line-height:120%\">00:01 |   |   <bold>StationaryModel</bold>: Solving 2DProblem_CG for {mu: [0.3090909090909091]} ...</p><p style=\"line-height:120%\">00:01 |   |   <bold>StationaryModel</bold>: Solving 2DProblem_CG for {mu: [0.3181818181818182]} ...</p><p style=\"line-height:120%\">00:01 |   |   <bold>StationaryModel</bold>: Solving 2DProblem_CG for {mu: [0.32727272727272727]} ...</p><p style=\"line-height:120%\">00:01 |   |   <bold>StationaryModel</bold>: Solving 2DProblem_CG for {mu: [0.33636363636363636]} ...</p><p style=\"line-height:120%\">00:02 |   |   <bold>StationaryModel</bold>: Solving 2DProblem_CG for {mu: [0.34545454545454546]} ...</p><p style=\"line-height:120%\">00:02 |   |   <bold>StationaryModel</bold>: Solving 2DProblem_CG for {mu: [0.3545454545454545]} ...</p><p style=\"line-height:120%\">00:02 |   |   <bold>StationaryModel</bold>: Solving 2DProblem_CG for {mu: [0.36363636363636365]} ...</p><p style=\"line-height:120%\">00:02 |   |   <bold>StationaryModel</bold>: Solving 2DProblem_CG for {mu: [0.3727272727272727]} ...</p><p style=\"line-height:120%\">00:02 |   |   <bold>StationaryModel</bold>: Solving 2DProblem_CG for {mu: [0.38181818181818183]} ...</p><p style=\"line-height:120%\">00:02 |   |   <bold>StationaryModel</bold>: Solving 2DProblem_CG for {mu: [0.3909090909090909]} ...</p><p style=\"line-height:120%\">00:02 |   |   <bold>StationaryModel</bold>: Solving 2DProblem_CG for {mu: [0.4]} ...</p><p style=\"line-height:120%\">00:02 |   |   <bold>StationaryModel</bold>: Solving 2DProblem_CG for {mu: [0.40909090909090906]} ...</p><p style=\"line-height:120%\">00:02 |   |   <bold>StationaryModel</bold>: Solving 2DProblem_CG for {mu: [0.4181818181818182]} ...</p><p style=\"line-height:120%\">00:02 |   |   <bold>StationaryModel</bold>: Solving 2DProblem_CG for {mu: [0.42727272727272725]} ...</p><p style=\"line-height:120%\">00:02 |   |   <bold>StationaryModel</bold>: Solving 2DProblem_CG for {mu: [0.4363636363636364]} ...</p><p style=\"line-height:120%\">00:02 |   |   <bold>StationaryModel</bold>: Solving 2DProblem_CG for {mu: [0.44545454545454544]} ...</p><p style=\"line-height:120%\">00:02 |   |   <bold>StationaryModel</bold>: Solving 2DProblem_CG for {mu: [0.4545454545454546]} ...</p><p style=\"line-height:120%\">00:02 |   |   <bold>StationaryModel</bold>: Solving 2DProblem_CG for {mu: [0.4636363636363636]} ...</p><p style=\"line-height:120%\">00:02 |   |   <bold>StationaryModel</bold>: Solving 2DProblem_CG for {mu: [0.47272727272727266]} ...</p><p style=\"line-height:120%\">00:02 |   |   <bold>StationaryModel</bold>: Solving 2DProblem_CG for {mu: [0.4818181818181818]} ...</p><p style=\"line-height:120%\">00:02 |   |   <bold>StationaryModel</bold>: Solving 2DProblem_CG for {mu: [0.49090909090909085]} ...</p><p style=\"line-height:120%\">00:02 |   |   <bold>StationaryModel</bold>: Solving 2DProblem_CG for {mu: [0.5]} ...</p><p style=\"line-height:120%\">00:02 |   |   <bold>StationaryModel</bold>: Solving 2DProblem_CG for {mu: [0.509090909090909]} ...</p><p style=\"line-height:120%\">00:02 |   |   <bold>StationaryModel</bold>: Solving 2DProblem_CG for {mu: [0.5181818181818182]} ...</p><p style=\"line-height:120%\">00:02 |   |   <bold>StationaryModel</bold>: Solving 2DProblem_CG for {mu: [0.5272727272727272]} ...</p><p style=\"line-height:120%\">00:02 |   |   <bold>StationaryModel</bold>: Solving 2DProblem_CG for {mu: [0.5363636363636364]} ...</p><p style=\"line-height:120%\">00:02 |   |   <bold>StationaryModel</bold>: Solving 2DProblem_CG for {mu: [0.5454545454545454]} ...</p><p style=\"line-height:120%\">00:02 |   |   <bold>StationaryModel</bold>: Solving 2DProblem_CG for {mu: [0.5545454545454546]} ...</p><p style=\"line-height:120%\">00:02 |   |   <bold>StationaryModel</bold>: Solving 2DProblem_CG for {mu: [0.5636363636363636]} ...</p><p style=\"line-height:120%\">00:02 |   |   <bold>StationaryModel</bold>: Solving 2DProblem_CG for {mu: [0.5727272727272728]} ...</p><p style=\"line-height:120%\">00:02 |   |   <bold>StationaryModel</bold>: Solving 2DProblem_CG for {mu: [0.5818181818181818]} ...</p><p style=\"line-height:120%\">00:02 |   |   <bold>StationaryModel</bold>: Solving 2DProblem_CG for {mu: [0.5909090909090909]} ...</p><p style=\"line-height:120%\">00:02 |   |   <bold>StationaryModel</bold>: Solving 2DProblem_CG for {mu: [0.6]} ...</p><p style=\"line-height:120%\">00:02 |   |   <bold>StationaryModel</bold>: Solving 2DProblem_CG for {mu: [0.609090909090909]} ...</p><p style=\"line-height:120%\">00:02 |   |   <bold>StationaryModel</bold>: Solving 2DProblem_CG for {mu: [0.6181818181818182]} ...</p><p style=\"line-height:120%\">00:02 |   |   <bold>StationaryModel</bold>: Solving 2DProblem_CG for {mu: [0.6272727272727272]} ...</p><p style=\"line-height:120%\">00:02 |   |   <bold>StationaryModel</bold>: Solving 2DProblem_CG for {mu: [0.6363636363636364]} ...</p><p style=\"line-height:120%\">00:02 |   |   <bold>StationaryModel</bold>: Solving 2DProblem_CG for {mu: [0.6454545454545454]} ...</p><p style=\"line-height:120%\">00:02 |   |   <bold>StationaryModel</bold>: Solving 2DProblem_CG for {mu: [0.6545454545454545]} ...</p><p style=\"line-height:120%\">00:02 |   |   <bold>StationaryModel</bold>: Solving 2DProblem_CG for {mu: [0.6636363636363636]} ...</p><p style=\"line-height:120%\">00:02 |   |   <bold>StationaryModel</bold>: Solving 2DProblem_CG for {mu: [0.6727272727272727]} ...</p><p style=\"line-height:120%\">00:02 |   |   <bold>StationaryModel</bold>: Solving 2DProblem_CG for {mu: [0.6818181818181818]} ...</p><p style=\"line-height:120%\">00:02 |   |   <bold>StationaryModel</bold>: Solving 2DProblem_CG for {mu: [0.6909090909090908]} ...</p><p style=\"line-height:120%\">00:02 |   |   <bold>StationaryModel</bold>: Solving 2DProblem_CG for {mu: [0.7]} ...</p><p style=\"line-height:120%\">00:02 |   |   <bold>StationaryModel</bold>: Solving 2DProblem_CG for {mu: [0.709090909090909]} ...</p><p style=\"line-height:120%\">00:02 |   |   <bold>StationaryModel</bold>: Solving 2DProblem_CG for {mu: [0.7181818181818181]} ...</p><p style=\"line-height:120%\">00:02 |   |   <bold>StationaryModel</bold>: Solving 2DProblem_CG for {mu: [0.7272727272727272]} ...</p><p style=\"line-height:120%\">00:02 |   |   <bold>StationaryModel</bold>: Solving 2DProblem_CG for {mu: [0.7363636363636363]} ...</p><p style=\"line-height:120%\">00:02 |   |   <bold>StationaryModel</bold>: Solving 2DProblem_CG for {mu: [0.7454545454545454]} ...</p><p style=\"line-height:120%\">00:02 |   |   <bold>StationaryModel</bold>: Solving 2DProblem_CG for {mu: [0.7545454545454545]} ...</p><p style=\"line-height:120%\">00:02 |   |   <bold>StationaryModel</bold>: Solving 2DProblem_CG for {mu: [0.7636363636363636]} ...</p><p style=\"line-height:120%\">00:02 |   |   <bold>StationaryModel</bold>: Solving 2DProblem_CG for {mu: [0.7727272727272727]} ...</p><p style=\"line-height:120%\">00:02 |   |   <bold>StationaryModel</bold>: Solving 2DProblem_CG for {mu: [0.7818181818181817]} ...</p><p style=\"line-height:120%\">00:02 |   |   <bold>StationaryModel</bold>: Solving 2DProblem_CG for {mu: [0.7909090909090909]} ...</p><p style=\"line-height:120%\">00:02 |   |   <bold>StationaryModel</bold>: Solving 2DProblem_CG for {mu: [0.7999999999999999]} ...</p><p style=\"line-height:120%\">00:02 |   |   <bold>StationaryModel</bold>: Solving 2DProblem_CG for {mu: [0.8090909090909091]} ...</p><p style=\"line-height:120%\">00:02 |   |   <bold>StationaryModel</bold>: Solving 2DProblem_CG for {mu: [0.8181818181818181]} ...</p><p style=\"line-height:120%\">00:02 |   |   <bold>StationaryModel</bold>: Solving 2DProblem_CG for {mu: [0.8272727272727273]} ...</p><p style=\"line-height:120%\">00:02 |   |   <bold>StationaryModel</bold>: Solving 2DProblem_CG for {mu: [0.8363636363636363]} ...</p><p style=\"line-height:120%\">00:02 |   |   <bold>StationaryModel</bold>: Solving 2DProblem_CG for {mu: [0.8454545454545453]} ...</p><p style=\"line-height:120%\">00:03 |   |   <bold>StationaryModel</bold>: Solving 2DProblem_CG for {mu: [0.8545454545454545]} ...</p><p style=\"line-height:120%\">00:03 |   |   <bold>StationaryModel</bold>: Solving 2DProblem_CG for {mu: [0.8636363636363635]} ...</p><p style=\"line-height:120%\">00:03 |   |   <bold>StationaryModel</bold>: Solving 2DProblem_CG for {mu: [0.8727272727272727]} ...</p><p style=\"line-height:120%\">00:03 |   |   <bold>StationaryModel</bold>: Solving 2DProblem_CG for {mu: [0.8818181818181817]} ...</p><p style=\"line-height:120%\">00:03 |   |   <bold>StationaryModel</bold>: Solving 2DProblem_CG for {mu: [0.8909090909090909]} ...</p><p style=\"line-height:120%\">00:03 |   |   <bold>StationaryModel</bold>: Solving 2DProblem_CG for {mu: [0.8999999999999999]} ...</p><p style=\"line-height:120%\">00:03 |   |   <bold>StationaryModel</bold>: Solving 2DProblem_CG for {mu: [0.9090909090909091]} ...</p><p style=\"line-height:120%\">00:03 |   |   <bold>StationaryModel</bold>: Solving 2DProblem_CG for {mu: [0.9181818181818181]} ...</p><p style=\"line-height:120%\">00:03 |   |   <bold>StationaryModel</bold>: Solving 2DProblem_CG for {mu: [0.9272727272727272]} ...</p><p style=\"line-height:120%\">00:03 |   |   <bold>StationaryModel</bold>: Solving 2DProblem_CG for {mu: [0.9363636363636363]} ...</p><p style=\"line-height:120%\">00:03 |   |   <bold>StationaryModel</bold>: Solving 2DProblem_CG for {mu: [0.9454545454545454]} ...</p><p style=\"line-height:120%\">00:03 |   |   <bold>StationaryModel</bold>: Solving 2DProblem_CG for {mu: [0.9545454545454545]} ...</p><p style=\"line-height:120%\">00:03 |   |   <bold>StationaryModel</bold>: Solving 2DProblem_CG for {mu: [0.9636363636363636]} ...</p><p style=\"line-height:120%\">00:03 |   |   <bold>StationaryModel</bold>: Solving 2DProblem_CG for {mu: [0.9727272727272727]} ...</p><p style=\"line-height:120%\">00:03 |   |   <bold>StationaryModel</bold>: Solving 2DProblem_CG for {mu: [0.9818181818181817]} ...</p><p style=\"line-height:120%\">00:03 |   |   <bold>StationaryModel</bold>: Solving 2DProblem_CG for {mu: [0.9909090909090909]} ...</p><p style=\"line-height:120%\">00:03 |   |   <bold>StationaryModel</bold>: Solving 2DProblem_CG for {mu: [1.0]} ...</p><p style=\"line-height:120%\">00:03 |   <bold>pod</bold>: Computing SVD ...</p><p style=\"line-height:120%\">00:03 |   |   <bold>method_of_snapshots</bold>: Computing Gramian (100 vectors) ...</p><p style=\"line-height:120%\">00:03 |   |   <bold>method_of_snapshots</bold>: Computing eigenvalue decomposition ...</p><p style=\"line-height:120%\">00:03 |   |   <bold>method_of_snapshots</bold>: Computing left-singular vectors (8 vectors) ...</p><p style=\"line-height:120%\">00:03 |   <bold>pod</bold>: Checking orthonormality ...</p><p style=\"line-height:120%\">00:03 |   <bold>pod</bold>: Reorthogonalizing POD modes ...</p><p style=\"line-height:120%\">00:03 <bold>NeuralNetworkReductor</bold>: Computing validation snapshots ...</p><p style=\"line-height:120%\">00:03 |   <bold>StationaryModel</bold>: Solving 2DProblem_CG for {mu: [0.4370861069626263]} ...</p><p style=\"line-height:120%\">00:03 |   <bold>StationaryModel</bold>: Solving 2DProblem_CG for {mu: [0.9556428757689246]} ...</p><p style=\"line-height:120%\">00:03 |   <bold>StationaryModel</bold>: Solving 2DProblem_CG for {mu: [0.7587945476302645]} ...</p><p style=\"line-height:120%\">00:03 |   <bold>StationaryModel</bold>: Solving 2DProblem_CG for {mu: [0.6387926357773329]} ...</p><p style=\"line-height:120%\">00:03 |   <bold>StationaryModel</bold>: Solving 2DProblem_CG for {mu: [0.24041677639819287]} ...</p><p style=\"line-height:120%\">00:03 |   <bold>StationaryModel</bold>: Solving 2DProblem_CG for {mu: [0.2403950683025824]} ...</p><p style=\"line-height:120%\">00:03 |   <bold>StationaryModel</bold>: Solving 2DProblem_CG for {mu: [0.15227525095137953]} ...</p><p style=\"line-height:120%\">00:03 |   <bold>StationaryModel</bold>: Solving 2DProblem_CG for {mu: [0.8795585311974417]} ...</p><p style=\"line-height:120%\">00:03 |   <bold>StationaryModel</bold>: Solving 2DProblem_CG for {mu: [0.6410035105688879]} ...</p><p style=\"line-height:120%\">00:03 |   <bold>StationaryModel</bold>: Solving 2DProblem_CG for {mu: [0.737265320016441]} ...</p><p style=\"line-height:120%\">00:03 |   <bold>StationaryModel</bold>: Solving 2DProblem_CG for {mu: [0.1185260448662222]} ...</p><p style=\"line-height:120%\">00:03 |   <bold>StationaryModel</bold>: Solving 2DProblem_CG for {mu: [0.9729188669457949]} ...</p><p style=\"line-height:120%\">00:03 |   <bold>StationaryModel</bold>: Solving 2DProblem_CG for {mu: [0.8491983767203796]} ...</p><p style=\"line-height:120%\">00:03 |   <bold>StationaryModel</bold>: Solving 2DProblem_CG for {mu: [0.29110519961044856]} ...</p><p style=\"line-height:120%\">00:03 |   <bold>StationaryModel</bold>: Solving 2DProblem_CG for {mu: [0.26364247048639056]} ...</p><p style=\"line-height:120%\">00:03 |   <bold>StationaryModel</bold>: Solving 2DProblem_CG for {mu: [0.2650640588680905]} ...</p><p style=\"line-height:120%\">00:03 |   <bold>StationaryModel</bold>: Solving 2DProblem_CG for {mu: [0.373818018663584]} ...</p><p style=\"line-height:120%\">00:03 |   <bold>StationaryModel</bold>: Solving 2DProblem_CG for {mu: [0.5722807884690141]} ...</p><p style=\"line-height:120%\">00:03 |   <bold>StationaryModel</bold>: Solving 2DProblem_CG for {mu: [0.48875051677790415]} ...</p><p style=\"line-height:120%\">00:03 |   <bold>StationaryModel</bold>: Solving 2DProblem_CG for {mu: [0.36210622617823773]} ...</p><p style=\"line-height:120%\">00:03 <bold>NeuralNetworkReductor</bold>: Performing 100 restarts for training ...</p><p style=\"line-height:120%\">00:03 |   <bold>NeuralNetworkReductor</bold>: Training the neural network ...</p><p style=\"line-height:120%\">00:03 |   |   <bold>FullyConnectedNN</bold>: Architecture of the neural network:\nFullyConnectedNN(\n  (layers): ModuleList(\n    (0): Linear(in_features=1, out_features=27, bias=True)\n    (1): Linear(in_features=27, out_features=27, bias=True)\n    (2): Linear(in_features=27, out_features=8, bias=True)\n  )\n)</p><p style=\"line-height:120%\">00:03 |   |   <bold>NeuralNetworkReductor</bold>: Starting optimization procedure ...</p><p style=\"line-height:120%\">00:05 |   |   <bold>NeuralNetworkReductor</bold>: Early stopping training process after 32 epochs ...</p><p style=\"line-height:120%\">00:05 |   |   <bold>NeuralNetworkReductor</bold>: Minimum validation loss: 0.0002945888473571358</p><p style=\"line-height:120%\">00:05 |   <bold>NeuralNetworkReductor</bold>: Checking tolerances for error of neural network ...</p><p style=\"line-height:120%\">00:05 |   <bold>NeuralNetworkReductor</bold>: Training the neural network ...</p><p style=\"line-height:120%\">00:05 |   |   <bold>FullyConnectedNN</bold>: Architecture of the neural network:\nFullyConnectedNN(\n  (layers): ModuleList(\n    (0): Linear(in_features=1, out_features=27, bias=True)\n    (1): Linear(in_features=27, out_features=27, bias=True)\n    (2): Linear(in_features=27, out_features=8, bias=True)\n  )\n)</p><p style=\"line-height:120%\">00:05 |   |   <bold>NeuralNetworkReductor</bold>: Starting optimization procedure ...</p><p style=\"line-height:120%\">00:05 |   |   <bold>NeuralNetworkReductor</bold>: Early stopping training process after 12 epochs ...</p><p style=\"line-height:120%\">00:05 |   |   <bold>NeuralNetworkReductor</bold>: Minimum validation loss: 94.91523619945781</p><p style=\"line-height:120%\">00:05 |   <bold>NeuralNetworkReductor</bold>: Training the neural network ...</p><p style=\"line-height:120%\">00:05 |   |   <bold>FullyConnectedNN</bold>: Architecture of the neural network:\nFullyConnectedNN(\n  (layers): ModuleList(\n    (0): Linear(in_features=1, out_features=27, bias=True)\n    (1): Linear(in_features=27, out_features=27, bias=True)\n    (2): Linear(in_features=27, out_features=8, bias=True)\n  )\n)</p><p style=\"line-height:120%\">00:05 |   |   <bold>NeuralNetworkReductor</bold>: Starting optimization procedure ...</p><p style=\"line-height:120%\">00:05 |   |   <bold>NeuralNetworkReductor</bold>: Early stopping training process after 13 epochs ...</p><p style=\"line-height:120%\">00:05 |   |   <bold>NeuralNetworkReductor</bold>: Minimum validation loss: 0.49035645761094165</p><p style=\"line-height:120%\">00:05 |   <bold>NeuralNetworkReductor</bold>: Training the neural network ...</p><p style=\"line-height:120%\">00:05 |   |   <bold>FullyConnectedNN</bold>: Architecture of the neural network:\nFullyConnectedNN(\n  (layers): ModuleList(\n    (0): Linear(in_features=1, out_features=27, bias=True)\n    (1): Linear(in_features=27, out_features=27, bias=True)\n    (2): Linear(in_features=27, out_features=8, bias=True)\n  )\n)</p><p style=\"line-height:120%\">00:05 |   |   <bold>NeuralNetworkReductor</bold>: Starting optimization procedure ...</p><p style=\"line-height:120%\">00:05 |   |   <bold>NeuralNetworkReductor</bold>: Early stopping training process after 11 epochs ...</p><p style=\"line-height:120%\">00:05 |   |   <bold>NeuralNetworkReductor</bold>: Minimum validation loss: 94.90862019905282</p><p style=\"line-height:120%\">00:05 |   <bold>NeuralNetworkReductor</bold>: Training the neural network ...</p><p style=\"line-height:120%\">00:05 |   |   <bold>FullyConnectedNN</bold>: Architecture of the neural network:\nFullyConnectedNN(\n  (layers): ModuleList(\n    (0): Linear(in_features=1, out_features=27, bias=True)\n    (1): Linear(in_features=27, out_features=27, bias=True)\n    (2): Linear(in_features=27, out_features=8, bias=True)\n  )\n)</p><p style=\"line-height:120%\">00:05 |   |   <bold>NeuralNetworkReductor</bold>: Starting optimization procedure ...</p><p style=\"line-height:120%\">00:10 |   |   <bold>NeuralNetworkReductor</bold>: Early stopping training process after 88 epochs ...</p><p style=\"line-height:120%\">00:10 |   |   <bold>NeuralNetworkReductor</bold>: Minimum validation loss: 6.758818397226961e-06</p><p style=\"line-height:120%\">00:10 |   <bold>NeuralNetworkReductor</bold>: Checking tolerances for error of neural network ...</p><p style=\"line-height:120%\">00:10 |   |   <bold>NeuralNetworkReductor</bold>: Aborting training after 4 restarts ...</p><p style=\"line-height:120%\">00:10 |   |   <bold>NeuralNetworkReductor</bold>: Building ROM ...</p>"
      }
     },
     "fdb82b37f3ec4062bbf2145a0ba996e9": {
      "model_module": "@jupyter-widgets/controls",
      "model_module_version": "1.5.0",
      "model_name": "DescriptionStyleModel",
      "state": {
       "_model_module": "@jupyter-widgets/controls",
       "_model_module_version": "1.5.0",
       "_model_name": "DescriptionStyleModel",
       "_view_count": null,
       "_view_module": "@jupyter-widgets/base",
       "_view_module_version": "1.2.0",
       "_view_name": "StyleView",
       "description_width": ""
      }
     }
    },
    "version_major": 2,
    "version_minor": 0
   }
  }
 },
 "nbformat": 4,
 "nbformat_minor": 4
}
{
 "cells": [
  {
   "cell_type": "code",
   "execution_count": 1,
   "metadata": {
    "execution": {
     "iopub.execute_input": "2020-10-07T18:06:42.522534Z",
     "iopub.status.busy": "2020-10-07T18:06:42.521756Z",
     "iopub.status.idle": "2020-10-07T18:06:42.595520Z",
     "shell.execute_reply": "2020-10-07T18:06:42.596078Z"
    }
   },
   "outputs": [],
   "source": [
    "from pymor.basic import *\n",
    "from pymor.core.logger import set_log_levels\n",
    "set_log_levels({'pymor.algorithms.greedy': 'ERROR', 'pymor.algorithms.gram_schmidt.gram_schmidt': 'ERROR', 'pymor.algorithms.image.estimate_image_hierarchical': 'ERROR'})"
   ]
  },
  {
   "cell_type": "code",
   "execution_count": 2,
   "metadata": {
    "execution": {
     "iopub.execute_input": "2020-10-07T18:06:42.598717Z",
     "iopub.status.busy": "2020-10-07T18:06:42.598020Z",
     "iopub.status.idle": "2020-10-07T18:06:42.615449Z",
     "shell.execute_reply": "2020-10-07T18:06:42.615975Z"
    }
   },
   "outputs": [],
   "source": [
    "p = thermal_block_problem(num_blocks=(3, 2))"
   ]
  },
  {
   "cell_type": "code",
   "execution_count": 3,
   "metadata": {
    "execution": {
     "iopub.execute_input": "2020-10-07T18:06:42.618496Z",
     "iopub.status.busy": "2020-10-07T18:06:42.617819Z",
     "iopub.status.idle": "2020-10-07T18:06:42.847514Z",
     "shell.execute_reply": "2020-10-07T18:06:42.847920Z"
    }
   },
   "outputs": [
    {
     "data": {
      "application/vnd.jupyter.widget-view+json": {
       "model_id": "81707f0cb6aa419c9c4dbfee99dbc07f",
       "version_major": 2,
       "version_minor": 0
      },
      "text/plain": [
       "Accordion(children=(HTML(value='', layout=Layout(height='16em', overflow_y='auto', width='100%')),), selected_…"
      ]
     },
     "metadata": {},
     "output_type": "display_data"
    }
   ],
   "source": [
    "fom, fom_data = discretize_stationary_cg(p, diameter=1./50.)"
   ]
  },
  {
   "cell_type": "code",
   "execution_count": 4,
   "metadata": {
    "execution": {
     "iopub.execute_input": "2020-10-07T18:06:42.850415Z",
     "iopub.status.busy": "2020-10-07T18:06:42.849841Z",
     "iopub.status.idle": "2020-10-07T18:06:42.866190Z",
     "shell.execute_reply": "2020-10-07T18:06:42.866746Z"
    }
   },
   "outputs": [
    {
     "name": "stdout",
     "output_type": "stream",
     "text": [
      "Tria-Grid on domain [0,1] x [0,1]\n",
      "x0-intervals: 50, x1-intervals: 50\n",
      "elements: 10000, edges: 15100, vertices: 5101\n"
     ]
    }
   ],
   "source": [
    "print(fom_data['grid'])"
   ]
  },
  {
   "cell_type": "code",
   "execution_count": 5,
   "metadata": {
    "execution": {
     "iopub.execute_input": "2020-10-07T18:06:42.868867Z",
     "iopub.status.busy": "2020-10-07T18:06:42.868389Z",
     "iopub.status.idle": "2020-10-07T18:06:43.482335Z",
     "shell.execute_reply": "2020-10-07T18:06:43.481091Z"
    }
   },
   "outputs": [
    {
     "data": {
      "application/vnd.jupyter.widget-view+json": {
       "model_id": "8fbc957b3e594e65a0dea0669ff4d71f",
       "version_major": 2,
       "version_minor": 0
      },
      "text/plain": [
       "Accordion(children=(HTML(value='', layout=Layout(height='16em', overflow_y='auto', width='100%')),), selected_…"
      ]
     },
     "metadata": {},
     "output_type": "display_data"
    },
    {
     "data": {
      "application/vnd.jupyter.widget-view+json": {
       "model_id": "434360d44194431e85adc3d4d6eee92a",
       "version_major": 2,
       "version_minor": 0
      },
      "text/plain": [
       "Output()"
      ]
     },
     "metadata": {},
     "output_type": "display_data"
    }
   ],
   "source": [
    "U = fom.solve([1.0, 0.1, 0.3, 0.1, 0.2, 1.0])\n",
    "fom.visualize(U, title='Solution')"
   ]
  },
  {
   "cell_type": "code",
   "execution_count": 6,
   "metadata": {
    "execution": {
     "iopub.execute_input": "2020-10-07T18:06:43.504172Z",
     "iopub.status.busy": "2020-10-07T18:06:43.503633Z",
     "iopub.status.idle": "2020-10-07T18:06:43.513465Z",
     "shell.execute_reply": "2020-10-07T18:06:43.512833Z"
    }
   },
   "outputs": [
    {
     "name": "stdout",
     "output_type": "stream",
     "text": [
      "{diffusion: 6}\n"
     ]
    }
   ],
   "source": [
    "print(fom.parameters)"
   ]
  },
  {
   "cell_type": "code",
   "execution_count": 7,
   "metadata": {
    "execution": {
     "iopub.execute_input": "2020-10-07T18:06:43.521232Z",
     "iopub.status.busy": "2020-10-07T18:06:43.520711Z",
     "iopub.status.idle": "2020-10-07T18:06:43.531856Z",
     "shell.execute_reply": "2020-10-07T18:06:43.532295Z"
    }
   },
   "outputs": [],
   "source": [
    "reductor = CoerciveRBReductor(\n",
    "    fom,\n",
    "    product=fom.h1_0_semi_product,\n",
    "    coercivity_estimator=ExpressionParameterFunctional('min(diffusion)', fom.parameters)\n",
    ")"
   ]
  },
  {
   "cell_type": "code",
   "execution_count": 8,
   "metadata": {
    "execution": {
     "iopub.execute_input": "2020-10-07T18:06:43.534590Z",
     "iopub.status.busy": "2020-10-07T18:06:43.534055Z",
     "iopub.status.idle": "2020-10-07T18:06:43.597147Z",
     "shell.execute_reply": "2020-10-07T18:06:43.597727Z"
    }
   },
   "outputs": [
    {
     "name": "stdout",
     "output_type": "stream",
     "text": [
      "{diffusion: [0.1, 0.1, 0.1, 0.1, 0.1, 0.1]}\n"
     ]
    }
   ],
   "source": [
    "training_set = p.parameter_space.sample_uniformly(4)\n",
    "print(training_set[0])"
   ]
  },
  {
   "cell_type": "code",
   "execution_count": 9,
   "metadata": {
    "execution": {
     "iopub.execute_input": "2020-10-07T18:06:43.600160Z",
     "iopub.status.busy": "2020-10-07T18:06:43.599544Z",
     "iopub.status.idle": "2020-10-07T18:08:03.443197Z",
     "shell.execute_reply": "2020-10-07T18:08:03.443714Z"
    }
   },
   "outputs": [
    {
     "data": {
      "application/vnd.jupyter.widget-view+json": {
       "model_id": "f91341abd7654ae3acaff7a10219e534",
       "version_major": 2,
       "version_minor": 0
      },
      "text/plain": [
       "Accordion(children=(HTML(value='', layout=Layout(height='16em', overflow_y='auto', width='100%')),), selected_…"
      ]
     },
     "metadata": {},
     "output_type": "display_data"
    }
   ],
   "source": [
    "greedy_data = rb_greedy(fom, reductor, training_set, max_extensions=32)"
   ]
  },
  {
   "cell_type": "code",
   "execution_count": 10,
   "metadata": {
    "execution": {
     "iopub.execute_input": "2020-10-07T18:08:03.445926Z",
     "iopub.status.busy": "2020-10-07T18:08:03.445439Z",
     "iopub.status.idle": "2020-10-07T18:08:03.464088Z",
     "shell.execute_reply": "2020-10-07T18:08:03.462516Z"
    }
   },
   "outputs": [
    {
     "name": "stdout",
     "output_type": "stream",
     "text": [
      "dict_keys(['max_errs', 'max_err_mus', 'extensions', 'time', 'rom'])\n"
     ]
    }
   ],
   "source": [
    "print(greedy_data.keys())"
   ]
  },
  {
   "cell_type": "code",
   "execution_count": 11,
   "metadata": {
    "execution": {
     "iopub.execute_input": "2020-10-07T18:08:03.479926Z",
     "iopub.status.busy": "2020-10-07T18:08:03.474520Z",
     "iopub.status.idle": "2020-10-07T18:08:03.487849Z",
     "shell.execute_reply": "2020-10-07T18:08:03.487430Z"
    }
   },
   "outputs": [],
   "source": [
    "rom = greedy_data['rom']"
   ]
  },
  {
   "cell_type": "code",
   "execution_count": 12,
   "metadata": {
    "execution": {
     "iopub.execute_input": "2020-10-07T18:08:03.498739Z",
     "iopub.status.busy": "2020-10-07T18:08:03.494723Z",
     "iopub.status.idle": "2020-10-07T18:08:03.511182Z",
     "shell.execute_reply": "2020-10-07T18:08:03.511600Z"
    }
   },
   "outputs": [
    {
     "name": "stdout",
     "output_type": "stream",
     "text": [
      "<class 'pymor.vectorarrays.numpy.NumpyVectorArray'>\n",
      "32\n",
      "5101\n"
     ]
    }
   ],
   "source": [
    "RB = reductor.bases['RB']\n",
    "print(type(RB))\n",
    "print(len(RB))\n",
    "print(RB.dim)"
   ]
  },
  {
   "cell_type": "code",
   "execution_count": 13,
   "metadata": {
    "execution": {
     "iopub.execute_input": "2020-10-07T18:08:03.526874Z",
     "iopub.status.busy": "2020-10-07T18:08:03.522907Z",
     "iopub.status.idle": "2020-10-07T18:08:03.535162Z",
     "shell.execute_reply": "2020-10-07T18:08:03.535559Z"
    }
   },
   "outputs": [
    {
     "name": "stdout",
     "output_type": "stream",
     "text": [
      "2.4302825377131576e-14\n"
     ]
    }
   ],
   "source": [
    "import numpy as np\n",
    "gram_matrix = RB.gramian(fom.h1_0_semi_product)\n",
    "print(np.max(np.abs(gram_matrix - np.eye(32))))"
   ]
  },
  {
   "cell_type": "code",
   "execution_count": 14,
   "metadata": {
    "execution": {
     "iopub.execute_input": "2020-10-07T18:08:03.541696Z",
     "iopub.status.busy": "2020-10-07T18:08:03.541183Z",
     "iopub.status.idle": "2020-10-07T18:08:03.563480Z",
     "shell.execute_reply": "2020-10-07T18:08:03.564090Z"
    }
   },
   "outputs": [
    {
     "name": "stdout",
     "output_type": "stream",
     "text": [
      "[[ 0.56008169  0.19410562  0.00463453  0.01675562  0.04900982  0.07760119\n",
      "  -0.08043888 -0.02889488 -0.03121126  0.26467367  0.13991773 -0.09805741\n",
      "   0.16005484  0.04417512 -0.05245844 -0.00132281 -0.01304436  0.01330245\n",
      "  -0.02185056  0.00625769 -0.00868736 -0.00115484  0.01895446 -0.00153234\n",
      "   0.02306277  0.0035532   0.01061803 -0.00225572  0.00199581 -0.0068476\n",
      "   0.00186538  0.0047302 ]]\n",
      "5101\n"
     ]
    }
   ],
   "source": [
    "u = rom.solve([1.0, 0.1, 0.3, 0.1, 0.2, 1.0])\n",
    "print(u)\n",
    "U_red = reductor.reconstruct(u)\n",
    "print(U_red.dim)"
   ]
  },
  {
   "cell_type": "code",
   "execution_count": 15,
   "metadata": {
    "execution": {
     "iopub.execute_input": "2020-10-07T18:08:03.566837Z",
     "iopub.status.busy": "2020-10-07T18:08:03.565958Z",
     "iopub.status.idle": "2020-10-07T18:08:05.075922Z",
     "shell.execute_reply": "2020-10-07T18:08:05.076569Z"
    }
   },
   "outputs": [
    {
     "name": "stdout",
     "output_type": "stream",
     "text": [
      "[0.00480011]\n"
     ]
    },
    {
     "data": {
      "application/vnd.jupyter.widget-view+json": {
       "model_id": "3ede92b06c8745019aca82f2ef177599",
       "version_major": 2,
       "version_minor": 0
      },
      "text/plain": [
       "Output()"
      ]
     },
     "metadata": {},
     "output_type": "display_data"
    }
   ],
   "source": [
    "ERR = U - U_red\n",
    "print(ERR.norm(fom.h1_0_semi_product))\n",
    "fom.visualize((U, U_red, ERR),\n",
    "              legend=('Detailed', 'Reduced', 'Error'),\n",
    "              separate_colorbars=True)"
   ]
  }
 ],
 "metadata": {
  "kernelspec": {
   "display_name": "Python 3",
   "language": "python",
   "name": "python3"
  },
  "language_info": {
   "codemirror_mode": {
    "name": "ipython",
    "version": 3
   },
   "file_extension": ".py",
   "mimetype": "text/x-python",
   "name": "python",
   "nbconvert_exporter": "python",
   "pygments_lexer": "ipython3",
   "version": "3.7.8"
  },
  "widgets": {
   "application/vnd.jupyter.widget-state+json": {
    "state": {
     "014a66936848420ca8382b3f5b20a8ad": {
      "model_module": "@jupyter-widgets/controls",
      "model_module_version": "1.5.0",
      "model_name": "AccordionModel",
      "state": {
       "_dom_classes": [],
       "_model_module": "@jupyter-widgets/controls",
       "_model_module_version": "1.5.0",
       "_model_name": "AccordionModel",
       "_titles": {
        "0": "Log Output"
       },
       "_view_count": null,
       "_view_module": "@jupyter-widgets/controls",
       "_view_module_version": "1.5.0",
       "_view_name": "AccordionView",
       "box_style": "",
       "children": [
        "IPY_MODEL_12f76e3262cb4fdb80321352806a7e3d"
       ],
       "layout": "IPY_MODEL_63402653e824491a8ea2988083609e5d",
       "selected_index": null
      }
     },
     "047a6220d04d45f4b8eb4dd61321894a": {
      "model_module": "@jupyter-widgets/base",
      "model_module_version": "1.2.0",
      "model_name": "LayoutModel",
      "state": {
       "_model_module": "@jupyter-widgets/base",
       "_model_module_version": "1.2.0",
       "_model_name": "LayoutModel",
       "_view_count": null,
       "_view_module": "@jupyter-widgets/base",
       "_view_module_version": "1.2.0",
       "_view_name": "LayoutView",
       "align_content": null,
       "align_items": null,
       "align_self": null,
       "border": null,
       "bottom": null,
       "display": null,
       "flex": null,
       "flex_flow": null,
       "grid_area": null,
       "grid_auto_columns": null,
       "grid_auto_flow": null,
       "grid_auto_rows": null,
       "grid_column": null,
       "grid_gap": null,
       "grid_row": null,
       "grid_template_areas": null,
       "grid_template_columns": null,
       "grid_template_rows": null,
       "height": "16em",
       "justify_content": null,
       "justify_items": null,
       "left": null,
       "margin": null,
       "max_height": null,
       "max_width": null,
       "min_height": null,
       "min_width": null,
       "object_fit": null,
       "object_position": null,
       "order": null,
       "overflow": null,
       "overflow_x": null,
       "overflow_y": "auto",
       "padding": null,
       "right": null,
       "top": null,
       "visibility": null,
       "width": "100%"
      }
     },
     "09fa599246eb4688bb1b5693d14cf3c9": {
      "model_module": "@jupyter-widgets/base",
      "model_module_version": "1.2.0",
      "model_name": "LayoutModel",
      "state": {
       "_model_module": "@jupyter-widgets/base",
       "_model_module_version": "1.2.0",
       "_model_name": "LayoutModel",
       "_view_count": null,
       "_view_module": "@jupyter-widgets/base",
       "_view_module_version": "1.2.0",
       "_view_name": "LayoutView",
       "align_content": null,
       "align_items": null,
       "align_self": null,
       "border": null,
       "bottom": null,
       "display": null,
       "flex": null,
       "flex_flow": null,
       "grid_area": null,
       "grid_auto_columns": null,
       "grid_auto_flow": null,
       "grid_auto_rows": null,
       "grid_column": null,
       "grid_gap": null,
       "grid_row": null,
       "grid_template_areas": null,
       "grid_template_columns": null,
       "grid_template_rows": null,
       "height": null,
       "justify_content": null,
       "justify_items": null,
       "left": null,
       "margin": null,
       "max_height": null,
       "max_width": null,
       "min_height": null,
       "min_width": null,
       "object_fit": null,
       "object_position": null,
       "order": null,
       "overflow": null,
       "overflow_x": null,
       "overflow_y": null,
       "padding": null,
       "right": null,
       "top": null,
       "visibility": null,
       "width": null
      }
     },
     "0aaa274a02934e90a8ddc76b0397f402": {
      "model_module": "@jupyter-widgets/base",
      "model_module_version": "1.2.0",
      "model_name": "LayoutModel",
      "state": {
       "_model_module": "@jupyter-widgets/base",
       "_model_module_version": "1.2.0",
       "_model_name": "LayoutModel",
       "_view_count": null,
       "_view_module": "@jupyter-widgets/base",
       "_view_module_version": "1.2.0",
       "_view_name": "LayoutView",
       "align_content": null,
       "align_items": null,
       "align_self": null,
       "border": null,
       "bottom": null,
       "display": null,
       "flex": null,
       "flex_flow": null,
       "grid_area": null,
       "grid_auto_columns": null,
       "grid_auto_flow": null,
       "grid_auto_rows": null,
       "grid_column": null,
       "grid_gap": null,
       "grid_row": null,
       "grid_template_areas": null,
       "grid_template_columns": null,
       "grid_template_rows": null,
       "height": null,
       "justify_content": null,
       "justify_items": null,
       "left": null,
       "margin": null,
       "max_height": null,
       "max_width": null,
       "min_height": null,
       "min_width": null,
       "object_fit": null,
       "object_position": null,
       "order": null,
       "overflow": null,
       "overflow_x": null,
       "overflow_y": null,
       "padding": null,
       "right": null,
       "top": null,
       "visibility": null,
       "width": null
      }
     },
     "0d4b38f5920e44c98a751f71fd344644": {
      "model_module": "@jupyter-widgets/controls",
      "model_module_version": "1.5.0",
      "model_name": "HTMLModel",
      "state": {
       "_dom_classes": [],
       "_model_module": "@jupyter-widgets/controls",
       "_model_module_version": "1.5.0",
       "_model_name": "HTMLModel",
       "_view_count": null,
       "_view_module": "@jupyter-widgets/controls",
       "_view_module_version": "1.5.0",
       "_view_name": "HTMLView",
       "description": "",
       "description_tooltip": null,
       "layout": "IPY_MODEL_719e4cafe34443f2ae478d2a7c56e9b3",
       "placeholder": "​",
       "style": "IPY_MODEL_ceaae0b34e4444b48b6f02e02e2d38a6",
       "value": ""
      }
     },
     "0e93bd0051204599a485235d1d076fe2": {
      "model_module": "@jupyter-widgets/controls",
      "model_module_version": "1.5.0",
      "model_name": "DescriptionStyleModel",
      "state": {
       "_model_module": "@jupyter-widgets/controls",
       "_model_module_version": "1.5.0",
       "_model_name": "DescriptionStyleModel",
       "_view_count": null,
       "_view_module": "@jupyter-widgets/base",
       "_view_module_version": "1.2.0",
       "_view_name": "StyleView",
       "description_width": ""
      }
     },
     "0f2bf8bd64be44278e929f25377f1d9e": {
      "model_module": "@jupyter-widgets/controls",
      "model_module_version": "1.5.0",
      "model_name": "HTMLModel",
      "state": {
       "_dom_classes": [],
       "_model_module": "@jupyter-widgets/controls",
       "_model_module_version": "1.5.0",
       "_model_name": "HTMLModel",
       "_view_count": null,
       "_view_module": "@jupyter-widgets/controls",
       "_view_module_version": "1.5.0",
       "_view_name": "HTMLView",
       "description": "",
       "description_tooltip": null,
       "layout": "IPY_MODEL_912e3675e9694d57b78e80ef5afcc8e0",
       "placeholder": "​",
       "style": "IPY_MODEL_ecd2a179a5c64230bb1b23974b7736d8",
       "value": ""
      }
     },
     "11f48afebd2f4baf8b8e244f9f788c56": {
      "model_module": "@jupyter-widgets/base",
      "model_module_version": "1.2.0",
      "model_name": "LayoutModel",
      "state": {
       "_model_module": "@jupyter-widgets/base",
       "_model_module_version": "1.2.0",
       "_model_name": "LayoutModel",
       "_view_count": null,
       "_view_module": "@jupyter-widgets/base",
       "_view_module_version": "1.2.0",
       "_view_name": "LayoutView",
       "align_content": null,
       "align_items": null,
       "align_self": null,
       "border": null,
       "bottom": null,
       "display": null,
       "flex": null,
       "flex_flow": null,
       "grid_area": null,
       "grid_auto_columns": null,
       "grid_auto_flow": null,
       "grid_auto_rows": null,
       "grid_column": null,
       "grid_gap": null,
       "grid_row": null,
       "grid_template_areas": null,
       "grid_template_columns": null,
       "grid_template_rows": null,
       "height": null,
       "justify_content": null,
       "justify_items": null,
       "left": null,
       "margin": null,
       "max_height": null,
       "max_width": null,
       "min_height": null,
       "min_width": null,
       "object_fit": null,
       "object_position": null,
       "order": null,
       "overflow": null,
       "overflow_x": null,
       "overflow_y": null,
       "padding": null,
       "right": null,
       "top": null,
       "visibility": null,
       "width": null
      }
     },
     "12f76e3262cb4fdb80321352806a7e3d": {
      "model_module": "@jupyter-widgets/controls",
      "model_module_version": "1.5.0",
      "model_name": "HTMLModel",
      "state": {
       "_dom_classes": [],
       "_model_module": "@jupyter-widgets/controls",
       "_model_module_version": "1.5.0",
       "_model_name": "HTMLModel",
       "_view_count": null,
       "_view_module": "@jupyter-widgets/controls",
       "_view_module_version": "1.5.0",
       "_view_name": "HTMLView",
       "description": "",
       "description_tooltip": null,
       "layout": "IPY_MODEL_da9e9ff0b0e44a489de667307b4cde2e",
       "placeholder": "​",
       "style": "IPY_MODEL_ab2eeeea181b4950849308b5c9cc96ee",
       "value": ""
      }
     },
     "142ad64773d1481ebb5909a0559cc3ec": {
      "model_module": "@jupyter-widgets/controls",
      "model_module_version": "1.5.0",
      "model_name": "AccordionModel",
      "state": {
       "_dom_classes": [],
       "_model_module": "@jupyter-widgets/controls",
       "_model_module_version": "1.5.0",
       "_model_name": "AccordionModel",
       "_titles": {
        "0": "Log Output"
       },
       "_view_count": null,
       "_view_module": "@jupyter-widgets/controls",
       "_view_module_version": "1.5.0",
       "_view_name": "AccordionView",
       "box_style": "",
       "children": [
        "IPY_MODEL_b43da2746dbe4d4c9319a3986bd7d3f3"
       ],
       "layout": "IPY_MODEL_8b204612fb8e46a98e160ad0dfbc7721",
       "selected_index": null
      }
     },
     "1f1b0523e6474f77889b2c0397b7e751": {
      "model_module": "@jupyter-widgets/controls",
      "model_module_version": "1.5.0",
      "model_name": "AccordionModel",
      "state": {
       "_dom_classes": [],
       "_model_module": "@jupyter-widgets/controls",
       "_model_module_version": "1.5.0",
       "_model_name": "AccordionModel",
       "_titles": {
        "0": "Log Output"
       },
       "_view_count": null,
       "_view_module": "@jupyter-widgets/controls",
       "_view_module_version": "1.5.0",
       "_view_name": "AccordionView",
       "box_style": "",
       "children": [
        "IPY_MODEL_c170aa96752f41c4b3c95b0d6c165c61"
       ],
       "layout": "IPY_MODEL_4c606ca791a44062b56e2708519d1d99",
       "selected_index": null
      }
     },
     "260a2cfc4c6b447d962867154b6aab4a": {
      "model_module": "@jupyter-widgets/controls",
      "model_module_version": "1.5.0",
      "model_name": "AccordionModel",
      "state": {
       "_dom_classes": [],
       "_model_module": "@jupyter-widgets/controls",
       "_model_module_version": "1.5.0",
       "_model_name": "AccordionModel",
       "_titles": {
        "0": "Log Output"
       },
       "_view_count": null,
       "_view_module": "@jupyter-widgets/controls",
       "_view_module_version": "1.5.0",
       "_view_name": "AccordionView",
       "box_style": "",
       "children": [
        "IPY_MODEL_c23f9a8d09de4bf5bfbd830a7450354f"
       ],
       "layout": "IPY_MODEL_9893af4bcbda4bb68a1bed1bee79477e",
       "selected_index": null
      }
     },
     "2895c89c723c43f5a3399dacfa76c361": {
      "model_module": "@jupyter-widgets/base",
      "model_module_version": "1.2.0",
      "model_name": "LayoutModel",
      "state": {
       "_model_module": "@jupyter-widgets/base",
       "_model_module_version": "1.2.0",
       "_model_name": "LayoutModel",
       "_view_count": null,
       "_view_module": "@jupyter-widgets/base",
       "_view_module_version": "1.2.0",
       "_view_name": "LayoutView",
       "align_content": null,
       "align_items": null,
       "align_self": null,
       "border": null,
       "bottom": null,
       "display": null,
       "flex": null,
       "flex_flow": null,
       "grid_area": null,
       "grid_auto_columns": null,
       "grid_auto_flow": null,
       "grid_auto_rows": null,
       "grid_column": null,
       "grid_gap": null,
       "grid_row": null,
       "grid_template_areas": null,
       "grid_template_columns": null,
       "grid_template_rows": null,
       "height": "16em",
       "justify_content": null,
       "justify_items": null,
       "left": null,
       "margin": null,
       "max_height": null,
       "max_width": null,
       "min_height": null,
       "min_width": null,
       "object_fit": null,
       "object_position": null,
       "order": null,
       "overflow": null,
       "overflow_x": null,
       "overflow_y": "auto",
       "padding": null,
       "right": null,
       "top": null,
       "visibility": null,
       "width": "100%"
      }
     },
     "32d784c327ae41cf8c0ead0dfd6d7907": {
      "model_module": "@jupyter-widgets/base",
      "model_module_version": "1.2.0",
      "model_name": "LayoutModel",
      "state": {
       "_model_module": "@jupyter-widgets/base",
       "_model_module_version": "1.2.0",
       "_model_name": "LayoutModel",
       "_view_count": null,
       "_view_module": "@jupyter-widgets/base",
       "_view_module_version": "1.2.0",
       "_view_name": "LayoutView",
       "align_content": null,
       "align_items": null,
       "align_self": null,
       "border": null,
       "bottom": null,
       "display": null,
       "flex": null,
       "flex_flow": null,
       "grid_area": null,
       "grid_auto_columns": null,
       "grid_auto_flow": null,
       "grid_auto_rows": null,
       "grid_column": null,
       "grid_gap": null,
       "grid_row": null,
       "grid_template_areas": null,
       "grid_template_columns": null,
       "grid_template_rows": null,
       "height": "16em",
       "justify_content": null,
       "justify_items": null,
       "left": null,
       "margin": null,
       "max_height": null,
       "max_width": null,
       "min_height": null,
       "min_width": null,
       "object_fit": null,
       "object_position": null,
       "order": null,
       "overflow": null,
       "overflow_x": null,
       "overflow_y": "auto",
       "padding": null,
       "right": null,
       "top": null,
       "visibility": null,
       "width": "100%"
      }
     },
     "3474051ce52644d1a21fc4519b7ace2c": {
      "model_module": "@jupyter-widgets/controls",
      "model_module_version": "1.5.0",
      "model_name": "DescriptionStyleModel",
      "state": {
       "_model_module": "@jupyter-widgets/controls",
       "_model_module_version": "1.5.0",
       "_model_name": "DescriptionStyleModel",
       "_view_count": null,
       "_view_module": "@jupyter-widgets/base",
       "_view_module_version": "1.2.0",
       "_view_name": "StyleView",
       "description_width": ""
      }
     },
     "37359c7349ae4bc0a7e8f4aabe78c990": {
      "model_module": "@jupyter-widgets/controls",
      "model_module_version": "1.5.0",
      "model_name": "DescriptionStyleModel",
      "state": {
       "_model_module": "@jupyter-widgets/controls",
       "_model_module_version": "1.5.0",
       "_model_name": "DescriptionStyleModel",
       "_view_count": null,
       "_view_module": "@jupyter-widgets/base",
       "_view_module_version": "1.2.0",
       "_view_name": "StyleView",
       "description_width": ""
      }
     },
     "3ede92b06c8745019aca82f2ef177599": {
      "model_module": "@jupyter-widgets/output",
      "model_module_version": "1.0.0",
      "model_name": "OutputModel",
      "state": {
       "_dom_classes": [],
       "_model_module": "@jupyter-widgets/output",
       "_model_module_version": "1.0.0",
       "_model_name": "OutputModel",
       "_view_count": null,
       "_view_module": "@jupyter-widgets/output",
       "_view_module_version": "1.0.0",
       "_view_name": "OutputView",
       "layout": "IPY_MODEL_576cfdf37b6e4285962d8bf59f6fc004",
       "msg_id": "",
       "outputs": [
        {
         "data": {
          "image/png": "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\n",
          "text/plain": "<Figure size 432x288 with 2 Axes>"
         },
         "metadata": {
          "needs_background": "light"
         },
         "output_type": "display_data"
        },
        {
         "data": {
          "image/png": "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\n",
          "text/plain": "<Figure size 432x288 with 2 Axes>"
         },
         "metadata": {
          "needs_background": "light"
         },
         "output_type": "display_data"
        },
        {
         "data": {
          "image/png": "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\n",
          "text/plain": "<Figure size 432x288 with 2 Axes>"
         },
         "metadata": {
          "needs_background": "light"
         },
         "output_type": "display_data"
        }
       ]
      }
     },
     "434360d44194431e85adc3d4d6eee92a": {
      "model_module": "@jupyter-widgets/output",
      "model_module_version": "1.0.0",
      "model_name": "OutputModel",
      "state": {
       "_dom_classes": [],
       "_model_module": "@jupyter-widgets/output",
       "_model_module_version": "1.0.0",
       "_model_name": "OutputModel",
       "_view_count": null,
       "_view_module": "@jupyter-widgets/output",
       "_view_module_version": "1.0.0",
       "_view_name": "OutputView",
       "layout": "IPY_MODEL_d0f29371f33942dbb35cddc4672bdcd7",
       "msg_id": "",
       "outputs": [
        {
         "data": {
          "image/png": "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\n",
          "text/plain": "<Figure size 432x288 with 2 Axes>"
         },
         "metadata": {
          "needs_background": "light"
         },
         "output_type": "display_data"
        }
       ]
      }
     },
     "471109cf81b64611af8c0bc342cec89a": {
      "model_module": "@jupyter-widgets/base",
      "model_module_version": "1.2.0",
      "model_name": "LayoutModel",
      "state": {
       "_model_module": "@jupyter-widgets/base",
       "_model_module_version": "1.2.0",
       "_model_name": "LayoutModel",
       "_view_count": null,
       "_view_module": "@jupyter-widgets/base",
       "_view_module_version": "1.2.0",
       "_view_name": "LayoutView",
       "align_content": null,
       "align_items": null,
       "align_self": null,
       "border": null,
       "bottom": null,
       "display": null,
       "flex": null,
       "flex_flow": null,
       "grid_area": null,
       "grid_auto_columns": null,
       "grid_auto_flow": null,
       "grid_auto_rows": null,
       "grid_column": null,
       "grid_gap": null,
       "grid_row": null,
       "grid_template_areas": null,
       "grid_template_columns": null,
       "grid_template_rows": null,
       "height": null,
       "justify_content": null,
       "justify_items": null,
       "left": null,
       "margin": null,
       "max_height": null,
       "max_width": null,
       "min_height": null,
       "min_width": null,
       "object_fit": null,
       "object_position": null,
       "order": null,
       "overflow": null,
       "overflow_x": null,
       "overflow_y": null,
       "padding": null,
       "right": null,
       "top": null,
       "visibility": null,
       "width": null
      }
     },
     "4a65ef4f20994e7682f0d241a7b8e0c3": {
      "model_module": "@jupyter-widgets/controls",
      "model_module_version": "1.5.0",
      "model_name": "DescriptionStyleModel",
      "state": {
       "_model_module": "@jupyter-widgets/controls",
       "_model_module_version": "1.5.0",
       "_model_name": "DescriptionStyleModel",
       "_view_count": null,
       "_view_module": "@jupyter-widgets/base",
       "_view_module_version": "1.2.0",
       "_view_name": "StyleView",
       "description_width": ""
      }
     },
     "4c606ca791a44062b56e2708519d1d99": {
      "model_module": "@jupyter-widgets/base",
      "model_module_version": "1.2.0",
      "model_name": "LayoutModel",
      "state": {
       "_model_module": "@jupyter-widgets/base",
       "_model_module_version": "1.2.0",
       "_model_name": "LayoutModel",
       "_view_count": null,
       "_view_module": "@jupyter-widgets/base",
       "_view_module_version": "1.2.0",
       "_view_name": "LayoutView",
       "align_content": null,
       "align_items": null,
       "align_self": null,
       "border": null,
       "bottom": null,
       "display": null,
       "flex": null,
       "flex_flow": null,
       "grid_area": null,
       "grid_auto_columns": null,
       "grid_auto_flow": null,
       "grid_auto_rows": null,
       "grid_column": null,
       "grid_gap": null,
       "grid_row": null,
       "grid_template_areas": null,
       "grid_template_columns": null,
       "grid_template_rows": null,
       "height": null,
       "justify_content": null,
       "justify_items": null,
       "left": null,
       "margin": null,
       "max_height": null,
       "max_width": null,
       "min_height": null,
       "min_width": null,
       "object_fit": null,
       "object_position": null,
       "order": null,
       "overflow": null,
       "overflow_x": null,
       "overflow_y": null,
       "padding": null,
       "right": null,
       "top": null,
       "visibility": null,
       "width": null
      }
     },
     "4c9bd3ddb2da4af39c1e44fbde1e913f": {
      "model_module": "@jupyter-widgets/base",
      "model_module_version": "1.2.0",
      "model_name": "LayoutModel",
      "state": {
       "_model_module": "@jupyter-widgets/base",
       "_model_module_version": "1.2.0",
       "_model_name": "LayoutModel",
       "_view_count": null,
       "_view_module": "@jupyter-widgets/base",
       "_view_module_version": "1.2.0",
       "_view_name": "LayoutView",
       "align_content": null,
       "align_items": null,
       "align_self": null,
       "border": null,
       "bottom": null,
       "display": null,
       "flex": null,
       "flex_flow": null,
       "grid_area": null,
       "grid_auto_columns": null,
       "grid_auto_flow": null,
       "grid_auto_rows": null,
       "grid_column": null,
       "grid_gap": null,
       "grid_row": null,
       "grid_template_areas": null,
       "grid_template_columns": null,
       "grid_template_rows": null,
       "height": "16em",
       "justify_content": null,
       "justify_items": null,
       "left": null,
       "margin": null,
       "max_height": null,
       "max_width": null,
       "min_height": null,
       "min_width": null,
       "object_fit": null,
       "object_position": null,
       "order": null,
       "overflow": null,
       "overflow_x": null,
       "overflow_y": "auto",
       "padding": null,
       "right": null,
       "top": null,
       "visibility": null,
       "width": "100%"
      }
     },
     "4d22450b5a5c4f7fa46917df05b6036c": {
      "model_module": "@jupyter-widgets/base",
      "model_module_version": "1.2.0",
      "model_name": "LayoutModel",
      "state": {
       "_model_module": "@jupyter-widgets/base",
       "_model_module_version": "1.2.0",
       "_model_name": "LayoutModel",
       "_view_count": null,
       "_view_module": "@jupyter-widgets/base",
       "_view_module_version": "1.2.0",
       "_view_name": "LayoutView",
       "align_content": null,
       "align_items": null,
       "align_self": null,
       "border": null,
       "bottom": null,
       "display": null,
       "flex": null,
       "flex_flow": null,
       "grid_area": null,
       "grid_auto_columns": null,
       "grid_auto_flow": null,
       "grid_auto_rows": null,
       "grid_column": null,
       "grid_gap": null,
       "grid_row": null,
       "grid_template_areas": null,
       "grid_template_columns": null,
       "grid_template_rows": null,
       "height": null,
       "justify_content": null,
       "justify_items": null,
       "left": null,
       "margin": null,
       "max_height": null,
       "max_width": null,
       "min_height": null,
       "min_width": null,
       "object_fit": null,
       "object_position": null,
       "order": null,
       "overflow": null,
       "overflow_x": null,
       "overflow_y": null,
       "padding": null,
       "right": null,
       "top": null,
       "visibility": null,
       "width": null
      }
     },
     "5659aa5ddb9546d6ba133cb5f9ee4d36": {
      "model_module": "@jupyter-widgets/controls",
      "model_module_version": "1.5.0",
      "model_name": "AccordionModel",
      "state": {
       "_dom_classes": [],
       "_model_module": "@jupyter-widgets/controls",
       "_model_module_version": "1.5.0",
       "_model_name": "AccordionModel",
       "_titles": {
        "0": "Log Output"
       },
       "_view_count": null,
       "_view_module": "@jupyter-widgets/controls",
       "_view_module_version": "1.5.0",
       "_view_name": "AccordionView",
       "box_style": "",
       "children": [
        "IPY_MODEL_dd3ae09a51244a31abbf41070c30d1c3"
       ],
       "layout": "IPY_MODEL_11f48afebd2f4baf8b8e244f9f788c56",
       "selected_index": null
      }
     },
     "576cfdf37b6e4285962d8bf59f6fc004": {
      "model_module": "@jupyter-widgets/base",
      "model_module_version": "1.2.0",
      "model_name": "LayoutModel",
      "state": {
       "_model_module": "@jupyter-widgets/base",
       "_model_module_version": "1.2.0",
       "_model_name": "LayoutModel",
       "_view_count": null,
       "_view_module": "@jupyter-widgets/base",
       "_view_module_version": "1.2.0",
       "_view_name": "LayoutView",
       "align_content": null,
       "align_items": null,
       "align_self": null,
       "border": null,
       "bottom": null,
       "display": null,
       "flex": null,
       "flex_flow": null,
       "grid_area": null,
       "grid_auto_columns": null,
       "grid_auto_flow": null,
       "grid_auto_rows": null,
       "grid_column": null,
       "grid_gap": null,
       "grid_row": null,
       "grid_template_areas": null,
       "grid_template_columns": null,
       "grid_template_rows": null,
       "height": null,
       "justify_content": null,
       "justify_items": null,
       "left": null,
       "margin": null,
       "max_height": null,
       "max_width": null,
       "min_height": null,
       "min_width": null,
       "object_fit": null,
       "object_position": null,
       "order": null,
       "overflow": null,
       "overflow_x": null,
       "overflow_y": null,
       "padding": null,
       "right": null,
       "top": null,
       "visibility": null,
       "width": null
      }
     },
     "59c64729bbd946e6b58ca2c413a8487c": {
      "model_module": "@jupyter-widgets/controls",
      "model_module_version": "1.5.0",
      "model_name": "AccordionModel",
      "state": {
       "_dom_classes": [],
       "_model_module": "@jupyter-widgets/controls",
       "_model_module_version": "1.5.0",
       "_model_name": "AccordionModel",
       "_titles": {
        "0": "Log Output"
       },
       "_view_count": null,
       "_view_module": "@jupyter-widgets/controls",
       "_view_module_version": "1.5.0",
       "_view_name": "AccordionView",
       "box_style": "",
       "children": [
        "IPY_MODEL_0d4b38f5920e44c98a751f71fd344644"
       ],
       "layout": "IPY_MODEL_d49a2fc00ede4f0a98a8cfa4e0562488",
       "selected_index": null
      }
     },
     "61f14f1d9cbb4a76ab24ac69f5ac1a03": {
      "model_module": "@jupyter-widgets/base",
      "model_module_version": "1.2.0",
      "model_name": "LayoutModel",
      "state": {
       "_model_module": "@jupyter-widgets/base",
       "_model_module_version": "1.2.0",
       "_model_name": "LayoutModel",
       "_view_count": null,
       "_view_module": "@jupyter-widgets/base",
       "_view_module_version": "1.2.0",
       "_view_name": "LayoutView",
       "align_content": null,
       "align_items": null,
       "align_self": null,
       "border": null,
       "bottom": null,
       "display": null,
       "flex": null,
       "flex_flow": null,
       "grid_area": null,
       "grid_auto_columns": null,
       "grid_auto_flow": null,
       "grid_auto_rows": null,
       "grid_column": null,
       "grid_gap": null,
       "grid_row": null,
       "grid_template_areas": null,
       "grid_template_columns": null,
       "grid_template_rows": null,
       "height": "16em",
       "justify_content": null,
       "justify_items": null,
       "left": null,
       "margin": null,
       "max_height": null,
       "max_width": null,
       "min_height": null,
       "min_width": null,
       "object_fit": null,
       "object_position": null,
       "order": null,
       "overflow": null,
       "overflow_x": null,
       "overflow_y": "auto",
       "padding": null,
       "right": null,
       "top": null,
       "visibility": null,
       "width": "100%"
      }
     },
     "63402653e824491a8ea2988083609e5d": {
      "model_module": "@jupyter-widgets/base",
      "model_module_version": "1.2.0",
      "model_name": "LayoutModel",
      "state": {
       "_model_module": "@jupyter-widgets/base",
       "_model_module_version": "1.2.0",
       "_model_name": "LayoutModel",
       "_view_count": null,
       "_view_module": "@jupyter-widgets/base",
       "_view_module_version": "1.2.0",
       "_view_name": "LayoutView",
       "align_content": null,
       "align_items": null,
       "align_self": null,
       "border": null,
       "bottom": null,
       "display": null,
       "flex": null,
       "flex_flow": null,
       "grid_area": null,
       "grid_auto_columns": null,
       "grid_auto_flow": null,
       "grid_auto_rows": null,
       "grid_column": null,
       "grid_gap": null,
       "grid_row": null,
       "grid_template_areas": null,
       "grid_template_columns": null,
       "grid_template_rows": null,
       "height": null,
       "justify_content": null,
       "justify_items": null,
       "left": null,
       "margin": null,
       "max_height": null,
       "max_width": null,
       "min_height": null,
       "min_width": null,
       "object_fit": null,
       "object_position": null,
       "order": null,
       "overflow": null,
       "overflow_x": null,
       "overflow_y": null,
       "padding": null,
       "right": null,
       "top": null,
       "visibility": null,
       "width": null
      }
     },
     "6a44d346c6254da58b504d394a8f7beb": {
      "model_module": "@jupyter-widgets/base",
      "model_module_version": "1.2.0",
      "model_name": "LayoutModel",
      "state": {
       "_model_module": "@jupyter-widgets/base",
       "_model_module_version": "1.2.0",
       "_model_name": "LayoutModel",
       "_view_count": null,
       "_view_module": "@jupyter-widgets/base",
       "_view_module_version": "1.2.0",
       "_view_name": "LayoutView",
       "align_content": null,
       "align_items": null,
       "align_self": null,
       "border": null,
       "bottom": null,
       "display": null,
       "flex": null,
       "flex_flow": null,
       "grid_area": null,
       "grid_auto_columns": null,
       "grid_auto_flow": null,
       "grid_auto_rows": null,
       "grid_column": null,
       "grid_gap": null,
       "grid_row": null,
       "grid_template_areas": null,
       "grid_template_columns": null,
       "grid_template_rows": null,
       "height": null,
       "justify_content": null,
       "justify_items": null,
       "left": null,
       "margin": null,
       "max_height": null,
       "max_width": null,
       "min_height": null,
       "min_width": null,
       "object_fit": null,
       "object_position": null,
       "order": null,
       "overflow": null,
       "overflow_x": null,
       "overflow_y": null,
       "padding": null,
       "right": null,
       "top": null,
       "visibility": null,
       "width": null
      }
     },
     "6ab932a1617147d9905f8b7a71753cfe": {
      "model_module": "@jupyter-widgets/base",
      "model_module_version": "1.2.0",
      "model_name": "LayoutModel",
      "state": {
       "_model_module": "@jupyter-widgets/base",
       "_model_module_version": "1.2.0",
       "_model_name": "LayoutModel",
       "_view_count": null,
       "_view_module": "@jupyter-widgets/base",
       "_view_module_version": "1.2.0",
       "_view_name": "LayoutView",
       "align_content": null,
       "align_items": null,
       "align_self": null,
       "border": null,
       "bottom": null,
       "display": null,
       "flex": null,
       "flex_flow": null,
       "grid_area": null,
       "grid_auto_columns": null,
       "grid_auto_flow": null,
       "grid_auto_rows": null,
       "grid_column": null,
       "grid_gap": null,
       "grid_row": null,
       "grid_template_areas": null,
       "grid_template_columns": null,
       "grid_template_rows": null,
       "height": "16em",
       "justify_content": null,
       "justify_items": null,
       "left": null,
       "margin": null,
       "max_height": null,
       "max_width": null,
       "min_height": null,
       "min_width": null,
       "object_fit": null,
       "object_position": null,
       "order": null,
       "overflow": null,
       "overflow_x": null,
       "overflow_y": "auto",
       "padding": null,
       "right": null,
       "top": null,
       "visibility": null,
       "width": "100%"
      }
     },
     "715390155b804e1baf9e666f6855d204": {
      "model_module": "@jupyter-widgets/base",
      "model_module_version": "1.2.0",
      "model_name": "LayoutModel",
      "state": {
       "_model_module": "@jupyter-widgets/base",
       "_model_module_version": "1.2.0",
       "_model_name": "LayoutModel",
       "_view_count": null,
       "_view_module": "@jupyter-widgets/base",
       "_view_module_version": "1.2.0",
       "_view_name": "LayoutView",
       "align_content": null,
       "align_items": null,
       "align_self": null,
       "border": null,
       "bottom": null,
       "display": null,
       "flex": null,
       "flex_flow": null,
       "grid_area": null,
       "grid_auto_columns": null,
       "grid_auto_flow": null,
       "grid_auto_rows": null,
       "grid_column": null,
       "grid_gap": null,
       "grid_row": null,
       "grid_template_areas": null,
       "grid_template_columns": null,
       "grid_template_rows": null,
       "height": "16em",
       "justify_content": null,
       "justify_items": null,
       "left": null,
       "margin": null,
       "max_height": null,
       "max_width": null,
       "min_height": null,
       "min_width": null,
       "object_fit": null,
       "object_position": null,
       "order": null,
       "overflow": null,
       "overflow_x": null,
       "overflow_y": "auto",
       "padding": null,
       "right": null,
       "top": null,
       "visibility": null,
       "width": "100%"
      }
     },
     "719e4cafe34443f2ae478d2a7c56e9b3": {
      "model_module": "@jupyter-widgets/base",
      "model_module_version": "1.2.0",
      "model_name": "LayoutModel",
      "state": {
       "_model_module": "@jupyter-widgets/base",
       "_model_module_version": "1.2.0",
       "_model_name": "LayoutModel",
       "_view_count": null,
       "_view_module": "@jupyter-widgets/base",
       "_view_module_version": "1.2.0",
       "_view_name": "LayoutView",
       "align_content": null,
       "align_items": null,
       "align_self": null,
       "border": null,
       "bottom": null,
       "display": null,
       "flex": null,
       "flex_flow": null,
       "grid_area": null,
       "grid_auto_columns": null,
       "grid_auto_flow": null,
       "grid_auto_rows": null,
       "grid_column": null,
       "grid_gap": null,
       "grid_row": null,
       "grid_template_areas": null,
       "grid_template_columns": null,
       "grid_template_rows": null,
       "height": "16em",
       "justify_content": null,
       "justify_items": null,
       "left": null,
       "margin": null,
       "max_height": null,
       "max_width": null,
       "min_height": null,
       "min_width": null,
       "object_fit": null,
       "object_position": null,
       "order": null,
       "overflow": null,
       "overflow_x": null,
       "overflow_y": "auto",
       "padding": null,
       "right": null,
       "top": null,
       "visibility": null,
       "width": "100%"
      }
     },
     "7270bcec6b72448bb92c148835fceda9": {
      "model_module": "@jupyter-widgets/controls",
      "model_module_version": "1.5.0",
      "model_name": "HTMLModel",
      "state": {
       "_dom_classes": [],
       "_model_module": "@jupyter-widgets/controls",
       "_model_module_version": "1.5.0",
       "_model_name": "HTMLModel",
       "_view_count": null,
       "_view_module": "@jupyter-widgets/controls",
       "_view_module_version": "1.5.0",
       "_view_name": "HTMLView",
       "description": "",
       "description_tooltip": null,
       "layout": "IPY_MODEL_9c52488609c74d97ab4bf67dcfe59143",
       "placeholder": "​",
       "style": "IPY_MODEL_768978fafece4ef695035d980c9049f7",
       "value": ""
      }
     },
     "768978fafece4ef695035d980c9049f7": {
      "model_module": "@jupyter-widgets/controls",
      "model_module_version": "1.5.0",
      "model_name": "DescriptionStyleModel",
      "state": {
       "_model_module": "@jupyter-widgets/controls",
       "_model_module_version": "1.5.0",
       "_model_name": "DescriptionStyleModel",
       "_view_count": null,
       "_view_module": "@jupyter-widgets/base",
       "_view_module_version": "1.2.0",
       "_view_name": "StyleView",
       "description_width": ""
      }
     },
     "7703cbe8f7244e638a152b00df987fc9": {
      "model_module": "@jupyter-widgets/controls",
      "model_module_version": "1.5.0",
      "model_name": "HTMLModel",
      "state": {
       "_dom_classes": [],
       "_model_module": "@jupyter-widgets/controls",
       "_model_module_version": "1.5.0",
       "_model_name": "HTMLModel",
       "_view_count": null,
       "_view_module": "@jupyter-widgets/controls",
       "_view_module_version": "1.5.0",
       "_view_name": "HTMLView",
       "description": "",
       "description_tooltip": null,
       "layout": "IPY_MODEL_61f14f1d9cbb4a76ab24ac69f5ac1a03",
       "placeholder": "​",
       "style": "IPY_MODEL_fb0564ff6be141bf85a3079d21f8cae7",
       "value": "<p style=\"line-height:120%\">00:00 <bold>DiffusionOperatorP1</bold>: Calulate gradients of shape functions transformed by reference map ...</p><p style=\"line-height:120%\">00:00 <bold>DiffusionOperatorP1</bold>: Calculate all local scalar products between gradients ...</p><p style=\"line-height:120%\">00:00 <bold>DiffusionOperatorP1</bold>: Determine global dofs ...</p><p style=\"line-height:120%\">00:00 <bold>DiffusionOperatorP1</bold>: Boundary treatment ...</p><p style=\"line-height:120%\">00:00 <bold>DiffusionOperatorP1</bold>: Assemble system matrix ...</p><p style=\"line-height:120%\">00:00 <bold>DiffusionOperatorP1</bold>: Calulate gradients of shape functions transformed by reference map ...</p><p style=\"line-height:120%\">00:00 <bold>DiffusionOperatorP1</bold>: Calculate all local scalar products between gradients ...</p><p style=\"line-height:120%\">00:00 <bold>DiffusionOperatorP1</bold>: Determine global dofs ...</p><p style=\"line-height:120%\">00:00 <bold>DiffusionOperatorP1</bold>: Boundary treatment ...</p><p style=\"line-height:120%\">00:00 <bold>DiffusionOperatorP1</bold>: Assemble system matrix ...</p><p style=\"line-height:120%\">00:00 <bold>DiffusionOperatorP1</bold>: Calulate gradients of shape functions transformed by reference map ...</p><p style=\"line-height:120%\">00:00 <bold>DiffusionOperatorP1</bold>: Calculate all local scalar products between gradients ...</p><p style=\"line-height:120%\">00:00 <bold>DiffusionOperatorP1</bold>: Determine global dofs ...</p><p style=\"line-height:120%\">00:00 <bold>DiffusionOperatorP1</bold>: Boundary treatment ...</p><p style=\"line-height:120%\">00:00 <bold>DiffusionOperatorP1</bold>: Assemble system matrix ...</p><p style=\"line-height:120%\">00:00 <bold>DiffusionOperatorP1</bold>: Calulate gradients of shape functions transformed by reference map ...</p><p style=\"line-height:120%\">00:00 <bold>DiffusionOperatorP1</bold>: Calculate all local scalar products between gradients ...</p><p style=\"line-height:120%\">00:00 <bold>DiffusionOperatorP1</bold>: Determine global dofs ...</p><p style=\"line-height:120%\">00:00 <bold>DiffusionOperatorP1</bold>: Boundary treatment ...</p><p style=\"line-height:120%\">00:00 <bold>DiffusionOperatorP1</bold>: Assemble system matrix ...</p><p style=\"line-height:120%\">00:00 <bold>DiffusionOperatorP1</bold>: Calulate gradients of shape functions transformed by reference map ...</p><p style=\"line-height:120%\">00:00 <bold>DiffusionOperatorP1</bold>: Calculate all local scalar products between gradients ...</p><p style=\"line-height:120%\">00:00 <bold>DiffusionOperatorP1</bold>: Determine global dofs ...</p><p style=\"line-height:120%\">00:00 <bold>DiffusionOperatorP1</bold>: Boundary treatment ...</p><p style=\"line-height:120%\">00:00 <bold>DiffusionOperatorP1</bold>: Assemble system matrix ...</p><p style=\"line-height:120%\">00:00 <bold>DiffusionOperatorP1</bold>: Calulate gradients of shape functions transformed by reference map ...</p><p style=\"line-height:120%\">00:00 <bold>DiffusionOperatorP1</bold>: Calculate all local scalar products between gradients ...</p><p style=\"line-height:120%\">00:00 <bold>DiffusionOperatorP1</bold>: Determine global dofs ...</p><p style=\"line-height:120%\">00:00 <bold>DiffusionOperatorP1</bold>: Boundary treatment ...</p><p style=\"line-height:120%\">00:00 <bold>DiffusionOperatorP1</bold>: Assemble system matrix ...</p><p style=\"line-height:120%\">00:01 <bold>DiffusionOperatorP1</bold>: Calulate gradients of shape functions transformed by reference map ...</p><p style=\"line-height:120%\">00:01 <bold>DiffusionOperatorP1</bold>: Calculate all local scalar products between gradients ...</p><p style=\"line-height:120%\">00:01 <bold>DiffusionOperatorP1</bold>: Determine global dofs ...</p><p style=\"line-height:120%\">00:01 <bold>DiffusionOperatorP1</bold>: Boundary treatment ...</p><p style=\"line-height:120%\">00:01 <bold>DiffusionOperatorP1</bold>: Assemble system matrix ...</p><p style=\"line-height:120%\">00:01 <bold>L2ProductP1</bold>: Integrate the products of the shape functions on each element</p><p style=\"line-height:120%\">00:01 <bold>L2ProductP1</bold>: Determine global dofs ...</p><p style=\"line-height:120%\">00:01 <bold>L2ProductP1</bold>: Boundary treatment ...</p><p style=\"line-height:120%\">00:01 <bold>L2ProductP1</bold>: Assemble system matrix ...</p><p style=\"line-height:120%\">00:01 <bold>DiffusionOperatorP1</bold>: Calulate gradients of shape functions transformed by reference map ...</p><p style=\"line-height:120%\">00:01 <bold>DiffusionOperatorP1</bold>: Calculate all local scalar products between gradients ...</p><p style=\"line-height:120%\">00:01 <bold>DiffusionOperatorP1</bold>: Determine global dofs ...</p><p style=\"line-height:120%\">00:01 <bold>DiffusionOperatorP1</bold>: Boundary treatment ...</p><p style=\"line-height:120%\">00:01 <bold>DiffusionOperatorP1</bold>: Assemble system matrix ...</p><p style=\"line-height:120%\">00:01 <bold>L2ProductP1</bold>: Integrate the products of the shape functions on each element</p><p style=\"line-height:120%\">00:01 <bold>L2ProductP1</bold>: Determine global dofs ...</p><p style=\"line-height:120%\">00:01 <bold>L2ProductP1</bold>: Boundary treatment ...</p><p style=\"line-height:120%\">00:01 <bold>L2ProductP1</bold>: Assemble system matrix ...</p><p style=\"line-height:120%\">00:01 <bold>DiffusionOperatorP1</bold>: Calulate gradients of shape functions transformed by reference map ...</p><p style=\"line-height:120%\">00:01 <bold>DiffusionOperatorP1</bold>: Calculate all local scalar products between gradients ...</p><p style=\"line-height:120%\">00:01 <bold>DiffusionOperatorP1</bold>: Determine global dofs ...</p><p style=\"line-height:120%\">00:01 <bold>DiffusionOperatorP1</bold>: Boundary treatment ...</p><p style=\"line-height:120%\">00:01 <bold>DiffusionOperatorP1</bold>: Assemble system matrix ...</p>"
      }
     },
     "7a0d8afb21df4d389677cea72d6399b5": {
      "model_module": "@jupyter-widgets/controls",
      "model_module_version": "1.5.0",
      "model_name": "HTMLModel",
      "state": {
       "_dom_classes": [],
       "_model_module": "@jupyter-widgets/controls",
       "_model_module_version": "1.5.0",
       "_model_name": "HTMLModel",
       "_view_count": null,
       "_view_module": "@jupyter-widgets/controls",
       "_view_module_version": "1.5.0",
       "_view_name": "HTMLView",
       "description": "",
       "description_tooltip": null,
       "layout": "IPY_MODEL_047a6220d04d45f4b8eb4dd61321894a",
       "placeholder": "​",
       "style": "IPY_MODEL_f333a280ebf844b5ad2c82c0dc6f639a",
       "value": ""
      }
     },
     "81707f0cb6aa419c9c4dbfee99dbc07f": {
      "model_module": "@jupyter-widgets/controls",
      "model_module_version": "1.5.0",
      "model_name": "AccordionModel",
      "state": {
       "_dom_classes": [],
       "_model_module": "@jupyter-widgets/controls",
       "_model_module_version": "1.5.0",
       "_model_name": "AccordionModel",
       "_titles": {
        "0": "Log Output"
       },
       "_view_count": null,
       "_view_module": "@jupyter-widgets/controls",
       "_view_module_version": "1.5.0",
       "_view_name": "AccordionView",
       "box_style": "",
       "children": [
        "IPY_MODEL_7703cbe8f7244e638a152b00df987fc9"
       ],
       "layout": "IPY_MODEL_471109cf81b64611af8c0bc342cec89a",
       "selected_index": null
      }
     },
     "83f0cd2582514d0e931063f29d3207d2": {
      "model_module": "@jupyter-widgets/base",
      "model_module_version": "1.2.0",
      "model_name": "LayoutModel",
      "state": {
       "_model_module": "@jupyter-widgets/base",
       "_model_module_version": "1.2.0",
       "_model_name": "LayoutModel",
       "_view_count": null,
       "_view_module": "@jupyter-widgets/base",
       "_view_module_version": "1.2.0",
       "_view_name": "LayoutView",
       "align_content": null,
       "align_items": null,
       "align_self": null,
       "border": null,
       "bottom": null,
       "display": null,
       "flex": null,
       "flex_flow": null,
       "grid_area": null,
       "grid_auto_columns": null,
       "grid_auto_flow": null,
       "grid_auto_rows": null,
       "grid_column": null,
       "grid_gap": null,
       "grid_row": null,
       "grid_template_areas": null,
       "grid_template_columns": null,
       "grid_template_rows": null,
       "height": null,
       "justify_content": null,
       "justify_items": null,
       "left": null,
       "margin": null,
       "max_height": null,
       "max_width": null,
       "min_height": null,
       "min_width": null,
       "object_fit": null,
       "object_position": null,
       "order": null,
       "overflow": null,
       "overflow_x": null,
       "overflow_y": null,
       "padding": null,
       "right": null,
       "top": null,
       "visibility": null,
       "width": null
      }
     },
     "89971722c27a4281be89c57641dcde65": {
      "model_module": "@jupyter-widgets/controls",
      "model_module_version": "1.5.0",
      "model_name": "DescriptionStyleModel",
      "state": {
       "_model_module": "@jupyter-widgets/controls",
       "_model_module_version": "1.5.0",
       "_model_name": "DescriptionStyleModel",
       "_view_count": null,
       "_view_module": "@jupyter-widgets/base",
       "_view_module_version": "1.2.0",
       "_view_name": "StyleView",
       "description_width": ""
      }
     },
     "8a4d622f62944ec89ad7a04500d05dc8": {
      "model_module": "@jupyter-widgets/controls",
      "model_module_version": "1.5.0",
      "model_name": "HTMLModel",
      "state": {
       "_dom_classes": [],
       "_model_module": "@jupyter-widgets/controls",
       "_model_module_version": "1.5.0",
       "_model_name": "HTMLModel",
       "_view_count": null,
       "_view_module": "@jupyter-widgets/controls",
       "_view_module_version": "1.5.0",
       "_view_name": "HTMLView",
       "description": "",
       "description_tooltip": null,
       "layout": "IPY_MODEL_2895c89c723c43f5a3399dacfa76c361",
       "placeholder": "​",
       "style": "IPY_MODEL_89971722c27a4281be89c57641dcde65",
       "value": ""
      }
     },
     "8b204612fb8e46a98e160ad0dfbc7721": {
      "model_module": "@jupyter-widgets/base",
      "model_module_version": "1.2.0",
      "model_name": "LayoutModel",
      "state": {
       "_model_module": "@jupyter-widgets/base",
       "_model_module_version": "1.2.0",
       "_model_name": "LayoutModel",
       "_view_count": null,
       "_view_module": "@jupyter-widgets/base",
       "_view_module_version": "1.2.0",
       "_view_name": "LayoutView",
       "align_content": null,
       "align_items": null,
       "align_self": null,
       "border": null,
       "bottom": null,
       "display": null,
       "flex": null,
       "flex_flow": null,
       "grid_area": null,
       "grid_auto_columns": null,
       "grid_auto_flow": null,
       "grid_auto_rows": null,
       "grid_column": null,
       "grid_gap": null,
       "grid_row": null,
       "grid_template_areas": null,
       "grid_template_columns": null,
       "grid_template_rows": null,
       "height": null,
       "justify_content": null,
       "justify_items": null,
       "left": null,
       "margin": null,
       "max_height": null,
       "max_width": null,
       "min_height": null,
       "min_width": null,
       "object_fit": null,
       "object_position": null,
       "order": null,
       "overflow": null,
       "overflow_x": null,
       "overflow_y": null,
       "padding": null,
       "right": null,
       "top": null,
       "visibility": null,
       "width": null
      }
     },
     "8fbc957b3e594e65a0dea0669ff4d71f": {
      "model_module": "@jupyter-widgets/controls",
      "model_module_version": "1.5.0",
      "model_name": "AccordionModel",
      "state": {
       "_dom_classes": [],
       "_model_module": "@jupyter-widgets/controls",
       "_model_module_version": "1.5.0",
       "_model_name": "AccordionModel",
       "_titles": {
        "0": "Log Output"
       },
       "_view_count": null,
       "_view_module": "@jupyter-widgets/controls",
       "_view_module_version": "1.5.0",
       "_view_name": "AccordionView",
       "box_style": "",
       "children": [
        "IPY_MODEL_aabd24c857234750871408b32e27961f"
       ],
       "layout": "IPY_MODEL_0aaa274a02934e90a8ddc76b0397f402",
       "selected_index": null
      }
     },
     "912e3675e9694d57b78e80ef5afcc8e0": {
      "model_module": "@jupyter-widgets/base",
      "model_module_version": "1.2.0",
      "model_name": "LayoutModel",
      "state": {
       "_model_module": "@jupyter-widgets/base",
       "_model_module_version": "1.2.0",
       "_model_name": "LayoutModel",
       "_view_count": null,
       "_view_module": "@jupyter-widgets/base",
       "_view_module_version": "1.2.0",
       "_view_name": "LayoutView",
       "align_content": null,
       "align_items": null,
       "align_self": null,
       "border": null,
       "bottom": null,
       "display": null,
       "flex": null,
       "flex_flow": null,
       "grid_area": null,
       "grid_auto_columns": null,
       "grid_auto_flow": null,
       "grid_auto_rows": null,
       "grid_column": null,
       "grid_gap": null,
       "grid_row": null,
       "grid_template_areas": null,
       "grid_template_columns": null,
       "grid_template_rows": null,
       "height": "16em",
       "justify_content": null,
       "justify_items": null,
       "left": null,
       "margin": null,
       "max_height": null,
       "max_width": null,
       "min_height": null,
       "min_width": null,
       "object_fit": null,
       "object_position": null,
       "order": null,
       "overflow": null,
       "overflow_x": null,
       "overflow_y": "auto",
       "padding": null,
       "right": null,
       "top": null,
       "visibility": null,
       "width": "100%"
      }
     },
     "92098fb180fa4b48a938ecb2824d2513": {
      "model_module": "@jupyter-widgets/base",
      "model_module_version": "1.2.0",
      "model_name": "LayoutModel",
      "state": {
       "_model_module": "@jupyter-widgets/base",
       "_model_module_version": "1.2.0",
       "_model_name": "LayoutModel",
       "_view_count": null,
       "_view_module": "@jupyter-widgets/base",
       "_view_module_version": "1.2.0",
       "_view_name": "LayoutView",
       "align_content": null,
       "align_items": null,
       "align_self": null,
       "border": null,
       "bottom": null,
       "display": null,
       "flex": null,
       "flex_flow": null,
       "grid_area": null,
       "grid_auto_columns": null,
       "grid_auto_flow": null,
       "grid_auto_rows": null,
       "grid_column": null,
       "grid_gap": null,
       "grid_row": null,
       "grid_template_areas": null,
       "grid_template_columns": null,
       "grid_template_rows": null,
       "height": "16em",
       "justify_content": null,
       "justify_items": null,
       "left": null,
       "margin": null,
       "max_height": null,
       "max_width": null,
       "min_height": null,
       "min_width": null,
       "object_fit": null,
       "object_position": null,
       "order": null,
       "overflow": null,
       "overflow_x": null,
       "overflow_y": "auto",
       "padding": null,
       "right": null,
       "top": null,
       "visibility": null,
       "width": "100%"
      }
     },
     "9893af4bcbda4bb68a1bed1bee79477e": {
      "model_module": "@jupyter-widgets/base",
      "model_module_version": "1.2.0",
      "model_name": "LayoutModel",
      "state": {
       "_model_module": "@jupyter-widgets/base",
       "_model_module_version": "1.2.0",
       "_model_name": "LayoutModel",
       "_view_count": null,
       "_view_module": "@jupyter-widgets/base",
       "_view_module_version": "1.2.0",
       "_view_name": "LayoutView",
       "align_content": null,
       "align_items": null,
       "align_self": null,
       "border": null,
       "bottom": null,
       "display": null,
       "flex": null,
       "flex_flow": null,
       "grid_area": null,
       "grid_auto_columns": null,
       "grid_auto_flow": null,
       "grid_auto_rows": null,
       "grid_column": null,
       "grid_gap": null,
       "grid_row": null,
       "grid_template_areas": null,
       "grid_template_columns": null,
       "grid_template_rows": null,
       "height": null,
       "justify_content": null,
       "justify_items": null,
       "left": null,
       "margin": null,
       "max_height": null,
       "max_width": null,
       "min_height": null,
       "min_width": null,
       "object_fit": null,
       "object_position": null,
       "order": null,
       "overflow": null,
       "overflow_x": null,
       "overflow_y": null,
       "padding": null,
       "right": null,
       "top": null,
       "visibility": null,
       "width": null
      }
     },
     "9c52488609c74d97ab4bf67dcfe59143": {
      "model_module": "@jupyter-widgets/base",
      "model_module_version": "1.2.0",
      "model_name": "LayoutModel",
      "state": {
       "_model_module": "@jupyter-widgets/base",
       "_model_module_version": "1.2.0",
       "_model_name": "LayoutModel",
       "_view_count": null,
       "_view_module": "@jupyter-widgets/base",
       "_view_module_version": "1.2.0",
       "_view_name": "LayoutView",
       "align_content": null,
       "align_items": null,
       "align_self": null,
       "border": null,
       "bottom": null,
       "display": null,
       "flex": null,
       "flex_flow": null,
       "grid_area": null,
       "grid_auto_columns": null,
       "grid_auto_flow": null,
       "grid_auto_rows": null,
       "grid_column": null,
       "grid_gap": null,
       "grid_row": null,
       "grid_template_areas": null,
       "grid_template_columns": null,
       "grid_template_rows": null,
       "height": "16em",
       "justify_content": null,
       "justify_items": null,
       "left": null,
       "margin": null,
       "max_height": null,
       "max_width": null,
       "min_height": null,
       "min_width": null,
       "object_fit": null,
       "object_position": null,
       "order": null,
       "overflow": null,
       "overflow_x": null,
       "overflow_y": "auto",
       "padding": null,
       "right": null,
       "top": null,
       "visibility": null,
       "width": "100%"
      }
     },
     "a1de07ba3a294faab30c6b1afb0ea52c": {
      "model_module": "@jupyter-widgets/controls",
      "model_module_version": "1.5.0",
      "model_name": "HTMLModel",
      "state": {
       "_dom_classes": [],
       "_model_module": "@jupyter-widgets/controls",
       "_model_module_version": "1.5.0",
       "_model_name": "HTMLModel",
       "_view_count": null,
       "_view_module": "@jupyter-widgets/controls",
       "_view_module_version": "1.5.0",
       "_view_name": "HTMLView",
       "description": "",
       "description_tooltip": null,
       "layout": "IPY_MODEL_6ab932a1617147d9905f8b7a71753cfe",
       "placeholder": "​",
       "style": "IPY_MODEL_37359c7349ae4bc0a7e8f4aabe78c990",
       "value": "<p style=\"line-height:120%\">00:01 <bold>CoerciveRBReductor</bold>: Operator projection ...</p><p style=\"line-height:120%\">00:01 <bold>CoerciveRBReductor</bold>: Assembling error estimator ...</p><p style=\"line-height:120%\">00:01 |   <bold>ResidualReductor</bold>: Estimating residual range ...</p><p style=\"line-height:120%\">00:01 |   <bold>ResidualReductor</bold>: Projecting residual operator ...</p><p style=\"line-height:120%\">00:01 <bold>CoerciveRBReductor</bold>: Building ROM ...</p><p style=\"line-height:120%\">00:03 <bold>StationaryModel</bold>: Solving ThermalBlock((3, 2))_CG for {diffusion: [0.1, 0.1, 0.1, 0.1, 0.1, 0.1]} ...</p><p style=\"line-height:120%\">00:03 <bold>CoerciveRBReductor</bold>: Operator projection ...</p><p style=\"line-height:120%\">00:03 <bold>CoerciveRBReductor</bold>: Assembling error estimator ...</p><p style=\"line-height:120%\">00:03 |   <bold>ResidualReductor</bold>: Estimating residual range ...</p><p style=\"line-height:120%\">00:03 |   <bold>ResidualReductor</bold>: Projecting residual operator ...</p><p style=\"line-height:120%\">00:03 <bold>CoerciveRBReductor</bold>: Building ROM ...</p><p style=\"line-height:120%\">00:05 <bold>StationaryModel</bold>: Solving ThermalBlock((3, 2))_CG for {diffusion: [0.1, 0.1, 0.1, 0.1, 0.1, 1.0]} ...</p><p style=\"line-height:120%\">00:05 <bold>CoerciveRBReductor</bold>: Operator projection ...</p><p style=\"line-height:120%\">00:05 <bold>CoerciveRBReductor</bold>: Assembling error estimator ...</p><p style=\"line-height:120%\">00:05 |   <bold>ResidualReductor</bold>: Estimating residual range ...</p><p style=\"line-height:120%\">00:05 |   <bold>ResidualReductor</bold>: Projecting residual operator ...</p><p style=\"line-height:120%\">00:05 <bold>CoerciveRBReductor</bold>: Building ROM ...</p><p style=\"line-height:120%\">00:08 <bold>StationaryModel</bold>: Solving ThermalBlock((3, 2))_CG for {diffusion: [0.1, 0.1, 1.0, 0.1, 0.1, 0.1]} ...</p><p style=\"line-height:120%\">00:08 <bold>CoerciveRBReductor</bold>: Operator projection ...</p><p style=\"line-height:120%\">00:08 <bold>CoerciveRBReductor</bold>: Assembling error estimator ...</p><p style=\"line-height:120%\">00:08 |   <bold>ResidualReductor</bold>: Estimating residual range ...</p><p style=\"line-height:120%\">00:08 |   <bold>ResidualReductor</bold>: Projecting residual operator ...</p><p style=\"line-height:120%\">00:08 <bold>CoerciveRBReductor</bold>: Building ROM ...</p><p style=\"line-height:120%\">00:10 <bold>StationaryModel</bold>: Solving ThermalBlock((3, 2))_CG for {diffusion: [0.1, 0.1, 1.0, 0.1, 0.1, 1.0]} ...</p><p style=\"line-height:120%\">00:10 <bold>CoerciveRBReductor</bold>: Operator projection ...</p><p style=\"line-height:120%\">00:10 <bold>CoerciveRBReductor</bold>: Assembling error estimator ...</p><p style=\"line-height:120%\">00:10 |   <bold>ResidualReductor</bold>: Estimating residual range ...</p><p style=\"line-height:120%\">00:10 |   <bold>ResidualReductor</bold>: Projecting residual operator ...</p><p style=\"line-height:120%\">00:10 <bold>CoerciveRBReductor</bold>: Building ROM ...</p><p style=\"line-height:120%\">00:12 <bold>StationaryModel</bold>: Solving ThermalBlock((3, 2))_CG for {diffusion: [0.1, 1.0, 0.1, 0.1, 0.1, 0.1]} ...</p><p style=\"line-height:120%\">00:12 <bold>CoerciveRBReductor</bold>: Operator projection ...</p><p style=\"line-height:120%\">00:12 <bold>CoerciveRBReductor</bold>: Assembling error estimator ...</p><p style=\"line-height:120%\">00:12 |   <bold>ResidualReductor</bold>: Estimating residual range ...</p><p style=\"line-height:120%\">00:12 |   <bold>ResidualReductor</bold>: Projecting residual operator ...</p><p style=\"line-height:120%\">00:12 <bold>CoerciveRBReductor</bold>: Building ROM ...</p><p style=\"line-height:120%\">00:14 <bold>StationaryModel</bold>: Solving ThermalBlock((3, 2))_CG for {diffusion: [0.1, 1.0, 1.0, 0.1, 0.1, 0.1]} ...</p><p style=\"line-height:120%\">00:14 <bold>CoerciveRBReductor</bold>: Operator projection ...</p><p style=\"line-height:120%\">00:14 <bold>CoerciveRBReductor</bold>: Assembling error estimator ...</p><p style=\"line-height:120%\">00:14 |   <bold>ResidualReductor</bold>: Estimating residual range ...</p><p style=\"line-height:120%\">00:14 |   <bold>ResidualReductor</bold>: Projecting residual operator ...</p><p style=\"line-height:120%\">00:14 <bold>CoerciveRBReductor</bold>: Building ROM ...</p><p style=\"line-height:120%\">00:17 <bold>StationaryModel</bold>: Solving ThermalBlock((3, 2))_CG for {diffusion: [0.1, 0.1, 0.1, 0.1, 1.0, 0.1]} ...</p><p style=\"line-height:120%\">00:17 <bold>CoerciveRBReductor</bold>: Operator projection ...</p><p style=\"line-height:120%\">00:17 <bold>CoerciveRBReductor</bold>: Assembling error estimator ...</p><p style=\"line-height:120%\">00:17 |   <bold>ResidualReductor</bold>: Estimating residual range ...</p><p style=\"line-height:120%\">00:17 |   <bold>ResidualReductor</bold>: Projecting residual operator ...</p><p style=\"line-height:120%\">00:17 <bold>CoerciveRBReductor</bold>: Building ROM ...</p><p style=\"line-height:120%\">00:19 <bold>StationaryModel</bold>: Solving ThermalBlock((3, 2))_CG for {diffusion: [0.1, 0.1, 0.1, 0.1, 1.0, 1.0]} ...</p><p style=\"line-height:120%\">00:19 <bold>CoerciveRBReductor</bold>: Operator projection ...</p><p style=\"line-height:120%\">00:19 <bold>CoerciveRBReductor</bold>: Assembling error estimator ...</p><p style=\"line-height:120%\">00:19 |   <bold>ResidualReductor</bold>: Estimating residual range ...</p><p style=\"line-height:120%\">00:19 |   <bold>ResidualReductor</bold>: Projecting residual operator ...</p><p style=\"line-height:120%\">00:19 <bold>CoerciveRBReductor</bold>: Building ROM ...</p><p style=\"line-height:120%\">00:21 <bold>StationaryModel</bold>: Solving ThermalBlock((3, 2))_CG for {diffusion: [0.1, 0.1, 0.1, 1.0, 1.0, 0.1]} ...</p><p style=\"line-height:120%\">00:21 <bold>CoerciveRBReductor</bold>: Operator projection ...</p><p style=\"line-height:120%\">00:21 <bold>CoerciveRBReductor</bold>: Assembling error estimator ...</p><p style=\"line-height:120%\">00:21 |   <bold>ResidualReductor</bold>: Estimating residual range ...</p><p style=\"line-height:120%\">00:21 |   <bold>ResidualReductor</bold>: Projecting residual operator ...</p><p style=\"line-height:120%\">00:21 <bold>CoerciveRBReductor</bold>: Building ROM ...</p><p style=\"line-height:120%\">00:24 <bold>StationaryModel</bold>: Solving ThermalBlock((3, 2))_CG for {diffusion: [1.0, 1.0, 0.1, 0.1, 0.1, 0.1]} ...</p><p style=\"line-height:120%\">00:24 <bold>CoerciveRBReductor</bold>: Operator projection ...</p><p style=\"line-height:120%\">00:24 <bold>CoerciveRBReductor</bold>: Assembling error estimator ...</p><p style=\"line-height:120%\">00:24 |   <bold>ResidualReductor</bold>: Estimating residual range ...</p><p style=\"line-height:120%\">00:24 |   <bold>ResidualReductor</bold>: Projecting residual operator ...</p><p style=\"line-height:120%\">00:24 <bold>CoerciveRBReductor</bold>: Building ROM ...</p><p style=\"line-height:120%\">00:26 <bold>StationaryModel</bold>: Solving ThermalBlock((3, 2))_CG for {diffusion: [1.0, 0.1, 0.1, 1.0, 0.1, 0.1]} ...</p><p style=\"line-height:120%\">00:26 <bold>CoerciveRBReductor</bold>: Operator projection ...</p><p style=\"line-height:120%\">00:26 <bold>CoerciveRBReductor</bold>: Assembling error estimator ...</p><p style=\"line-height:120%\">00:26 |   <bold>ResidualReductor</bold>: Estimating residual range ...</p><p style=\"line-height:120%\">00:26 |   <bold>ResidualReductor</bold>: Projecting residual operator ...</p><p style=\"line-height:120%\">00:26 <bold>CoerciveRBReductor</bold>: Building ROM ...</p><p style=\"line-height:120%\">00:28 <bold>StationaryModel</bold>: Solving ThermalBlock((3, 2))_CG for {diffusion: [0.1, 1.0, 0.1, 1.0, 0.1, 1.0]} ...</p><p style=\"line-height:120%\">00:29 <bold>CoerciveRBReductor</bold>: Operator projection ...</p><p style=\"line-height:120%\">00:29 <bold>CoerciveRBReductor</bold>: Assembling error estimator ...</p><p style=\"line-height:120%\">00:29 |   <bold>ResidualReductor</bold>: Estimating residual range ...</p><p style=\"line-height:120%\">00:29 |   <bold>ResidualReductor</bold>: Projecting residual operator ...</p><p style=\"line-height:120%\">00:29 <bold>CoerciveRBReductor</bold>: Building ROM ...</p><p style=\"line-height:120%\">00:31 <bold>StationaryModel</bold>: Solving ThermalBlock((3, 2))_CG for {diffusion: [1.0, 0.1, 1.0, 0.1, 1.0, 0.1]} ...</p><p style=\"line-height:120%\">00:31 <bold>CoerciveRBReductor</bold>: Operator projection ...</p><p style=\"line-height:120%\">00:31 <bold>CoerciveRBReductor</bold>: Assembling error estimator ...</p><p style=\"line-height:120%\">00:31 |   <bold>ResidualReductor</bold>: Estimating residual range ...</p><p style=\"line-height:120%\">00:31 |   <bold>ResidualReductor</bold>: Projecting residual operator ...</p><p style=\"line-height:120%\">00:31 <bold>CoerciveRBReductor</bold>: Building ROM ...</p><p style=\"line-height:120%\">00:33 <bold>StationaryModel</bold>: Solving ThermalBlock((3, 2))_CG for {diffusion: [0.1, 1.0, 1.0, 0.1, 1.0, 0.1]} ...</p><p style=\"line-height:120%\">00:33 <bold>CoerciveRBReductor</bold>: Operator projection ...</p><p style=\"line-height:120%\">00:33 <bold>CoerciveRBReductor</bold>: Assembling error estimator ...</p><p style=\"line-height:120%\">00:33 |   <bold>ResidualReductor</bold>: Estimating residual range ...</p><p style=\"line-height:120%\">00:33 |   <bold>ResidualReductor</bold>: Projecting residual operator ...</p><p style=\"line-height:120%\">00:33 <bold>CoerciveRBReductor</bold>: Building ROM ...</p><p style=\"line-height:120%\">00:36 <bold>StationaryModel</bold>: Solving ThermalBlock((3, 2))_CG for {diffusion: [1.0, 1.0, 0.1, 1.0, 0.1, 1.0]} ...</p><p style=\"line-height:120%\">00:36 <bold>CoerciveRBReductor</bold>: Operator projection ...</p><p style=\"line-height:120%\">00:36 <bold>CoerciveRBReductor</bold>: Assembling error estimator ...</p><p style=\"line-height:120%\">00:36 |   <bold>ResidualReductor</bold>: Estimating residual range ...</p><p style=\"line-height:120%\">00:36 |   <bold>ResidualReductor</bold>: Projecting residual operator ...</p><p style=\"line-height:120%\">00:36 <bold>CoerciveRBReductor</bold>: Building ROM ...</p><p style=\"line-height:120%\">00:38 <bold>StationaryModel</bold>: Solving ThermalBlock((3, 2))_CG for {diffusion: [1.0, 0.1, 0.1, 1.0, 1.0, 0.1]} ...</p><p style=\"line-height:120%\">00:38 <bold>CoerciveRBReductor</bold>: Operator projection ...</p><p style=\"line-height:120%\">00:38 <bold>CoerciveRBReductor</bold>: Assembling error estimator ...</p><p style=\"line-height:120%\">00:38 |   <bold>ResidualReductor</bold>: Estimating residual range ...</p><p style=\"line-height:120%\">00:38 |   <bold>ResidualReductor</bold>: Projecting residual operator ...</p><p style=\"line-height:120%\">00:38 <bold>CoerciveRBReductor</bold>: Building ROM ...</p><p style=\"line-height:120%\">00:41 <bold>StationaryModel</bold>: Solving ThermalBlock((3, 2))_CG for {diffusion: [0.1, 1.0, 1.0, 1.0, 0.1, 0.1]} ...</p><p style=\"line-height:120%\">00:41 <bold>CoerciveRBReductor</bold>: Operator projection ...</p><p style=\"line-height:120%\">00:41 <bold>CoerciveRBReductor</bold>: Assembling error estimator ...</p><p style=\"line-height:120%\">00:41 |   <bold>ResidualReductor</bold>: Estimating residual range ...</p><p style=\"line-height:120%\">00:41 |   <bold>ResidualReductor</bold>: Projecting residual operator ...</p><p style=\"line-height:120%\">00:41 <bold>CoerciveRBReductor</bold>: Building ROM ...</p><p style=\"line-height:120%\">00:43 <bold>StationaryModel</bold>: Solving ThermalBlock((3, 2))_CG for {diffusion: [1.0, 1.0, 0.1, 0.1, 1.0, 1.0]} ...</p><p style=\"line-height:120%\">00:43 <bold>CoerciveRBReductor</bold>: Operator projection ...</p><p style=\"line-height:120%\">00:43 <bold>CoerciveRBReductor</bold>: Assembling error estimator ...</p><p style=\"line-height:120%\">00:43 |   <bold>ResidualReductor</bold>: Estimating residual range ...</p><p style=\"line-height:120%\">00:43 |   <bold>ResidualReductor</bold>: Projecting residual operator ...</p><p style=\"line-height:120%\">00:43 <bold>CoerciveRBReductor</bold>: Building ROM ...</p><p style=\"line-height:120%\">00:46 <bold>StationaryModel</bold>: Solving ThermalBlock((3, 2))_CG for {diffusion: [1.0, 1.0, 1.0, 1.0, 1.0, 0.1]} ...</p><p style=\"line-height:120%\">00:46 <bold>CoerciveRBReductor</bold>: Operator projection ...</p><p style=\"line-height:120%\">00:46 <bold>CoerciveRBReductor</bold>: Assembling error estimator ...</p><p style=\"line-height:120%\">00:46 |   <bold>ResidualReductor</bold>: Estimating residual range ...</p><p style=\"line-height:120%\">00:46 |   <bold>ResidualReductor</bold>: Projecting residual operator ...</p><p style=\"line-height:120%\">00:46 <bold>CoerciveRBReductor</bold>: Building ROM ...</p><p style=\"line-height:120%\">00:48 <bold>StationaryModel</bold>: Solving ThermalBlock((3, 2))_CG for {diffusion: [1.0, 1.0, 1.0, 0.1, 0.1, 1.0]} ...</p><p style=\"line-height:120%\">00:48 <bold>CoerciveRBReductor</bold>: Operator projection ...</p><p style=\"line-height:120%\">00:48 <bold>CoerciveRBReductor</bold>: Assembling error estimator ...</p><p style=\"line-height:120%\">00:48 |   <bold>ResidualReductor</bold>: Estimating residual range ...</p><p style=\"line-height:120%\">00:48 |   <bold>ResidualReductor</bold>: Projecting residual operator ...</p><p style=\"line-height:120%\">00:48 <bold>CoerciveRBReductor</bold>: Building ROM ...</p><p style=\"line-height:120%\">00:51 <bold>StationaryModel</bold>: Solving ThermalBlock((3, 2))_CG for {diffusion: [0.1, 0.1, 1.0, 0.1, 1.0, 1.0]} ...</p><p style=\"line-height:120%\">00:51 <bold>CoerciveRBReductor</bold>: Operator projection ...</p><p style=\"line-height:120%\">00:51 <bold>CoerciveRBReductor</bold>: Assembling error estimator ...</p><p style=\"line-height:120%\">00:51 |   <bold>ResidualReductor</bold>: Estimating residual range ...</p><p style=\"line-height:120%\">00:51 |   <bold>ResidualReductor</bold>: Projecting residual operator ...</p><p style=\"line-height:120%\">00:51 <bold>CoerciveRBReductor</bold>: Building ROM ...</p><p style=\"line-height:120%\">00:53 <bold>StationaryModel</bold>: Solving ThermalBlock((3, 2))_CG for {diffusion: [0.1, 1.0, 0.1, 1.0, 1.0, 0.1]} ...</p><p style=\"line-height:120%\">00:53 <bold>CoerciveRBReductor</bold>: Operator projection ...</p><p style=\"line-height:120%\">00:53 <bold>CoerciveRBReductor</bold>: Assembling error estimator ...</p><p style=\"line-height:120%\">00:53 |   <bold>ResidualReductor</bold>: Estimating residual range ...</p><p style=\"line-height:120%\">00:54 |   <bold>ResidualReductor</bold>: Projecting residual operator ...</p><p style=\"line-height:120%\">00:54 <bold>CoerciveRBReductor</bold>: Building ROM ...</p><p style=\"line-height:120%\">00:56 <bold>StationaryModel</bold>: Solving ThermalBlock((3, 2))_CG for {diffusion: [1.0, 0.1, 1.0, 1.0, 0.1, 1.0]} ...</p><p style=\"line-height:120%\">00:56 <bold>CoerciveRBReductor</bold>: Operator projection ...</p><p style=\"line-height:120%\">00:56 <bold>CoerciveRBReductor</bold>: Assembling error estimator ...</p><p style=\"line-height:120%\">00:56 |   <bold>ResidualReductor</bold>: Estimating residual range ...</p><p style=\"line-height:120%\">00:56 |   <bold>ResidualReductor</bold>: Projecting residual operator ...</p><p style=\"line-height:120%\">00:56 <bold>CoerciveRBReductor</bold>: Building ROM ...</p><p style=\"line-height:120%\">00:58 <bold>StationaryModel</bold>: Solving ThermalBlock((3, 2))_CG for {diffusion: [0.1, 1.0, 0.1, 1.0, 1.0, 1.0]} ...</p><p style=\"line-height:120%\">00:59 <bold>CoerciveRBReductor</bold>: Operator projection ...</p><p style=\"line-height:120%\">00:59 <bold>CoerciveRBReductor</bold>: Assembling error estimator ...</p><p style=\"line-height:120%\">00:59 |   <bold>ResidualReductor</bold>: Estimating residual range ...</p><p style=\"line-height:120%\">00:59 |   <bold>ResidualReductor</bold>: Projecting residual operator ...</p><p style=\"line-height:120%\">00:59 <bold>CoerciveRBReductor</bold>: Building ROM ...</p><p style=\"line-height:120%\">01:01 <bold>StationaryModel</bold>: Solving ThermalBlock((3, 2))_CG for {diffusion: [1.0, 0.1, 0.1, 0.1, 0.4, 0.1]} ...</p><p style=\"line-height:120%\">01:01 <bold>CoerciveRBReductor</bold>: Operator projection ...</p><p style=\"line-height:120%\">01:01 <bold>CoerciveRBReductor</bold>: Assembling error estimator ...</p><p style=\"line-height:120%\">01:01 |   <bold>ResidualReductor</bold>: Estimating residual range ...</p><p style=\"line-height:120%\">01:01 |   <bold>ResidualReductor</bold>: Projecting residual operator ...</p><p style=\"line-height:120%\">01:02 <bold>CoerciveRBReductor</bold>: Building ROM ...</p><p style=\"line-height:120%\">01:04 <bold>StationaryModel</bold>: Solving ThermalBlock((3, 2))_CG for {diffusion: [0.1, 0.4, 0.1, 1.0, 0.1, 0.1]} ...</p><p style=\"line-height:120%\">01:04 <bold>CoerciveRBReductor</bold>: Operator projection ...</p><p style=\"line-height:120%\">01:04 <bold>CoerciveRBReductor</bold>: Assembling error estimator ...</p><p style=\"line-height:120%\">01:04 |   <bold>ResidualReductor</bold>: Estimating residual range ...</p><p style=\"line-height:120%\">01:04 |   <bold>ResidualReductor</bold>: Projecting residual operator ...</p><p style=\"line-height:120%\">01:04 <bold>CoerciveRBReductor</bold>: Building ROM ...</p><p style=\"line-height:120%\">01:07 <bold>StationaryModel</bold>: Solving ThermalBlock((3, 2))_CG for {diffusion: [0.1, 0.4, 1.0, 0.1, 0.4, 1.0]} ...</p><p style=\"line-height:120%\">01:07 <bold>CoerciveRBReductor</bold>: Operator projection ...</p><p style=\"line-height:120%\">01:07 <bold>CoerciveRBReductor</bold>: Assembling error estimator ...</p><p style=\"line-height:120%\">01:07 |   <bold>ResidualReductor</bold>: Estimating residual range ...</p><p style=\"line-height:120%\">01:07 |   <bold>ResidualReductor</bold>: Projecting residual operator ...</p><p style=\"line-height:120%\">01:07 <bold>CoerciveRBReductor</bold>: Building ROM ...</p><p style=\"line-height:120%\">01:09 <bold>StationaryModel</bold>: Solving ThermalBlock((3, 2))_CG for {diffusion: [0.1, 0.4, 1.0, 1.0, 0.4, 0.1]} ...</p><p style=\"line-height:120%\">01:09 <bold>CoerciveRBReductor</bold>: Operator projection ...</p><p style=\"line-height:120%\">01:09 <bold>CoerciveRBReductor</bold>: Assembling error estimator ...</p><p style=\"line-height:120%\">01:09 |   <bold>ResidualReductor</bold>: Estimating residual range ...</p><p style=\"line-height:120%\">01:10 |   <bold>ResidualReductor</bold>: Projecting residual operator ...</p><p style=\"line-height:120%\">01:10 <bold>CoerciveRBReductor</bold>: Building ROM ...</p><p style=\"line-height:120%\">01:12 <bold>StationaryModel</bold>: Solving ThermalBlock((3, 2))_CG for {diffusion: [0.1, 1.0, 1.0, 0.4, 0.1, 1.0]} ...</p><p style=\"line-height:120%\">01:12 <bold>CoerciveRBReductor</bold>: Operator projection ...</p><p style=\"line-height:120%\">01:12 <bold>CoerciveRBReductor</bold>: Assembling error estimator ...</p><p style=\"line-height:120%\">01:12 |   <bold>ResidualReductor</bold>: Estimating residual range ...</p><p style=\"line-height:120%\">01:13 |   <bold>ResidualReductor</bold>: Projecting residual operator ...</p><p style=\"line-height:120%\">01:13 <bold>CoerciveRBReductor</bold>: Building ROM ...</p><p style=\"line-height:120%\">01:15 <bold>StationaryModel</bold>: Solving ThermalBlock((3, 2))_CG for {diffusion: [0.1, 0.4, 0.1, 1.0, 1.0, 1.0]} ...</p><p style=\"line-height:120%\">01:15 <bold>CoerciveRBReductor</bold>: Operator projection ...</p><p style=\"line-height:120%\">01:15 <bold>CoerciveRBReductor</bold>: Assembling error estimator ...</p><p style=\"line-height:120%\">01:15 |   <bold>ResidualReductor</bold>: Estimating residual range ...</p><p style=\"line-height:120%\">01:15 |   <bold>ResidualReductor</bold>: Projecting residual operator ...</p><p style=\"line-height:120%\">01:15 <bold>CoerciveRBReductor</bold>: Building ROM ...</p><p style=\"line-height:120%\">01:18 <bold>StationaryModel</bold>: Solving ThermalBlock((3, 2))_CG for {diffusion: [1.0, 0.4, 0.1, 0.1, 0.4, 1.0]} ...</p><p style=\"line-height:120%\">01:18 <bold>CoerciveRBReductor</bold>: Operator projection ...</p><p style=\"line-height:120%\">01:18 <bold>CoerciveRBReductor</bold>: Assembling error estimator ...</p><p style=\"line-height:120%\">01:18 |   <bold>ResidualReductor</bold>: Estimating residual range ...</p><p style=\"line-height:120%\">01:18 |   <bold>ResidualReductor</bold>: Projecting residual operator ...</p><p style=\"line-height:120%\">01:18 <bold>CoerciveRBReductor</bold>: Building ROM ...</p><p style=\"line-height:120%\">01:21 <bold>StationaryModel</bold>: Solving ThermalBlock((3, 2))_CG for {diffusion: [1.0, 0.1, 1.0, 0.1, 0.1, 0.1]} ...</p><p style=\"line-height:120%\">01:21 <bold>CoerciveRBReductor</bold>: Operator projection ...</p><p style=\"line-height:120%\">01:21 <bold>CoerciveRBReductor</bold>: Assembling error estimator ...</p><p style=\"line-height:120%\">01:21 |   <bold>ResidualReductor</bold>: Estimating residual range ...</p><p style=\"line-height:120%\">01:21 |   <bold>ResidualReductor</bold>: Projecting residual operator ...</p><p style=\"line-height:120%\">01:21 <bold>CoerciveRBReductor</bold>: Building ROM ...</p>"
      }
     },
     "a390c907e0f6429e907c96b52e805f9c": {
      "model_module": "@jupyter-widgets/controls",
      "model_module_version": "1.5.0",
      "model_name": "AccordionModel",
      "state": {
       "_dom_classes": [],
       "_model_module": "@jupyter-widgets/controls",
       "_model_module_version": "1.5.0",
       "_model_name": "AccordionModel",
       "_titles": {
        "0": "Log Output"
       },
       "_view_count": null,
       "_view_module": "@jupyter-widgets/controls",
       "_view_module_version": "1.5.0",
       "_view_name": "AccordionView",
       "box_style": "",
       "children": [
        "IPY_MODEL_7a0d8afb21df4d389677cea72d6399b5"
       ],
       "layout": "IPY_MODEL_6a44d346c6254da58b504d394a8f7beb",
       "selected_index": null
      }
     },
     "a9e1f882ebc94954a6f0de7b0c891ad9": {
      "model_module": "@jupyter-widgets/controls",
      "model_module_version": "1.5.0",
      "model_name": "HTMLModel",
      "state": {
       "_dom_classes": [],
       "_model_module": "@jupyter-widgets/controls",
       "_model_module_version": "1.5.0",
       "_model_name": "HTMLModel",
       "_view_count": null,
       "_view_module": "@jupyter-widgets/controls",
       "_view_module_version": "1.5.0",
       "_view_name": "HTMLView",
       "description": "",
       "description_tooltip": null,
       "layout": "IPY_MODEL_d2dadd442b0e4c218c8be6bfa42aa4d7",
       "placeholder": "​",
       "style": "IPY_MODEL_d630fb798a1e4c8899b24bf3a029cbfd",
       "value": ""
      }
     },
     "aabd24c857234750871408b32e27961f": {
      "model_module": "@jupyter-widgets/controls",
      "model_module_version": "1.5.0",
      "model_name": "HTMLModel",
      "state": {
       "_dom_classes": [],
       "_model_module": "@jupyter-widgets/controls",
       "_model_module_version": "1.5.0",
       "_model_name": "HTMLModel",
       "_view_count": null,
       "_view_module": "@jupyter-widgets/controls",
       "_view_module_version": "1.5.0",
       "_view_name": "HTMLView",
       "description": "",
       "description_tooltip": null,
       "layout": "IPY_MODEL_4c9bd3ddb2da4af39c1e44fbde1e913f",
       "placeholder": "​",
       "style": "IPY_MODEL_b0aa5f0ad89b4508977b8f3329ab1def",
       "value": "<p style=\"line-height:120%\">00:01 <bold>StationaryModel</bold>: Solving ThermalBlock((3, 2))_CG for {diffusion: [1.0, 0.1, 0.3, 0.1, 0.2, 1.0]} ...</p>"
      }
     },
     "ab2eeeea181b4950849308b5c9cc96ee": {
      "model_module": "@jupyter-widgets/controls",
      "model_module_version": "1.5.0",
      "model_name": "DescriptionStyleModel",
      "state": {
       "_model_module": "@jupyter-widgets/controls",
       "_model_module_version": "1.5.0",
       "_model_name": "DescriptionStyleModel",
       "_view_count": null,
       "_view_module": "@jupyter-widgets/base",
       "_view_module_version": "1.2.0",
       "_view_name": "StyleView",
       "description_width": ""
      }
     },
     "b0aa5f0ad89b4508977b8f3329ab1def": {
      "model_module": "@jupyter-widgets/controls",
      "model_module_version": "1.5.0",
      "model_name": "DescriptionStyleModel",
      "state": {
       "_model_module": "@jupyter-widgets/controls",
       "_model_module_version": "1.5.0",
       "_model_name": "DescriptionStyleModel",
       "_view_count": null,
       "_view_module": "@jupyter-widgets/base",
       "_view_module_version": "1.2.0",
       "_view_name": "StyleView",
       "description_width": ""
      }
     },
     "b0be45d5a4844e2081426d36a5bcd79e": {
      "model_module": "@jupyter-widgets/base",
      "model_module_version": "1.2.0",
      "model_name": "LayoutModel",
      "state": {
       "_model_module": "@jupyter-widgets/base",
       "_model_module_version": "1.2.0",
       "_model_name": "LayoutModel",
       "_view_count": null,
       "_view_module": "@jupyter-widgets/base",
       "_view_module_version": "1.2.0",
       "_view_name": "LayoutView",
       "align_content": null,
       "align_items": null,
       "align_self": null,
       "border": null,
       "bottom": null,
       "display": null,
       "flex": null,
       "flex_flow": null,
       "grid_area": null,
       "grid_auto_columns": null,
       "grid_auto_flow": null,
       "grid_auto_rows": null,
       "grid_column": null,
       "grid_gap": null,
       "grid_row": null,
       "grid_template_areas": null,
       "grid_template_columns": null,
       "grid_template_rows": null,
       "height": "16em",
       "justify_content": null,
       "justify_items": null,
       "left": null,
       "margin": null,
       "max_height": null,
       "max_width": null,
       "min_height": null,
       "min_width": null,
       "object_fit": null,
       "object_position": null,
       "order": null,
       "overflow": null,
       "overflow_x": null,
       "overflow_y": "auto",
       "padding": null,
       "right": null,
       "top": null,
       "visibility": null,
       "width": "100%"
      }
     },
     "b43da2746dbe4d4c9319a3986bd7d3f3": {
      "model_module": "@jupyter-widgets/controls",
      "model_module_version": "1.5.0",
      "model_name": "HTMLModel",
      "state": {
       "_dom_classes": [],
       "_model_module": "@jupyter-widgets/controls",
       "_model_module_version": "1.5.0",
       "_model_name": "HTMLModel",
       "_view_count": null,
       "_view_module": "@jupyter-widgets/controls",
       "_view_module_version": "1.5.0",
       "_view_name": "HTMLView",
       "description": "",
       "description_tooltip": null,
       "layout": "IPY_MODEL_715390155b804e1baf9e666f6855d204",
       "placeholder": "​",
       "style": "IPY_MODEL_e270219995f8407086edf31950cd7313",
       "value": ""
      }
     },
     "bcfd00576f1640e1bf0be3690929356d": {
      "model_module": "@jupyter-widgets/controls",
      "model_module_version": "1.5.0",
      "model_name": "AccordionModel",
      "state": {
       "_dom_classes": [],
       "_model_module": "@jupyter-widgets/controls",
       "_model_module_version": "1.5.0",
       "_model_name": "AccordionModel",
       "_titles": {
        "0": "Log Output"
       },
       "_view_count": null,
       "_view_module": "@jupyter-widgets/controls",
       "_view_module_version": "1.5.0",
       "_view_name": "AccordionView",
       "box_style": "",
       "children": [
        "IPY_MODEL_8a4d622f62944ec89ad7a04500d05dc8"
       ],
       "layout": "IPY_MODEL_ca49e19a29ed4325b1f086654f238b30",
       "selected_index": null
      }
     },
     "c170aa96752f41c4b3c95b0d6c165c61": {
      "model_module": "@jupyter-widgets/controls",
      "model_module_version": "1.5.0",
      "model_name": "HTMLModel",
      "state": {
       "_dom_classes": [],
       "_model_module": "@jupyter-widgets/controls",
       "_model_module_version": "1.5.0",
       "_model_name": "HTMLModel",
       "_view_count": null,
       "_view_module": "@jupyter-widgets/controls",
       "_view_module_version": "1.5.0",
       "_view_name": "HTMLView",
       "description": "",
       "description_tooltip": null,
       "layout": "IPY_MODEL_d29d1b3233074ed1aef986a00b4dae88",
       "placeholder": "​",
       "style": "IPY_MODEL_f69255568bcf442b99dc3b387ed455fc",
       "value": ""
      }
     },
     "c23f9a8d09de4bf5bfbd830a7450354f": {
      "model_module": "@jupyter-widgets/controls",
      "model_module_version": "1.5.0",
      "model_name": "HTMLModel",
      "state": {
       "_dom_classes": [],
       "_model_module": "@jupyter-widgets/controls",
       "_model_module_version": "1.5.0",
       "_model_name": "HTMLModel",
       "_view_count": null,
       "_view_module": "@jupyter-widgets/controls",
       "_view_module_version": "1.5.0",
       "_view_name": "HTMLView",
       "description": "",
       "description_tooltip": null,
       "layout": "IPY_MODEL_32d784c327ae41cf8c0ead0dfd6d7907",
       "placeholder": "​",
       "style": "IPY_MODEL_0e93bd0051204599a485235d1d076fe2",
       "value": ""
      }
     },
     "ca49e19a29ed4325b1f086654f238b30": {
      "model_module": "@jupyter-widgets/base",
      "model_module_version": "1.2.0",
      "model_name": "LayoutModel",
      "state": {
       "_model_module": "@jupyter-widgets/base",
       "_model_module_version": "1.2.0",
       "_model_name": "LayoutModel",
       "_view_count": null,
       "_view_module": "@jupyter-widgets/base",
       "_view_module_version": "1.2.0",
       "_view_name": "LayoutView",
       "align_content": null,
       "align_items": null,
       "align_self": null,
       "border": null,
       "bottom": null,
       "display": null,
       "flex": null,
       "flex_flow": null,
       "grid_area": null,
       "grid_auto_columns": null,
       "grid_auto_flow": null,
       "grid_auto_rows": null,
       "grid_column": null,
       "grid_gap": null,
       "grid_row": null,
       "grid_template_areas": null,
       "grid_template_columns": null,
       "grid_template_rows": null,
       "height": null,
       "justify_content": null,
       "justify_items": null,
       "left": null,
       "margin": null,
       "max_height": null,
       "max_width": null,
       "min_height": null,
       "min_width": null,
       "object_fit": null,
       "object_position": null,
       "order": null,
       "overflow": null,
       "overflow_x": null,
       "overflow_y": null,
       "padding": null,
       "right": null,
       "top": null,
       "visibility": null,
       "width": null
      }
     },
     "ce3e08926ed444bb92dd115ab1bf68b3": {
      "model_module": "@jupyter-widgets/base",
      "model_module_version": "1.2.0",
      "model_name": "LayoutModel",
      "state": {
       "_model_module": "@jupyter-widgets/base",
       "_model_module_version": "1.2.0",
       "_model_name": "LayoutModel",
       "_view_count": null,
       "_view_module": "@jupyter-widgets/base",
       "_view_module_version": "1.2.0",
       "_view_name": "LayoutView",
       "align_content": null,
       "align_items": null,
       "align_self": null,
       "border": null,
       "bottom": null,
       "display": null,
       "flex": null,
       "flex_flow": null,
       "grid_area": null,
       "grid_auto_columns": null,
       "grid_auto_flow": null,
       "grid_auto_rows": null,
       "grid_column": null,
       "grid_gap": null,
       "grid_row": null,
       "grid_template_areas": null,
       "grid_template_columns": null,
       "grid_template_rows": null,
       "height": null,
       "justify_content": null,
       "justify_items": null,
       "left": null,
       "margin": null,
       "max_height": null,
       "max_width": null,
       "min_height": null,
       "min_width": null,
       "object_fit": null,
       "object_position": null,
       "order": null,
       "overflow": null,
       "overflow_x": null,
       "overflow_y": null,
       "padding": null,
       "right": null,
       "top": null,
       "visibility": null,
       "width": null
      }
     },
     "ceaae0b34e4444b48b6f02e02e2d38a6": {
      "model_module": "@jupyter-widgets/controls",
      "model_module_version": "1.5.0",
      "model_name": "DescriptionStyleModel",
      "state": {
       "_model_module": "@jupyter-widgets/controls",
       "_model_module_version": "1.5.0",
       "_model_name": "DescriptionStyleModel",
       "_view_count": null,
       "_view_module": "@jupyter-widgets/base",
       "_view_module_version": "1.2.0",
       "_view_name": "StyleView",
       "description_width": ""
      }
     },
     "d0f29371f33942dbb35cddc4672bdcd7": {
      "model_module": "@jupyter-widgets/base",
      "model_module_version": "1.2.0",
      "model_name": "LayoutModel",
      "state": {
       "_model_module": "@jupyter-widgets/base",
       "_model_module_version": "1.2.0",
       "_model_name": "LayoutModel",
       "_view_count": null,
       "_view_module": "@jupyter-widgets/base",
       "_view_module_version": "1.2.0",
       "_view_name": "LayoutView",
       "align_content": null,
       "align_items": null,
       "align_self": null,
       "border": null,
       "bottom": null,
       "display": null,
       "flex": null,
       "flex_flow": null,
       "grid_area": null,
       "grid_auto_columns": null,
       "grid_auto_flow": null,
       "grid_auto_rows": null,
       "grid_column": null,
       "grid_gap": null,
       "grid_row": null,
       "grid_template_areas": null,
       "grid_template_columns": null,
       "grid_template_rows": null,
       "height": null,
       "justify_content": null,
       "justify_items": null,
       "left": null,
       "margin": null,
       "max_height": null,
       "max_width": null,
       "min_height": null,
       "min_width": null,
       "object_fit": null,
       "object_position": null,
       "order": null,
       "overflow": null,
       "overflow_x": null,
       "overflow_y": null,
       "padding": null,
       "right": null,
       "top": null,
       "visibility": null,
       "width": null
      }
     },
     "d29d1b3233074ed1aef986a00b4dae88": {
      "model_module": "@jupyter-widgets/base",
      "model_module_version": "1.2.0",
      "model_name": "LayoutModel",
      "state": {
       "_model_module": "@jupyter-widgets/base",
       "_model_module_version": "1.2.0",
       "_model_name": "LayoutModel",
       "_view_count": null,
       "_view_module": "@jupyter-widgets/base",
       "_view_module_version": "1.2.0",
       "_view_name": "LayoutView",
       "align_content": null,
       "align_items": null,
       "align_self": null,
       "border": null,
       "bottom": null,
       "display": null,
       "flex": null,
       "flex_flow": null,
       "grid_area": null,
       "grid_auto_columns": null,
       "grid_auto_flow": null,
       "grid_auto_rows": null,
       "grid_column": null,
       "grid_gap": null,
       "grid_row": null,
       "grid_template_areas": null,
       "grid_template_columns": null,
       "grid_template_rows": null,
       "height": "16em",
       "justify_content": null,
       "justify_items": null,
       "left": null,
       "margin": null,
       "max_height": null,
       "max_width": null,
       "min_height": null,
       "min_width": null,
       "object_fit": null,
       "object_position": null,
       "order": null,
       "overflow": null,
       "overflow_x": null,
       "overflow_y": "auto",
       "padding": null,
       "right": null,
       "top": null,
       "visibility": null,
       "width": "100%"
      }
     },
     "d2dadd442b0e4c218c8be6bfa42aa4d7": {
      "model_module": "@jupyter-widgets/base",
      "model_module_version": "1.2.0",
      "model_name": "LayoutModel",
      "state": {
       "_model_module": "@jupyter-widgets/base",
       "_model_module_version": "1.2.0",
       "_model_name": "LayoutModel",
       "_view_count": null,
       "_view_module": "@jupyter-widgets/base",
       "_view_module_version": "1.2.0",
       "_view_name": "LayoutView",
       "align_content": null,
       "align_items": null,
       "align_self": null,
       "border": null,
       "bottom": null,
       "display": null,
       "flex": null,
       "flex_flow": null,
       "grid_area": null,
       "grid_auto_columns": null,
       "grid_auto_flow": null,
       "grid_auto_rows": null,
       "grid_column": null,
       "grid_gap": null,
       "grid_row": null,
       "grid_template_areas": null,
       "grid_template_columns": null,
       "grid_template_rows": null,
       "height": "16em",
       "justify_content": null,
       "justify_items": null,
       "left": null,
       "margin": null,
       "max_height": null,
       "max_width": null,
       "min_height": null,
       "min_width": null,
       "object_fit": null,
       "object_position": null,
       "order": null,
       "overflow": null,
       "overflow_x": null,
       "overflow_y": "auto",
       "padding": null,
       "right": null,
       "top": null,
       "visibility": null,
       "width": "100%"
      }
     },
     "d49a2fc00ede4f0a98a8cfa4e0562488": {
      "model_module": "@jupyter-widgets/base",
      "model_module_version": "1.2.0",
      "model_name": "LayoutModel",
      "state": {
       "_model_module": "@jupyter-widgets/base",
       "_model_module_version": "1.2.0",
       "_model_name": "LayoutModel",
       "_view_count": null,
       "_view_module": "@jupyter-widgets/base",
       "_view_module_version": "1.2.0",
       "_view_name": "LayoutView",
       "align_content": null,
       "align_items": null,
       "align_self": null,
       "border": null,
       "bottom": null,
       "display": null,
       "flex": null,
       "flex_flow": null,
       "grid_area": null,
       "grid_auto_columns": null,
       "grid_auto_flow": null,
       "grid_auto_rows": null,
       "grid_column": null,
       "grid_gap": null,
       "grid_row": null,
       "grid_template_areas": null,
       "grid_template_columns": null,
       "grid_template_rows": null,
       "height": null,
       "justify_content": null,
       "justify_items": null,
       "left": null,
       "margin": null,
       "max_height": null,
       "max_width": null,
       "min_height": null,
       "min_width": null,
       "object_fit": null,
       "object_position": null,
       "order": null,
       "overflow": null,
       "overflow_x": null,
       "overflow_y": null,
       "padding": null,
       "right": null,
       "top": null,
       "visibility": null,
       "width": null
      }
     },
     "d630fb798a1e4c8899b24bf3a029cbfd": {
      "model_module": "@jupyter-widgets/controls",
      "model_module_version": "1.5.0",
      "model_name": "DescriptionStyleModel",
      "state": {
       "_model_module": "@jupyter-widgets/controls",
       "_model_module_version": "1.5.0",
       "_model_name": "DescriptionStyleModel",
       "_view_count": null,
       "_view_module": "@jupyter-widgets/base",
       "_view_module_version": "1.2.0",
       "_view_name": "StyleView",
       "description_width": ""
      }
     },
     "d76d6df5ca8843f3ae63d4fe7bf972b2": {
      "model_module": "@jupyter-widgets/controls",
      "model_module_version": "1.5.0",
      "model_name": "AccordionModel",
      "state": {
       "_dom_classes": [],
       "_model_module": "@jupyter-widgets/controls",
       "_model_module_version": "1.5.0",
       "_model_name": "AccordionModel",
       "_titles": {
        "0": "Log Output"
       },
       "_view_count": null,
       "_view_module": "@jupyter-widgets/controls",
       "_view_module_version": "1.5.0",
       "_view_name": "AccordionView",
       "box_style": "",
       "children": [
        "IPY_MODEL_0f2bf8bd64be44278e929f25377f1d9e"
       ],
       "layout": "IPY_MODEL_ce3e08926ed444bb92dd115ab1bf68b3",
       "selected_index": null
      }
     },
     "da9e9ff0b0e44a489de667307b4cde2e": {
      "model_module": "@jupyter-widgets/base",
      "model_module_version": "1.2.0",
      "model_name": "LayoutModel",
      "state": {
       "_model_module": "@jupyter-widgets/base",
       "_model_module_version": "1.2.0",
       "_model_name": "LayoutModel",
       "_view_count": null,
       "_view_module": "@jupyter-widgets/base",
       "_view_module_version": "1.2.0",
       "_view_name": "LayoutView",
       "align_content": null,
       "align_items": null,
       "align_self": null,
       "border": null,
       "bottom": null,
       "display": null,
       "flex": null,
       "flex_flow": null,
       "grid_area": null,
       "grid_auto_columns": null,
       "grid_auto_flow": null,
       "grid_auto_rows": null,
       "grid_column": null,
       "grid_gap": null,
       "grid_row": null,
       "grid_template_areas": null,
       "grid_template_columns": null,
       "grid_template_rows": null,
       "height": "16em",
       "justify_content": null,
       "justify_items": null,
       "left": null,
       "margin": null,
       "max_height": null,
       "max_width": null,
       "min_height": null,
       "min_width": null,
       "object_fit": null,
       "object_position": null,
       "order": null,
       "overflow": null,
       "overflow_x": null,
       "overflow_y": "auto",
       "padding": null,
       "right": null,
       "top": null,
       "visibility": null,
       "width": "100%"
      }
     },
     "dae498d7e1574b40a496453903f82d17": {
      "model_module": "@jupyter-widgets/controls",
      "model_module_version": "1.5.0",
      "model_name": "AccordionModel",
      "state": {
       "_dom_classes": [],
       "_model_module": "@jupyter-widgets/controls",
       "_model_module_version": "1.5.0",
       "_model_name": "AccordionModel",
       "_titles": {
        "0": "Log Output"
       },
       "_view_count": null,
       "_view_module": "@jupyter-widgets/controls",
       "_view_module_version": "1.5.0",
       "_view_name": "AccordionView",
       "box_style": "",
       "children": [
        "IPY_MODEL_7270bcec6b72448bb92c148835fceda9"
       ],
       "layout": "IPY_MODEL_4d22450b5a5c4f7fa46917df05b6036c",
       "selected_index": null
      }
     },
     "dd2476deeccf497a873f358ce9dd5a21": {
      "model_module": "@jupyter-widgets/controls",
      "model_module_version": "1.5.0",
      "model_name": "AccordionModel",
      "state": {
       "_dom_classes": [],
       "_model_module": "@jupyter-widgets/controls",
       "_model_module_version": "1.5.0",
       "_model_name": "AccordionModel",
       "_titles": {
        "0": "Log Output"
       },
       "_view_count": null,
       "_view_module": "@jupyter-widgets/controls",
       "_view_module_version": "1.5.0",
       "_view_name": "AccordionView",
       "box_style": "",
       "children": [
        "IPY_MODEL_e579870ae15947049c5873c0ac86be2b"
       ],
       "layout": "IPY_MODEL_83f0cd2582514d0e931063f29d3207d2",
       "selected_index": null
      }
     },
     "dd3ae09a51244a31abbf41070c30d1c3": {
      "model_module": "@jupyter-widgets/controls",
      "model_module_version": "1.5.0",
      "model_name": "HTMLModel",
      "state": {
       "_dom_classes": [],
       "_model_module": "@jupyter-widgets/controls",
       "_model_module_version": "1.5.0",
       "_model_name": "HTMLModel",
       "_view_count": null,
       "_view_module": "@jupyter-widgets/controls",
       "_view_module_version": "1.5.0",
       "_view_name": "HTMLView",
       "description": "",
       "description_tooltip": null,
       "layout": "IPY_MODEL_b0be45d5a4844e2081426d36a5bcd79e",
       "placeholder": "​",
       "style": "IPY_MODEL_3474051ce52644d1a21fc4519b7ace2c",
       "value": ""
      }
     },
     "e0087e96cefa4af8835bbe33ae9cdef8": {
      "model_module": "@jupyter-widgets/controls",
      "model_module_version": "1.5.0",
      "model_name": "AccordionModel",
      "state": {
       "_dom_classes": [],
       "_model_module": "@jupyter-widgets/controls",
       "_model_module_version": "1.5.0",
       "_model_name": "AccordionModel",
       "_titles": {
        "0": "Log Output"
       },
       "_view_count": null,
       "_view_module": "@jupyter-widgets/controls",
       "_view_module_version": "1.5.0",
       "_view_name": "AccordionView",
       "box_style": "",
       "children": [
        "IPY_MODEL_a9e1f882ebc94954a6f0de7b0c891ad9"
       ],
       "layout": "IPY_MODEL_f0960ce3fce449f4927244eee546fe46",
       "selected_index": null
      }
     },
     "e270219995f8407086edf31950cd7313": {
      "model_module": "@jupyter-widgets/controls",
      "model_module_version": "1.5.0",
      "model_name": "DescriptionStyleModel",
      "state": {
       "_model_module": "@jupyter-widgets/controls",
       "_model_module_version": "1.5.0",
       "_model_name": "DescriptionStyleModel",
       "_view_count": null,
       "_view_module": "@jupyter-widgets/base",
       "_view_module_version": "1.2.0",
       "_view_name": "StyleView",
       "description_width": ""
      }
     },
     "e579870ae15947049c5873c0ac86be2b": {
      "model_module": "@jupyter-widgets/controls",
      "model_module_version": "1.5.0",
      "model_name": "HTMLModel",
      "state": {
       "_dom_classes": [],
       "_model_module": "@jupyter-widgets/controls",
       "_model_module_version": "1.5.0",
       "_model_name": "HTMLModel",
       "_view_count": null,
       "_view_module": "@jupyter-widgets/controls",
       "_view_module_version": "1.5.0",
       "_view_name": "HTMLView",
       "description": "",
       "description_tooltip": null,
       "layout": "IPY_MODEL_92098fb180fa4b48a938ecb2824d2513",
       "placeholder": "​",
       "style": "IPY_MODEL_4a65ef4f20994e7682f0d241a7b8e0c3",
       "value": ""
      }
     },
     "ecd2a179a5c64230bb1b23974b7736d8": {
      "model_module": "@jupyter-widgets/controls",
      "model_module_version": "1.5.0",
      "model_name": "DescriptionStyleModel",
      "state": {
       "_model_module": "@jupyter-widgets/controls",
       "_model_module_version": "1.5.0",
       "_model_name": "DescriptionStyleModel",
       "_view_count": null,
       "_view_module": "@jupyter-widgets/base",
       "_view_module_version": "1.2.0",
       "_view_name": "StyleView",
       "description_width": ""
      }
     },
     "f0960ce3fce449f4927244eee546fe46": {
      "model_module": "@jupyter-widgets/base",
      "model_module_version": "1.2.0",
      "model_name": "LayoutModel",
      "state": {
       "_model_module": "@jupyter-widgets/base",
       "_model_module_version": "1.2.0",
       "_model_name": "LayoutModel",
       "_view_count": null,
       "_view_module": "@jupyter-widgets/base",
       "_view_module_version": "1.2.0",
       "_view_name": "LayoutView",
       "align_content": null,
       "align_items": null,
       "align_self": null,
       "border": null,
       "bottom": null,
       "display": null,
       "flex": null,
       "flex_flow": null,
       "grid_area": null,
       "grid_auto_columns": null,
       "grid_auto_flow": null,
       "grid_auto_rows": null,
       "grid_column": null,
       "grid_gap": null,
       "grid_row": null,
       "grid_template_areas": null,
       "grid_template_columns": null,
       "grid_template_rows": null,
       "height": null,
       "justify_content": null,
       "justify_items": null,
       "left": null,
       "margin": null,
       "max_height": null,
       "max_width": null,
       "min_height": null,
       "min_width": null,
       "object_fit": null,
       "object_position": null,
       "order": null,
       "overflow": null,
       "overflow_x": null,
       "overflow_y": null,
       "padding": null,
       "right": null,
       "top": null,
       "visibility": null,
       "width": null
      }
     },
     "f333a280ebf844b5ad2c82c0dc6f639a": {
      "model_module": "@jupyter-widgets/controls",
      "model_module_version": "1.5.0",
      "model_name": "DescriptionStyleModel",
      "state": {
       "_model_module": "@jupyter-widgets/controls",
       "_model_module_version": "1.5.0",
       "_model_name": "DescriptionStyleModel",
       "_view_count": null,
       "_view_module": "@jupyter-widgets/base",
       "_view_module_version": "1.2.0",
       "_view_name": "StyleView",
       "description_width": ""
      }
     },
     "f69255568bcf442b99dc3b387ed455fc": {
      "model_module": "@jupyter-widgets/controls",
      "model_module_version": "1.5.0",
      "model_name": "DescriptionStyleModel",
      "state": {
       "_model_module": "@jupyter-widgets/controls",
       "_model_module_version": "1.5.0",
       "_model_name": "DescriptionStyleModel",
       "_view_count": null,
       "_view_module": "@jupyter-widgets/base",
       "_view_module_version": "1.2.0",
       "_view_name": "StyleView",
       "description_width": ""
      }
     },
     "f91341abd7654ae3acaff7a10219e534": {
      "model_module": "@jupyter-widgets/controls",
      "model_module_version": "1.5.0",
      "model_name": "AccordionModel",
      "state": {
       "_dom_classes": [],
       "_model_module": "@jupyter-widgets/controls",
       "_model_module_version": "1.5.0",
       "_model_name": "AccordionModel",
       "_titles": {
        "0": "Log Output"
       },
       "_view_count": null,
       "_view_module": "@jupyter-widgets/controls",
       "_view_module_version": "1.5.0",
       "_view_name": "AccordionView",
       "box_style": "",
       "children": [
        "IPY_MODEL_a1de07ba3a294faab30c6b1afb0ea52c"
       ],
       "layout": "IPY_MODEL_09fa599246eb4688bb1b5693d14cf3c9",
       "selected_index": null
      }
     },
     "fb0564ff6be141bf85a3079d21f8cae7": {
      "model_module": "@jupyter-widgets/controls",
      "model_module_version": "1.5.0",
      "model_name": "DescriptionStyleModel",
      "state": {
       "_model_module": "@jupyter-widgets/controls",
       "_model_module_version": "1.5.0",
       "_model_name": "DescriptionStyleModel",
       "_view_count": null,
       "_view_module": "@jupyter-widgets/base",
       "_view_module_version": "1.2.0",
       "_view_name": "StyleView",
       "description_width": ""
      }
     }
    },
    "version_major": 2,
    "version_minor": 0
   }
  }
 },
 "nbformat": 4,
 "nbformat_minor": 4
}
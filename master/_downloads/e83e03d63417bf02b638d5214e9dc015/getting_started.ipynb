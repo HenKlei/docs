{
 "cells": [
  {
   "cell_type": "code",
   "execution_count": 1,
   "metadata": {
    "execution": {
     "iopub.execute_input": "2020-11-23T09:24:23.789697Z",
     "iopub.status.busy": "2020-11-23T09:24:23.788982Z",
     "iopub.status.idle": "2020-11-23T09:24:23.865977Z",
     "shell.execute_reply": "2020-11-23T09:24:23.866651Z"
    }
   },
   "outputs": [],
   "source": [
    "from pymor.basic import *\n",
    "from pymor.core.logger import set_log_levels\n",
    "set_log_levels({'pymor.algorithms.greedy': 'ERROR', 'pymor.algorithms.gram_schmidt.gram_schmidt': 'ERROR', 'pymor.algorithms.image.estimate_image_hierarchical': 'ERROR'})"
   ]
  },
  {
   "cell_type": "code",
   "execution_count": 2,
   "metadata": {
    "execution": {
     "iopub.execute_input": "2020-11-23T09:24:23.869633Z",
     "iopub.status.busy": "2020-11-23T09:24:23.868721Z",
     "iopub.status.idle": "2020-11-23T09:24:23.891699Z",
     "shell.execute_reply": "2020-11-23T09:24:23.892318Z"
    }
   },
   "outputs": [],
   "source": [
    "p = thermal_block_problem(num_blocks=(3, 2))"
   ]
  },
  {
   "cell_type": "code",
   "execution_count": 3,
   "metadata": {
    "execution": {
     "iopub.execute_input": "2020-11-23T09:24:23.895110Z",
     "iopub.status.busy": "2020-11-23T09:24:23.894212Z",
     "iopub.status.idle": "2020-11-23T09:24:24.188389Z",
     "shell.execute_reply": "2020-11-23T09:24:24.188942Z"
    }
   },
   "outputs": [
    {
     "data": {
      "application/vnd.jupyter.widget-view+json": {
       "model_id": "14f141a1c6264d1c971541c8976f3946",
       "version_major": 2,
       "version_minor": 0
      },
      "text/plain": [
       "Accordion(children=(HTML(value='', layout=Layout(height='16em', overflow_y='auto', width='100%')),), selected_…"
      ]
     },
     "metadata": {},
     "output_type": "display_data"
    }
   ],
   "source": [
    "fom, fom_data = discretize_stationary_cg(p, diameter=1./50.)"
   ]
  },
  {
   "cell_type": "code",
   "execution_count": 4,
   "metadata": {
    "execution": {
     "iopub.execute_input": "2020-11-23T09:24:24.192121Z",
     "iopub.status.busy": "2020-11-23T09:24:24.191230Z",
     "iopub.status.idle": "2020-11-23T09:24:24.215314Z",
     "shell.execute_reply": "2020-11-23T09:24:24.215947Z"
    }
   },
   "outputs": [
    {
     "name": "stdout",
     "output_type": "stream",
     "text": [
      "Tria-Grid on domain [0,1] x [0,1]\n",
      "x0-intervals: 50, x1-intervals: 50\n",
      "elements: 10000, edges: 15100, vertices: 5101\n"
     ]
    }
   ],
   "source": [
    "print(fom_data['grid'])"
   ]
  },
  {
   "cell_type": "code",
   "execution_count": 5,
   "metadata": {
    "execution": {
     "iopub.execute_input": "2020-11-23T09:24:24.218790Z",
     "iopub.status.busy": "2020-11-23T09:24:24.217915Z",
     "iopub.status.idle": "2020-11-23T09:24:24.833172Z",
     "shell.execute_reply": "2020-11-23T09:24:24.832686Z"
    }
   },
   "outputs": [
    {
     "data": {
      "application/vnd.jupyter.widget-view+json": {
       "model_id": "c66ad6c5331e44c09dd4a5a590accd91",
       "version_major": 2,
       "version_minor": 0
      },
      "text/plain": [
       "Accordion(children=(HTML(value='', layout=Layout(height='16em', overflow_y='auto', width='100%')),), selected_…"
      ]
     },
     "metadata": {},
     "output_type": "display_data"
    },
    {
     "data": {
      "application/vnd.jupyter.widget-view+json": {
       "model_id": "395ea07ea18b4287af261f1df6a2095e",
       "version_major": 2,
       "version_minor": 0
      },
      "text/plain": [
       "Output()"
      ]
     },
     "metadata": {},
     "output_type": "display_data"
    }
   ],
   "source": [
    "U = fom.solve([1.0, 0.1, 0.3, 0.1, 0.2, 1.0])\n",
    "fom.visualize(U, title='Solution')"
   ]
  },
  {
   "cell_type": "code",
   "execution_count": 6,
   "metadata": {
    "execution": {
     "iopub.execute_input": "2020-11-23T09:24:24.840472Z",
     "iopub.status.busy": "2020-11-23T09:24:24.836172Z",
     "iopub.status.idle": "2020-11-23T09:24:24.860337Z",
     "shell.execute_reply": "2020-11-23T09:24:24.860975Z"
    }
   },
   "outputs": [
    {
     "name": "stdout",
     "output_type": "stream",
     "text": [
      "{diffusion: 6}\n"
     ]
    }
   ],
   "source": [
    "print(fom.parameters)"
   ]
  },
  {
   "cell_type": "code",
   "execution_count": 7,
   "metadata": {
    "execution": {
     "iopub.execute_input": "2020-11-23T09:24:24.863776Z",
     "iopub.status.busy": "2020-11-23T09:24:24.862895Z",
     "iopub.status.idle": "2020-11-23T09:24:24.889030Z",
     "shell.execute_reply": "2020-11-23T09:24:24.889753Z"
    }
   },
   "outputs": [],
   "source": [
    "reductor = CoerciveRBReductor(\n",
    "    fom,\n",
    "    product=fom.h1_0_semi_product,\n",
    "    coercivity_estimator=ExpressionParameterFunctional('min(diffusion)', fom.parameters)\n",
    ")"
   ]
  },
  {
   "cell_type": "code",
   "execution_count": 8,
   "metadata": {
    "execution": {
     "iopub.execute_input": "2020-11-23T09:24:24.892711Z",
     "iopub.status.busy": "2020-11-23T09:24:24.891825Z",
     "iopub.status.idle": "2020-11-23T09:24:24.962559Z",
     "shell.execute_reply": "2020-11-23T09:24:24.963165Z"
    }
   },
   "outputs": [
    {
     "name": "stdout",
     "output_type": "stream",
     "text": [
      "{diffusion: [0.1, 0.1, 0.1, 0.1, 0.1, 0.1]}\n"
     ]
    }
   ],
   "source": [
    "training_set = p.parameter_space.sample_uniformly(4)\n",
    "print(training_set[0])"
   ]
  },
  {
   "cell_type": "code",
   "execution_count": 9,
   "metadata": {
    "execution": {
     "iopub.execute_input": "2020-11-23T09:24:24.965860Z",
     "iopub.status.busy": "2020-11-23T09:24:24.965367Z",
     "iopub.status.idle": "2020-11-23T09:25:46.643480Z",
     "shell.execute_reply": "2020-11-23T09:25:46.643917Z"
    }
   },
   "outputs": [
    {
     "data": {
      "application/vnd.jupyter.widget-view+json": {
       "model_id": "11317547ee71430f9ebd8dbd122aa2db",
       "version_major": 2,
       "version_minor": 0
      },
      "text/plain": [
       "Accordion(children=(HTML(value='', layout=Layout(height='16em', overflow_y='auto', width='100%')),), selected_…"
      ]
     },
     "metadata": {},
     "output_type": "display_data"
    }
   ],
   "source": [
    "greedy_data = rb_greedy(fom, reductor, training_set, max_extensions=32)"
   ]
  },
  {
   "cell_type": "code",
   "execution_count": 10,
   "metadata": {
    "execution": {
     "iopub.execute_input": "2020-11-23T09:25:46.646883Z",
     "iopub.status.busy": "2020-11-23T09:25:46.645989Z",
     "iopub.status.idle": "2020-11-23T09:25:46.665195Z",
     "shell.execute_reply": "2020-11-23T09:25:46.664051Z"
    }
   },
   "outputs": [
    {
     "name": "stdout",
     "output_type": "stream",
     "text": [
      "dict_keys(['max_errs', 'max_err_mus', 'extensions', 'time', 'rom'])\n"
     ]
    }
   ],
   "source": [
    "print(greedy_data.keys())"
   ]
  },
  {
   "cell_type": "code",
   "execution_count": 11,
   "metadata": {
    "execution": {
     "iopub.execute_input": "2020-11-23T09:25:46.685355Z",
     "iopub.status.busy": "2020-11-23T09:25:46.684829Z",
     "iopub.status.idle": "2020-11-23T09:25:46.694546Z",
     "shell.execute_reply": "2020-11-23T09:25:46.694110Z"
    }
   },
   "outputs": [],
   "source": [
    "rom = greedy_data['rom']"
   ]
  },
  {
   "cell_type": "code",
   "execution_count": 12,
   "metadata": {
    "execution": {
     "iopub.execute_input": "2020-11-23T09:25:46.712555Z",
     "iopub.status.busy": "2020-11-23T09:25:46.712011Z",
     "iopub.status.idle": "2020-11-23T09:25:46.719508Z",
     "shell.execute_reply": "2020-11-23T09:25:46.719898Z"
    }
   },
   "outputs": [
    {
     "name": "stdout",
     "output_type": "stream",
     "text": [
      "<class 'pymor.vectorarrays.numpy.NumpyVectorArray'>\n",
      "32\n",
      "5101\n"
     ]
    }
   ],
   "source": [
    "RB = reductor.bases['RB']\n",
    "print(type(RB))\n",
    "print(len(RB))\n",
    "print(RB.dim)"
   ]
  },
  {
   "cell_type": "code",
   "execution_count": 13,
   "metadata": {
    "execution": {
     "iopub.execute_input": "2020-11-23T09:25:46.736102Z",
     "iopub.status.busy": "2020-11-23T09:25:46.735596Z",
     "iopub.status.idle": "2020-11-23T09:25:46.747273Z",
     "shell.execute_reply": "2020-11-23T09:25:46.747662Z"
    }
   },
   "outputs": [
    {
     "name": "stdout",
     "output_type": "stream",
     "text": [
      "1.478851763270228e-15\n"
     ]
    }
   ],
   "source": [
    "import numpy as np\n",
    "gram_matrix = RB.gramian(fom.h1_0_semi_product)\n",
    "print(np.max(np.abs(gram_matrix - np.eye(32))))"
   ]
  },
  {
   "cell_type": "code",
   "execution_count": 14,
   "metadata": {
    "execution": {
     "iopub.execute_input": "2020-11-23T09:25:46.766206Z",
     "iopub.status.busy": "2020-11-23T09:25:46.764635Z",
     "iopub.status.idle": "2020-11-23T09:25:46.775786Z",
     "shell.execute_reply": "2020-11-23T09:25:46.776398Z"
    }
   },
   "outputs": [
    {
     "name": "stdout",
     "output_type": "stream",
     "text": [
      "[[ 0.56008169  0.19410562  0.00463453  0.01675562  0.04900982  0.07760119\n",
      "  -0.08043888 -0.02889488 -0.03121126  0.26467367  0.13991773 -0.09805741\n",
      "   0.16005484  0.04417512 -0.05245844 -0.00132281 -0.01304436  0.01330245\n",
      "  -0.02185056  0.00625769 -0.00868736 -0.00115484  0.01895446 -0.00153234\n",
      "   0.02306277  0.0035532   0.01061803 -0.00225572  0.00199581 -0.0068476\n",
      "   0.00186538  0.0047302 ]]\n",
      "5101\n"
     ]
    }
   ],
   "source": [
    "u = rom.solve([1.0, 0.1, 0.3, 0.1, 0.2, 1.0])\n",
    "print(u)\n",
    "U_red = reductor.reconstruct(u)\n",
    "print(U_red.dim)"
   ]
  },
  {
   "cell_type": "code",
   "execution_count": 15,
   "metadata": {
    "execution": {
     "iopub.execute_input": "2020-11-23T09:25:46.807089Z",
     "iopub.status.busy": "2020-11-23T09:25:46.806557Z",
     "iopub.status.idle": "2020-11-23T09:25:48.390613Z",
     "shell.execute_reply": "2020-11-23T09:25:48.390159Z"
    }
   },
   "outputs": [
    {
     "name": "stdout",
     "output_type": "stream",
     "text": [
      "[0.00480011]\n"
     ]
    },
    {
     "data": {
      "application/vnd.jupyter.widget-view+json": {
       "model_id": "8daa2d61a24b45229a9e4ed025952657",
       "version_major": 2,
       "version_minor": 0
      },
      "text/plain": [
       "Output()"
      ]
     },
     "metadata": {},
     "output_type": "display_data"
    }
   ],
   "source": [
    "ERR = U - U_red\n",
    "print(ERR.norm(fom.h1_0_semi_product))\n",
    "fom.visualize((U, U_red, ERR),\n",
    "              legend=('Detailed', 'Reduced', 'Error'),\n",
    "              separate_colorbars=True)"
   ]
  }
 ],
 "metadata": {
  "kernelspec": {
   "display_name": "Python 3",
   "language": "python",
   "name": "python3"
  },
  "language_info": {
   "codemirror_mode": {
    "name": "ipython",
    "version": 3
   },
   "file_extension": ".py",
   "mimetype": "text/x-python",
   "name": "python",
   "nbconvert_exporter": "python",
   "pygments_lexer": "ipython3",
   "version": "3.7.9"
  },
  "widgets": {
   "application/vnd.jupyter.widget-state+json": {
    "state": {
     "047717bfcfc44cd89fe7b4298b20978c": {
      "model_module": "@jupyter-widgets/controls",
      "model_module_version": "1.5.0",
      "model_name": "DescriptionStyleModel",
      "state": {
       "_model_module": "@jupyter-widgets/controls",
       "_model_module_version": "1.5.0",
       "_model_name": "DescriptionStyleModel",
       "_view_count": null,
       "_view_module": "@jupyter-widgets/base",
       "_view_module_version": "1.2.0",
       "_view_name": "StyleView",
       "description_width": ""
      }
     },
     "053eac4844ed40ba9ebd0fcfbd2674c8": {
      "model_module": "@jupyter-widgets/base",
      "model_module_version": "1.2.0",
      "model_name": "LayoutModel",
      "state": {
       "_model_module": "@jupyter-widgets/base",
       "_model_module_version": "1.2.0",
       "_model_name": "LayoutModel",
       "_view_count": null,
       "_view_module": "@jupyter-widgets/base",
       "_view_module_version": "1.2.0",
       "_view_name": "LayoutView",
       "align_content": null,
       "align_items": null,
       "align_self": null,
       "border": null,
       "bottom": null,
       "display": null,
       "flex": null,
       "flex_flow": null,
       "grid_area": null,
       "grid_auto_columns": null,
       "grid_auto_flow": null,
       "grid_auto_rows": null,
       "grid_column": null,
       "grid_gap": null,
       "grid_row": null,
       "grid_template_areas": null,
       "grid_template_columns": null,
       "grid_template_rows": null,
       "height": "16em",
       "justify_content": null,
       "justify_items": null,
       "left": null,
       "margin": null,
       "max_height": null,
       "max_width": null,
       "min_height": null,
       "min_width": null,
       "object_fit": null,
       "object_position": null,
       "order": null,
       "overflow": null,
       "overflow_x": null,
       "overflow_y": "auto",
       "padding": null,
       "right": null,
       "top": null,
       "visibility": null,
       "width": "100%"
      }
     },
     "0a0f4c90d9ee4e72a7193432876118ee": {
      "model_module": "@jupyter-widgets/base",
      "model_module_version": "1.2.0",
      "model_name": "LayoutModel",
      "state": {
       "_model_module": "@jupyter-widgets/base",
       "_model_module_version": "1.2.0",
       "_model_name": "LayoutModel",
       "_view_count": null,
       "_view_module": "@jupyter-widgets/base",
       "_view_module_version": "1.2.0",
       "_view_name": "LayoutView",
       "align_content": null,
       "align_items": null,
       "align_self": null,
       "border": null,
       "bottom": null,
       "display": null,
       "flex": null,
       "flex_flow": null,
       "grid_area": null,
       "grid_auto_columns": null,
       "grid_auto_flow": null,
       "grid_auto_rows": null,
       "grid_column": null,
       "grid_gap": null,
       "grid_row": null,
       "grid_template_areas": null,
       "grid_template_columns": null,
       "grid_template_rows": null,
       "height": null,
       "justify_content": null,
       "justify_items": null,
       "left": null,
       "margin": null,
       "max_height": null,
       "max_width": null,
       "min_height": null,
       "min_width": null,
       "object_fit": null,
       "object_position": null,
       "order": null,
       "overflow": null,
       "overflow_x": null,
       "overflow_y": null,
       "padding": null,
       "right": null,
       "top": null,
       "visibility": null,
       "width": null
      }
     },
     "0e5969d1bba74e06b4e3836f77de3e5a": {
      "model_module": "@jupyter-widgets/controls",
      "model_module_version": "1.5.0",
      "model_name": "DescriptionStyleModel",
      "state": {
       "_model_module": "@jupyter-widgets/controls",
       "_model_module_version": "1.5.0",
       "_model_name": "DescriptionStyleModel",
       "_view_count": null,
       "_view_module": "@jupyter-widgets/base",
       "_view_module_version": "1.2.0",
       "_view_name": "StyleView",
       "description_width": ""
      }
     },
     "0f7036e5013948429997454ff4367c7e": {
      "model_module": "@jupyter-widgets/controls",
      "model_module_version": "1.5.0",
      "model_name": "DescriptionStyleModel",
      "state": {
       "_model_module": "@jupyter-widgets/controls",
       "_model_module_version": "1.5.0",
       "_model_name": "DescriptionStyleModel",
       "_view_count": null,
       "_view_module": "@jupyter-widgets/base",
       "_view_module_version": "1.2.0",
       "_view_name": "StyleView",
       "description_width": ""
      }
     },
     "11317547ee71430f9ebd8dbd122aa2db": {
      "model_module": "@jupyter-widgets/controls",
      "model_module_version": "1.5.0",
      "model_name": "AccordionModel",
      "state": {
       "_dom_classes": [],
       "_model_module": "@jupyter-widgets/controls",
       "_model_module_version": "1.5.0",
       "_model_name": "AccordionModel",
       "_titles": {
        "0": "Log Output"
       },
       "_view_count": null,
       "_view_module": "@jupyter-widgets/controls",
       "_view_module_version": "1.5.0",
       "_view_name": "AccordionView",
       "box_style": "",
       "children": [
        "IPY_MODEL_3f242c3b67ab43bdb40f3593b5de392d"
       ],
       "layout": "IPY_MODEL_d732471646b2424888e4cca49d81b3cf",
       "selected_index": null
      }
     },
     "11a2b89290304d5ea84442b32149dd0b": {
      "model_module": "@jupyter-widgets/controls",
      "model_module_version": "1.5.0",
      "model_name": "DescriptionStyleModel",
      "state": {
       "_model_module": "@jupyter-widgets/controls",
       "_model_module_version": "1.5.0",
       "_model_name": "DescriptionStyleModel",
       "_view_count": null,
       "_view_module": "@jupyter-widgets/base",
       "_view_module_version": "1.2.0",
       "_view_name": "StyleView",
       "description_width": ""
      }
     },
     "139fb8c2c8524657ba066c2cc6e83214": {
      "model_module": "@jupyter-widgets/controls",
      "model_module_version": "1.5.0",
      "model_name": "AccordionModel",
      "state": {
       "_dom_classes": [],
       "_model_module": "@jupyter-widgets/controls",
       "_model_module_version": "1.5.0",
       "_model_name": "AccordionModel",
       "_titles": {
        "0": "Log Output"
       },
       "_view_count": null,
       "_view_module": "@jupyter-widgets/controls",
       "_view_module_version": "1.5.0",
       "_view_name": "AccordionView",
       "box_style": "",
       "children": [
        "IPY_MODEL_379aa33dc48d42fbbf3d4bbdebba6719"
       ],
       "layout": "IPY_MODEL_fc809ce369d34b24b06283752af6ad8e",
       "selected_index": null
      }
     },
     "14f141a1c6264d1c971541c8976f3946": {
      "model_module": "@jupyter-widgets/controls",
      "model_module_version": "1.5.0",
      "model_name": "AccordionModel",
      "state": {
       "_dom_classes": [],
       "_model_module": "@jupyter-widgets/controls",
       "_model_module_version": "1.5.0",
       "_model_name": "AccordionModel",
       "_titles": {
        "0": "Log Output"
       },
       "_view_count": null,
       "_view_module": "@jupyter-widgets/controls",
       "_view_module_version": "1.5.0",
       "_view_name": "AccordionView",
       "box_style": "",
       "children": [
        "IPY_MODEL_f3591c3dfb1f4883853708a3507d182f"
       ],
       "layout": "IPY_MODEL_19b46c4591924512be7f68e408012022",
       "selected_index": null
      }
     },
     "196ed14e18474260bbb77acffa4844ab": {
      "model_module": "@jupyter-widgets/controls",
      "model_module_version": "1.5.0",
      "model_name": "AccordionModel",
      "state": {
       "_dom_classes": [],
       "_model_module": "@jupyter-widgets/controls",
       "_model_module_version": "1.5.0",
       "_model_name": "AccordionModel",
       "_titles": {
        "0": "Log Output"
       },
       "_view_count": null,
       "_view_module": "@jupyter-widgets/controls",
       "_view_module_version": "1.5.0",
       "_view_name": "AccordionView",
       "box_style": "",
       "children": [
        "IPY_MODEL_4ac1eba3991c41e3b5b950e8158eda6e"
       ],
       "layout": "IPY_MODEL_5fef3024a3894314a80a601c4711b478",
       "selected_index": null
      }
     },
     "19b46c4591924512be7f68e408012022": {
      "model_module": "@jupyter-widgets/base",
      "model_module_version": "1.2.0",
      "model_name": "LayoutModel",
      "state": {
       "_model_module": "@jupyter-widgets/base",
       "_model_module_version": "1.2.0",
       "_model_name": "LayoutModel",
       "_view_count": null,
       "_view_module": "@jupyter-widgets/base",
       "_view_module_version": "1.2.0",
       "_view_name": "LayoutView",
       "align_content": null,
       "align_items": null,
       "align_self": null,
       "border": null,
       "bottom": null,
       "display": null,
       "flex": null,
       "flex_flow": null,
       "grid_area": null,
       "grid_auto_columns": null,
       "grid_auto_flow": null,
       "grid_auto_rows": null,
       "grid_column": null,
       "grid_gap": null,
       "grid_row": null,
       "grid_template_areas": null,
       "grid_template_columns": null,
       "grid_template_rows": null,
       "height": null,
       "justify_content": null,
       "justify_items": null,
       "left": null,
       "margin": null,
       "max_height": null,
       "max_width": null,
       "min_height": null,
       "min_width": null,
       "object_fit": null,
       "object_position": null,
       "order": null,
       "overflow": null,
       "overflow_x": null,
       "overflow_y": null,
       "padding": null,
       "right": null,
       "top": null,
       "visibility": null,
       "width": null
      }
     },
     "1acb7482c03e4d1290b79038187a26da": {
      "model_module": "@jupyter-widgets/base",
      "model_module_version": "1.2.0",
      "model_name": "LayoutModel",
      "state": {
       "_model_module": "@jupyter-widgets/base",
       "_model_module_version": "1.2.0",
       "_model_name": "LayoutModel",
       "_view_count": null,
       "_view_module": "@jupyter-widgets/base",
       "_view_module_version": "1.2.0",
       "_view_name": "LayoutView",
       "align_content": null,
       "align_items": null,
       "align_self": null,
       "border": null,
       "bottom": null,
       "display": null,
       "flex": null,
       "flex_flow": null,
       "grid_area": null,
       "grid_auto_columns": null,
       "grid_auto_flow": null,
       "grid_auto_rows": null,
       "grid_column": null,
       "grid_gap": null,
       "grid_row": null,
       "grid_template_areas": null,
       "grid_template_columns": null,
       "grid_template_rows": null,
       "height": null,
       "justify_content": null,
       "justify_items": null,
       "left": null,
       "margin": null,
       "max_height": null,
       "max_width": null,
       "min_height": null,
       "min_width": null,
       "object_fit": null,
       "object_position": null,
       "order": null,
       "overflow": null,
       "overflow_x": null,
       "overflow_y": null,
       "padding": null,
       "right": null,
       "top": null,
       "visibility": null,
       "width": null
      }
     },
     "1afef8ef0d294108b6b26e554c844ff6": {
      "model_module": "@jupyter-widgets/controls",
      "model_module_version": "1.5.0",
      "model_name": "HTMLModel",
      "state": {
       "_dom_classes": [],
       "_model_module": "@jupyter-widgets/controls",
       "_model_module_version": "1.5.0",
       "_model_name": "HTMLModel",
       "_view_count": null,
       "_view_module": "@jupyter-widgets/controls",
       "_view_module_version": "1.5.0",
       "_view_name": "HTMLView",
       "description": "",
       "description_tooltip": null,
       "layout": "IPY_MODEL_a8219c04d6c9490e84cdd30e20c3ac2b",
       "placeholder": "​",
       "style": "IPY_MODEL_1eb0208ebc9a4b55a52e1a1b7d129d45",
       "value": ""
      }
     },
     "1d390d72a38b4cf0890cf5b5d59d58fb": {
      "model_module": "@jupyter-widgets/controls",
      "model_module_version": "1.5.0",
      "model_name": "AccordionModel",
      "state": {
       "_dom_classes": [],
       "_model_module": "@jupyter-widgets/controls",
       "_model_module_version": "1.5.0",
       "_model_name": "AccordionModel",
       "_titles": {
        "0": "Log Output"
       },
       "_view_count": null,
       "_view_module": "@jupyter-widgets/controls",
       "_view_module_version": "1.5.0",
       "_view_name": "AccordionView",
       "box_style": "",
       "children": [
        "IPY_MODEL_7fdd8e1c92994dd6aad4348b27e40713"
       ],
       "layout": "IPY_MODEL_694abf05ff6841b281b9ef3525f87395",
       "selected_index": null
      }
     },
     "1eb0208ebc9a4b55a52e1a1b7d129d45": {
      "model_module": "@jupyter-widgets/controls",
      "model_module_version": "1.5.0",
      "model_name": "DescriptionStyleModel",
      "state": {
       "_model_module": "@jupyter-widgets/controls",
       "_model_module_version": "1.5.0",
       "_model_name": "DescriptionStyleModel",
       "_view_count": null,
       "_view_module": "@jupyter-widgets/base",
       "_view_module_version": "1.2.0",
       "_view_name": "StyleView",
       "description_width": ""
      }
     },
     "1f1f2cb4dd9e4a429deb0d143b8f8055": {
      "model_module": "@jupyter-widgets/base",
      "model_module_version": "1.2.0",
      "model_name": "LayoutModel",
      "state": {
       "_model_module": "@jupyter-widgets/base",
       "_model_module_version": "1.2.0",
       "_model_name": "LayoutModel",
       "_view_count": null,
       "_view_module": "@jupyter-widgets/base",
       "_view_module_version": "1.2.0",
       "_view_name": "LayoutView",
       "align_content": null,
       "align_items": null,
       "align_self": null,
       "border": null,
       "bottom": null,
       "display": null,
       "flex": null,
       "flex_flow": null,
       "grid_area": null,
       "grid_auto_columns": null,
       "grid_auto_flow": null,
       "grid_auto_rows": null,
       "grid_column": null,
       "grid_gap": null,
       "grid_row": null,
       "grid_template_areas": null,
       "grid_template_columns": null,
       "grid_template_rows": null,
       "height": "16em",
       "justify_content": null,
       "justify_items": null,
       "left": null,
       "margin": null,
       "max_height": null,
       "max_width": null,
       "min_height": null,
       "min_width": null,
       "object_fit": null,
       "object_position": null,
       "order": null,
       "overflow": null,
       "overflow_x": null,
       "overflow_y": "auto",
       "padding": null,
       "right": null,
       "top": null,
       "visibility": null,
       "width": "100%"
      }
     },
     "21b27d58ab3b47e58727573abfe84d5d": {
      "model_module": "@jupyter-widgets/controls",
      "model_module_version": "1.5.0",
      "model_name": "AccordionModel",
      "state": {
       "_dom_classes": [],
       "_model_module": "@jupyter-widgets/controls",
       "_model_module_version": "1.5.0",
       "_model_name": "AccordionModel",
       "_titles": {
        "0": "Log Output"
       },
       "_view_count": null,
       "_view_module": "@jupyter-widgets/controls",
       "_view_module_version": "1.5.0",
       "_view_name": "AccordionView",
       "box_style": "",
       "children": [
        "IPY_MODEL_7810e519e96d48fdb517b553672a087d"
       ],
       "layout": "IPY_MODEL_487a75ee88114d26a21e9342dbf76d5a",
       "selected_index": null
      }
     },
     "2509fc906e0141b98efc17a8c30332d6": {
      "model_module": "@jupyter-widgets/base",
      "model_module_version": "1.2.0",
      "model_name": "LayoutModel",
      "state": {
       "_model_module": "@jupyter-widgets/base",
       "_model_module_version": "1.2.0",
       "_model_name": "LayoutModel",
       "_view_count": null,
       "_view_module": "@jupyter-widgets/base",
       "_view_module_version": "1.2.0",
       "_view_name": "LayoutView",
       "align_content": null,
       "align_items": null,
       "align_self": null,
       "border": null,
       "bottom": null,
       "display": null,
       "flex": null,
       "flex_flow": null,
       "grid_area": null,
       "grid_auto_columns": null,
       "grid_auto_flow": null,
       "grid_auto_rows": null,
       "grid_column": null,
       "grid_gap": null,
       "grid_row": null,
       "grid_template_areas": null,
       "grid_template_columns": null,
       "grid_template_rows": null,
       "height": null,
       "justify_content": null,
       "justify_items": null,
       "left": null,
       "margin": null,
       "max_height": null,
       "max_width": null,
       "min_height": null,
       "min_width": null,
       "object_fit": null,
       "object_position": null,
       "order": null,
       "overflow": null,
       "overflow_x": null,
       "overflow_y": null,
       "padding": null,
       "right": null,
       "top": null,
       "visibility": null,
       "width": null
      }
     },
     "2561b251b4ac40b59cf827f1929d1902": {
      "model_module": "@jupyter-widgets/controls",
      "model_module_version": "1.5.0",
      "model_name": "AccordionModel",
      "state": {
       "_dom_classes": [],
       "_model_module": "@jupyter-widgets/controls",
       "_model_module_version": "1.5.0",
       "_model_name": "AccordionModel",
       "_titles": {
        "0": "Log Output"
       },
       "_view_count": null,
       "_view_module": "@jupyter-widgets/controls",
       "_view_module_version": "1.5.0",
       "_view_name": "AccordionView",
       "box_style": "",
       "children": [
        "IPY_MODEL_bc1cb53ebfa9441280f97919100cae19"
       ],
       "layout": "IPY_MODEL_a7ed4ec3775042c38fb67db75fd6081a",
       "selected_index": null
      }
     },
     "27c2ae13e8ed467d96b29b442fe529d1": {
      "model_module": "@jupyter-widgets/controls",
      "model_module_version": "1.5.0",
      "model_name": "DescriptionStyleModel",
      "state": {
       "_model_module": "@jupyter-widgets/controls",
       "_model_module_version": "1.5.0",
       "_model_name": "DescriptionStyleModel",
       "_view_count": null,
       "_view_module": "@jupyter-widgets/base",
       "_view_module_version": "1.2.0",
       "_view_name": "StyleView",
       "description_width": ""
      }
     },
     "29c9113d476e4a8888d9f0b0ce07aadb": {
      "model_module": "@jupyter-widgets/controls",
      "model_module_version": "1.5.0",
      "model_name": "AccordionModel",
      "state": {
       "_dom_classes": [],
       "_model_module": "@jupyter-widgets/controls",
       "_model_module_version": "1.5.0",
       "_model_name": "AccordionModel",
       "_titles": {
        "0": "Log Output"
       },
       "_view_count": null,
       "_view_module": "@jupyter-widgets/controls",
       "_view_module_version": "1.5.0",
       "_view_name": "AccordionView",
       "box_style": "",
       "children": [
        "IPY_MODEL_39e064baa85b4011b59488ae92f8aa71"
       ],
       "layout": "IPY_MODEL_c90d347a9f7240cd94969884e2dbac06",
       "selected_index": null
      }
     },
     "35396aa82e8d462187403ebc521f1568": {
      "model_module": "@jupyter-widgets/controls",
      "model_module_version": "1.5.0",
      "model_name": "DescriptionStyleModel",
      "state": {
       "_model_module": "@jupyter-widgets/controls",
       "_model_module_version": "1.5.0",
       "_model_name": "DescriptionStyleModel",
       "_view_count": null,
       "_view_module": "@jupyter-widgets/base",
       "_view_module_version": "1.2.0",
       "_view_name": "StyleView",
       "description_width": ""
      }
     },
     "366868737da244b28709816fca52e7d9": {
      "model_module": "@jupyter-widgets/controls",
      "model_module_version": "1.5.0",
      "model_name": "HTMLModel",
      "state": {
       "_dom_classes": [],
       "_model_module": "@jupyter-widgets/controls",
       "_model_module_version": "1.5.0",
       "_model_name": "HTMLModel",
       "_view_count": null,
       "_view_module": "@jupyter-widgets/controls",
       "_view_module_version": "1.5.0",
       "_view_name": "HTMLView",
       "description": "",
       "description_tooltip": null,
       "layout": "IPY_MODEL_aa2f019cc857407cb67135f48365d762",
       "placeholder": "​",
       "style": "IPY_MODEL_91ec70c21f964636b9245dc30eec1451",
       "value": ""
      }
     },
     "379aa33dc48d42fbbf3d4bbdebba6719": {
      "model_module": "@jupyter-widgets/controls",
      "model_module_version": "1.5.0",
      "model_name": "HTMLModel",
      "state": {
       "_dom_classes": [],
       "_model_module": "@jupyter-widgets/controls",
       "_model_module_version": "1.5.0",
       "_model_name": "HTMLModel",
       "_view_count": null,
       "_view_module": "@jupyter-widgets/controls",
       "_view_module_version": "1.5.0",
       "_view_name": "HTMLView",
       "description": "",
       "description_tooltip": null,
       "layout": "IPY_MODEL_8a57733af1d34cf08e7ad40aa595744c",
       "placeholder": "​",
       "style": "IPY_MODEL_779a33b1d0ad4ea787d56d3f3c798158",
       "value": ""
      }
     },
     "395ea07ea18b4287af261f1df6a2095e": {
      "model_module": "@jupyter-widgets/output",
      "model_module_version": "1.0.0",
      "model_name": "OutputModel",
      "state": {
       "_dom_classes": [],
       "_model_module": "@jupyter-widgets/output",
       "_model_module_version": "1.0.0",
       "_model_name": "OutputModel",
       "_view_count": null,
       "_view_module": "@jupyter-widgets/output",
       "_view_module_version": "1.0.0",
       "_view_name": "OutputView",
       "layout": "IPY_MODEL_e866226b03344e1382fcc4cefd3c3d0e",
       "msg_id": "",
       "outputs": [
        {
         "data": {
          "image/png": "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\n",
          "text/plain": "<Figure size 432x432 with 2 Axes>"
         },
         "metadata": {
          "needs_background": "light"
         },
         "output_type": "display_data"
        }
       ]
      }
     },
     "39e064baa85b4011b59488ae92f8aa71": {
      "model_module": "@jupyter-widgets/controls",
      "model_module_version": "1.5.0",
      "model_name": "HTMLModel",
      "state": {
       "_dom_classes": [],
       "_model_module": "@jupyter-widgets/controls",
       "_model_module_version": "1.5.0",
       "_model_name": "HTMLModel",
       "_view_count": null,
       "_view_module": "@jupyter-widgets/controls",
       "_view_module_version": "1.5.0",
       "_view_name": "HTMLView",
       "description": "",
       "description_tooltip": null,
       "layout": "IPY_MODEL_802b3e3a116744cfa414c55d14b05ec0",
       "placeholder": "​",
       "style": "IPY_MODEL_6547a8345f31481a9357e2a1e5c972d8",
       "value": ""
      }
     },
     "3f242c3b67ab43bdb40f3593b5de392d": {
      "model_module": "@jupyter-widgets/controls",
      "model_module_version": "1.5.0",
      "model_name": "HTMLModel",
      "state": {
       "_dom_classes": [],
       "_model_module": "@jupyter-widgets/controls",
       "_model_module_version": "1.5.0",
       "_model_name": "HTMLModel",
       "_view_count": null,
       "_view_module": "@jupyter-widgets/controls",
       "_view_module_version": "1.5.0",
       "_view_name": "HTMLView",
       "description": "",
       "description_tooltip": null,
       "layout": "IPY_MODEL_88ceb8ae0b4e488092d69c4f4f51b376",
       "placeholder": "​",
       "style": "IPY_MODEL_7f77afe02bc84f84bdfcc8acd8bba6df",
       "value": "<p style=\"line-height:120%\">00:01 <bold>CoerciveRBReductor</bold>: Operator projection ...</p><p style=\"line-height:120%\">00:01 <bold>CoerciveRBReductor</bold>: Assembling error estimator ...</p><p style=\"line-height:120%\">00:01 |   <bold>ResidualReductor</bold>: Estimating residual range ...</p><p style=\"line-height:120%\">00:02 |   <bold>ResidualReductor</bold>: Projecting residual operator ...</p><p style=\"line-height:120%\">00:02 <bold>CoerciveRBReductor</bold>: Building ROM ...</p><p style=\"line-height:120%\">00:03 <bold>StationaryModel</bold>: Solving ThermalBlock((3, 2))_CG for {diffusion: [0.1, 0.1, 0.1, 0.1, 0.1, 0.1]} ...</p><p style=\"line-height:120%\">00:03 <bold>CoerciveRBReductor</bold>: Operator projection ...</p><p style=\"line-height:120%\">00:03 <bold>CoerciveRBReductor</bold>: Assembling error estimator ...</p><p style=\"line-height:120%\">00:03 |   <bold>ResidualReductor</bold>: Estimating residual range ...</p><p style=\"line-height:120%\">00:04 |   <bold>ResidualReductor</bold>: Projecting residual operator ...</p><p style=\"line-height:120%\">00:04 <bold>CoerciveRBReductor</bold>: Building ROM ...</p><p style=\"line-height:120%\">00:06 <bold>StationaryModel</bold>: Solving ThermalBlock((3, 2))_CG for {diffusion: [0.1, 0.1, 0.1, 0.1, 0.1, 1.0]} ...</p><p style=\"line-height:120%\">00:06 <bold>CoerciveRBReductor</bold>: Operator projection ...</p><p style=\"line-height:120%\">00:06 <bold>CoerciveRBReductor</bold>: Assembling error estimator ...</p><p style=\"line-height:120%\">00:06 |   <bold>ResidualReductor</bold>: Estimating residual range ...</p><p style=\"line-height:120%\">00:06 |   <bold>ResidualReductor</bold>: Projecting residual operator ...</p><p style=\"line-height:120%\">00:06 <bold>CoerciveRBReductor</bold>: Building ROM ...</p><p style=\"line-height:120%\">00:08 <bold>StationaryModel</bold>: Solving ThermalBlock((3, 2))_CG for {diffusion: [0.1, 0.1, 1.0, 0.1, 0.1, 0.1]} ...</p><p style=\"line-height:120%\">00:08 <bold>CoerciveRBReductor</bold>: Operator projection ...</p><p style=\"line-height:120%\">00:08 <bold>CoerciveRBReductor</bold>: Assembling error estimator ...</p><p style=\"line-height:120%\">00:08 |   <bold>ResidualReductor</bold>: Estimating residual range ...</p><p style=\"line-height:120%\">00:08 |   <bold>ResidualReductor</bold>: Projecting residual operator ...</p><p style=\"line-height:120%\">00:08 <bold>CoerciveRBReductor</bold>: Building ROM ...</p><p style=\"line-height:120%\">00:10 <bold>StationaryModel</bold>: Solving ThermalBlock((3, 2))_CG for {diffusion: [0.1, 0.1, 1.0, 0.1, 0.1, 1.0]} ...</p><p style=\"line-height:120%\">00:10 <bold>CoerciveRBReductor</bold>: Operator projection ...</p><p style=\"line-height:120%\">00:10 <bold>CoerciveRBReductor</bold>: Assembling error estimator ...</p><p style=\"line-height:120%\">00:10 |   <bold>ResidualReductor</bold>: Estimating residual range ...</p><p style=\"line-height:120%\">00:10 |   <bold>ResidualReductor</bold>: Projecting residual operator ...</p><p style=\"line-height:120%\">00:10 <bold>CoerciveRBReductor</bold>: Building ROM ...</p><p style=\"line-height:120%\">00:13 <bold>StationaryModel</bold>: Solving ThermalBlock((3, 2))_CG for {diffusion: [0.1, 1.0, 0.1, 0.1, 0.1, 0.1]} ...</p><p style=\"line-height:120%\">00:13 <bold>CoerciveRBReductor</bold>: Operator projection ...</p><p style=\"line-height:120%\">00:13 <bold>CoerciveRBReductor</bold>: Assembling error estimator ...</p><p style=\"line-height:120%\">00:13 |   <bold>ResidualReductor</bold>: Estimating residual range ...</p><p style=\"line-height:120%\">00:13 |   <bold>ResidualReductor</bold>: Projecting residual operator ...</p><p style=\"line-height:120%\">00:13 <bold>CoerciveRBReductor</bold>: Building ROM ...</p><p style=\"line-height:120%\">00:15 <bold>StationaryModel</bold>: Solving ThermalBlock((3, 2))_CG for {diffusion: [0.1, 1.0, 1.0, 0.1, 0.1, 0.1]} ...</p><p style=\"line-height:120%\">00:15 <bold>CoerciveRBReductor</bold>: Operator projection ...</p><p style=\"line-height:120%\">00:15 <bold>CoerciveRBReductor</bold>: Assembling error estimator ...</p><p style=\"line-height:120%\">00:15 |   <bold>ResidualReductor</bold>: Estimating residual range ...</p><p style=\"line-height:120%\">00:15 |   <bold>ResidualReductor</bold>: Projecting residual operator ...</p><p style=\"line-height:120%\">00:15 <bold>CoerciveRBReductor</bold>: Building ROM ...</p><p style=\"line-height:120%\">00:17 <bold>StationaryModel</bold>: Solving ThermalBlock((3, 2))_CG for {diffusion: [0.1, 0.1, 0.1, 0.1, 1.0, 0.1]} ...</p><p style=\"line-height:120%\">00:17 <bold>CoerciveRBReductor</bold>: Operator projection ...</p><p style=\"line-height:120%\">00:17 <bold>CoerciveRBReductor</bold>: Assembling error estimator ...</p><p style=\"line-height:120%\">00:17 |   <bold>ResidualReductor</bold>: Estimating residual range ...</p><p style=\"line-height:120%\">00:17 |   <bold>ResidualReductor</bold>: Projecting residual operator ...</p><p style=\"line-height:120%\">00:17 <bold>CoerciveRBReductor</bold>: Building ROM ...</p><p style=\"line-height:120%\">00:20 <bold>StationaryModel</bold>: Solving ThermalBlock((3, 2))_CG for {diffusion: [0.1, 0.1, 0.1, 0.1, 1.0, 1.0]} ...</p><p style=\"line-height:120%\">00:20 <bold>CoerciveRBReductor</bold>: Operator projection ...</p><p style=\"line-height:120%\">00:20 <bold>CoerciveRBReductor</bold>: Assembling error estimator ...</p><p style=\"line-height:120%\">00:20 |   <bold>ResidualReductor</bold>: Estimating residual range ...</p><p style=\"line-height:120%\">00:20 |   <bold>ResidualReductor</bold>: Projecting residual operator ...</p><p style=\"line-height:120%\">00:20 <bold>CoerciveRBReductor</bold>: Building ROM ...</p><p style=\"line-height:120%\">00:22 <bold>StationaryModel</bold>: Solving ThermalBlock((3, 2))_CG for {diffusion: [0.1, 0.1, 0.1, 1.0, 1.0, 0.1]} ...</p><p style=\"line-height:120%\">00:22 <bold>CoerciveRBReductor</bold>: Operator projection ...</p><p style=\"line-height:120%\">00:22 <bold>CoerciveRBReductor</bold>: Assembling error estimator ...</p><p style=\"line-height:120%\">00:22 |   <bold>ResidualReductor</bold>: Estimating residual range ...</p><p style=\"line-height:120%\">00:22 |   <bold>ResidualReductor</bold>: Projecting residual operator ...</p><p style=\"line-height:120%\">00:22 <bold>CoerciveRBReductor</bold>: Building ROM ...</p><p style=\"line-height:120%\">00:24 <bold>StationaryModel</bold>: Solving ThermalBlock((3, 2))_CG for {diffusion: [1.0, 1.0, 0.1, 0.1, 0.1, 0.1]} ...</p><p style=\"line-height:120%\">00:24 <bold>CoerciveRBReductor</bold>: Operator projection ...</p><p style=\"line-height:120%\">00:24 <bold>CoerciveRBReductor</bold>: Assembling error estimator ...</p><p style=\"line-height:120%\">00:24 |   <bold>ResidualReductor</bold>: Estimating residual range ...</p><p style=\"line-height:120%\">00:25 |   <bold>ResidualReductor</bold>: Projecting residual operator ...</p><p style=\"line-height:120%\">00:25 <bold>CoerciveRBReductor</bold>: Building ROM ...</p><p style=\"line-height:120%\">00:27 <bold>StationaryModel</bold>: Solving ThermalBlock((3, 2))_CG for {diffusion: [1.0, 0.1, 0.1, 1.0, 0.1, 0.1]} ...</p><p style=\"line-height:120%\">00:27 <bold>CoerciveRBReductor</bold>: Operator projection ...</p><p style=\"line-height:120%\">00:27 <bold>CoerciveRBReductor</bold>: Assembling error estimator ...</p><p style=\"line-height:120%\">00:27 |   <bold>ResidualReductor</bold>: Estimating residual range ...</p><p style=\"line-height:120%\">00:27 |   <bold>ResidualReductor</bold>: Projecting residual operator ...</p><p style=\"line-height:120%\">00:27 <bold>CoerciveRBReductor</bold>: Building ROM ...</p><p style=\"line-height:120%\">00:29 <bold>StationaryModel</bold>: Solving ThermalBlock((3, 2))_CG for {diffusion: [0.1, 1.0, 0.1, 1.0, 0.1, 1.0]} ...</p><p style=\"line-height:120%\">00:29 <bold>CoerciveRBReductor</bold>: Operator projection ...</p><p style=\"line-height:120%\">00:29 <bold>CoerciveRBReductor</bold>: Assembling error estimator ...</p><p style=\"line-height:120%\">00:29 |   <bold>ResidualReductor</bold>: Estimating residual range ...</p><p style=\"line-height:120%\">00:29 |   <bold>ResidualReductor</bold>: Projecting residual operator ...</p><p style=\"line-height:120%\">00:29 <bold>CoerciveRBReductor</bold>: Building ROM ...</p><p style=\"line-height:120%\">00:32 <bold>StationaryModel</bold>: Solving ThermalBlock((3, 2))_CG for {diffusion: [1.0, 0.1, 1.0, 0.1, 1.0, 0.1]} ...</p><p style=\"line-height:120%\">00:32 <bold>CoerciveRBReductor</bold>: Operator projection ...</p><p style=\"line-height:120%\">00:32 <bold>CoerciveRBReductor</bold>: Assembling error estimator ...</p><p style=\"line-height:120%\">00:32 |   <bold>ResidualReductor</bold>: Estimating residual range ...</p><p style=\"line-height:120%\">00:32 |   <bold>ResidualReductor</bold>: Projecting residual operator ...</p><p style=\"line-height:120%\">00:32 <bold>CoerciveRBReductor</bold>: Building ROM ...</p><p style=\"line-height:120%\">00:34 <bold>StationaryModel</bold>: Solving ThermalBlock((3, 2))_CG for {diffusion: [0.1, 1.0, 1.0, 0.1, 1.0, 0.1]} ...</p><p style=\"line-height:120%\">00:34 <bold>CoerciveRBReductor</bold>: Operator projection ...</p><p style=\"line-height:120%\">00:34 <bold>CoerciveRBReductor</bold>: Assembling error estimator ...</p><p style=\"line-height:120%\">00:34 |   <bold>ResidualReductor</bold>: Estimating residual range ...</p><p style=\"line-height:120%\">00:34 |   <bold>ResidualReductor</bold>: Projecting residual operator ...</p><p style=\"line-height:120%\">00:34 <bold>CoerciveRBReductor</bold>: Building ROM ...</p><p style=\"line-height:120%\">00:37 <bold>StationaryModel</bold>: Solving ThermalBlock((3, 2))_CG for {diffusion: [1.0, 1.0, 0.1, 1.0, 0.1, 1.0]} ...</p><p style=\"line-height:120%\">00:37 <bold>CoerciveRBReductor</bold>: Operator projection ...</p><p style=\"line-height:120%\">00:37 <bold>CoerciveRBReductor</bold>: Assembling error estimator ...</p><p style=\"line-height:120%\">00:37 |   <bold>ResidualReductor</bold>: Estimating residual range ...</p><p style=\"line-height:120%\">00:37 |   <bold>ResidualReductor</bold>: Projecting residual operator ...</p><p style=\"line-height:120%\">00:37 <bold>CoerciveRBReductor</bold>: Building ROM ...</p><p style=\"line-height:120%\">00:39 <bold>StationaryModel</bold>: Solving ThermalBlock((3, 2))_CG for {diffusion: [1.0, 0.1, 0.1, 1.0, 1.0, 0.1]} ...</p><p style=\"line-height:120%\">00:39 <bold>CoerciveRBReductor</bold>: Operator projection ...</p><p style=\"line-height:120%\">00:39 <bold>CoerciveRBReductor</bold>: Assembling error estimator ...</p><p style=\"line-height:120%\">00:39 |   <bold>ResidualReductor</bold>: Estimating residual range ...</p><p style=\"line-height:120%\">00:39 |   <bold>ResidualReductor</bold>: Projecting residual operator ...</p><p style=\"line-height:120%\">00:39 <bold>CoerciveRBReductor</bold>: Building ROM ...</p><p style=\"line-height:120%\">00:42 <bold>StationaryModel</bold>: Solving ThermalBlock((3, 2))_CG for {diffusion: [0.1, 1.0, 1.0, 1.0, 0.1, 0.1]} ...</p><p style=\"line-height:120%\">00:42 <bold>CoerciveRBReductor</bold>: Operator projection ...</p><p style=\"line-height:120%\">00:42 <bold>CoerciveRBReductor</bold>: Assembling error estimator ...</p><p style=\"line-height:120%\">00:42 |   <bold>ResidualReductor</bold>: Estimating residual range ...</p><p style=\"line-height:120%\">00:42 |   <bold>ResidualReductor</bold>: Projecting residual operator ...</p><p style=\"line-height:120%\">00:42 <bold>CoerciveRBReductor</bold>: Building ROM ...</p><p style=\"line-height:120%\">00:44 <bold>StationaryModel</bold>: Solving ThermalBlock((3, 2))_CG for {diffusion: [1.0, 1.0, 0.1, 0.1, 1.0, 1.0]} ...</p><p style=\"line-height:120%\">00:44 <bold>CoerciveRBReductor</bold>: Operator projection ...</p><p style=\"line-height:120%\">00:44 <bold>CoerciveRBReductor</bold>: Assembling error estimator ...</p><p style=\"line-height:120%\">00:44 |   <bold>ResidualReductor</bold>: Estimating residual range ...</p><p style=\"line-height:120%\">00:44 |   <bold>ResidualReductor</bold>: Projecting residual operator ...</p><p style=\"line-height:120%\">00:44 <bold>CoerciveRBReductor</bold>: Building ROM ...</p><p style=\"line-height:120%\">00:47 <bold>StationaryModel</bold>: Solving ThermalBlock((3, 2))_CG for {diffusion: [1.0, 1.0, 1.0, 1.0, 1.0, 0.1]} ...</p><p style=\"line-height:120%\">00:47 <bold>CoerciveRBReductor</bold>: Operator projection ...</p><p style=\"line-height:120%\">00:47 <bold>CoerciveRBReductor</bold>: Assembling error estimator ...</p><p style=\"line-height:120%\">00:47 |   <bold>ResidualReductor</bold>: Estimating residual range ...</p><p style=\"line-height:120%\">00:47 |   <bold>ResidualReductor</bold>: Projecting residual operator ...</p><p style=\"line-height:120%\">00:47 <bold>CoerciveRBReductor</bold>: Building ROM ...</p><p style=\"line-height:120%\">00:49 <bold>StationaryModel</bold>: Solving ThermalBlock((3, 2))_CG for {diffusion: [1.0, 1.0, 1.0, 0.1, 0.1, 1.0]} ...</p><p style=\"line-height:120%\">00:49 <bold>CoerciveRBReductor</bold>: Operator projection ...</p><p style=\"line-height:120%\">00:49 <bold>CoerciveRBReductor</bold>: Assembling error estimator ...</p><p style=\"line-height:120%\">00:49 |   <bold>ResidualReductor</bold>: Estimating residual range ...</p><p style=\"line-height:120%\">00:50 |   <bold>ResidualReductor</bold>: Projecting residual operator ...</p><p style=\"line-height:120%\">00:50 <bold>CoerciveRBReductor</bold>: Building ROM ...</p><p style=\"line-height:120%\">00:52 <bold>StationaryModel</bold>: Solving ThermalBlock((3, 2))_CG for {diffusion: [0.1, 0.1, 1.0, 0.1, 1.0, 1.0]} ...</p><p style=\"line-height:120%\">00:52 <bold>CoerciveRBReductor</bold>: Operator projection ...</p><p style=\"line-height:120%\">00:52 <bold>CoerciveRBReductor</bold>: Assembling error estimator ...</p><p style=\"line-height:120%\">00:52 |   <bold>ResidualReductor</bold>: Estimating residual range ...</p><p style=\"line-height:120%\">00:52 |   <bold>ResidualReductor</bold>: Projecting residual operator ...</p><p style=\"line-height:120%\">00:52 <bold>CoerciveRBReductor</bold>: Building ROM ...</p><p style=\"line-height:120%\">00:55 <bold>StationaryModel</bold>: Solving ThermalBlock((3, 2))_CG for {diffusion: [0.1, 1.0, 0.1, 1.0, 1.0, 0.1]} ...</p><p style=\"line-height:120%\">00:55 <bold>CoerciveRBReductor</bold>: Operator projection ...</p><p style=\"line-height:120%\">00:55 <bold>CoerciveRBReductor</bold>: Assembling error estimator ...</p><p style=\"line-height:120%\">00:55 |   <bold>ResidualReductor</bold>: Estimating residual range ...</p><p style=\"line-height:120%\">00:55 |   <bold>ResidualReductor</bold>: Projecting residual operator ...</p><p style=\"line-height:120%\">00:55 <bold>CoerciveRBReductor</bold>: Building ROM ...</p><p style=\"line-height:120%\">00:57 <bold>StationaryModel</bold>: Solving ThermalBlock((3, 2))_CG for {diffusion: [1.0, 0.1, 1.0, 1.0, 0.1, 1.0]} ...</p><p style=\"line-height:120%\">00:57 <bold>CoerciveRBReductor</bold>: Operator projection ...</p><p style=\"line-height:120%\">00:57 <bold>CoerciveRBReductor</bold>: Assembling error estimator ...</p><p style=\"line-height:120%\">00:57 |   <bold>ResidualReductor</bold>: Estimating residual range ...</p><p style=\"line-height:120%\">00:57 |   <bold>ResidualReductor</bold>: Projecting residual operator ...</p><p style=\"line-height:120%\">00:57 <bold>CoerciveRBReductor</bold>: Building ROM ...</p><p style=\"line-height:120%\">01:00 <bold>StationaryModel</bold>: Solving ThermalBlock((3, 2))_CG for {diffusion: [0.1, 1.0, 0.1, 1.0, 1.0, 1.0]} ...</p><p style=\"line-height:120%\">01:00 <bold>CoerciveRBReductor</bold>: Operator projection ...</p><p style=\"line-height:120%\">01:00 <bold>CoerciveRBReductor</bold>: Assembling error estimator ...</p><p style=\"line-height:120%\">01:00 |   <bold>ResidualReductor</bold>: Estimating residual range ...</p><p style=\"line-height:120%\">01:00 |   <bold>ResidualReductor</bold>: Projecting residual operator ...</p><p style=\"line-height:120%\">01:00 <bold>CoerciveRBReductor</bold>: Building ROM ...</p><p style=\"line-height:120%\">01:02 <bold>StationaryModel</bold>: Solving ThermalBlock((3, 2))_CG for {diffusion: [1.0, 0.1, 0.1, 0.1, 0.4, 0.1]} ...</p><p style=\"line-height:120%\">01:03 <bold>CoerciveRBReductor</bold>: Operator projection ...</p><p style=\"line-height:120%\">01:03 <bold>CoerciveRBReductor</bold>: Assembling error estimator ...</p><p style=\"line-height:120%\">01:03 |   <bold>ResidualReductor</bold>: Estimating residual range ...</p><p style=\"line-height:120%\">01:03 |   <bold>ResidualReductor</bold>: Projecting residual operator ...</p><p style=\"line-height:120%\">01:03 <bold>CoerciveRBReductor</bold>: Building ROM ...</p><p style=\"line-height:120%\">01:05 <bold>StationaryModel</bold>: Solving ThermalBlock((3, 2))_CG for {diffusion: [0.1, 0.4, 0.1, 1.0, 0.1, 0.1]} ...</p><p style=\"line-height:120%\">01:05 <bold>CoerciveRBReductor</bold>: Operator projection ...</p><p style=\"line-height:120%\">01:05 <bold>CoerciveRBReductor</bold>: Assembling error estimator ...</p><p style=\"line-height:120%\">01:05 |   <bold>ResidualReductor</bold>: Estimating residual range ...</p><p style=\"line-height:120%\">01:06 |   <bold>ResidualReductor</bold>: Projecting residual operator ...</p><p style=\"line-height:120%\">01:06 <bold>CoerciveRBReductor</bold>: Building ROM ...</p><p style=\"line-height:120%\">01:08 <bold>StationaryModel</bold>: Solving ThermalBlock((3, 2))_CG for {diffusion: [0.1, 0.4, 1.0, 0.1, 0.4, 1.0]} ...</p><p style=\"line-height:120%\">01:08 <bold>CoerciveRBReductor</bold>: Operator projection ...</p><p style=\"line-height:120%\">01:08 <bold>CoerciveRBReductor</bold>: Assembling error estimator ...</p><p style=\"line-height:120%\">01:08 |   <bold>ResidualReductor</bold>: Estimating residual range ...</p><p style=\"line-height:120%\">01:09 |   <bold>ResidualReductor</bold>: Projecting residual operator ...</p><p style=\"line-height:120%\">01:09 <bold>CoerciveRBReductor</bold>: Building ROM ...</p><p style=\"line-height:120%\">01:11 <bold>StationaryModel</bold>: Solving ThermalBlock((3, 2))_CG for {diffusion: [0.1, 0.4, 1.0, 1.0, 0.4, 0.1]} ...</p><p style=\"line-height:120%\">01:11 <bold>CoerciveRBReductor</bold>: Operator projection ...</p><p style=\"line-height:120%\">01:11 <bold>CoerciveRBReductor</bold>: Assembling error estimator ...</p><p style=\"line-height:120%\">01:11 |   <bold>ResidualReductor</bold>: Estimating residual range ...</p><p style=\"line-height:120%\">01:11 |   <bold>ResidualReductor</bold>: Projecting residual operator ...</p><p style=\"line-height:120%\">01:11 <bold>CoerciveRBReductor</bold>: Building ROM ...</p><p style=\"line-height:120%\">01:14 <bold>StationaryModel</bold>: Solving ThermalBlock((3, 2))_CG for {diffusion: [0.1, 1.0, 1.0, 0.4, 0.1, 1.0]} ...</p><p style=\"line-height:120%\">01:14 <bold>CoerciveRBReductor</bold>: Operator projection ...</p><p style=\"line-height:120%\">01:14 <bold>CoerciveRBReductor</bold>: Assembling error estimator ...</p><p style=\"line-height:120%\">01:14 |   <bold>ResidualReductor</bold>: Estimating residual range ...</p><p style=\"line-height:120%\">01:14 |   <bold>ResidualReductor</bold>: Projecting residual operator ...</p><p style=\"line-height:120%\">01:14 <bold>CoerciveRBReductor</bold>: Building ROM ...</p><p style=\"line-height:120%\">01:17 <bold>StationaryModel</bold>: Solving ThermalBlock((3, 2))_CG for {diffusion: [0.1, 0.4, 0.1, 1.0, 1.0, 1.0]} ...</p><p style=\"line-height:120%\">01:17 <bold>CoerciveRBReductor</bold>: Operator projection ...</p><p style=\"line-height:120%\">01:17 <bold>CoerciveRBReductor</bold>: Assembling error estimator ...</p><p style=\"line-height:120%\">01:17 |   <bold>ResidualReductor</bold>: Estimating residual range ...</p><p style=\"line-height:120%\">01:17 |   <bold>ResidualReductor</bold>: Projecting residual operator ...</p><p style=\"line-height:120%\">01:17 <bold>CoerciveRBReductor</bold>: Building ROM ...</p><p style=\"line-height:120%\">01:20 <bold>StationaryModel</bold>: Solving ThermalBlock((3, 2))_CG for {diffusion: [1.0, 0.4, 0.1, 0.1, 0.4, 1.0]} ...</p><p style=\"line-height:120%\">01:20 <bold>CoerciveRBReductor</bold>: Operator projection ...</p><p style=\"line-height:120%\">01:20 <bold>CoerciveRBReductor</bold>: Assembling error estimator ...</p><p style=\"line-height:120%\">01:20 |   <bold>ResidualReductor</bold>: Estimating residual range ...</p><p style=\"line-height:120%\">01:20 |   <bold>ResidualReductor</bold>: Projecting residual operator ...</p><p style=\"line-height:120%\">01:20 <bold>CoerciveRBReductor</bold>: Building ROM ...</p><p style=\"line-height:120%\">01:23 <bold>StationaryModel</bold>: Solving ThermalBlock((3, 2))_CG for {diffusion: [1.0, 0.1, 1.0, 0.1, 0.1, 0.1]} ...</p><p style=\"line-height:120%\">01:23 <bold>CoerciveRBReductor</bold>: Operator projection ...</p><p style=\"line-height:120%\">01:23 <bold>CoerciveRBReductor</bold>: Assembling error estimator ...</p><p style=\"line-height:120%\">01:23 |   <bold>ResidualReductor</bold>: Estimating residual range ...</p><p style=\"line-height:120%\">01:23 |   <bold>ResidualReductor</bold>: Projecting residual operator ...</p><p style=\"line-height:120%\">01:23 <bold>CoerciveRBReductor</bold>: Building ROM ...</p>"
      }
     },
     "487a75ee88114d26a21e9342dbf76d5a": {
      "model_module": "@jupyter-widgets/base",
      "model_module_version": "1.2.0",
      "model_name": "LayoutModel",
      "state": {
       "_model_module": "@jupyter-widgets/base",
       "_model_module_version": "1.2.0",
       "_model_name": "LayoutModel",
       "_view_count": null,
       "_view_module": "@jupyter-widgets/base",
       "_view_module_version": "1.2.0",
       "_view_name": "LayoutView",
       "align_content": null,
       "align_items": null,
       "align_self": null,
       "border": null,
       "bottom": null,
       "display": null,
       "flex": null,
       "flex_flow": null,
       "grid_area": null,
       "grid_auto_columns": null,
       "grid_auto_flow": null,
       "grid_auto_rows": null,
       "grid_column": null,
       "grid_gap": null,
       "grid_row": null,
       "grid_template_areas": null,
       "grid_template_columns": null,
       "grid_template_rows": null,
       "height": null,
       "justify_content": null,
       "justify_items": null,
       "left": null,
       "margin": null,
       "max_height": null,
       "max_width": null,
       "min_height": null,
       "min_width": null,
       "object_fit": null,
       "object_position": null,
       "order": null,
       "overflow": null,
       "overflow_x": null,
       "overflow_y": null,
       "padding": null,
       "right": null,
       "top": null,
       "visibility": null,
       "width": null
      }
     },
     "4ac1eba3991c41e3b5b950e8158eda6e": {
      "model_module": "@jupyter-widgets/controls",
      "model_module_version": "1.5.0",
      "model_name": "HTMLModel",
      "state": {
       "_dom_classes": [],
       "_model_module": "@jupyter-widgets/controls",
       "_model_module_version": "1.5.0",
       "_model_name": "HTMLModel",
       "_view_count": null,
       "_view_module": "@jupyter-widgets/controls",
       "_view_module_version": "1.5.0",
       "_view_name": "HTMLView",
       "description": "",
       "description_tooltip": null,
       "layout": "IPY_MODEL_98ef72fe764f42cc8ba34c449e48bf0e",
       "placeholder": "​",
       "style": "IPY_MODEL_9d52ec2d19c24e58b9f99ae938118e1b",
       "value": ""
      }
     },
     "52bb41c3ae49406e95a7b97ed162477d": {
      "model_module": "@jupyter-widgets/base",
      "model_module_version": "1.2.0",
      "model_name": "LayoutModel",
      "state": {
       "_model_module": "@jupyter-widgets/base",
       "_model_module_version": "1.2.0",
       "_model_name": "LayoutModel",
       "_view_count": null,
       "_view_module": "@jupyter-widgets/base",
       "_view_module_version": "1.2.0",
       "_view_name": "LayoutView",
       "align_content": null,
       "align_items": null,
       "align_self": null,
       "border": null,
       "bottom": null,
       "display": null,
       "flex": null,
       "flex_flow": null,
       "grid_area": null,
       "grid_auto_columns": null,
       "grid_auto_flow": null,
       "grid_auto_rows": null,
       "grid_column": null,
       "grid_gap": null,
       "grid_row": null,
       "grid_template_areas": null,
       "grid_template_columns": null,
       "grid_template_rows": null,
       "height": null,
       "justify_content": null,
       "justify_items": null,
       "left": null,
       "margin": null,
       "max_height": null,
       "max_width": null,
       "min_height": null,
       "min_width": null,
       "object_fit": null,
       "object_position": null,
       "order": null,
       "overflow": null,
       "overflow_x": null,
       "overflow_y": null,
       "padding": null,
       "right": null,
       "top": null,
       "visibility": null,
       "width": null
      }
     },
     "52db3711aec54ef3ae64cc17e3886146": {
      "model_module": "@jupyter-widgets/controls",
      "model_module_version": "1.5.0",
      "model_name": "AccordionModel",
      "state": {
       "_dom_classes": [],
       "_model_module": "@jupyter-widgets/controls",
       "_model_module_version": "1.5.0",
       "_model_name": "AccordionModel",
       "_titles": {
        "0": "Log Output"
       },
       "_view_count": null,
       "_view_module": "@jupyter-widgets/controls",
       "_view_module_version": "1.5.0",
       "_view_name": "AccordionView",
       "box_style": "",
       "children": [
        "IPY_MODEL_b6ff026852d446e0bcc335b47d2f83ac"
       ],
       "layout": "IPY_MODEL_2509fc906e0141b98efc17a8c30332d6",
       "selected_index": null
      }
     },
     "56efb6febd194091942b4f1bdbd6195b": {
      "model_module": "@jupyter-widgets/base",
      "model_module_version": "1.2.0",
      "model_name": "LayoutModel",
      "state": {
       "_model_module": "@jupyter-widgets/base",
       "_model_module_version": "1.2.0",
       "_model_name": "LayoutModel",
       "_view_count": null,
       "_view_module": "@jupyter-widgets/base",
       "_view_module_version": "1.2.0",
       "_view_name": "LayoutView",
       "align_content": null,
       "align_items": null,
       "align_self": null,
       "border": null,
       "bottom": null,
       "display": null,
       "flex": null,
       "flex_flow": null,
       "grid_area": null,
       "grid_auto_columns": null,
       "grid_auto_flow": null,
       "grid_auto_rows": null,
       "grid_column": null,
       "grid_gap": null,
       "grid_row": null,
       "grid_template_areas": null,
       "grid_template_columns": null,
       "grid_template_rows": null,
       "height": "16em",
       "justify_content": null,
       "justify_items": null,
       "left": null,
       "margin": null,
       "max_height": null,
       "max_width": null,
       "min_height": null,
       "min_width": null,
       "object_fit": null,
       "object_position": null,
       "order": null,
       "overflow": null,
       "overflow_x": null,
       "overflow_y": "auto",
       "padding": null,
       "right": null,
       "top": null,
       "visibility": null,
       "width": "100%"
      }
     },
     "573d7fabf6164f809efc36324e548c22": {
      "model_module": "@jupyter-widgets/controls",
      "model_module_version": "1.5.0",
      "model_name": "AccordionModel",
      "state": {
       "_dom_classes": [],
       "_model_module": "@jupyter-widgets/controls",
       "_model_module_version": "1.5.0",
       "_model_name": "AccordionModel",
       "_titles": {
        "0": "Log Output"
       },
       "_view_count": null,
       "_view_module": "@jupyter-widgets/controls",
       "_view_module_version": "1.5.0",
       "_view_name": "AccordionView",
       "box_style": "",
       "children": [
        "IPY_MODEL_f52528db3d554431a0690fea5ce287a0"
       ],
       "layout": "IPY_MODEL_5fc0c8456bfa4f439f00259c4d1a8c68",
       "selected_index": null
      }
     },
     "5fc0c8456bfa4f439f00259c4d1a8c68": {
      "model_module": "@jupyter-widgets/base",
      "model_module_version": "1.2.0",
      "model_name": "LayoutModel",
      "state": {
       "_model_module": "@jupyter-widgets/base",
       "_model_module_version": "1.2.0",
       "_model_name": "LayoutModel",
       "_view_count": null,
       "_view_module": "@jupyter-widgets/base",
       "_view_module_version": "1.2.0",
       "_view_name": "LayoutView",
       "align_content": null,
       "align_items": null,
       "align_self": null,
       "border": null,
       "bottom": null,
       "display": null,
       "flex": null,
       "flex_flow": null,
       "grid_area": null,
       "grid_auto_columns": null,
       "grid_auto_flow": null,
       "grid_auto_rows": null,
       "grid_column": null,
       "grid_gap": null,
       "grid_row": null,
       "grid_template_areas": null,
       "grid_template_columns": null,
       "grid_template_rows": null,
       "height": null,
       "justify_content": null,
       "justify_items": null,
       "left": null,
       "margin": null,
       "max_height": null,
       "max_width": null,
       "min_height": null,
       "min_width": null,
       "object_fit": null,
       "object_position": null,
       "order": null,
       "overflow": null,
       "overflow_x": null,
       "overflow_y": null,
       "padding": null,
       "right": null,
       "top": null,
       "visibility": null,
       "width": null
      }
     },
     "5fef3024a3894314a80a601c4711b478": {
      "model_module": "@jupyter-widgets/base",
      "model_module_version": "1.2.0",
      "model_name": "LayoutModel",
      "state": {
       "_model_module": "@jupyter-widgets/base",
       "_model_module_version": "1.2.0",
       "_model_name": "LayoutModel",
       "_view_count": null,
       "_view_module": "@jupyter-widgets/base",
       "_view_module_version": "1.2.0",
       "_view_name": "LayoutView",
       "align_content": null,
       "align_items": null,
       "align_self": null,
       "border": null,
       "bottom": null,
       "display": null,
       "flex": null,
       "flex_flow": null,
       "grid_area": null,
       "grid_auto_columns": null,
       "grid_auto_flow": null,
       "grid_auto_rows": null,
       "grid_column": null,
       "grid_gap": null,
       "grid_row": null,
       "grid_template_areas": null,
       "grid_template_columns": null,
       "grid_template_rows": null,
       "height": null,
       "justify_content": null,
       "justify_items": null,
       "left": null,
       "margin": null,
       "max_height": null,
       "max_width": null,
       "min_height": null,
       "min_width": null,
       "object_fit": null,
       "object_position": null,
       "order": null,
       "overflow": null,
       "overflow_x": null,
       "overflow_y": null,
       "padding": null,
       "right": null,
       "top": null,
       "visibility": null,
       "width": null
      }
     },
     "6537982589db43eda66616948dc47ac0": {
      "model_module": "@jupyter-widgets/controls",
      "model_module_version": "1.5.0",
      "model_name": "HTMLModel",
      "state": {
       "_dom_classes": [],
       "_model_module": "@jupyter-widgets/controls",
       "_model_module_version": "1.5.0",
       "_model_name": "HTMLModel",
       "_view_count": null,
       "_view_module": "@jupyter-widgets/controls",
       "_view_module_version": "1.5.0",
       "_view_name": "HTMLView",
       "description": "",
       "description_tooltip": null,
       "layout": "IPY_MODEL_8ec1cc3d00974254948fc9e066d92b52",
       "placeholder": "​",
       "style": "IPY_MODEL_11a2b89290304d5ea84442b32149dd0b",
       "value": "<p style=\"line-height:120%\">00:01 <bold>StationaryModel</bold>: Solving ThermalBlock((3, 2))_CG for {diffusion: [1.0, 0.1, 0.3, 0.1, 0.2, 1.0]} ...</p>"
      }
     },
     "6547a8345f31481a9357e2a1e5c972d8": {
      "model_module": "@jupyter-widgets/controls",
      "model_module_version": "1.5.0",
      "model_name": "DescriptionStyleModel",
      "state": {
       "_model_module": "@jupyter-widgets/controls",
       "_model_module_version": "1.5.0",
       "_model_name": "DescriptionStyleModel",
       "_view_count": null,
       "_view_module": "@jupyter-widgets/base",
       "_view_module_version": "1.2.0",
       "_view_name": "StyleView",
       "description_width": ""
      }
     },
     "694abf05ff6841b281b9ef3525f87395": {
      "model_module": "@jupyter-widgets/base",
      "model_module_version": "1.2.0",
      "model_name": "LayoutModel",
      "state": {
       "_model_module": "@jupyter-widgets/base",
       "_model_module_version": "1.2.0",
       "_model_name": "LayoutModel",
       "_view_count": null,
       "_view_module": "@jupyter-widgets/base",
       "_view_module_version": "1.2.0",
       "_view_name": "LayoutView",
       "align_content": null,
       "align_items": null,
       "align_self": null,
       "border": null,
       "bottom": null,
       "display": null,
       "flex": null,
       "flex_flow": null,
       "grid_area": null,
       "grid_auto_columns": null,
       "grid_auto_flow": null,
       "grid_auto_rows": null,
       "grid_column": null,
       "grid_gap": null,
       "grid_row": null,
       "grid_template_areas": null,
       "grid_template_columns": null,
       "grid_template_rows": null,
       "height": null,
       "justify_content": null,
       "justify_items": null,
       "left": null,
       "margin": null,
       "max_height": null,
       "max_width": null,
       "min_height": null,
       "min_width": null,
       "object_fit": null,
       "object_position": null,
       "order": null,
       "overflow": null,
       "overflow_x": null,
       "overflow_y": null,
       "padding": null,
       "right": null,
       "top": null,
       "visibility": null,
       "width": null
      }
     },
     "6d51ddf1d520498f96cec9ad74083707": {
      "model_module": "@jupyter-widgets/controls",
      "model_module_version": "1.5.0",
      "model_name": "AccordionModel",
      "state": {
       "_dom_classes": [],
       "_model_module": "@jupyter-widgets/controls",
       "_model_module_version": "1.5.0",
       "_model_name": "AccordionModel",
       "_titles": {
        "0": "Log Output"
       },
       "_view_count": null,
       "_view_module": "@jupyter-widgets/controls",
       "_view_module_version": "1.5.0",
       "_view_name": "AccordionView",
       "box_style": "",
       "children": [
        "IPY_MODEL_fac17e48b16f4f13b8535391657f2d96"
       ],
       "layout": "IPY_MODEL_9d74fd8fe33c45ada802f8f62c16d474",
       "selected_index": null
      }
     },
     "7096095b078745e195da386a289bfa26": {
      "model_module": "@jupyter-widgets/base",
      "model_module_version": "1.2.0",
      "model_name": "LayoutModel",
      "state": {
       "_model_module": "@jupyter-widgets/base",
       "_model_module_version": "1.2.0",
       "_model_name": "LayoutModel",
       "_view_count": null,
       "_view_module": "@jupyter-widgets/base",
       "_view_module_version": "1.2.0",
       "_view_name": "LayoutView",
       "align_content": null,
       "align_items": null,
       "align_self": null,
       "border": null,
       "bottom": null,
       "display": null,
       "flex": null,
       "flex_flow": null,
       "grid_area": null,
       "grid_auto_columns": null,
       "grid_auto_flow": null,
       "grid_auto_rows": null,
       "grid_column": null,
       "grid_gap": null,
       "grid_row": null,
       "grid_template_areas": null,
       "grid_template_columns": null,
       "grid_template_rows": null,
       "height": "16em",
       "justify_content": null,
       "justify_items": null,
       "left": null,
       "margin": null,
       "max_height": null,
       "max_width": null,
       "min_height": null,
       "min_width": null,
       "object_fit": null,
       "object_position": null,
       "order": null,
       "overflow": null,
       "overflow_x": null,
       "overflow_y": "auto",
       "padding": null,
       "right": null,
       "top": null,
       "visibility": null,
       "width": "100%"
      }
     },
     "76aecd3fee7c4ed9a000b97798aec8a2": {
      "model_module": "@jupyter-widgets/base",
      "model_module_version": "1.2.0",
      "model_name": "LayoutModel",
      "state": {
       "_model_module": "@jupyter-widgets/base",
       "_model_module_version": "1.2.0",
       "_model_name": "LayoutModel",
       "_view_count": null,
       "_view_module": "@jupyter-widgets/base",
       "_view_module_version": "1.2.0",
       "_view_name": "LayoutView",
       "align_content": null,
       "align_items": null,
       "align_self": null,
       "border": null,
       "bottom": null,
       "display": null,
       "flex": null,
       "flex_flow": null,
       "grid_area": null,
       "grid_auto_columns": null,
       "grid_auto_flow": null,
       "grid_auto_rows": null,
       "grid_column": null,
       "grid_gap": null,
       "grid_row": null,
       "grid_template_areas": null,
       "grid_template_columns": null,
       "grid_template_rows": null,
       "height": "16em",
       "justify_content": null,
       "justify_items": null,
       "left": null,
       "margin": null,
       "max_height": null,
       "max_width": null,
       "min_height": null,
       "min_width": null,
       "object_fit": null,
       "object_position": null,
       "order": null,
       "overflow": null,
       "overflow_x": null,
       "overflow_y": "auto",
       "padding": null,
       "right": null,
       "top": null,
       "visibility": null,
       "width": "100%"
      }
     },
     "779a33b1d0ad4ea787d56d3f3c798158": {
      "model_module": "@jupyter-widgets/controls",
      "model_module_version": "1.5.0",
      "model_name": "DescriptionStyleModel",
      "state": {
       "_model_module": "@jupyter-widgets/controls",
       "_model_module_version": "1.5.0",
       "_model_name": "DescriptionStyleModel",
       "_view_count": null,
       "_view_module": "@jupyter-widgets/base",
       "_view_module_version": "1.2.0",
       "_view_name": "StyleView",
       "description_width": ""
      }
     },
     "7810e519e96d48fdb517b553672a087d": {
      "model_module": "@jupyter-widgets/controls",
      "model_module_version": "1.5.0",
      "model_name": "HTMLModel",
      "state": {
       "_dom_classes": [],
       "_model_module": "@jupyter-widgets/controls",
       "_model_module_version": "1.5.0",
       "_model_name": "HTMLModel",
       "_view_count": null,
       "_view_module": "@jupyter-widgets/controls",
       "_view_module_version": "1.5.0",
       "_view_name": "HTMLView",
       "description": "",
       "description_tooltip": null,
       "layout": "IPY_MODEL_76aecd3fee7c4ed9a000b97798aec8a2",
       "placeholder": "​",
       "style": "IPY_MODEL_ed211e7d5d6844eebc7f51c0bcd32652",
       "value": ""
      }
     },
     "7a9149f382ee448383417c8d21bb968e": {
      "model_module": "@jupyter-widgets/controls",
      "model_module_version": "1.5.0",
      "model_name": "AccordionModel",
      "state": {
       "_dom_classes": [],
       "_model_module": "@jupyter-widgets/controls",
       "_model_module_version": "1.5.0",
       "_model_name": "AccordionModel",
       "_titles": {
        "0": "Log Output"
       },
       "_view_count": null,
       "_view_module": "@jupyter-widgets/controls",
       "_view_module_version": "1.5.0",
       "_view_name": "AccordionView",
       "box_style": "",
       "children": [
        "IPY_MODEL_b48183c170164a7eb2c9140bb9dc2142"
       ],
       "layout": "IPY_MODEL_52bb41c3ae49406e95a7b97ed162477d",
       "selected_index": null
      }
     },
     "7f77afe02bc84f84bdfcc8acd8bba6df": {
      "model_module": "@jupyter-widgets/controls",
      "model_module_version": "1.5.0",
      "model_name": "DescriptionStyleModel",
      "state": {
       "_model_module": "@jupyter-widgets/controls",
       "_model_module_version": "1.5.0",
       "_model_name": "DescriptionStyleModel",
       "_view_count": null,
       "_view_module": "@jupyter-widgets/base",
       "_view_module_version": "1.2.0",
       "_view_name": "StyleView",
       "description_width": ""
      }
     },
     "7fdd8e1c92994dd6aad4348b27e40713": {
      "model_module": "@jupyter-widgets/controls",
      "model_module_version": "1.5.0",
      "model_name": "HTMLModel",
      "state": {
       "_dom_classes": [],
       "_model_module": "@jupyter-widgets/controls",
       "_model_module_version": "1.5.0",
       "_model_name": "HTMLModel",
       "_view_count": null,
       "_view_module": "@jupyter-widgets/controls",
       "_view_module_version": "1.5.0",
       "_view_name": "HTMLView",
       "description": "",
       "description_tooltip": null,
       "layout": "IPY_MODEL_1f1f2cb4dd9e4a429deb0d143b8f8055",
       "placeholder": "​",
       "style": "IPY_MODEL_27c2ae13e8ed467d96b29b442fe529d1",
       "value": ""
      }
     },
     "802b3e3a116744cfa414c55d14b05ec0": {
      "model_module": "@jupyter-widgets/base",
      "model_module_version": "1.2.0",
      "model_name": "LayoutModel",
      "state": {
       "_model_module": "@jupyter-widgets/base",
       "_model_module_version": "1.2.0",
       "_model_name": "LayoutModel",
       "_view_count": null,
       "_view_module": "@jupyter-widgets/base",
       "_view_module_version": "1.2.0",
       "_view_name": "LayoutView",
       "align_content": null,
       "align_items": null,
       "align_self": null,
       "border": null,
       "bottom": null,
       "display": null,
       "flex": null,
       "flex_flow": null,
       "grid_area": null,
       "grid_auto_columns": null,
       "grid_auto_flow": null,
       "grid_auto_rows": null,
       "grid_column": null,
       "grid_gap": null,
       "grid_row": null,
       "grid_template_areas": null,
       "grid_template_columns": null,
       "grid_template_rows": null,
       "height": "16em",
       "justify_content": null,
       "justify_items": null,
       "left": null,
       "margin": null,
       "max_height": null,
       "max_width": null,
       "min_height": null,
       "min_width": null,
       "object_fit": null,
       "object_position": null,
       "order": null,
       "overflow": null,
       "overflow_x": null,
       "overflow_y": "auto",
       "padding": null,
       "right": null,
       "top": null,
       "visibility": null,
       "width": "100%"
      }
     },
     "88ceb8ae0b4e488092d69c4f4f51b376": {
      "model_module": "@jupyter-widgets/base",
      "model_module_version": "1.2.0",
      "model_name": "LayoutModel",
      "state": {
       "_model_module": "@jupyter-widgets/base",
       "_model_module_version": "1.2.0",
       "_model_name": "LayoutModel",
       "_view_count": null,
       "_view_module": "@jupyter-widgets/base",
       "_view_module_version": "1.2.0",
       "_view_name": "LayoutView",
       "align_content": null,
       "align_items": null,
       "align_self": null,
       "border": null,
       "bottom": null,
       "display": null,
       "flex": null,
       "flex_flow": null,
       "grid_area": null,
       "grid_auto_columns": null,
       "grid_auto_flow": null,
       "grid_auto_rows": null,
       "grid_column": null,
       "grid_gap": null,
       "grid_row": null,
       "grid_template_areas": null,
       "grid_template_columns": null,
       "grid_template_rows": null,
       "height": "16em",
       "justify_content": null,
       "justify_items": null,
       "left": null,
       "margin": null,
       "max_height": null,
       "max_width": null,
       "min_height": null,
       "min_width": null,
       "object_fit": null,
       "object_position": null,
       "order": null,
       "overflow": null,
       "overflow_x": null,
       "overflow_y": "auto",
       "padding": null,
       "right": null,
       "top": null,
       "visibility": null,
       "width": "100%"
      }
     },
     "8a57733af1d34cf08e7ad40aa595744c": {
      "model_module": "@jupyter-widgets/base",
      "model_module_version": "1.2.0",
      "model_name": "LayoutModel",
      "state": {
       "_model_module": "@jupyter-widgets/base",
       "_model_module_version": "1.2.0",
       "_model_name": "LayoutModel",
       "_view_count": null,
       "_view_module": "@jupyter-widgets/base",
       "_view_module_version": "1.2.0",
       "_view_name": "LayoutView",
       "align_content": null,
       "align_items": null,
       "align_self": null,
       "border": null,
       "bottom": null,
       "display": null,
       "flex": null,
       "flex_flow": null,
       "grid_area": null,
       "grid_auto_columns": null,
       "grid_auto_flow": null,
       "grid_auto_rows": null,
       "grid_column": null,
       "grid_gap": null,
       "grid_row": null,
       "grid_template_areas": null,
       "grid_template_columns": null,
       "grid_template_rows": null,
       "height": "16em",
       "justify_content": null,
       "justify_items": null,
       "left": null,
       "margin": null,
       "max_height": null,
       "max_width": null,
       "min_height": null,
       "min_width": null,
       "object_fit": null,
       "object_position": null,
       "order": null,
       "overflow": null,
       "overflow_x": null,
       "overflow_y": "auto",
       "padding": null,
       "right": null,
       "top": null,
       "visibility": null,
       "width": "100%"
      }
     },
     "8daa2d61a24b45229a9e4ed025952657": {
      "model_module": "@jupyter-widgets/output",
      "model_module_version": "1.0.0",
      "model_name": "OutputModel",
      "state": {
       "_dom_classes": [],
       "_model_module": "@jupyter-widgets/output",
       "_model_module_version": "1.0.0",
       "_model_name": "OutputModel",
       "_view_count": null,
       "_view_module": "@jupyter-widgets/output",
       "_view_module_version": "1.0.0",
       "_view_name": "OutputView",
       "layout": "IPY_MODEL_ea704558c63e41e5973ff44a0725b8c7",
       "msg_id": "",
       "outputs": [
        {
         "data": {
          "image/png": "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\n",
          "text/plain": "<Figure size 432x432 with 2 Axes>"
         },
         "metadata": {
          "needs_background": "light"
         },
         "output_type": "display_data"
        },
        {
         "data": {
          "image/png": "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\n",
          "text/plain": "<Figure size 432x432 with 2 Axes>"
         },
         "metadata": {
          "needs_background": "light"
         },
         "output_type": "display_data"
        },
        {
         "data": {
          "image/png": "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\n",
          "text/plain": "<Figure size 432x432 with 2 Axes>"
         },
         "metadata": {
          "needs_background": "light"
         },
         "output_type": "display_data"
        }
       ]
      }
     },
     "8ec1cc3d00974254948fc9e066d92b52": {
      "model_module": "@jupyter-widgets/base",
      "model_module_version": "1.2.0",
      "model_name": "LayoutModel",
      "state": {
       "_model_module": "@jupyter-widgets/base",
       "_model_module_version": "1.2.0",
       "_model_name": "LayoutModel",
       "_view_count": null,
       "_view_module": "@jupyter-widgets/base",
       "_view_module_version": "1.2.0",
       "_view_name": "LayoutView",
       "align_content": null,
       "align_items": null,
       "align_self": null,
       "border": null,
       "bottom": null,
       "display": null,
       "flex": null,
       "flex_flow": null,
       "grid_area": null,
       "grid_auto_columns": null,
       "grid_auto_flow": null,
       "grid_auto_rows": null,
       "grid_column": null,
       "grid_gap": null,
       "grid_row": null,
       "grid_template_areas": null,
       "grid_template_columns": null,
       "grid_template_rows": null,
       "height": "16em",
       "justify_content": null,
       "justify_items": null,
       "left": null,
       "margin": null,
       "max_height": null,
       "max_width": null,
       "min_height": null,
       "min_width": null,
       "object_fit": null,
       "object_position": null,
       "order": null,
       "overflow": null,
       "overflow_x": null,
       "overflow_y": "auto",
       "padding": null,
       "right": null,
       "top": null,
       "visibility": null,
       "width": "100%"
      }
     },
     "91ec70c21f964636b9245dc30eec1451": {
      "model_module": "@jupyter-widgets/controls",
      "model_module_version": "1.5.0",
      "model_name": "DescriptionStyleModel",
      "state": {
       "_model_module": "@jupyter-widgets/controls",
       "_model_module_version": "1.5.0",
       "_model_name": "DescriptionStyleModel",
       "_view_count": null,
       "_view_module": "@jupyter-widgets/base",
       "_view_module_version": "1.2.0",
       "_view_name": "StyleView",
       "description_width": ""
      }
     },
     "98ef72fe764f42cc8ba34c449e48bf0e": {
      "model_module": "@jupyter-widgets/base",
      "model_module_version": "1.2.0",
      "model_name": "LayoutModel",
      "state": {
       "_model_module": "@jupyter-widgets/base",
       "_model_module_version": "1.2.0",
       "_model_name": "LayoutModel",
       "_view_count": null,
       "_view_module": "@jupyter-widgets/base",
       "_view_module_version": "1.2.0",
       "_view_name": "LayoutView",
       "align_content": null,
       "align_items": null,
       "align_self": null,
       "border": null,
       "bottom": null,
       "display": null,
       "flex": null,
       "flex_flow": null,
       "grid_area": null,
       "grid_auto_columns": null,
       "grid_auto_flow": null,
       "grid_auto_rows": null,
       "grid_column": null,
       "grid_gap": null,
       "grid_row": null,
       "grid_template_areas": null,
       "grid_template_columns": null,
       "grid_template_rows": null,
       "height": "16em",
       "justify_content": null,
       "justify_items": null,
       "left": null,
       "margin": null,
       "max_height": null,
       "max_width": null,
       "min_height": null,
       "min_width": null,
       "object_fit": null,
       "object_position": null,
       "order": null,
       "overflow": null,
       "overflow_x": null,
       "overflow_y": "auto",
       "padding": null,
       "right": null,
       "top": null,
       "visibility": null,
       "width": "100%"
      }
     },
     "996362445b1746ecb7149185f554e638": {
      "model_module": "@jupyter-widgets/controls",
      "model_module_version": "1.5.0",
      "model_name": "AccordionModel",
      "state": {
       "_dom_classes": [],
       "_model_module": "@jupyter-widgets/controls",
       "_model_module_version": "1.5.0",
       "_model_name": "AccordionModel",
       "_titles": {
        "0": "Log Output"
       },
       "_view_count": null,
       "_view_module": "@jupyter-widgets/controls",
       "_view_module_version": "1.5.0",
       "_view_name": "AccordionView",
       "box_style": "",
       "children": [
        "IPY_MODEL_366868737da244b28709816fca52e7d9"
       ],
       "layout": "IPY_MODEL_c87bbed8aedf4b3fa6c7d97720d5e8f1",
       "selected_index": null
      }
     },
     "9d52ec2d19c24e58b9f99ae938118e1b": {
      "model_module": "@jupyter-widgets/controls",
      "model_module_version": "1.5.0",
      "model_name": "DescriptionStyleModel",
      "state": {
       "_model_module": "@jupyter-widgets/controls",
       "_model_module_version": "1.5.0",
       "_model_name": "DescriptionStyleModel",
       "_view_count": null,
       "_view_module": "@jupyter-widgets/base",
       "_view_module_version": "1.2.0",
       "_view_name": "StyleView",
       "description_width": ""
      }
     },
     "9d74fd8fe33c45ada802f8f62c16d474": {
      "model_module": "@jupyter-widgets/base",
      "model_module_version": "1.2.0",
      "model_name": "LayoutModel",
      "state": {
       "_model_module": "@jupyter-widgets/base",
       "_model_module_version": "1.2.0",
       "_model_name": "LayoutModel",
       "_view_count": null,
       "_view_module": "@jupyter-widgets/base",
       "_view_module_version": "1.2.0",
       "_view_name": "LayoutView",
       "align_content": null,
       "align_items": null,
       "align_self": null,
       "border": null,
       "bottom": null,
       "display": null,
       "flex": null,
       "flex_flow": null,
       "grid_area": null,
       "grid_auto_columns": null,
       "grid_auto_flow": null,
       "grid_auto_rows": null,
       "grid_column": null,
       "grid_gap": null,
       "grid_row": null,
       "grid_template_areas": null,
       "grid_template_columns": null,
       "grid_template_rows": null,
       "height": null,
       "justify_content": null,
       "justify_items": null,
       "left": null,
       "margin": null,
       "max_height": null,
       "max_width": null,
       "min_height": null,
       "min_width": null,
       "object_fit": null,
       "object_position": null,
       "order": null,
       "overflow": null,
       "overflow_x": null,
       "overflow_y": null,
       "padding": null,
       "right": null,
       "top": null,
       "visibility": null,
       "width": null
      }
     },
     "a0798a18f0cd48f195106cc815504078": {
      "model_module": "@jupyter-widgets/controls",
      "model_module_version": "1.5.0",
      "model_name": "DescriptionStyleModel",
      "state": {
       "_model_module": "@jupyter-widgets/controls",
       "_model_module_version": "1.5.0",
       "_model_name": "DescriptionStyleModel",
       "_view_count": null,
       "_view_module": "@jupyter-widgets/base",
       "_view_module_version": "1.2.0",
       "_view_name": "StyleView",
       "description_width": ""
      }
     },
     "a7ed4ec3775042c38fb67db75fd6081a": {
      "model_module": "@jupyter-widgets/base",
      "model_module_version": "1.2.0",
      "model_name": "LayoutModel",
      "state": {
       "_model_module": "@jupyter-widgets/base",
       "_model_module_version": "1.2.0",
       "_model_name": "LayoutModel",
       "_view_count": null,
       "_view_module": "@jupyter-widgets/base",
       "_view_module_version": "1.2.0",
       "_view_name": "LayoutView",
       "align_content": null,
       "align_items": null,
       "align_self": null,
       "border": null,
       "bottom": null,
       "display": null,
       "flex": null,
       "flex_flow": null,
       "grid_area": null,
       "grid_auto_columns": null,
       "grid_auto_flow": null,
       "grid_auto_rows": null,
       "grid_column": null,
       "grid_gap": null,
       "grid_row": null,
       "grid_template_areas": null,
       "grid_template_columns": null,
       "grid_template_rows": null,
       "height": null,
       "justify_content": null,
       "justify_items": null,
       "left": null,
       "margin": null,
       "max_height": null,
       "max_width": null,
       "min_height": null,
       "min_width": null,
       "object_fit": null,
       "object_position": null,
       "order": null,
       "overflow": null,
       "overflow_x": null,
       "overflow_y": null,
       "padding": null,
       "right": null,
       "top": null,
       "visibility": null,
       "width": null
      }
     },
     "a8219c04d6c9490e84cdd30e20c3ac2b": {
      "model_module": "@jupyter-widgets/base",
      "model_module_version": "1.2.0",
      "model_name": "LayoutModel",
      "state": {
       "_model_module": "@jupyter-widgets/base",
       "_model_module_version": "1.2.0",
       "_model_name": "LayoutModel",
       "_view_count": null,
       "_view_module": "@jupyter-widgets/base",
       "_view_module_version": "1.2.0",
       "_view_name": "LayoutView",
       "align_content": null,
       "align_items": null,
       "align_self": null,
       "border": null,
       "bottom": null,
       "display": null,
       "flex": null,
       "flex_flow": null,
       "grid_area": null,
       "grid_auto_columns": null,
       "grid_auto_flow": null,
       "grid_auto_rows": null,
       "grid_column": null,
       "grid_gap": null,
       "grid_row": null,
       "grid_template_areas": null,
       "grid_template_columns": null,
       "grid_template_rows": null,
       "height": "16em",
       "justify_content": null,
       "justify_items": null,
       "left": null,
       "margin": null,
       "max_height": null,
       "max_width": null,
       "min_height": null,
       "min_width": null,
       "object_fit": null,
       "object_position": null,
       "order": null,
       "overflow": null,
       "overflow_x": null,
       "overflow_y": "auto",
       "padding": null,
       "right": null,
       "top": null,
       "visibility": null,
       "width": "100%"
      }
     },
     "aa2f019cc857407cb67135f48365d762": {
      "model_module": "@jupyter-widgets/base",
      "model_module_version": "1.2.0",
      "model_name": "LayoutModel",
      "state": {
       "_model_module": "@jupyter-widgets/base",
       "_model_module_version": "1.2.0",
       "_model_name": "LayoutModel",
       "_view_count": null,
       "_view_module": "@jupyter-widgets/base",
       "_view_module_version": "1.2.0",
       "_view_name": "LayoutView",
       "align_content": null,
       "align_items": null,
       "align_self": null,
       "border": null,
       "bottom": null,
       "display": null,
       "flex": null,
       "flex_flow": null,
       "grid_area": null,
       "grid_auto_columns": null,
       "grid_auto_flow": null,
       "grid_auto_rows": null,
       "grid_column": null,
       "grid_gap": null,
       "grid_row": null,
       "grid_template_areas": null,
       "grid_template_columns": null,
       "grid_template_rows": null,
       "height": "16em",
       "justify_content": null,
       "justify_items": null,
       "left": null,
       "margin": null,
       "max_height": null,
       "max_width": null,
       "min_height": null,
       "min_width": null,
       "object_fit": null,
       "object_position": null,
       "order": null,
       "overflow": null,
       "overflow_x": null,
       "overflow_y": "auto",
       "padding": null,
       "right": null,
       "top": null,
       "visibility": null,
       "width": "100%"
      }
     },
     "b48183c170164a7eb2c9140bb9dc2142": {
      "model_module": "@jupyter-widgets/controls",
      "model_module_version": "1.5.0",
      "model_name": "HTMLModel",
      "state": {
       "_dom_classes": [],
       "_model_module": "@jupyter-widgets/controls",
       "_model_module_version": "1.5.0",
       "_model_name": "HTMLModel",
       "_view_count": null,
       "_view_module": "@jupyter-widgets/controls",
       "_view_module_version": "1.5.0",
       "_view_name": "HTMLView",
       "description": "",
       "description_tooltip": null,
       "layout": "IPY_MODEL_e216114152e742cba160b74085606d8e",
       "placeholder": "​",
       "style": "IPY_MODEL_35396aa82e8d462187403ebc521f1568",
       "value": ""
      }
     },
     "b6ff026852d446e0bcc335b47d2f83ac": {
      "model_module": "@jupyter-widgets/controls",
      "model_module_version": "1.5.0",
      "model_name": "HTMLModel",
      "state": {
       "_dom_classes": [],
       "_model_module": "@jupyter-widgets/controls",
       "_model_module_version": "1.5.0",
       "_model_name": "HTMLModel",
       "_view_count": null,
       "_view_module": "@jupyter-widgets/controls",
       "_view_module_version": "1.5.0",
       "_view_name": "HTMLView",
       "description": "",
       "description_tooltip": null,
       "layout": "IPY_MODEL_56efb6febd194091942b4f1bdbd6195b",
       "placeholder": "​",
       "style": "IPY_MODEL_ebb16ed0adcf481eac7b12bb4b64b479",
       "value": ""
      }
     },
     "bc1cb53ebfa9441280f97919100cae19": {
      "model_module": "@jupyter-widgets/controls",
      "model_module_version": "1.5.0",
      "model_name": "HTMLModel",
      "state": {
       "_dom_classes": [],
       "_model_module": "@jupyter-widgets/controls",
       "_model_module_version": "1.5.0",
       "_model_name": "HTMLModel",
       "_view_count": null,
       "_view_module": "@jupyter-widgets/controls",
       "_view_module_version": "1.5.0",
       "_view_name": "HTMLView",
       "description": "",
       "description_tooltip": null,
       "layout": "IPY_MODEL_7096095b078745e195da386a289bfa26",
       "placeholder": "​",
       "style": "IPY_MODEL_0f7036e5013948429997454ff4367c7e",
       "value": ""
      }
     },
     "c5c1b3e406b648b6b62fdaa16739aa1c": {
      "model_module": "@jupyter-widgets/base",
      "model_module_version": "1.2.0",
      "model_name": "LayoutModel",
      "state": {
       "_model_module": "@jupyter-widgets/base",
       "_model_module_version": "1.2.0",
       "_model_name": "LayoutModel",
       "_view_count": null,
       "_view_module": "@jupyter-widgets/base",
       "_view_module_version": "1.2.0",
       "_view_name": "LayoutView",
       "align_content": null,
       "align_items": null,
       "align_self": null,
       "border": null,
       "bottom": null,
       "display": null,
       "flex": null,
       "flex_flow": null,
       "grid_area": null,
       "grid_auto_columns": null,
       "grid_auto_flow": null,
       "grid_auto_rows": null,
       "grid_column": null,
       "grid_gap": null,
       "grid_row": null,
       "grid_template_areas": null,
       "grid_template_columns": null,
       "grid_template_rows": null,
       "height": "16em",
       "justify_content": null,
       "justify_items": null,
       "left": null,
       "margin": null,
       "max_height": null,
       "max_width": null,
       "min_height": null,
       "min_width": null,
       "object_fit": null,
       "object_position": null,
       "order": null,
       "overflow": null,
       "overflow_x": null,
       "overflow_y": "auto",
       "padding": null,
       "right": null,
       "top": null,
       "visibility": null,
       "width": "100%"
      }
     },
     "c66ad6c5331e44c09dd4a5a590accd91": {
      "model_module": "@jupyter-widgets/controls",
      "model_module_version": "1.5.0",
      "model_name": "AccordionModel",
      "state": {
       "_dom_classes": [],
       "_model_module": "@jupyter-widgets/controls",
       "_model_module_version": "1.5.0",
       "_model_name": "AccordionModel",
       "_titles": {
        "0": "Log Output"
       },
       "_view_count": null,
       "_view_module": "@jupyter-widgets/controls",
       "_view_module_version": "1.5.0",
       "_view_name": "AccordionView",
       "box_style": "",
       "children": [
        "IPY_MODEL_6537982589db43eda66616948dc47ac0"
       ],
       "layout": "IPY_MODEL_0a0f4c90d9ee4e72a7193432876118ee",
       "selected_index": null
      }
     },
     "c87bbed8aedf4b3fa6c7d97720d5e8f1": {
      "model_module": "@jupyter-widgets/base",
      "model_module_version": "1.2.0",
      "model_name": "LayoutModel",
      "state": {
       "_model_module": "@jupyter-widgets/base",
       "_model_module_version": "1.2.0",
       "_model_name": "LayoutModel",
       "_view_count": null,
       "_view_module": "@jupyter-widgets/base",
       "_view_module_version": "1.2.0",
       "_view_name": "LayoutView",
       "align_content": null,
       "align_items": null,
       "align_self": null,
       "border": null,
       "bottom": null,
       "display": null,
       "flex": null,
       "flex_flow": null,
       "grid_area": null,
       "grid_auto_columns": null,
       "grid_auto_flow": null,
       "grid_auto_rows": null,
       "grid_column": null,
       "grid_gap": null,
       "grid_row": null,
       "grid_template_areas": null,
       "grid_template_columns": null,
       "grid_template_rows": null,
       "height": null,
       "justify_content": null,
       "justify_items": null,
       "left": null,
       "margin": null,
       "max_height": null,
       "max_width": null,
       "min_height": null,
       "min_width": null,
       "object_fit": null,
       "object_position": null,
       "order": null,
       "overflow": null,
       "overflow_x": null,
       "overflow_y": null,
       "padding": null,
       "right": null,
       "top": null,
       "visibility": null,
       "width": null
      }
     },
     "c90d347a9f7240cd94969884e2dbac06": {
      "model_module": "@jupyter-widgets/base",
      "model_module_version": "1.2.0",
      "model_name": "LayoutModel",
      "state": {
       "_model_module": "@jupyter-widgets/base",
       "_model_module_version": "1.2.0",
       "_model_name": "LayoutModel",
       "_view_count": null,
       "_view_module": "@jupyter-widgets/base",
       "_view_module_version": "1.2.0",
       "_view_name": "LayoutView",
       "align_content": null,
       "align_items": null,
       "align_self": null,
       "border": null,
       "bottom": null,
       "display": null,
       "flex": null,
       "flex_flow": null,
       "grid_area": null,
       "grid_auto_columns": null,
       "grid_auto_flow": null,
       "grid_auto_rows": null,
       "grid_column": null,
       "grid_gap": null,
       "grid_row": null,
       "grid_template_areas": null,
       "grid_template_columns": null,
       "grid_template_rows": null,
       "height": null,
       "justify_content": null,
       "justify_items": null,
       "left": null,
       "margin": null,
       "max_height": null,
       "max_width": null,
       "min_height": null,
       "min_width": null,
       "object_fit": null,
       "object_position": null,
       "order": null,
       "overflow": null,
       "overflow_x": null,
       "overflow_y": null,
       "padding": null,
       "right": null,
       "top": null,
       "visibility": null,
       "width": null
      }
     },
     "d4ea02913ce144c2bfb0e3c2bc163091": {
      "model_module": "@jupyter-widgets/base",
      "model_module_version": "1.2.0",
      "model_name": "LayoutModel",
      "state": {
       "_model_module": "@jupyter-widgets/base",
       "_model_module_version": "1.2.0",
       "_model_name": "LayoutModel",
       "_view_count": null,
       "_view_module": "@jupyter-widgets/base",
       "_view_module_version": "1.2.0",
       "_view_name": "LayoutView",
       "align_content": null,
       "align_items": null,
       "align_self": null,
       "border": null,
       "bottom": null,
       "display": null,
       "flex": null,
       "flex_flow": null,
       "grid_area": null,
       "grid_auto_columns": null,
       "grid_auto_flow": null,
       "grid_auto_rows": null,
       "grid_column": null,
       "grid_gap": null,
       "grid_row": null,
       "grid_template_areas": null,
       "grid_template_columns": null,
       "grid_template_rows": null,
       "height": "16em",
       "justify_content": null,
       "justify_items": null,
       "left": null,
       "margin": null,
       "max_height": null,
       "max_width": null,
       "min_height": null,
       "min_width": null,
       "object_fit": null,
       "object_position": null,
       "order": null,
       "overflow": null,
       "overflow_x": null,
       "overflow_y": "auto",
       "padding": null,
       "right": null,
       "top": null,
       "visibility": null,
       "width": "100%"
      }
     },
     "d732471646b2424888e4cca49d81b3cf": {
      "model_module": "@jupyter-widgets/base",
      "model_module_version": "1.2.0",
      "model_name": "LayoutModel",
      "state": {
       "_model_module": "@jupyter-widgets/base",
       "_model_module_version": "1.2.0",
       "_model_name": "LayoutModel",
       "_view_count": null,
       "_view_module": "@jupyter-widgets/base",
       "_view_module_version": "1.2.0",
       "_view_name": "LayoutView",
       "align_content": null,
       "align_items": null,
       "align_self": null,
       "border": null,
       "bottom": null,
       "display": null,
       "flex": null,
       "flex_flow": null,
       "grid_area": null,
       "grid_auto_columns": null,
       "grid_auto_flow": null,
       "grid_auto_rows": null,
       "grid_column": null,
       "grid_gap": null,
       "grid_row": null,
       "grid_template_areas": null,
       "grid_template_columns": null,
       "grid_template_rows": null,
       "height": null,
       "justify_content": null,
       "justify_items": null,
       "left": null,
       "margin": null,
       "max_height": null,
       "max_width": null,
       "min_height": null,
       "min_width": null,
       "object_fit": null,
       "object_position": null,
       "order": null,
       "overflow": null,
       "overflow_x": null,
       "overflow_y": null,
       "padding": null,
       "right": null,
       "top": null,
       "visibility": null,
       "width": null
      }
     },
     "ddfa6f16338b40bd9997f0be990306b5": {
      "model_module": "@jupyter-widgets/controls",
      "model_module_version": "1.5.0",
      "model_name": "AccordionModel",
      "state": {
       "_dom_classes": [],
       "_model_module": "@jupyter-widgets/controls",
       "_model_module_version": "1.5.0",
       "_model_name": "AccordionModel",
       "_titles": {
        "0": "Log Output"
       },
       "_view_count": null,
       "_view_module": "@jupyter-widgets/controls",
       "_view_module_version": "1.5.0",
       "_view_name": "AccordionView",
       "box_style": "",
       "children": [
        "IPY_MODEL_1afef8ef0d294108b6b26e554c844ff6"
       ],
       "layout": "IPY_MODEL_1acb7482c03e4d1290b79038187a26da",
       "selected_index": null
      }
     },
     "e216114152e742cba160b74085606d8e": {
      "model_module": "@jupyter-widgets/base",
      "model_module_version": "1.2.0",
      "model_name": "LayoutModel",
      "state": {
       "_model_module": "@jupyter-widgets/base",
       "_model_module_version": "1.2.0",
       "_model_name": "LayoutModel",
       "_view_count": null,
       "_view_module": "@jupyter-widgets/base",
       "_view_module_version": "1.2.0",
       "_view_name": "LayoutView",
       "align_content": null,
       "align_items": null,
       "align_self": null,
       "border": null,
       "bottom": null,
       "display": null,
       "flex": null,
       "flex_flow": null,
       "grid_area": null,
       "grid_auto_columns": null,
       "grid_auto_flow": null,
       "grid_auto_rows": null,
       "grid_column": null,
       "grid_gap": null,
       "grid_row": null,
       "grid_template_areas": null,
       "grid_template_columns": null,
       "grid_template_rows": null,
       "height": "16em",
       "justify_content": null,
       "justify_items": null,
       "left": null,
       "margin": null,
       "max_height": null,
       "max_width": null,
       "min_height": null,
       "min_width": null,
       "object_fit": null,
       "object_position": null,
       "order": null,
       "overflow": null,
       "overflow_x": null,
       "overflow_y": "auto",
       "padding": null,
       "right": null,
       "top": null,
       "visibility": null,
       "width": "100%"
      }
     },
     "e866226b03344e1382fcc4cefd3c3d0e": {
      "model_module": "@jupyter-widgets/base",
      "model_module_version": "1.2.0",
      "model_name": "LayoutModel",
      "state": {
       "_model_module": "@jupyter-widgets/base",
       "_model_module_version": "1.2.0",
       "_model_name": "LayoutModel",
       "_view_count": null,
       "_view_module": "@jupyter-widgets/base",
       "_view_module_version": "1.2.0",
       "_view_name": "LayoutView",
       "align_content": null,
       "align_items": null,
       "align_self": null,
       "border": null,
       "bottom": null,
       "display": null,
       "flex": null,
       "flex_flow": null,
       "grid_area": null,
       "grid_auto_columns": null,
       "grid_auto_flow": null,
       "grid_auto_rows": null,
       "grid_column": null,
       "grid_gap": null,
       "grid_row": null,
       "grid_template_areas": null,
       "grid_template_columns": null,
       "grid_template_rows": null,
       "height": null,
       "justify_content": null,
       "justify_items": null,
       "left": null,
       "margin": null,
       "max_height": null,
       "max_width": null,
       "min_height": null,
       "min_width": null,
       "object_fit": null,
       "object_position": null,
       "order": null,
       "overflow": null,
       "overflow_x": null,
       "overflow_y": null,
       "padding": null,
       "right": null,
       "top": null,
       "visibility": null,
       "width": null
      }
     },
     "ea704558c63e41e5973ff44a0725b8c7": {
      "model_module": "@jupyter-widgets/base",
      "model_module_version": "1.2.0",
      "model_name": "LayoutModel",
      "state": {
       "_model_module": "@jupyter-widgets/base",
       "_model_module_version": "1.2.0",
       "_model_name": "LayoutModel",
       "_view_count": null,
       "_view_module": "@jupyter-widgets/base",
       "_view_module_version": "1.2.0",
       "_view_name": "LayoutView",
       "align_content": null,
       "align_items": null,
       "align_self": null,
       "border": null,
       "bottom": null,
       "display": null,
       "flex": null,
       "flex_flow": null,
       "grid_area": null,
       "grid_auto_columns": null,
       "grid_auto_flow": null,
       "grid_auto_rows": null,
       "grid_column": null,
       "grid_gap": null,
       "grid_row": null,
       "grid_template_areas": null,
       "grid_template_columns": null,
       "grid_template_rows": null,
       "height": null,
       "justify_content": null,
       "justify_items": null,
       "left": null,
       "margin": null,
       "max_height": null,
       "max_width": null,
       "min_height": null,
       "min_width": null,
       "object_fit": null,
       "object_position": null,
       "order": null,
       "overflow": null,
       "overflow_x": null,
       "overflow_y": null,
       "padding": null,
       "right": null,
       "top": null,
       "visibility": null,
       "width": null
      }
     },
     "ebb16ed0adcf481eac7b12bb4b64b479": {
      "model_module": "@jupyter-widgets/controls",
      "model_module_version": "1.5.0",
      "model_name": "DescriptionStyleModel",
      "state": {
       "_model_module": "@jupyter-widgets/controls",
       "_model_module_version": "1.5.0",
       "_model_name": "DescriptionStyleModel",
       "_view_count": null,
       "_view_module": "@jupyter-widgets/base",
       "_view_module_version": "1.2.0",
       "_view_name": "StyleView",
       "description_width": ""
      }
     },
     "ed211e7d5d6844eebc7f51c0bcd32652": {
      "model_module": "@jupyter-widgets/controls",
      "model_module_version": "1.5.0",
      "model_name": "DescriptionStyleModel",
      "state": {
       "_model_module": "@jupyter-widgets/controls",
       "_model_module_version": "1.5.0",
       "_model_name": "DescriptionStyleModel",
       "_view_count": null,
       "_view_module": "@jupyter-widgets/base",
       "_view_module_version": "1.2.0",
       "_view_name": "StyleView",
       "description_width": ""
      }
     },
     "f3591c3dfb1f4883853708a3507d182f": {
      "model_module": "@jupyter-widgets/controls",
      "model_module_version": "1.5.0",
      "model_name": "HTMLModel",
      "state": {
       "_dom_classes": [],
       "_model_module": "@jupyter-widgets/controls",
       "_model_module_version": "1.5.0",
       "_model_name": "HTMLModel",
       "_view_count": null,
       "_view_module": "@jupyter-widgets/controls",
       "_view_module_version": "1.5.0",
       "_view_name": "HTMLView",
       "description": "",
       "description_tooltip": null,
       "layout": "IPY_MODEL_c5c1b3e406b648b6b62fdaa16739aa1c",
       "placeholder": "​",
       "style": "IPY_MODEL_047717bfcfc44cd89fe7b4298b20978c",
       "value": "<p style=\"line-height:120%\">00:00 <bold>DiffusionOperatorP1</bold>: Calculate gradients of shape functions transformed by reference map ...</p><p style=\"line-height:120%\">00:00 <bold>DiffusionOperatorP1</bold>: Calculate all local scalar products between gradients ...</p><p style=\"line-height:120%\">00:00 <bold>DiffusionOperatorP1</bold>: Determine global dofs ...</p><p style=\"line-height:120%\">00:00 <bold>DiffusionOperatorP1</bold>: Boundary treatment ...</p><p style=\"line-height:120%\">00:00 <bold>DiffusionOperatorP1</bold>: Assemble system matrix ...</p><p style=\"line-height:120%\">00:00 <bold>DiffusionOperatorP1</bold>: Calculate gradients of shape functions transformed by reference map ...</p><p style=\"line-height:120%\">00:01 <bold>DiffusionOperatorP1</bold>: Calculate all local scalar products between gradients ...</p><p style=\"line-height:120%\">00:01 <bold>DiffusionOperatorP1</bold>: Determine global dofs ...</p><p style=\"line-height:120%\">00:01 <bold>DiffusionOperatorP1</bold>: Boundary treatment ...</p><p style=\"line-height:120%\">00:01 <bold>DiffusionOperatorP1</bold>: Assemble system matrix ...</p><p style=\"line-height:120%\">00:01 <bold>DiffusionOperatorP1</bold>: Calculate gradients of shape functions transformed by reference map ...</p><p style=\"line-height:120%\">00:01 <bold>DiffusionOperatorP1</bold>: Calculate all local scalar products between gradients ...</p><p style=\"line-height:120%\">00:01 <bold>DiffusionOperatorP1</bold>: Determine global dofs ...</p><p style=\"line-height:120%\">00:01 <bold>DiffusionOperatorP1</bold>: Boundary treatment ...</p><p style=\"line-height:120%\">00:01 <bold>DiffusionOperatorP1</bold>: Assemble system matrix ...</p><p style=\"line-height:120%\">00:01 <bold>DiffusionOperatorP1</bold>: Calculate gradients of shape functions transformed by reference map ...</p><p style=\"line-height:120%\">00:01 <bold>DiffusionOperatorP1</bold>: Calculate all local scalar products between gradients ...</p><p style=\"line-height:120%\">00:01 <bold>DiffusionOperatorP1</bold>: Determine global dofs ...</p><p style=\"line-height:120%\">00:01 <bold>DiffusionOperatorP1</bold>: Boundary treatment ...</p><p style=\"line-height:120%\">00:01 <bold>DiffusionOperatorP1</bold>: Assemble system matrix ...</p><p style=\"line-height:120%\">00:01 <bold>DiffusionOperatorP1</bold>: Calculate gradients of shape functions transformed by reference map ...</p><p style=\"line-height:120%\">00:01 <bold>DiffusionOperatorP1</bold>: Calculate all local scalar products between gradients ...</p><p style=\"line-height:120%\">00:01 <bold>DiffusionOperatorP1</bold>: Determine global dofs ...</p><p style=\"line-height:120%\">00:01 <bold>DiffusionOperatorP1</bold>: Boundary treatment ...</p><p style=\"line-height:120%\">00:01 <bold>DiffusionOperatorP1</bold>: Assemble system matrix ...</p><p style=\"line-height:120%\">00:01 <bold>DiffusionOperatorP1</bold>: Calculate gradients of shape functions transformed by reference map ...</p><p style=\"line-height:120%\">00:01 <bold>DiffusionOperatorP1</bold>: Calculate all local scalar products between gradients ...</p><p style=\"line-height:120%\">00:01 <bold>DiffusionOperatorP1</bold>: Determine global dofs ...</p><p style=\"line-height:120%\">00:01 <bold>DiffusionOperatorP1</bold>: Boundary treatment ...</p><p style=\"line-height:120%\">00:01 <bold>DiffusionOperatorP1</bold>: Assemble system matrix ...</p><p style=\"line-height:120%\">00:01 <bold>DiffusionOperatorP1</bold>: Calculate gradients of shape functions transformed by reference map ...</p><p style=\"line-height:120%\">00:01 <bold>DiffusionOperatorP1</bold>: Calculate all local scalar products between gradients ...</p><p style=\"line-height:120%\">00:01 <bold>DiffusionOperatorP1</bold>: Determine global dofs ...</p><p style=\"line-height:120%\">00:01 <bold>DiffusionOperatorP1</bold>: Boundary treatment ...</p><p style=\"line-height:120%\">00:01 <bold>DiffusionOperatorP1</bold>: Assemble system matrix ...</p><p style=\"line-height:120%\">00:01 <bold>L2ProductP1</bold>: Integrate the products of the shape functions on each element</p><p style=\"line-height:120%\">00:01 <bold>L2ProductP1</bold>: Determine global dofs ...</p><p style=\"line-height:120%\">00:01 <bold>L2ProductP1</bold>: Boundary treatment ...</p><p style=\"line-height:120%\">00:01 <bold>L2ProductP1</bold>: Assemble system matrix ...</p><p style=\"line-height:120%\">00:01 <bold>DiffusionOperatorP1</bold>: Calculate gradients of shape functions transformed by reference map ...</p><p style=\"line-height:120%\">00:01 <bold>DiffusionOperatorP1</bold>: Calculate all local scalar products between gradients ...</p><p style=\"line-height:120%\">00:01 <bold>DiffusionOperatorP1</bold>: Determine global dofs ...</p><p style=\"line-height:120%\">00:01 <bold>DiffusionOperatorP1</bold>: Boundary treatment ...</p><p style=\"line-height:120%\">00:01 <bold>DiffusionOperatorP1</bold>: Assemble system matrix ...</p><p style=\"line-height:120%\">00:01 <bold>L2ProductP1</bold>: Integrate the products of the shape functions on each element</p><p style=\"line-height:120%\">00:01 <bold>L2ProductP1</bold>: Determine global dofs ...</p><p style=\"line-height:120%\">00:01 <bold>L2ProductP1</bold>: Boundary treatment ...</p><p style=\"line-height:120%\">00:01 <bold>L2ProductP1</bold>: Assemble system matrix ...</p><p style=\"line-height:120%\">00:01 <bold>DiffusionOperatorP1</bold>: Calculate gradients of shape functions transformed by reference map ...</p><p style=\"line-height:120%\">00:01 <bold>DiffusionOperatorP1</bold>: Calculate all local scalar products between gradients ...</p><p style=\"line-height:120%\">00:01 <bold>DiffusionOperatorP1</bold>: Determine global dofs ...</p><p style=\"line-height:120%\">00:01 <bold>DiffusionOperatorP1</bold>: Boundary treatment ...</p><p style=\"line-height:120%\">00:01 <bold>DiffusionOperatorP1</bold>: Assemble system matrix ...</p>"
      }
     },
     "f52528db3d554431a0690fea5ce287a0": {
      "model_module": "@jupyter-widgets/controls",
      "model_module_version": "1.5.0",
      "model_name": "HTMLModel",
      "state": {
       "_dom_classes": [],
       "_model_module": "@jupyter-widgets/controls",
       "_model_module_version": "1.5.0",
       "_model_name": "HTMLModel",
       "_view_count": null,
       "_view_module": "@jupyter-widgets/controls",
       "_view_module_version": "1.5.0",
       "_view_name": "HTMLView",
       "description": "",
       "description_tooltip": null,
       "layout": "IPY_MODEL_d4ea02913ce144c2bfb0e3c2bc163091",
       "placeholder": "​",
       "style": "IPY_MODEL_a0798a18f0cd48f195106cc815504078",
       "value": ""
      }
     },
     "fac17e48b16f4f13b8535391657f2d96": {
      "model_module": "@jupyter-widgets/controls",
      "model_module_version": "1.5.0",
      "model_name": "HTMLModel",
      "state": {
       "_dom_classes": [],
       "_model_module": "@jupyter-widgets/controls",
       "_model_module_version": "1.5.0",
       "_model_name": "HTMLModel",
       "_view_count": null,
       "_view_module": "@jupyter-widgets/controls",
       "_view_module_version": "1.5.0",
       "_view_name": "HTMLView",
       "description": "",
       "description_tooltip": null,
       "layout": "IPY_MODEL_053eac4844ed40ba9ebd0fcfbd2674c8",
       "placeholder": "​",
       "style": "IPY_MODEL_0e5969d1bba74e06b4e3836f77de3e5a",
       "value": ""
      }
     },
     "fc809ce369d34b24b06283752af6ad8e": {
      "model_module": "@jupyter-widgets/base",
      "model_module_version": "1.2.0",
      "model_name": "LayoutModel",
      "state": {
       "_model_module": "@jupyter-widgets/base",
       "_model_module_version": "1.2.0",
       "_model_name": "LayoutModel",
       "_view_count": null,
       "_view_module": "@jupyter-widgets/base",
       "_view_module_version": "1.2.0",
       "_view_name": "LayoutView",
       "align_content": null,
       "align_items": null,
       "align_self": null,
       "border": null,
       "bottom": null,
       "display": null,
       "flex": null,
       "flex_flow": null,
       "grid_area": null,
       "grid_auto_columns": null,
       "grid_auto_flow": null,
       "grid_auto_rows": null,
       "grid_column": null,
       "grid_gap": null,
       "grid_row": null,
       "grid_template_areas": null,
       "grid_template_columns": null,
       "grid_template_rows": null,
       "height": null,
       "justify_content": null,
       "justify_items": null,
       "left": null,
       "margin": null,
       "max_height": null,
       "max_width": null,
       "min_height": null,
       "min_width": null,
       "object_fit": null,
       "object_position": null,
       "order": null,
       "overflow": null,
       "overflow_x": null,
       "overflow_y": null,
       "padding": null,
       "right": null,
       "top": null,
       "visibility": null,
       "width": null
      }
     }
    },
    "version_major": 2,
    "version_minor": 0
   }
  }
 },
 "nbformat": 4,
 "nbformat_minor": 4
}